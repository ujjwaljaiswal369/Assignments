{
 "cells": [
  {
   "cell_type": "markdown",
   "id": "5d834bbc-51dd-4400-979d-096ddac089aa",
   "metadata": {},
   "source": [
    "## Ensemble Techniques And Its Types-2"
   ]
  },
  {
   "cell_type": "code",
   "execution_count": null,
   "id": "58841820-3a8c-46ae-ba3f-6be8f3d3ae6e",
   "metadata": {},
   "outputs": [],
   "source": [
    "'''Q1. How does bagging reduce overfitting in decision trees?'''"
   ]
  },
  {
   "cell_type": "code",
   "execution_count": null,
   "id": "00186351-8443-4c7b-a62d-0567ae030c7f",
   "metadata": {},
   "outputs": [],
   "source": [
    "#Ans.\n",
    "When we use the decision tree for model preparing then it take the dataset and make branches of nodes which contains the\n",
    "information of dataset it splits the nodes from root node and split the branches until its get leaf node.\n",
    "In this case, overfitting may occured because decision tree is splits the data until it gets the leaf node and create \n",
    "huge tree which result may create overfitting case for model which decrease the accuracy of model and increase the \n",
    "variance. The overfitting is a case in which training accuracy is high but test accuracy is low due to low bias and high\n",
    "variance.\n",
    "\n",
    "So, for reducuing this high variance and reduce the overfitting in decision tree we use Random forest bagging technique \n",
    "which is also use decision tree algorithms but in multiple form. It send piece of data to all multiple decision tree \n",
    "which is base learners and after it computes the probability in binary number (0 and 1). and after aggregate the \n",
    "predictions and make final output. This process is called bootstrap aggregation. \n",
    "\n",
    "This bootstrap aggregation process helps in reducing high variance to low variance of the model which helps in reducing \n",
    "the overfitting in model and make a generalised model."
   ]
  },
  {
   "cell_type": "code",
   "execution_count": null,
   "id": "910c9fdf-ecc3-455f-b451-4ffd9e4c79cb",
   "metadata": {},
   "outputs": [],
   "source": []
  },
  {
   "cell_type": "code",
   "execution_count": null,
   "id": "2ebfb0ff-5f40-4710-afd9-53acf04a146a",
   "metadata": {},
   "outputs": [],
   "source": [
    "'''Q2. What are the advantages and disadvantages of using different types of base learners in bagging?'''"
   ]
  },
  {
   "cell_type": "code",
   "execution_count": null,
   "id": "2e697ac9-6840-4f7b-94d8-77861d009ce9",
   "metadata": {},
   "outputs": [],
   "source": [
    "#Ans.\n",
    "In bagging technique, we can use different types of base learners like Decision tree, Support vector machine, Support \n",
    "vector classifier, Naive bayes,etc. And In random forest classifier and regression algorithm it uses only multiple \n",
    "decision trees models in parallel. \n",
    "\n",
    "If we talk about the advantages and Disadvantages of using different types of base learners in bagging: \n",
    " \n",
    " #Advantages\n",
    "1. It solve the problem of overfitting of the model where bias is low and variance is high.\n",
    "2. Reduction the variance of the model\n",
    "3. Increase the accuracy and performance of the model.\n",
    "3. It is versatile and having versatility, using multiple models result in gaining good predictions.\n",
    "4. It is diversity also.\n",
    "\n",
    " #Disadvantages\n",
    "1. It increases complexity of the model.\n",
    "2. Having lack of transparency\n",
    "3. The disadvantages of bagging is it faces loss of interpretability.\n",
    "4. Despite of bagging being highly accurate, It can be expensive computationally.\n",
    "5. If proper procedure is ignored then resultant model can face lots of bias."
   ]
  },
  {
   "cell_type": "code",
   "execution_count": null,
   "id": "a28456ec-6a80-45a3-b058-63ae213f6cf6",
   "metadata": {},
   "outputs": [],
   "source": []
  },
  {
   "cell_type": "code",
   "execution_count": null,
   "id": "ff08ab0b-87c3-4f01-b624-ea3bafb6e80e",
   "metadata": {},
   "outputs": [],
   "source": [
    "'''Q3. How does the choice of base learner affect the bias-variance tradeoff in bagging?'''"
   ]
  },
  {
   "cell_type": "code",
   "execution_count": null,
   "id": "698a8eee-0bcc-4827-829b-748b2214c465",
   "metadata": {},
   "outputs": [],
   "source": [
    "#Ans.\n",
    "Bias-Variance Tradeoff is a relation between bias and variance in model, if the training data is well fitted to model then\n",
    "in this case it not perform well with new test data and hence raise the problem of high bias and low variance. This is \n",
    "known as bias variance tradeoff.\n",
    "\n",
    "The base learners of the bagging technique affect the bias variance tradeoff by changing the level of bias and variance.\n",
    "If we use single decision tree algorithm, then it splits the data in depth until the leaf node and create the problem in\n",
    "variance of model. Which occur the problem of overfitting. \n",
    "The using random forest classifier and regression algorithm of bagging technique helps in case of bias-variance tradeoff\n",
    "This random forest algorithm of bagging chose the multiple decision tree in parallel form and make predictions by \n",
    "combining all the decision trees models which helps in reducing overfitting by reducing high variance to low variance. \n",
    "and make generalized model. Hence, using the same type of base learners which helps in reducing overfitting and variance."
   ]
  },
  {
   "cell_type": "code",
   "execution_count": null,
   "id": "de6b0017-41a6-4554-a9d8-fbeed7b30d7f",
   "metadata": {},
   "outputs": [],
   "source": []
  },
  {
   "cell_type": "code",
   "execution_count": null,
   "id": "285612a9-8ccb-4a9b-ab79-ed9ec11df4d9",
   "metadata": {},
   "outputs": [],
   "source": [
    "'''Q4. Can bagging be used for both classification and regression tasks? How does it differ in each case?'''"
   ]
  },
  {
   "cell_type": "code",
   "execution_count": null,
   "id": "3b2ec920-fdfb-409f-b58d-d02698031a89",
   "metadata": {},
   "outputs": [],
   "source": [
    "#Ans.\n",
    "Yes, bagging can be used for both classification and regression tasks, Bagging and its type random forest classifier and\n",
    "regressor are both can used for regression and classification problem statement but there is some difference between in\n",
    "both classification and regression statement in computing task. \n",
    "\n",
    "#classification\n",
    "In classification case, The sample of training data is send to base learners of the bagging technique which is known as \n",
    "bootstrap and after all base learner learn the data and give predictions, the predictions which give all the base learners\n",
    "are aggregate through the voting classifier method which is known as aggregation. The final output we get from the voting\n",
    "classifier is output. Hence, final output is getting from this way.\n",
    "\n",
    "#regression\n",
    "In case of regression, All the steps are same from classification method but the changes is where the predictions are \n",
    "getting, After the self predictions getting them from all base learners then we average the prediction or we find the \n",
    "mean of the predicitions. The average of all the predicitions getting from the base learners are the output of the \n",
    "regression problem statement.\n",
    "\n",
    "#summary\n",
    "The difference between regression and classification problem statement in terms of method in bagging is that in case of  \n",
    "classification statement the bagging used voting classifier method and in case of regression statement the bagging used\n",
    "average method, it average the predictions from the base learners and give final output."
   ]
  },
  {
   "cell_type": "code",
   "execution_count": null,
   "id": "922ebb06-23a1-4fbe-b323-9bfb799b6b74",
   "metadata": {},
   "outputs": [],
   "source": []
  },
  {
   "cell_type": "code",
   "execution_count": null,
   "id": "cf40ddb0-e466-41dc-a3e9-4e7fddfe9acb",
   "metadata": {},
   "outputs": [],
   "source": [
    "'''Q5. What is the role of ensemble size in bagging? How many models should be included in the ensemble?'''"
   ]
  },
  {
   "cell_type": "code",
   "execution_count": null,
   "id": "66d58876-f887-421d-b4ea-10903bb1fe72",
   "metadata": {},
   "outputs": [],
   "source": [
    "#Ans.\n",
    "The importance of role of ensemble size in bagging is much. The ensemble size in bagging is helps in vulnerate the high\n",
    "variance and overfitting problem. If the single decision tree algorithms is used then due to indepth splits it occur the\n",
    "overfitting and high variance problem but in bagging technique the ensemble size means the number of algorithm used for \n",
    "model is in multiple form which reduce the overfitting case and improve the performance of model. The multiple algorithm\n",
    "of bagging technique is combine their powers and give final output.\n",
    "\n",
    "The number of model in ensemble is by default 100, we can change the number of model as we need or as we want. The limit\n",
    "of increases the number of model in bagging is infinite, but as per the situation of the dataset or the condition of \n",
    "processor we should define the limited number of models in bagging. As we increase the level of models in bagging the \n",
    "model become vulnerable to high variance and overfitting.\n",
    "The ensemble size is also depends upon the size of the dataset, if the size of dataset is large then we should use high\n",
    "ensemble size and if the size of datasets is small then we should use little ensemble size."
   ]
  },
  {
   "cell_type": "code",
   "execution_count": null,
   "id": "ba96417b-4209-4e40-884b-004cb38fd012",
   "metadata": {},
   "outputs": [],
   "source": []
  },
  {
   "cell_type": "code",
   "execution_count": null,
   "id": "d4c05c92-6ef7-4d07-8d13-a8a47af425a7",
   "metadata": {},
   "outputs": [],
   "source": [
    "'''Q6. Can you provide an example of a real-world application of bagging in machine learning?'''"
   ]
  },
  {
   "cell_type": "code",
   "execution_count": null,
   "id": "bd316bc0-f1f9-4f9d-bd7c-5a5ce1aa6d34",
   "metadata": {},
   "outputs": [],
   "source": [
    "#Ans.\n",
    "Yes, The application of bagging technique of machine learning is very much in real world, there are lots of real-world \n",
    "scenerio in bagging in machine learning. The bagging technique is widely used in many industreis in term of real world \n",
    "problem or in term of interesting perspective.\n",
    "Out of which, the health industry is also used bagging technique for getting the desirable predictions like,\n",
    "\n",
    "#Example 1\n",
    "In a medical industry, the bagging technique is used for their medical predictions. For example, Suppose a dataset in \n",
    "medical about the gene or other factors which will used for predicting the diabetes predictions. The ensemble technique\n",
    "is used for those dataset for finding the array of bioinformatics problems, such as gene or protein selection which \n",
    "identify the special trait of interest. \n",
    "For more specially, this research is helps in predicting the starting of diabetes in patients with the help of risk \n",
    "predictors.\n",
    "\n",
    "#Example 2\n",
    "One more example of bagging is used in the field of remote sensing, This research of the bagging technique in remote \n",
    "sensing helps in mapping the types of wetlands within the coastal landscape. "
   ]
  },
  {
   "cell_type": "code",
   "execution_count": null,
   "id": "89012c9d-c226-4504-adc9-8fda6efa4a84",
   "metadata": {},
   "outputs": [],
   "source": []
  },
  {
   "cell_type": "code",
   "execution_count": null,
   "id": "705ded4d-e567-4579-96f0-dce4862ee276",
   "metadata": {},
   "outputs": [],
   "source": [
    "                            ◦•●◉✿ ❤️️' 𝐉 𝐀 𝐈   𝐒 𝐇 𝐑 𝐄 𝐄   𝐇 𝐀 𝐑 𝐈   𝐕 𝐈 𝐒 𝐇 𝐍 𝐔 '❤️ ✿◉●•◦"
   ]
  }
 ],
 "metadata": {
  "kernelspec": {
   "display_name": "Python 3 (ipykernel)",
   "language": "python",
   "name": "python3"
  },
  "language_info": {
   "codemirror_mode": {
    "name": "ipython",
    "version": 3
   },
   "file_extension": ".py",
   "mimetype": "text/x-python",
   "name": "python",
   "nbconvert_exporter": "python",
   "pygments_lexer": "ipython3",
   "version": "3.10.8"
  }
 },
 "nbformat": 4,
 "nbformat_minor": 5
}
