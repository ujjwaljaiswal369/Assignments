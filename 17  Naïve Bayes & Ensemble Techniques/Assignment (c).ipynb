{
 "cells": [
  {
   "cell_type": "markdown",
   "id": "dbbaebe0-5b4d-4a9e-ba9b-2cc80e83c7ae",
   "metadata": {},
   "source": [
    "## Ensemble Techniques And Its Types-3"
   ]
  },
  {
   "cell_type": "code",
   "execution_count": null,
   "id": "b4912b76-a7c9-42ef-8e0a-460f6b267b26",
   "metadata": {},
   "outputs": [],
   "source": [
    "'''Q1. What is Random Forest Regressor?'''"
   ]
  },
  {
   "cell_type": "code",
   "execution_count": null,
   "id": "67cd3454-92b6-457b-9c56-50f0dd1dde7a",
   "metadata": {},
   "outputs": [],
   "source": [
    "#Ans.\n",
    "Random forest regressor is a bagging technique of ensemble technique which is performing the regressor problem statement.\n",
    "Random forest is regressor algorithm using multiple decision tree and combining them parallelly and finding the mean of\n",
    "each predictions of decision tree.\n",
    "\n",
    "In random forest regressor algorithm, there are two types of samples are sending to the decision tree model one is raw \n",
    "sampling and second is feature sampling , the raw sampling took the sample of data and send to all decision tree models\n",
    "and feature sampling means sending the some of features to decision tree models. Some data or features may be repeated.\n",
    "The process of sending the data to models are called Bootstrap and aggregate the outputs of the models is called \n",
    "aggregation. And the scenerio where these both process are combines is called Bootstrap Aggregation.\n",
    "\n",
    "Random forest algorithm can solve two problem statement one is classifier and other is regression. Both have some \n",
    "different method for predicting their final output. For regression problem statement, it find the mean of all the outputs\n",
    "of all the decision trees."
   ]
  },
  {
   "cell_type": "code",
   "execution_count": null,
   "id": "8b133fd2-9a41-4207-b28c-d186bbcc9ece",
   "metadata": {},
   "outputs": [],
   "source": []
  },
  {
   "cell_type": "code",
   "execution_count": null,
   "id": "23485b62-b17c-41b2-aacc-f39cb9610a03",
   "metadata": {},
   "outputs": [],
   "source": [
    "'''Q2. How does Random Forest Regressor reduce the risk of overfitting?'''"
   ]
  },
  {
   "cell_type": "code",
   "execution_count": null,
   "id": "b8b2e3bc-887a-4ab7-820a-8ee3d482c6b4",
   "metadata": {
    "tags": []
   },
   "outputs": [],
   "source": [
    "#Ans.\n",
    "The random forest regressor predict the output of claasification or regression dataset and prepare the model by using \n",
    "multiple decision trees. If we think about the benefit of random forest regressor than its major advantage is it reduce\n",
    "the risk of overfitting of the model. Generally the overfitting is occured when the bias is low but variance is high. \n",
    "If the test errors is high than high variance is occured. If we use the random forest regressor for train the model\n",
    "then it can reduce the overfitting problem of the model.\n",
    "\n",
    "If we use decision tree algorithm for train the model then it may occured the overfitting case for the model because the \n",
    "decision tree algorithm splits the dataset indepth which is reason for overfitting and test error. \n",
    "\n",
    "If we use random forest regressor algorithm of bagging technique then it uses multiple decision tree and aggregate their\n",
    "outputs and finally train the model by raw sampling and feature sampling which helps in reducing overfitting. "
   ]
  },
  {
   "cell_type": "code",
   "execution_count": null,
   "id": "9d7be459-ae80-40fa-9a0e-9dac7dd8a1ce",
   "metadata": {},
   "outputs": [],
   "source": []
  },
  {
   "cell_type": "code",
   "execution_count": null,
   "id": "e8dc3cfd-b9d3-47a1-af3b-17f7d841854b",
   "metadata": {},
   "outputs": [],
   "source": [
    "'''Q3. How does Random Forest Regressor aggregate the predictions of multiple decision trees?'''"
   ]
  },
  {
   "cell_type": "code",
   "execution_count": null,
   "id": "56e9ee03-e629-4dfc-bdf7-1c9643ac40fe",
   "metadata": {},
   "outputs": [],
   "source": [
    "#Ans.\n",
    "Random forest regressor is a bagging technique which train the model through training dataset and prepare the model for \n",
    "prediction of dataset. The random forest regressor are helps in both case regressor and classification problem statement.\n",
    "\n",
    "The random forest give final output or predict the output by aggregating the individual prediction from each decision tree\n",
    "models. The raw sample and feature sample is sending to the multiple decision tree models. The sending of sample raw data \n",
    "from training dataset to each base learners is known as raw sampling and the selected features of the training dataset is\n",
    "sending to the base learners is called feature sampling. And whole this process is called as Bootstrap. Further the output\n",
    "get from all base learner is aggregate and either through voting classifier or averaging decide the final prediction of \n",
    "the dataset. The process in which predictions of each decision tree model is aggregate is called as aggregation. And the \n",
    "combination of both the process is called as Bootstrap Aggregation."
   ]
  },
  {
   "cell_type": "code",
   "execution_count": null,
   "id": "d02602d0-5a84-41d2-9ef3-ee2a3f5fd009",
   "metadata": {},
   "outputs": [],
   "source": []
  },
  {
   "cell_type": "code",
   "execution_count": null,
   "id": "febdf101-e155-405d-a2ec-f28bfa9bb5ba",
   "metadata": {},
   "outputs": [],
   "source": [
    "'''Q4. What are the hyperparameters of Random Forest Regressor?'''"
   ]
  },
  {
   "cell_type": "code",
   "execution_count": null,
   "id": "b82e4919-e3e4-4074-8bd7-efd9e2b9d58b",
   "metadata": {},
   "outputs": [],
   "source": [
    "#Ans.\n",
    "The hyperparameters of random forest regressor is a parameters with the help of this we can improve the performance and\n",
    "accuracy of the model by changing the hyperparameter. The hyperparameter tuning is a method in which we tune the machine\n",
    "learning model with the some parameters for getting better accuracy of the model. \n",
    "\n",
    "For random forest regressor, scikit library have many parameters for defining or set the algorithm to the dataset.In some\n",
    "conditions, if training data is well set to the model but when the new data is coming their accuracy are low then in this \n",
    "case we can say it is overfit model. We can fix this problem by using hyperparameter tuning method with the model. \n",
    "\n",
    "The hyperparameter tuning is used when more than half work of model training is done. we change the parameter and try to\n",
    "get the best parameters which gives best accuracy with both training and test data.\n",
    "\n",
    "In random forest regression, the hyperparameters means number of decision trees, max depths of tree, method of spliting,\n",
    "oob-score (out of bag score), Bootstrap, Criterion, min samples split, min samples leaf, min weight fraction leaf, max\n",
    "feature, max leaf nodes,etc. are parameter used for decorating model and algorithm."
   ]
  },
  {
   "cell_type": "code",
   "execution_count": null,
   "id": "50b2bbe8-0150-4a23-b813-3f24e49bfdd2",
   "metadata": {},
   "outputs": [],
   "source": []
  },
  {
   "cell_type": "code",
   "execution_count": null,
   "id": "d8a4c55f-c640-4705-ba7a-7604fd7547da",
   "metadata": {},
   "outputs": [],
   "source": [
    "'''Q5. What is the difference between Random Forest Regressor and Decision Tree Regressor?'''"
   ]
  },
  {
   "cell_type": "code",
   "execution_count": null,
   "id": "71ae652f-229d-4f85-a332-1a66aae2ec74",
   "metadata": {},
   "outputs": [],
   "source": [
    "#Ans.\n",
    "Random forest regressor is a bagging technique of ensemble technique which is using multiple decision tree regressor and \n",
    "it is best technique rather than using individual decision tree algorithms. Because random forest algorithm use more than\n",
    "one decision tree which combines and averaging the outputs and provide predictions of the model. Where individual decision\n",
    "tree regressor algorithm is train the model indepth until it get leaf node which may occur problem of overfitting and \n",
    "the model train from individual decision tree also occur the problem of computationally expensive.\n",
    "\n",
    "Difference between the Random Forest Regressor and Decision Tree Regressor :\n",
    "    \n",
    "1. Decision tree regressor is a machine learning algorithm which is tree like model which splits the data until gets leaf \n",
    "   node. Whereas Random forest regressor is a algorithm of bagging technique which use more than one decision tree \n",
    "    algorithm and give more accurate predictions than a single decision tree algorithm.\n",
    "    \n",
    "2. Due to much spliting the training data indepth in decision tree algorithm it give the problem of overfitting Whereas\n",
    "    In random forest algorithm, it not give the problem of overfitting , it reduce the high variance to low variance \n",
    "    which result in reducing overfittng.\n",
    "    \n",
    "3. The results are given by decision tree algorithm is not much accurate Whereas the random forest regressor give better \n",
    "    accurate result prediction than a single decision tree.\n",
    "    \n",
    "4. The time consuming in decision tree algorithm is low Whereas time consuming in random forest algorithm is some high\n",
    "    due to computing and analyzing the data.\n",
    "    \n",
    "5. Decision tree algorithm is easy to visualize because it has only fit the decision tree model to the data Whereas a \n",
    "    random forest algorithm have complexity in visualization  because it have long method for findind the pattern behind\n",
    "    the data."
   ]
  },
  {
   "cell_type": "code",
   "execution_count": null,
   "id": "e0fc587a-3fae-47a9-8699-21a21b2889ad",
   "metadata": {},
   "outputs": [],
   "source": []
  },
  {
   "cell_type": "code",
   "execution_count": null,
   "id": "15effaff-0149-468f-9f2c-418caaa17fdd",
   "metadata": {},
   "outputs": [],
   "source": [
    "'''Q6. What are the advantages and disadvantages of Random Forest Regressor?'''"
   ]
  },
  {
   "cell_type": "code",
   "execution_count": null,
   "id": "4a71e174-1f3c-4a7a-9a80-ed99e9b188fb",
   "metadata": {},
   "outputs": [],
   "source": [
    "#Ans.\n",
    "\n",
    "The random forest regressor is a supervised machine learning algorithm of bagging technique which make a accurate model \n",
    "for the predictions by using the multiple decision tree algorithm. The random forest algorithm perform prediction by \n",
    "using bootstrap aggregation method. As we know already that, the random forest regressor is better than the decision tree\n",
    "and having lots of advantages than decision tree but along with advantage it have disadvantage also. \n",
    "\n",
    "Advantages :\n",
    "    \n",
    "    1. The random forest can used in both cases classification and regression problem statement. but the method it used \n",
    "        for final output is through voting classifier in classification case and averaging the predictions in regression\n",
    "        case.\n",
    "        \n",
    "    2. It helps in reducing overfitting in decision tree and increses the accuracy of the model.\n",
    "    \n",
    "    3. In random forest regression, there is not requiration of normalizing the data as it use rule based approach\n",
    "    \n",
    "    4. Random forest regression is flexible in both the categorical and continuous case\n",
    "    \n",
    "    5. If the missing value is present in the dataset then it can automates the missing data\n",
    "    \n",
    "    6. Increases the stability of the model. When the stability of the model increases then if inputs are changed with \n",
    "       small perturbations then it quickly changed its output\n",
    "        \n",
    "        \n",
    "Disadvantage :\n",
    "    \n",
    "    1. Random forest regression uses heavy computational power for modeling.\n",
    "    \n",
    "    2. The resouces or dataset provided to random forest algorithm should be in numerous form for predicting their \n",
    "        outputs.\n",
    "        \n",
    "    3. It required lots of time in training the model as it combines lots of decision tree class.\n",
    "    \n",
    "    4. It is fails to determine the significance of each variable.\n",
    "    \n",
    "    5. Due to ensemble of decision tree, it also suffers from the interpretability."
   ]
  },
  {
   "cell_type": "code",
   "execution_count": null,
   "id": "402a02f0-d8ed-460e-8554-ae6784d90921",
   "metadata": {},
   "outputs": [],
   "source": []
  },
  {
   "cell_type": "code",
   "execution_count": null,
   "id": "62288dbe-d6be-455f-ae00-dac46d1349f1",
   "metadata": {},
   "outputs": [],
   "source": [
    "'''Q7. What is the output of Random Forest Regressor?'''"
   ]
  },
  {
   "cell_type": "code",
   "execution_count": null,
   "id": "09a16fc9-56e7-462a-95e0-60921b070e60",
   "metadata": {},
   "outputs": [],
   "source": [
    "#Ans.\n",
    "The output of Random forest regressor is in numerical form. The output is determined by averaging the predictions of all\n",
    "the models of decision tree which are runned in parallely in random forest regressor. \n",
    "When the predictions predict by the multiple decision tree in random forest then it aggregate all the predictions and \n",
    "averaging the predictions to get the final output of the models with high accuracy.\n",
    "\n",
    "For passing features and sample data to base learners, if the dependent and independent features are in categorical form\n",
    "then we have to convert then in numerical form through onehotencoding or lableencoding functions."
   ]
  },
  {
   "cell_type": "code",
   "execution_count": null,
   "id": "8d54663e-28f3-475d-83cc-a1fc21100f58",
   "metadata": {},
   "outputs": [],
   "source": []
  },
  {
   "cell_type": "code",
   "execution_count": null,
   "id": "dd5ca5ac-6ebb-480d-8ee1-b734ed2581cc",
   "metadata": {},
   "outputs": [],
   "source": [
    "'''Q8. Can Random Forest Regressor be used for classification tasks?'''"
   ]
  },
  {
   "cell_type": "code",
   "execution_count": null,
   "id": "c9c2f283-2949-4906-b22e-4b98fa67dd93",
   "metadata": {},
   "outputs": [],
   "source": [
    "#Ans.\n",
    "No, random forest regressor can not used for classification tasks because random forest regressor is made for numerical \n",
    "or continuous values only, the samples of data is passing through the random forest regressor should only in the form of\n",
    "continuous or numerical features. We can also perform such binary class or multiclass classification problem by encoding\n",
    "them in numerical value. This encoding can perform through sklearn libraries function called OneHotEncoder and \n",
    "LabelEncoder. The Random forest regressor algorithm is solve for regression problem statement only.\n",
    "\n",
    "For the classification tasks, there are parallel option also which is random forest classifier , The random forest \n",
    "classifier is works with that data which have discrete labels or class. like a person having cancer or not, a person is\n",
    "eligible for loan or not,etc.\n",
    "\n",
    "The random forest regressor and random fores classifier is part of random forest algorithm of bagging technique in \n",
    "ensemble technique. We can perform all these technique through sklearn libraries which is easy to use and perform taskes."
   ]
  },
  {
   "cell_type": "code",
   "execution_count": null,
   "id": "694277a3-30b9-47e5-85f3-9b93a82f3afe",
   "metadata": {},
   "outputs": [],
   "source": []
  },
  {
   "cell_type": "code",
   "execution_count": null,
   "id": "5be8a57c-0f68-4d79-a846-98f892b259c7",
   "metadata": {},
   "outputs": [],
   "source": [
    "                         ◦•●◉✿ ❤️️' 𝐉 𝐀 𝐈   𝐒 𝐇 𝐑 𝐄 𝐄   𝐇 𝐀 𝐑 𝐈   𝐕 𝐈 𝐒 𝐇 𝐍 𝐔 '❤️ ✿◉●•◦"
   ]
  }
 ],
 "metadata": {
  "kernelspec": {
   "display_name": "Python 3 (ipykernel)",
   "language": "python",
   "name": "python3"
  },
  "language_info": {
   "codemirror_mode": {
    "name": "ipython",
    "version": 3
   },
   "file_extension": ".py",
   "mimetype": "text/x-python",
   "name": "python",
   "nbconvert_exporter": "python",
   "pygments_lexer": "ipython3",
   "version": "3.10.8"
  }
 },
 "nbformat": 4,
 "nbformat_minor": 5
}
