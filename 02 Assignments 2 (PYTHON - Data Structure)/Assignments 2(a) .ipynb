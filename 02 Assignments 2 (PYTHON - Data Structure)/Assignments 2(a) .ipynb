{
 "cells": [
  {
   "cell_type": "code",
   "execution_count": 1,
   "id": "d2e0ba62-ebca-4707-a09d-1ade3a8faf23",
   "metadata": {},
   "outputs": [],
   "source": [
    "#Q1. How do you comment code in Python? What are the different types of comments?"
   ]
  },
  {
   "cell_type": "code",
   "execution_count": null,
   "id": "5c171e73-ffdf-4483-984c-39f17fac7df9",
   "metadata": {},
   "outputs": [],
   "source": [
    "Ans. In python there are two types of comment code:\n",
    "    \n",
    "     1. Single line comment\n",
    "     2. Multiline comment\n",
    "    \n",
    "    in single line comment, we can write comment code in single line by using hashtag \n",
    "    symbol. if you put hashtag symbol in first of any line then those line will convert\n",
    "    into single line comment.\n",
    "    \n",
    "    but in multi line comment, as we know already from name comment code are written in \n",
    "    multi line by using three apostrope in beggining of paragraph and ending also.\n",
    "    \n",
    "    ex. #ujjwal is a good boy\n",
    "    ex. '''ujjwal is also a kindful boy'''"
   ]
  },
  {
   "cell_type": "code",
   "execution_count": null,
   "id": "b8ae54de-17cb-448a-a85c-8f607c376c5a",
   "metadata": {},
   "outputs": [],
   "source": []
  },
  {
   "cell_type": "code",
   "execution_count": 2,
   "id": "59f9d0b2-96dd-4cf4-ad72-24e2b10b8c63",
   "metadata": {},
   "outputs": [],
   "source": [
    "#Q2. What are variables in Python? How do you declare and\n",
    "#assign values to variables?"
   ]
  },
  {
   "cell_type": "code",
   "execution_count": null,
   "id": "94f5d258-259b-4c3e-9e9b-036de28eec59",
   "metadata": {},
   "outputs": [],
   "source": [
    "Ans. Variables are very useful in python coding. we can assign the value by variable\n",
    "     method suppose we can put any name of variable like 'age' and put equal to symbol\n",
    "    and put the value as we want. and if we print variable name then it give\n",
    "    variable's value in output."
   ]
  },
  {
   "cell_type": "code",
   "execution_count": 3,
   "id": "e6ca98b8-a8ad-4d43-ad1c-f327593bae51",
   "metadata": {},
   "outputs": [],
   "source": [
    "#Ex \n",
    "age = 20"
   ]
  },
  {
   "cell_type": "code",
   "execution_count": 4,
   "id": "bfbfa675-cce2-4679-9916-f05d2d8a5708",
   "metadata": {},
   "outputs": [
    {
     "name": "stdout",
     "output_type": "stream",
     "text": [
      "20\n"
     ]
    }
   ],
   "source": [
    "print(age)"
   ]
  },
  {
   "cell_type": "code",
   "execution_count": null,
   "id": "b6472494-16fc-43f6-90b1-232820ce87d3",
   "metadata": {},
   "outputs": [],
   "source": [
    "we can assign the value for variable by comparison operator, arithmatic operator\n",
    "depends upon the cases . Generally equal to operator used for assign value\n",
    "\n",
    "There are some type which we can put value, \n",
    "string,boolean,floating,string,list,dictionary,etc"
   ]
  },
  {
   "cell_type": "code",
   "execution_count": null,
   "id": "0dbf5958-0258-4d0b-9638-cc734c29c050",
   "metadata": {},
   "outputs": [],
   "source": []
  },
  {
   "cell_type": "code",
   "execution_count": 5,
   "id": "dc41d8de-87ba-4a85-88e2-667686373c1f",
   "metadata": {},
   "outputs": [],
   "source": [
    "#Q3. How do you convert one data type to another in Python?"
   ]
  },
  {
   "cell_type": "code",
   "execution_count": null,
   "id": "8320ff84-bc24-4713-8d12-6432cc07d643",
   "metadata": {},
   "outputs": [],
   "source": [
    "Ans. We can easily convert one type data type in another data type in python.\n",
    "     first we should know how many data types are available in python. String,floating\n",
    "    no., string, boolean, list, tuples, dictionary , sets,etc are types of data types \n",
    "    are available in python. \n",
    "    for convert string data type we use a code which is in build function in python\n",
    "    we use str('data')"
   ]
  },
  {
   "cell_type": "code",
   "execution_count": 8,
   "id": "9f768f5d-a2dc-4f66-8322-2e6345b869af",
   "metadata": {},
   "outputs": [],
   "source": [
    "#EX.\n",
    "a = 10"
   ]
  },
  {
   "cell_type": "code",
   "execution_count": 10,
   "id": "72ea027d-898b-4013-835a-0fc7bfe1cf93",
   "metadata": {},
   "outputs": [
    {
     "data": {
      "text/plain": [
       "int"
      ]
     },
     "execution_count": 10,
     "metadata": {},
     "output_type": "execute_result"
    }
   ],
   "source": [
    "type(a)"
   ]
  },
  {
   "cell_type": "code",
   "execution_count": 13,
   "id": "4915a9ef-dd87-4dc9-b15c-5b2e84fed641",
   "metadata": {},
   "outputs": [],
   "source": [
    "a = str(a)"
   ]
  },
  {
   "cell_type": "code",
   "execution_count": 14,
   "id": "3d32875d-724a-4108-b672-cdb6465a5c43",
   "metadata": {},
   "outputs": [
    {
     "data": {
      "text/plain": [
       "str"
      ]
     },
     "execution_count": 14,
     "metadata": {},
     "output_type": "execute_result"
    }
   ],
   "source": [
    "type(a)"
   ]
  },
  {
   "cell_type": "code",
   "execution_count": 15,
   "id": "88d13674-2b99-4574-8d33-9ac545f554cf",
   "metadata": {},
   "outputs": [
    {
     "data": {
      "text/plain": [
       "'10'"
      ]
     },
     "execution_count": 15,
     "metadata": {},
     "output_type": "execute_result"
    }
   ],
   "source": [
    "a"
   ]
  },
  {
   "cell_type": "code",
   "execution_count": 16,
   "id": "0ab2744d-ba25-4232-a54b-f7c3ce619bb4",
   "metadata": {},
   "outputs": [],
   "source": [
    "#There are some restriction also like we cannot convert a string into integer"
   ]
  },
  {
   "cell_type": "code",
   "execution_count": 17,
   "id": "d01c8aa3-bc14-4932-bd0c-ab3dcee297b7",
   "metadata": {},
   "outputs": [],
   "source": [
    "#EX.\n",
    "b = 'Hare Krishna'"
   ]
  },
  {
   "cell_type": "code",
   "execution_count": 18,
   "id": "0e58be25-bdd8-44ff-a4d5-a9c32ccf6866",
   "metadata": {},
   "outputs": [
    {
     "data": {
      "text/plain": [
       "'Hare Krishna'"
      ]
     },
     "execution_count": 18,
     "metadata": {},
     "output_type": "execute_result"
    }
   ],
   "source": [
    "b"
   ]
  },
  {
   "cell_type": "code",
   "execution_count": 19,
   "id": "62c58774-ca1b-4967-bcbb-2e8c6162fc72",
   "metadata": {},
   "outputs": [
    {
     "data": {
      "text/plain": [
       "str"
      ]
     },
     "execution_count": 19,
     "metadata": {},
     "output_type": "execute_result"
    }
   ],
   "source": [
    "type(b)"
   ]
  },
  {
   "cell_type": "code",
   "execution_count": 20,
   "id": "792359c7-3c3a-424d-a2de-e8753e24fbf2",
   "metadata": {},
   "outputs": [
    {
     "ename": "ValueError",
     "evalue": "invalid literal for int() with base 10: 'Hare Krishna'",
     "output_type": "error",
     "traceback": [
      "\u001b[0;31m---------------------------------------------------------------------------\u001b[0m",
      "\u001b[0;31mValueError\u001b[0m                                Traceback (most recent call last)",
      "Cell \u001b[0;32mIn[20], line 1\u001b[0m\n\u001b[0;32m----> 1\u001b[0m \u001b[38;5;28;43mint\u001b[39;49m\u001b[43m(\u001b[49m\u001b[43mb\u001b[49m\u001b[43m)\u001b[49m\n",
      "\u001b[0;31mValueError\u001b[0m: invalid literal for int() with base 10: 'Hare Krishna'"
     ]
    }
   ],
   "source": [
    "int(b)"
   ]
  },
  {
   "cell_type": "code",
   "execution_count": 21,
   "id": "91b214eb-506b-4dc3-a40f-f3f4b01b0c40",
   "metadata": {},
   "outputs": [],
   "source": [
    "#More examples:\n",
    "c = '233223'"
   ]
  },
  {
   "cell_type": "code",
   "execution_count": 22,
   "id": "ba6efe7b-7336-434d-be2e-5758c74bacbe",
   "metadata": {},
   "outputs": [
    {
     "data": {
      "text/plain": [
       "str"
      ]
     },
     "execution_count": 22,
     "metadata": {},
     "output_type": "execute_result"
    }
   ],
   "source": [
    "type(c)"
   ]
  },
  {
   "cell_type": "code",
   "execution_count": 24,
   "id": "d21e42a2-232e-48e0-ac65-66b19392518b",
   "metadata": {},
   "outputs": [],
   "source": [
    "c = int(c)"
   ]
  },
  {
   "cell_type": "code",
   "execution_count": 26,
   "id": "b4f1bd46-a12d-41e5-bccc-508b95116707",
   "metadata": {},
   "outputs": [
    {
     "data": {
      "text/plain": [
       "233223"
      ]
     },
     "execution_count": 26,
     "metadata": {},
     "output_type": "execute_result"
    }
   ],
   "source": [
    "c"
   ]
  },
  {
   "cell_type": "code",
   "execution_count": null,
   "id": "64e434b8-3cf6-40bd-945a-76bdba9113e1",
   "metadata": {},
   "outputs": [],
   "source": []
  },
  {
   "cell_type": "code",
   "execution_count": 1,
   "id": "1d9862be-2c9c-470f-ba0b-5be1e31985da",
   "metadata": {},
   "outputs": [],
   "source": [
    "#Q4. How do you write and execute a Python script from the command line?"
   ]
  },
  {
   "attachments": {
    "74ba6fcf-a1ca-4550-b28d-00976ace3bc3.png": {
     "image/png": "[encoded data removed]"
    }
   },
   "cell_type": "markdown",
   "id": "a7931048-33df-4477-8f10-2ca4c6f58e17",
   "metadata": {},
   "source": [
    "![Command Prompt 30_05_2023 21_48_13.png](attachment:74ba6fcf-a1ca-4550-b28d-00976ace3bc3.png)"
   ]
  },
  {
   "cell_type": "code",
   "execution_count": null,
   "id": "2818e868-d7db-4810-90d1-4e6ccd6e69f7",
   "metadata": {},
   "outputs": [],
   "source": [
    "First i write code in notebook then save that file with extension of .py and after\n",
    "saving i go to cmd and open directory where i save file script.py . After all this \n",
    "i type python and then folder name script.py and click enter.\n",
    "it is mandatary to install properly python in your system to  run this code in cmd"
   ]
  },
  {
   "cell_type": "code",
   "execution_count": null,
   "id": "ccb863c7-9bb9-4e1e-b167-956011d8031c",
   "metadata": {},
   "outputs": [],
   "source": []
  },
  {
   "cell_type": "code",
   "execution_count": 2,
   "id": "d581c7cf-5d4c-4f61-9ed8-0709ddba5f01",
   "metadata": {},
   "outputs": [],
   "source": [
    "#Q5. Given a list my_list = [1, 2, 3, 4, 5], \n",
    "#write the code to slice the list and obtain the sub-list [2, 3]."
   ]
  },
  {
   "cell_type": "code",
   "execution_count": 3,
   "id": "27737885-c306-4d04-8d3c-20f1cec82f20",
   "metadata": {},
   "outputs": [],
   "source": [
    "Ans.\n",
    "my_list = [1,2,3,4,5]"
   ]
  },
  {
   "cell_type": "code",
   "execution_count": 5,
   "id": "efa1e149-6a31-4a12-807f-22b2ebe0afa5",
   "metadata": {},
   "outputs": [
    {
     "data": {
      "text/plain": [
       "1"
      ]
     },
     "execution_count": 5,
     "metadata": {},
     "output_type": "execute_result"
    }
   ],
   "source": [
    "my_list[0]"
   ]
  },
  {
   "cell_type": "code",
   "execution_count": 6,
   "id": "0986a058-b840-4f8f-8d14-3c32eabed627",
   "metadata": {},
   "outputs": [
    {
     "data": {
      "text/plain": [
       "2"
      ]
     },
     "execution_count": 6,
     "metadata": {},
     "output_type": "execute_result"
    }
   ],
   "source": [
    "my_list[1]"
   ]
  },
  {
   "cell_type": "code",
   "execution_count": 7,
   "id": "bfd2c0ba-2399-40f5-89cc-5edb5cabf886",
   "metadata": {},
   "outputs": [
    {
     "data": {
      "text/plain": [
       "3"
      ]
     },
     "execution_count": 7,
     "metadata": {},
     "output_type": "execute_result"
    }
   ],
   "source": [
    "my_list[2]"
   ]
  },
  {
   "cell_type": "code",
   "execution_count": 8,
   "id": "da84e2a9-3a3d-4935-b512-5d175a4b0eed",
   "metadata": {},
   "outputs": [
    {
     "data": {
      "text/plain": [
       "4"
      ]
     },
     "execution_count": 8,
     "metadata": {},
     "output_type": "execute_result"
    }
   ],
   "source": [
    "my_list[3]"
   ]
  },
  {
   "cell_type": "code",
   "execution_count": 9,
   "id": "65308599-c6dd-4d19-8e81-3aab542771c1",
   "metadata": {},
   "outputs": [
    {
     "data": {
      "text/plain": [
       "5"
      ]
     },
     "execution_count": 9,
     "metadata": {},
     "output_type": "execute_result"
    }
   ],
   "source": [
    "my_list[4]"
   ]
  },
  {
   "cell_type": "code",
   "execution_count": 16,
   "id": "c60e4195-5638-4e7e-88b9-3244383b5721",
   "metadata": {},
   "outputs": [
    {
     "data": {
      "text/plain": [
       "[2, 3]"
      ]
     },
     "execution_count": 16,
     "metadata": {},
     "output_type": "execute_result"
    }
   ],
   "source": [
    "my_list[1:3]"
   ]
  },
  {
   "cell_type": "code",
   "execution_count": null,
   "id": "bb084df9-e473-4fd3-9bb5-fa4ae9d3171a",
   "metadata": {},
   "outputs": [],
   "source": []
  },
  {
   "cell_type": "code",
   "execution_count": 17,
   "id": "460113ef-0816-455e-a084-e771adddf7f8",
   "metadata": {},
   "outputs": [],
   "source": [
    "#Q6. What is a complex number in mathematics, and how is it represented in Python?"
   ]
  },
  {
   "cell_type": "code",
   "execution_count": null,
   "id": "822f5aeb-d4c1-4ead-8eda-f95af1fb6998",
   "metadata": {},
   "outputs": [],
   "source": [
    "Ans. In mathematics, Complex number is that no. which expressed in form of 'a + ib'\n",
    "     where a and b are real no. and i is imaginary no. or iota.\n",
    "     In python , complex no. also represented in same form as shown in mathmatics.\n",
    "     but in python we replace i by j \n",
    "     Ex. 'a + jb' or 'jb + a'"
   ]
  },
  {
   "cell_type": "code",
   "execution_count": null,
   "id": "ada8ff02-72e0-4511-ac97-bbafdb718576",
   "metadata": {},
   "outputs": [],
   "source": []
  },
  {
   "cell_type": "code",
   "execution_count": 18,
   "id": "a858ae61-0009-4635-9c10-dbccf590d919",
   "metadata": {},
   "outputs": [],
   "source": [
    "#Q7. What is the correct way to declare a variable named age and\n",
    "#assign the value 25 to it?"
   ]
  },
  {
   "cell_type": "code",
   "execution_count": 20,
   "id": "00a30242-2094-4ff9-a0c5-38b0881057ab",
   "metadata": {},
   "outputs": [],
   "source": [
    "#Ans. \n",
    "age = 25"
   ]
  },
  {
   "cell_type": "code",
   "execution_count": 21,
   "id": "2a063fa7-e1c5-4352-bc39-591e43a707e6",
   "metadata": {},
   "outputs": [
    {
     "data": {
      "text/plain": [
       "25"
      ]
     },
     "execution_count": 21,
     "metadata": {},
     "output_type": "execute_result"
    }
   ],
   "source": [
    "age"
   ]
  },
  {
   "cell_type": "code",
   "execution_count": null,
   "id": "2c06d2de-7d0f-4c3f-b5da-0141e41a5755",
   "metadata": {},
   "outputs": [],
   "source": []
  },
  {
   "cell_type": "code",
   "execution_count": 23,
   "id": "856ad695-5384-4118-8dce-c0bfbd9729f6",
   "metadata": {},
   "outputs": [],
   "source": [
    "#Q8. Declare a variable named price and assign the value 9.99 to it. What data type does this variable\n",
    "#belong to?"
   ]
  },
  {
   "cell_type": "code",
   "execution_count": 24,
   "id": "7b8ed1f5-3a6b-4090-ac9d-bb9736e9ea29",
   "metadata": {},
   "outputs": [],
   "source": [
    "#Ans. \n",
    "price = 9.99"
   ]
  },
  {
   "cell_type": "code",
   "execution_count": 25,
   "id": "8ca8574b-7556-4246-8c6d-e4a1d05c45d6",
   "metadata": {},
   "outputs": [
    {
     "data": {
      "text/plain": [
       "9.99"
      ]
     },
     "execution_count": 25,
     "metadata": {},
     "output_type": "execute_result"
    }
   ],
   "source": [
    "price"
   ]
  },
  {
   "cell_type": "code",
   "execution_count": 26,
   "id": "86200e04-6bf6-4846-865d-736947b08882",
   "metadata": {},
   "outputs": [
    {
     "data": {
      "text/plain": [
       "float"
      ]
     },
     "execution_count": 26,
     "metadata": {},
     "output_type": "execute_result"
    }
   ],
   "source": [
    "type(price)"
   ]
  },
  {
   "cell_type": "code",
   "execution_count": null,
   "id": "05c5cec3-d5cd-41c3-98aa-e08ca8ee4906",
   "metadata": {},
   "outputs": [],
   "source": [
    "this variable is belong to floating data type"
   ]
  },
  {
   "cell_type": "code",
   "execution_count": null,
   "id": "56bdfa19-bd52-4320-8fc8-2ee53a91945c",
   "metadata": {},
   "outputs": [],
   "source": []
  },
  {
   "cell_type": "code",
   "execution_count": 27,
   "id": "31628bca-0fa5-4eca-84a0-23fa964ce793",
   "metadata": {},
   "outputs": [],
   "source": [
    "#Q9. Create a variable named name and assign your full name to it as a string. How would you print the\n",
    "#value of this variable?"
   ]
  },
  {
   "cell_type": "code",
   "execution_count": 28,
   "id": "3deec2c3-a389-4666-8714-458f2091c691",
   "metadata": {},
   "outputs": [],
   "source": [
    "#Ans.\n",
    "name = 'Ujjwal Jaiswal'"
   ]
  },
  {
   "cell_type": "code",
   "execution_count": 29,
   "id": "c96c97d9-abe9-4887-9757-4489698db528",
   "metadata": {},
   "outputs": [
    {
     "data": {
      "text/plain": [
       "'Ujjwal Jaiswal'"
      ]
     },
     "execution_count": 29,
     "metadata": {},
     "output_type": "execute_result"
    }
   ],
   "source": [
    "name"
   ]
  },
  {
   "cell_type": "code",
   "execution_count": null,
   "id": "b662223b-93a4-4ad6-98d1-e6a9547216e2",
   "metadata": {},
   "outputs": [],
   "source": []
  },
  {
   "cell_type": "code",
   "execution_count": 30,
   "id": "4b56853b-be68-4fbb-b170-c2210beded6e",
   "metadata": {},
   "outputs": [],
   "source": [
    "#Q10. Given the string \"Hello, World!\", extract the substring \"World\"."
   ]
  },
  {
   "cell_type": "code",
   "execution_count": 33,
   "id": "189aa8c3-49a9-4e36-83bc-03fb2b06b2b8",
   "metadata": {},
   "outputs": [],
   "source": [
    "#Ans.\n",
    "a = \"Hello, World!\""
   ]
  },
  {
   "cell_type": "code",
   "execution_count": 34,
   "id": "6fb1e72f-a4d6-4563-b244-27663d97b395",
   "metadata": {},
   "outputs": [
    {
     "data": {
      "text/plain": [
       "'World'"
      ]
     },
     "execution_count": 34,
     "metadata": {},
     "output_type": "execute_result"
    }
   ],
   "source": [
    "a[7:12]"
   ]
  },
  {
   "cell_type": "code",
   "execution_count": null,
   "id": "cdf445fa-34bc-4c2d-b429-d957852be68a",
   "metadata": {},
   "outputs": [],
   "source": []
  },
  {
   "cell_type": "code",
   "execution_count": 35,
   "id": "4035cd28-2242-4f43-838a-e86ab894201b",
   "metadata": {},
   "outputs": [],
   "source": [
    "#Q11. Create a variable named \"is_student\" and assign it a boolean value indicating whether you are\n",
    "#currently a student or not."
   ]
  },
  {
   "cell_type": "code",
   "execution_count": 36,
   "id": "8a55d2de-5644-4821-8118-3672586fa0df",
   "metadata": {},
   "outputs": [],
   "source": [
    "#Ans. \n",
    "is_student = True\n"
   ]
  },
  {
   "cell_type": "code",
   "execution_count": 38,
   "id": "1cdeafc5-f7e3-44fd-babb-459e99cabf93",
   "metadata": {},
   "outputs": [
    {
     "data": {
      "text/plain": [
       "True"
      ]
     },
     "execution_count": 38,
     "metadata": {},
     "output_type": "execute_result"
    }
   ],
   "source": [
    "is_student"
   ]
  },
  {
   "cell_type": "code",
   "execution_count": null,
   "id": "d4ceff8d-91fc-4f27-a3ee-02ed53cdca2f",
   "metadata": {},
   "outputs": [],
   "source": []
  },
  {
   "cell_type": "code",
   "execution_count": null,
   "id": "01bb73ae-2fc2-4f4b-a8fb-7f4b63adda9d",
   "metadata": {},
   "outputs": [],
   "source": [
    "My Assignment is complete here (thank you).\n",
    "\n",
    "                        ' H a r e  K r i s h n a '"
   ]
  }
 ],
 "metadata": {
  "kernelspec": {
   "display_name": "Python 3 (ipykernel)",
   "language": "python",
   "name": "python3"
  },
  "language_info": {
   "codemirror_mode": {
    "name": "ipython",
    "version": 3
   },
   "file_extension": ".py",
   "mimetype": "text/x-python",
   "name": "python",
   "nbconvert_exporter": "python",
   "pygments_lexer": "ipython3",
   "version": "3.10.8"
  }
 },
 "nbformat": 4,
 "nbformat_minor": 5
}
