{
 "cells": [
  {
   "cell_type": "markdown",
   "id": "4a9b3248-713c-4202-a93d-e87f82b38779",
   "metadata": {},
   "source": [
    "## Feature Engineering-3"
   ]
  },
  {
   "cell_type": "code",
   "execution_count": null,
   "id": "6bbea494-2891-4c31-8a5d-048f6bcd68e8",
   "metadata": {},
   "outputs": [],
   "source": [
    "'''Q1. What is Min-Max scaling, and how is it used in data preprocessing? Provide an example to illustrate its application.'''"
   ]
  },
  {
   "cell_type": "code",
   "execution_count": null,
   "id": "d742471b-f287-4f2b-a56f-2cbbf00b368f",
   "metadata": {},
   "outputs": [],
   "source": [
    "#Ans.\n",
    "Min-Max scaling is a another name of normalization technique, basically it is a technique of feature scaling where we scale the features of dataset.\n",
    "The scaling of features in dataset is a important step in data preprocessing during building machine learning model. The min-max scaling is ranges \n",
    "between 0 and 1. We can perform the min-max scaling by sklearn library. The formula of normalization or min-max scaling is = (X-Xmin)/(Xmax-Xmin) \n",
    "\n",
    "# reason of feature scaling\n",
    "When the dataset have many numerical features which units are different like , kg, speed, metre, etc. then for this type of features we should apply\n",
    "feature scaling because if it is not applied then the accuracy of model will not come good due to large and small distance between all the datapoints \n",
    "due to different units , after applying feature scaling the values of features are range between some range like 0 to 1 which become easy to \n",
    "computing the calculation for the processor and the model perform good."
   ]
  },
  {
   "cell_type": "code",
   "execution_count": 21,
   "id": "2a648d34-9e22-42c4-8347-edad47f980d0",
   "metadata": {},
   "outputs": [],
   "source": [
    "## Example\n",
    "\n",
    "# importing libraries \n",
    "from sklearn.preprocessing import MinMaxScaler\n",
    "import seaborn as sns\n",
    "import pandas as pd"
   ]
  },
  {
   "cell_type": "code",
   "execution_count": 22,
   "id": "52229d14-b6a2-422d-b44f-689bbf6356f7",
   "metadata": {},
   "outputs": [
    {
     "data": {
      "text/html": [
       "<div>\n",
       "<style scoped>\n",
       "    .dataframe tbody tr th:only-of-type {\n",
       "        vertical-align: middle;\n",
       "    }\n",
       "\n",
       "    .dataframe tbody tr th {\n",
       "        vertical-align: top;\n",
       "    }\n",
       "\n",
       "    .dataframe thead th {\n",
       "        text-align: right;\n",
       "    }\n",
       "</style>\n",
       "<table border=\"1\" class=\"dataframe\">\n",
       "  <thead>\n",
       "    <tr style=\"text-align: right;\">\n",
       "      <th></th>\n",
       "      <th>Year</th>\n",
       "      <th>Country</th>\n",
       "      <th>Spending_USD</th>\n",
       "      <th>Life_Expectancy</th>\n",
       "    </tr>\n",
       "  </thead>\n",
       "  <tbody>\n",
       "    <tr>\n",
       "      <th>0</th>\n",
       "      <td>1970</td>\n",
       "      <td>Germany</td>\n",
       "      <td>252.311</td>\n",
       "      <td>70.6</td>\n",
       "    </tr>\n",
       "    <tr>\n",
       "      <th>1</th>\n",
       "      <td>1970</td>\n",
       "      <td>France</td>\n",
       "      <td>192.143</td>\n",
       "      <td>72.2</td>\n",
       "    </tr>\n",
       "    <tr>\n",
       "      <th>2</th>\n",
       "      <td>1970</td>\n",
       "      <td>Great Britain</td>\n",
       "      <td>123.993</td>\n",
       "      <td>71.9</td>\n",
       "    </tr>\n",
       "    <tr>\n",
       "      <th>3</th>\n",
       "      <td>1970</td>\n",
       "      <td>Japan</td>\n",
       "      <td>150.437</td>\n",
       "      <td>72.0</td>\n",
       "    </tr>\n",
       "    <tr>\n",
       "      <th>4</th>\n",
       "      <td>1970</td>\n",
       "      <td>USA</td>\n",
       "      <td>326.961</td>\n",
       "      <td>70.9</td>\n",
       "    </tr>\n",
       "  </tbody>\n",
       "</table>\n",
       "</div>"
      ],
      "text/plain": [
       "   Year        Country  Spending_USD  Life_Expectancy\n",
       "0  1970        Germany       252.311             70.6\n",
       "1  1970         France       192.143             72.2\n",
       "2  1970  Great Britain       123.993             71.9\n",
       "3  1970          Japan       150.437             72.0\n",
       "4  1970            USA       326.961             70.9"
      ]
     },
     "execution_count": 22,
     "metadata": {},
     "output_type": "execute_result"
    }
   ],
   "source": [
    "# Load any dataset \n",
    "df=sns.load_dataset('healthexp')\n",
    "df.head()"
   ]
  },
  {
   "cell_type": "code",
   "execution_count": 23,
   "id": "b45fd2c7-918f-41ea-a856-e1ba87b7cf24",
   "metadata": {},
   "outputs": [],
   "source": [
    "# initializing\n",
    "scaler = MinMaxScaler()"
   ]
  },
  {
   "cell_type": "code",
   "execution_count": 24,
   "id": "d05769f2-d0c5-484f-aada-19d48ce083c1",
   "metadata": {
    "tags": []
   },
   "outputs": [],
   "source": [
    "# fit and tranform features\n",
    "scaled = scaler.fit_transform(df[['Spending_USD','Life_Expectancy']])"
   ]
  },
  {
   "cell_type": "code",
   "execution_count": 25,
   "id": "5b8c24cf-e8a6-418e-a881-dba88f9bd141",
   "metadata": {},
   "outputs": [
    {
     "data": {
      "text/html": [
       "<div>\n",
       "<style scoped>\n",
       "    .dataframe tbody tr th:only-of-type {\n",
       "        vertical-align: middle;\n",
       "    }\n",
       "\n",
       "    .dataframe tbody tr th {\n",
       "        vertical-align: top;\n",
       "    }\n",
       "\n",
       "    .dataframe thead th {\n",
       "        text-align: right;\n",
       "    }\n",
       "</style>\n",
       "<table border=\"1\" class=\"dataframe\">\n",
       "  <thead>\n",
       "    <tr style=\"text-align: right;\">\n",
       "      <th></th>\n",
       "      <th>Spending_USD</th>\n",
       "      <th>Life_Expectancy</th>\n",
       "    </tr>\n",
       "  </thead>\n",
       "  <tbody>\n",
       "    <tr>\n",
       "      <th>0</th>\n",
       "      <td>0.010934</td>\n",
       "      <td>0.000000</td>\n",
       "    </tr>\n",
       "    <tr>\n",
       "      <th>1</th>\n",
       "      <td>0.005807</td>\n",
       "      <td>0.113475</td>\n",
       "    </tr>\n",
       "    <tr>\n",
       "      <th>2</th>\n",
       "      <td>0.000000</td>\n",
       "      <td>0.092199</td>\n",
       "    </tr>\n",
       "    <tr>\n",
       "      <th>3</th>\n",
       "      <td>0.002253</td>\n",
       "      <td>0.099291</td>\n",
       "    </tr>\n",
       "    <tr>\n",
       "      <th>4</th>\n",
       "      <td>0.017296</td>\n",
       "      <td>0.021277</td>\n",
       "    </tr>\n",
       "  </tbody>\n",
       "</table>\n",
       "</div>"
      ],
      "text/plain": [
       "   Spending_USD  Life_Expectancy\n",
       "0      0.010934         0.000000\n",
       "1      0.005807         0.113475\n",
       "2      0.000000         0.092199\n",
       "3      0.002253         0.099291\n",
       "4      0.017296         0.021277"
      ]
     },
     "execution_count": 25,
     "metadata": {},
     "output_type": "execute_result"
    }
   ],
   "source": [
    "# making the dataframe of scaled features\n",
    "df1=pd.DataFrame(scaled, columns=['Spending_USD','Life_Expectancy'])\n",
    "df1.head()"
   ]
  },
  {
   "cell_type": "code",
   "execution_count": null,
   "id": "e94498e4-3190-40c0-9202-95e27a0cde66",
   "metadata": {},
   "outputs": [],
   "source": []
  },
  {
   "cell_type": "code",
   "execution_count": null,
   "id": "19f33c50-16ef-4a47-8206-b8558254856e",
   "metadata": {},
   "outputs": [],
   "source": [
    "'''Q2. What is the Unit Vector technique in feature scaling, and how does it differ from Min-Max scaling? Provide an example to illustrate its\n",
    "       application.'''"
   ]
  },
  {
   "cell_type": "code",
   "execution_count": null,
   "id": "f21f9425-f921-43fe-9622-1ede716300bc",
   "metadata": {},
   "outputs": [],
   "source": [
    "#Ans.\n",
    "Unit vector is also a feature scaling technique which helps the dataset in scaling the feature between a specific range and helps in improving the \n",
    "model performance. The Unit Vector feature scaling technique is based upon the unit vector mathmatical concepts. The mathmatical calculation behind the\n",
    "unit vector feature scaling technique is performed due to formula of unit vector which is =  Vector/Magnitude of vector. and the formula of magnitude \n",
    "is|v| =√(x2 + y2).  \n",
    "    \n",
    "# difference\n",
    "The unit vector and min-max scaling both are feature scaling technique but both method of scaling the features is different, \n",
    "The unit vector technique is based upon the unit vector mathmatical formula = Vector/Magnitude of vector. and The min-max scaling is based on the \n",
    "(X-Xmin)/(Xmax-Xmin). And the min-max scaling technique is also known as normalization.\n",
    "The unit vector is scaled the feature for having the lenght 1 whereas the min-max scaling is scaled the feature between 0 and 1 range."
   ]
  },
  {
   "cell_type": "code",
   "execution_count": 27,
   "id": "fa1a352c-36cd-4abd-8d4b-512a41965463",
   "metadata": {},
   "outputs": [],
   "source": [
    "## Example of Unit Vector\n",
    "\n",
    "# importing libraries\n",
    "from sklearn.preprocessing import normalize\n",
    "import seaborn as sns\n",
    "import pandas as pd"
   ]
  },
  {
   "cell_type": "code",
   "execution_count": 28,
   "id": "19d0fc4e-541f-47ab-b27e-15aa8c0e749f",
   "metadata": {},
   "outputs": [
    {
     "data": {
      "text/html": [
       "<div>\n",
       "<style scoped>\n",
       "    .dataframe tbody tr th:only-of-type {\n",
       "        vertical-align: middle;\n",
       "    }\n",
       "\n",
       "    .dataframe tbody tr th {\n",
       "        vertical-align: top;\n",
       "    }\n",
       "\n",
       "    .dataframe thead th {\n",
       "        text-align: right;\n",
       "    }\n",
       "</style>\n",
       "<table border=\"1\" class=\"dataframe\">\n",
       "  <thead>\n",
       "    <tr style=\"text-align: right;\">\n",
       "      <th></th>\n",
       "      <th>Year</th>\n",
       "      <th>Country</th>\n",
       "      <th>Spending_USD</th>\n",
       "      <th>Life_Expectancy</th>\n",
       "    </tr>\n",
       "  </thead>\n",
       "  <tbody>\n",
       "    <tr>\n",
       "      <th>0</th>\n",
       "      <td>1970</td>\n",
       "      <td>Germany</td>\n",
       "      <td>252.311</td>\n",
       "      <td>70.6</td>\n",
       "    </tr>\n",
       "    <tr>\n",
       "      <th>1</th>\n",
       "      <td>1970</td>\n",
       "      <td>France</td>\n",
       "      <td>192.143</td>\n",
       "      <td>72.2</td>\n",
       "    </tr>\n",
       "    <tr>\n",
       "      <th>2</th>\n",
       "      <td>1970</td>\n",
       "      <td>Great Britain</td>\n",
       "      <td>123.993</td>\n",
       "      <td>71.9</td>\n",
       "    </tr>\n",
       "    <tr>\n",
       "      <th>3</th>\n",
       "      <td>1970</td>\n",
       "      <td>Japan</td>\n",
       "      <td>150.437</td>\n",
       "      <td>72.0</td>\n",
       "    </tr>\n",
       "    <tr>\n",
       "      <th>4</th>\n",
       "      <td>1970</td>\n",
       "      <td>USA</td>\n",
       "      <td>326.961</td>\n",
       "      <td>70.9</td>\n",
       "    </tr>\n",
       "  </tbody>\n",
       "</table>\n",
       "</div>"
      ],
      "text/plain": [
       "   Year        Country  Spending_USD  Life_Expectancy\n",
       "0  1970        Germany       252.311             70.6\n",
       "1  1970         France       192.143             72.2\n",
       "2  1970  Great Britain       123.993             71.9\n",
       "3  1970          Japan       150.437             72.0\n",
       "4  1970            USA       326.961             70.9"
      ]
     },
     "execution_count": 28,
     "metadata": {},
     "output_type": "execute_result"
    }
   ],
   "source": [
    "# Load any dataset form example\n",
    "df=sns.load_dataset('healthexp')\n",
    "df.head()"
   ]
  },
  {
   "cell_type": "code",
   "execution_count": 32,
   "id": "fef414ad-d1d1-478d-992f-941d4457c8a8",
   "metadata": {},
   "outputs": [],
   "source": [
    "# initializing\n",
    "scaled = normalize(df[['Spending_USD','Life_Expectancy']])"
   ]
  },
  {
   "cell_type": "code",
   "execution_count": 34,
   "id": "14b5b421-e465-4a5f-8986-f2705c7aa2c3",
   "metadata": {},
   "outputs": [
    {
     "data": {
      "text/html": [
       "<div>\n",
       "<style scoped>\n",
       "    .dataframe tbody tr th:only-of-type {\n",
       "        vertical-align: middle;\n",
       "    }\n",
       "\n",
       "    .dataframe tbody tr th {\n",
       "        vertical-align: top;\n",
       "    }\n",
       "\n",
       "    .dataframe thead th {\n",
       "        text-align: right;\n",
       "    }\n",
       "</style>\n",
       "<table border=\"1\" class=\"dataframe\">\n",
       "  <thead>\n",
       "    <tr style=\"text-align: right;\">\n",
       "      <th></th>\n",
       "      <th>Spending_USD</th>\n",
       "      <th>Life_Expectancy</th>\n",
       "    </tr>\n",
       "  </thead>\n",
       "  <tbody>\n",
       "    <tr>\n",
       "      <th>0</th>\n",
       "      <td>0.010934</td>\n",
       "      <td>0.000000</td>\n",
       "    </tr>\n",
       "    <tr>\n",
       "      <th>1</th>\n",
       "      <td>0.005807</td>\n",
       "      <td>0.113475</td>\n",
       "    </tr>\n",
       "    <tr>\n",
       "      <th>2</th>\n",
       "      <td>0.000000</td>\n",
       "      <td>0.092199</td>\n",
       "    </tr>\n",
       "    <tr>\n",
       "      <th>3</th>\n",
       "      <td>0.002253</td>\n",
       "      <td>0.099291</td>\n",
       "    </tr>\n",
       "    <tr>\n",
       "      <th>4</th>\n",
       "      <td>0.017296</td>\n",
       "      <td>0.021277</td>\n",
       "    </tr>\n",
       "  </tbody>\n",
       "</table>\n",
       "</div>"
      ],
      "text/plain": [
       "   Spending_USD  Life_Expectancy\n",
       "0      0.010934         0.000000\n",
       "1      0.005807         0.113475\n",
       "2      0.000000         0.092199\n",
       "3      0.002253         0.099291\n",
       "4      0.017296         0.021277"
      ]
     },
     "execution_count": 34,
     "metadata": {},
     "output_type": "execute_result"
    }
   ],
   "source": [
    "# making the dataframe of scaled features\n",
    "df1=pd.DataFrame(scaled, columns=['Spending_USD','Life_Expectancy'])\n",
    "df1.head()"
   ]
  },
  {
   "cell_type": "code",
   "execution_count": null,
   "id": "8906ced9-7ae9-4031-98bf-889c57f90ba0",
   "metadata": {},
   "outputs": [],
   "source": []
  },
  {
   "cell_type": "code",
   "execution_count": null,
   "id": "28674912-a324-42d2-a2b6-e73e5f186313",
   "metadata": {},
   "outputs": [],
   "source": [
    "'''Q3. What is PCA (Principle Component Analysis), and how is it used in dimensionality reduction? Provide an example to illustrate its application.'''"
   ]
  },
  {
   "cell_type": "code",
   "execution_count": null,
   "id": "842bc93f-3c5d-43c6-aa3b-57b47b472458",
   "metadata": {},
   "outputs": [],
   "source": [
    "#Ans.\n",
    "\n",
    "#Definition\n",
    "PCA (Principle Component Analysis) is unsupervised machine learning technique or algorithm, this technique is a part of feature extraction. PCA is a \n",
    "feature extraction technique which extract the feature from already existing features by reducing the dimensionality of features. PCA is helping in \n",
    "extracting the important feature from the less important feature in dataset\n",
    "\n",
    "#Working\n",
    "PCA is reduce the dimensions of dataset by plotting the datapoints of one feature on the axis of other features which capture the information of both\n",
    "features in one features and hence convert 2D to 1D features. It can perform 100D to 1D also, but there is disadvantage also of PCA technique, it occur\n",
    "the problem of data loss. If we reduce the dimensions of dataset then many important information may also missed which results degrading the model \n",
    "performance. \n",
    "\n",
    "There is another method is also in PCA, lets suppose if we reduce the dimension from 2D to 1D then the datapoints of both the features will project on\n",
    "the pca1 line to convert in 1D. and instead of using 2 feature we use one pca1 feature. The spreadness of datapoints on the pca1 line tell the variance\n",
    "of the features. There is pca2 line is also create with perpendicular to pca1 line inn case of 3D to 2D. "
   ]
  },
  {
   "cell_type": "code",
   "execution_count": 78,
   "id": "d619272f-4347-4eb8-9a68-42b75814411a",
   "metadata": {},
   "outputs": [],
   "source": [
    "## Example\n",
    "import seaborn as sns\n",
    "from sklearn.decomposition import PCA\n",
    "from sklearn.model_selection import train_test_split"
   ]
  },
  {
   "cell_type": "code",
   "execution_count": 79,
   "id": "fe83d57b-3887-442a-9ac2-da0176ef3a88",
   "metadata": {},
   "outputs": [
    {
     "data": {
      "text/html": [
       "<div>\n",
       "<style scoped>\n",
       "    .dataframe tbody tr th:only-of-type {\n",
       "        vertical-align: middle;\n",
       "    }\n",
       "\n",
       "    .dataframe tbody tr th {\n",
       "        vertical-align: top;\n",
       "    }\n",
       "\n",
       "    .dataframe thead th {\n",
       "        text-align: right;\n",
       "    }\n",
       "</style>\n",
       "<table border=\"1\" class=\"dataframe\">\n",
       "  <thead>\n",
       "    <tr style=\"text-align: right;\">\n",
       "      <th></th>\n",
       "      <th>total_bill</th>\n",
       "      <th>tip</th>\n",
       "      <th>sex</th>\n",
       "      <th>smoker</th>\n",
       "      <th>day</th>\n",
       "      <th>time</th>\n",
       "      <th>size</th>\n",
       "    </tr>\n",
       "  </thead>\n",
       "  <tbody>\n",
       "    <tr>\n",
       "      <th>0</th>\n",
       "      <td>16.99</td>\n",
       "      <td>1.01</td>\n",
       "      <td>Female</td>\n",
       "      <td>No</td>\n",
       "      <td>Sun</td>\n",
       "      <td>Dinner</td>\n",
       "      <td>2</td>\n",
       "    </tr>\n",
       "    <tr>\n",
       "      <th>1</th>\n",
       "      <td>10.34</td>\n",
       "      <td>1.66</td>\n",
       "      <td>Male</td>\n",
       "      <td>No</td>\n",
       "      <td>Sun</td>\n",
       "      <td>Dinner</td>\n",
       "      <td>3</td>\n",
       "    </tr>\n",
       "    <tr>\n",
       "      <th>2</th>\n",
       "      <td>21.01</td>\n",
       "      <td>3.50</td>\n",
       "      <td>Male</td>\n",
       "      <td>No</td>\n",
       "      <td>Sun</td>\n",
       "      <td>Dinner</td>\n",
       "      <td>3</td>\n",
       "    </tr>\n",
       "    <tr>\n",
       "      <th>3</th>\n",
       "      <td>23.68</td>\n",
       "      <td>3.31</td>\n",
       "      <td>Male</td>\n",
       "      <td>No</td>\n",
       "      <td>Sun</td>\n",
       "      <td>Dinner</td>\n",
       "      <td>2</td>\n",
       "    </tr>\n",
       "    <tr>\n",
       "      <th>4</th>\n",
       "      <td>24.59</td>\n",
       "      <td>3.61</td>\n",
       "      <td>Female</td>\n",
       "      <td>No</td>\n",
       "      <td>Sun</td>\n",
       "      <td>Dinner</td>\n",
       "      <td>4</td>\n",
       "    </tr>\n",
       "  </tbody>\n",
       "</table>\n",
       "</div>"
      ],
      "text/plain": [
       "   total_bill   tip     sex smoker  day    time  size\n",
       "0       16.99  1.01  Female     No  Sun  Dinner     2\n",
       "1       10.34  1.66    Male     No  Sun  Dinner     3\n",
       "2       21.01  3.50    Male     No  Sun  Dinner     3\n",
       "3       23.68  3.31    Male     No  Sun  Dinner     2\n",
       "4       24.59  3.61  Female     No  Sun  Dinner     4"
      ]
     },
     "execution_count": 79,
     "metadata": {},
     "output_type": "execute_result"
    }
   ],
   "source": [
    "# load dataset\n",
    "df=sns.load_dataset('tips')\n",
    "df.head()"
   ]
  },
  {
   "cell_type": "code",
   "execution_count": 80,
   "id": "bb5684a0-3103-4530-85d6-7b155048d39d",
   "metadata": {},
   "outputs": [],
   "source": [
    "# independent and dependent variable\n",
    "x = df[['total_bill','tip']]\n",
    "y = df[['size']]"
   ]
  },
  {
   "cell_type": "code",
   "execution_count": 81,
   "id": "f45c7ab1-c6ea-40a8-92ac-2fec6120c404",
   "metadata": {},
   "outputs": [],
   "source": [
    "# train test split\n",
    "x_train, x_test, y_train, y_test = train_test_split(x,y , test_size=0.2,random_state=42)"
   ]
  },
  {
   "cell_type": "code",
   "execution_count": 82,
   "id": "c59a398a-0a97-48f2-bda5-96f22e84874e",
   "metadata": {},
   "outputs": [],
   "source": [
    "# initializing\n",
    "pca = PCA(n_components=0.95)"
   ]
  },
  {
   "cell_type": "code",
   "execution_count": 83,
   "id": "9c96e084-0fa0-4328-a7a2-e38870938e7e",
   "metadata": {},
   "outputs": [],
   "source": [
    "x_train = pca.fit_transform(x_train)"
   ]
  },
  {
   "cell_type": "code",
   "execution_count": 84,
   "id": "32cad171-5a86-4166-bc18-da4ac77d7777",
   "metadata": {
    "collapsed": true,
    "jupyter": {
     "outputs_hidden": true
    },
    "tags": []
   },
   "outputs": [
    {
     "data": {
      "text/plain": [
       "array([[-6.93685384e+00],\n",
       "       [ 3.91443719e+00],\n",
       "       [ 7.11951052e+00],\n",
       "       [ 1.15775980e+01],\n",
       "       [-4.32711803e+00],\n",
       "       [-6.77862473e-01],\n",
       "       [-7.26311746e+00],\n",
       "       [-1.26692956e+01],\n",
       "       [-2.52809677e+00],\n",
       "       [-2.97795299e+00],\n",
       "       [-4.51071108e+00],\n",
       "       [ 9.79755595e+00],\n",
       "       [-2.84620258e+00],\n",
       "       [ 3.37071217e+00],\n",
       "       [-3.98807586e+00],\n",
       "       [-1.04113034e-01],\n",
       "       [ 8.05312897e-01],\n",
       "       [-5.28497254e+00],\n",
       "       [-1.31172913e+01],\n",
       "       [ 6.36985175e+00],\n",
       "       [ 4.31950489e+00],\n",
       "       [-5.62504412e-01],\n",
       "       [ 7.87647566e+00],\n",
       "       [-2.95136683e+00],\n",
       "       [-5.73852375e-01],\n",
       "       [-4.66977608e+00],\n",
       "       [ 2.21472616e-01],\n",
       "       [ 1.44118977e+01],\n",
       "       [ 5.21778466e+00],\n",
       "       [ 1.76788562e+01],\n",
       "       [ 9.64637440e+00],\n",
       "       [-1.05232720e+01],\n",
       "       [ 5.55868522e+00],\n",
       "       [-1.30172574e-01],\n",
       "       [-9.16622346e+00],\n",
       "       [ 1.83946487e+01],\n",
       "       [-4.10170062e+00],\n",
       "       [-1.92023088e+00],\n",
       "       [-4.93350289e+00],\n",
       "       [ 3.87514711e+00],\n",
       "       [ 1.60450394e+00],\n",
       "       [-6.24400745e+00],\n",
       "       [ 9.06654944e+00],\n",
       "       [-1.18028965e+01],\n",
       "       [-3.74405663e+00],\n",
       "       [-2.70134673e+00],\n",
       "       [-9.92233509e+00],\n",
       "       [ 2.00129885e+01],\n",
       "       [-2.68713758e+00],\n",
       "       [-3.51796124e+00],\n",
       "       [-2.28510661e+00],\n",
       "       [-2.80071190e+00],\n",
       "       [-1.89357008e+00],\n",
       "       [-4.22240577e+00],\n",
       "       [ 2.51797353e+00],\n",
       "       [-3.85060102e+00],\n",
       "       [-6.92510434e+00],\n",
       "       [-1.02867830e+01],\n",
       "       [-6.97054457e+00],\n",
       "       [ 3.30340534e+00],\n",
       "       [-4.82527566e+00],\n",
       "       [-3.43313003e+00],\n",
       "       [ 8.32175503e-01],\n",
       "       [ 7.03997802e+00],\n",
       "       [ 2.20697229e+00],\n",
       "       [-8.87932455e+00],\n",
       "       [-6.14966248e+00],\n",
       "       [-8.45628049e+00],\n",
       "       [ 1.26105924e+01],\n",
       "       [ 8.69168377e+00],\n",
       "       [ 1.47516925e+01],\n",
       "       [ 3.11597115e+01],\n",
       "       [-7.57697988e+00],\n",
       "       [ 7.78200110e-01],\n",
       "       [-4.00228500e+00],\n",
       "       [ 6.99880537e+00],\n",
       "       [-6.48767560e+00],\n",
       "       [-4.51430069e+00],\n",
       "       [-7.88120136e+00],\n",
       "       [-6.83937124e+00],\n",
       "       [-9.94733931e+00],\n",
       "       [ 1.51608281e+01],\n",
       "       [ 1.56918734e+01],\n",
       "       [-7.60113059e+00],\n",
       "       [-6.17521958e+00],\n",
       "       [ 4.40312943e+00],\n",
       "       [-5.98632990e+00],\n",
       "       [-5.13702951e+00],\n",
       "       [ 1.43899544e+01],\n",
       "       [ 1.15742849e+01],\n",
       "       [-4.31047343e+00],\n",
       "       [-9.26353052e+00],\n",
       "       [-1.18376668e+01],\n",
       "       [-8.90347526e+00],\n",
       "       [-8.10644323e+00],\n",
       "       [ 2.02040130e+01],\n",
       "       [-8.27045379e+00],\n",
       "       [-3.71044053e+00],\n",
       "       [-2.66067651e+00],\n",
       "       [ 1.03939992e+01],\n",
       "       [ 9.86456214e+00],\n",
       "       [-4.24479900e+00],\n",
       "       [-4.36018125e+00],\n",
       "       [ 1.95750311e+01],\n",
       "       [ 2.50299384e+01],\n",
       "       [-1.04571718e+01],\n",
       "       [-3.50319922e+00],\n",
       "       [ 1.11941447e+01],\n",
       "       [ 4.08955901e-01],\n",
       "       [ 1.24254920e+01],\n",
       "       [ 2.53501966e+00],\n",
       "       [ 6.75971685e-01],\n",
       "       [-1.06669474e+01],\n",
       "       [-1.19697441e+01],\n",
       "       [-4.67263726e+00],\n",
       "       [ 3.46606201e+00],\n",
       "       [-4.98559571e+00],\n",
       "       [-1.03825586e+01],\n",
       "       [-8.02861777e+00],\n",
       "       [-6.71562937e+00],\n",
       "       [ 1.23315769e+01],\n",
       "       [-1.01859368e+01],\n",
       "       [-2.17444392e+00],\n",
       "       [-6.48767560e+00],\n",
       "       [-7.82625185e-01],\n",
       "       [-2.40377783e+00],\n",
       "       [-7.55034327e+00],\n",
       "       [ 6.62685133e+00],\n",
       "       [-4.37414021e+00],\n",
       "       [-6.19083513e+00],\n",
       "       [ 2.30352674e+00],\n",
       "       [ 1.25959050e+01],\n",
       "       [-8.74867784e+00],\n",
       "       [-1.16957488e+01],\n",
       "       [ 9.27323546e-01],\n",
       "       [-5.26918145e+00],\n",
       "       [-1.78672299e+00],\n",
       "       [ 2.82815556e+01],\n",
       "       [-7.50671097e+00],\n",
       "       [ 2.41728598e-02],\n",
       "       [-3.83757228e+00],\n",
       "       [ 4.47618454e-01],\n",
       "       [ 6.60912722e+00],\n",
       "       [-8.52476773e+00],\n",
       "       [-1.92874185e+00],\n",
       "       [-6.78592247e+00],\n",
       "       [-6.92073586e+00],\n",
       "       [-1.84386226e+00],\n",
       "       [ 5.44626505e+00],\n",
       "       [ 5.09291283e+00],\n",
       "       [-7.69627863e+00],\n",
       "       [ 3.65271804e+00],\n",
       "       [-3.27936375e+00],\n",
       "       [ 2.85862533e+01],\n",
       "       [ 2.96393744e+00],\n",
       "       [ 6.80419332e+00],\n",
       "       [-7.48951348e+00],\n",
       "       [-9.64909244e+00],\n",
       "       [-9.06856532e+00],\n",
       "       [ 8.17158491e+00],\n",
       "       [ 4.76423793e+00],\n",
       "       [ 3.54199217e-02],\n",
       "       [ 5.98471762e+00],\n",
       "       [-3.85883555e+00],\n",
       "       [ 1.31931206e+00],\n",
       "       [-7.79855543e+00],\n",
       "       [ 1.00650258e+01],\n",
       "       [-2.86325942e-01],\n",
       "       [ 2.48910326e+00],\n",
       "       [-3.27040079e+00],\n",
       "       [ 4.82584659e+00],\n",
       "       [ 1.86875944e+00],\n",
       "       [-9.97410101e+00],\n",
       "       [ 1.47350479e+01],\n",
       "       [-1.27508599e+01],\n",
       "       [-1.30244761e+00],\n",
       "       [-7.16370184e+00],\n",
       "       [ 2.23177678e+00],\n",
       "       [-7.88376191e+00],\n",
       "       [ 9.86953189e+00],\n",
       "       [-1.82789564e+00],\n",
       "       [-7.29294215e+00],\n",
       "       [-5.55146170e+00],\n",
       "       [ 8.27418653e+00],\n",
       "       [ 9.66736329e+00],\n",
       "       [-6.90994078e+00],\n",
       "       [-1.43876830e+00],\n",
       "       [-2.17715582e+00],\n",
       "       [-2.01111134e+00],\n",
       "       [-3.13877547e+00],\n",
       "       [ 3.75666699e-01],\n",
       "       [-5.36352643e+00],\n",
       "       [-1.46085257e+01],\n",
       "       [ 1.43779810e+01],\n",
       "       [ 2.38781235e+01]])"
      ]
     },
     "execution_count": 84,
     "metadata": {},
     "output_type": "execute_result"
    }
   ],
   "source": [
    "x_train"
   ]
  },
  {
   "cell_type": "code",
   "execution_count": 85,
   "id": "6003250e-77f9-489e-93f6-dd2dca1a4160",
   "metadata": {},
   "outputs": [],
   "source": [
    "# pca \n",
    "x_test = pca.fit_transform(x_test)"
   ]
  },
  {
   "cell_type": "code",
   "execution_count": 86,
   "id": "8c29711f-b191-435d-9d22-00d67a47f854",
   "metadata": {
    "collapsed": true,
    "jupyter": {
     "outputs_hidden": true
    },
    "tags": []
   },
   "outputs": [
    {
     "data": {
      "text/plain": [
       "array([[  1.79495961],\n",
       "       [ -9.31699802],\n",
       "       [  6.39350989],\n",
       "       [  8.02384462],\n",
       "       [ -5.10562613],\n",
       "       [ -0.23716075],\n",
       "       [ 10.31887657],\n",
       "       [ -5.57458848],\n",
       "       [ -3.21815792],\n",
       "       [ -2.64236168],\n",
       "       [  0.25482324],\n",
       "       [ -7.37549076],\n",
       "       [ -7.49214994],\n",
       "       [ -3.63214377],\n",
       "       [ -8.03865971],\n",
       "       [  0.44953926],\n",
       "       [  0.76671916],\n",
       "       [  3.61658059],\n",
       "       [ -1.62675887],\n",
       "       [ 23.24146708],\n",
       "       [  2.59269407],\n",
       "       [  2.63724119],\n",
       "       [ -3.61390409],\n",
       "       [ -8.59199303],\n",
       "       [  2.90020206],\n",
       "       [ -6.38079603],\n",
       "       [ -7.85078994],\n",
       "       [  7.40153166],\n",
       "       [ -1.63099542],\n",
       "       [ 30.1907285 ],\n",
       "       [ 20.04146144],\n",
       "       [-10.39495959],\n",
       "       [ -0.28493497],\n",
       "       [  2.26570219],\n",
       "       [ -1.01249097],\n",
       "       [  6.01182556],\n",
       "       [ -6.1182272 ],\n",
       "       [ 25.15301177],\n",
       "       [ -4.8760216 ],\n",
       "       [  4.52178905],\n",
       "       [ -7.65496979],\n",
       "       [ -3.59231992],\n",
       "       [  5.84771221],\n",
       "       [ -7.79480398],\n",
       "       [ -7.753912  ],\n",
       "       [-15.08564184],\n",
       "       [ -7.54157371],\n",
       "       [  0.58837731],\n",
       "       [-10.57416691]])"
      ]
     },
     "execution_count": 86,
     "metadata": {},
     "output_type": "execute_result"
    }
   ],
   "source": [
    "x_test"
   ]
  },
  {
   "cell_type": "code",
   "execution_count": 87,
   "id": "2c092313-8de0-494f-acc4-1e2b4a0b11d4",
   "metadata": {},
   "outputs": [
    {
     "data": {
      "text/plain": [
       "array([[0.99559619, 0.09374552]])"
      ]
     },
     "execution_count": 87,
     "metadata": {},
     "output_type": "execute_result"
    }
   ],
   "source": [
    "# pca components\n",
    "pca.components_"
   ]
  },
  {
   "cell_type": "code",
   "execution_count": 88,
   "id": "a34f818b-a272-449e-90a3-ba98c0a7bbf9",
   "metadata": {},
   "outputs": [
    {
     "data": {
      "text/plain": [
       "array(['pca0'], dtype=object)"
      ]
     },
     "execution_count": 88,
     "metadata": {},
     "output_type": "execute_result"
    }
   ],
   "source": [
    "# pca lines used\n",
    "pca.get_feature_names_out()"
   ]
  },
  {
   "cell_type": "code",
   "execution_count": null,
   "id": "aa4dc36d-c7d5-4e1e-b83b-51aebf6461b6",
   "metadata": {},
   "outputs": [],
   "source": []
  },
  {
   "cell_type": "code",
   "execution_count": null,
   "id": "df6e423f-48d9-4ff7-b623-444a07b8d8ee",
   "metadata": {},
   "outputs": [],
   "source": [
    "'''Q4. What is the relationship between PCA and Feature Extraction, and how can PCA be used for Feature Extraction? Provide an example to illustrate \n",
    "       this concept.'''"
   ]
  },
  {
   "cell_type": "code",
   "execution_count": null,
   "id": "1551abac-89b5-4f46-ba32-85f27e01482d",
   "metadata": {},
   "outputs": [],
   "source": [
    "#Ans.\n",
    "PCA (Principal Component Analysis) is a unsupervised feature extraction technique. It helps in extracting the features by reducing the dimensions. The\n",
    "extracting important features in a dataset is a important data preprocessing step, which helps in building a good performance model. PCA can extract\n",
    "the important features in the dataset by combining the two or more features together and converting them into a single features. \n",
    "When the unnecessary features are available in dataset then reducing the dimesions of those dataset is become important. \n",
    "\n",
    "PCA is used in extracting important feature by sklearn library, which we can apply pca easily. PCA is applicable to numericals features only. The\n",
    "intution behind pca is that it form the eigen vector which named as pca1, pca2, etc. and the datapoints of features are project on that eigen vector \n",
    "and the new feature is formed in this way. The pca1 and pca2 is perpendicular to each other in case of diagram."
   ]
  },
  {
   "cell_type": "code",
   "execution_count": 40,
   "id": "e3e4fefa-a094-4e0d-9cde-1d8b851331f3",
   "metadata": {},
   "outputs": [],
   "source": [
    "## Example\n",
    "\n",
    "# importing libraries\n",
    "from sklearn.decomposition import PCA\n",
    "from sklearn.model_selection import train_test_split\n",
    "import seaborn as sns\n",
    "import pandas as pd"
   ]
  },
  {
   "cell_type": "code",
   "execution_count": 39,
   "id": "c8c3414c-6a06-4e06-a7f5-ea3cfd343b3e",
   "metadata": {},
   "outputs": [
    {
     "data": {
      "text/html": [
       "<div>\n",
       "<style scoped>\n",
       "    .dataframe tbody tr th:only-of-type {\n",
       "        vertical-align: middle;\n",
       "    }\n",
       "\n",
       "    .dataframe tbody tr th {\n",
       "        vertical-align: top;\n",
       "    }\n",
       "\n",
       "    .dataframe thead th {\n",
       "        text-align: right;\n",
       "    }\n",
       "</style>\n",
       "<table border=\"1\" class=\"dataframe\">\n",
       "  <thead>\n",
       "    <tr style=\"text-align: right;\">\n",
       "      <th></th>\n",
       "      <th>carat</th>\n",
       "      <th>cut</th>\n",
       "      <th>color</th>\n",
       "      <th>clarity</th>\n",
       "      <th>depth</th>\n",
       "      <th>table</th>\n",
       "      <th>price</th>\n",
       "      <th>x</th>\n",
       "      <th>y</th>\n",
       "      <th>z</th>\n",
       "    </tr>\n",
       "  </thead>\n",
       "  <tbody>\n",
       "    <tr>\n",
       "      <th>0</th>\n",
       "      <td>0.23</td>\n",
       "      <td>Ideal</td>\n",
       "      <td>E</td>\n",
       "      <td>SI2</td>\n",
       "      <td>61.5</td>\n",
       "      <td>55.0</td>\n",
       "      <td>326</td>\n",
       "      <td>3.95</td>\n",
       "      <td>3.98</td>\n",
       "      <td>2.43</td>\n",
       "    </tr>\n",
       "    <tr>\n",
       "      <th>1</th>\n",
       "      <td>0.21</td>\n",
       "      <td>Premium</td>\n",
       "      <td>E</td>\n",
       "      <td>SI1</td>\n",
       "      <td>59.8</td>\n",
       "      <td>61.0</td>\n",
       "      <td>326</td>\n",
       "      <td>3.89</td>\n",
       "      <td>3.84</td>\n",
       "      <td>2.31</td>\n",
       "    </tr>\n",
       "    <tr>\n",
       "      <th>2</th>\n",
       "      <td>0.23</td>\n",
       "      <td>Good</td>\n",
       "      <td>E</td>\n",
       "      <td>VS1</td>\n",
       "      <td>56.9</td>\n",
       "      <td>65.0</td>\n",
       "      <td>327</td>\n",
       "      <td>4.05</td>\n",
       "      <td>4.07</td>\n",
       "      <td>2.31</td>\n",
       "    </tr>\n",
       "    <tr>\n",
       "      <th>3</th>\n",
       "      <td>0.29</td>\n",
       "      <td>Premium</td>\n",
       "      <td>I</td>\n",
       "      <td>VS2</td>\n",
       "      <td>62.4</td>\n",
       "      <td>58.0</td>\n",
       "      <td>334</td>\n",
       "      <td>4.20</td>\n",
       "      <td>4.23</td>\n",
       "      <td>2.63</td>\n",
       "    </tr>\n",
       "    <tr>\n",
       "      <th>4</th>\n",
       "      <td>0.31</td>\n",
       "      <td>Good</td>\n",
       "      <td>J</td>\n",
       "      <td>SI2</td>\n",
       "      <td>63.3</td>\n",
       "      <td>58.0</td>\n",
       "      <td>335</td>\n",
       "      <td>4.34</td>\n",
       "      <td>4.35</td>\n",
       "      <td>2.75</td>\n",
       "    </tr>\n",
       "  </tbody>\n",
       "</table>\n",
       "</div>"
      ],
      "text/plain": [
       "   carat      cut color clarity  depth  table  price     x     y     z\n",
       "0   0.23    Ideal     E     SI2   61.5   55.0    326  3.95  3.98  2.43\n",
       "1   0.21  Premium     E     SI1   59.8   61.0    326  3.89  3.84  2.31\n",
       "2   0.23     Good     E     VS1   56.9   65.0    327  4.05  4.07  2.31\n",
       "3   0.29  Premium     I     VS2   62.4   58.0    334  4.20  4.23  2.63\n",
       "4   0.31     Good     J     SI2   63.3   58.0    335  4.34  4.35  2.75"
      ]
     },
     "execution_count": 39,
     "metadata": {},
     "output_type": "execute_result"
    }
   ],
   "source": [
    "# load dataset\n",
    "df=sns.load_dataset('diamonds')\n",
    "df.head()"
   ]
  },
  {
   "cell_type": "code",
   "execution_count": 47,
   "id": "c6af2255-86e9-4aae-b222-10b446e89b83",
   "metadata": {},
   "outputs": [
    {
     "data": {
      "text/plain": [
       "(53940, 10)"
      ]
     },
     "execution_count": 47,
     "metadata": {},
     "output_type": "execute_result"
    }
   ],
   "source": [
    "# shape\n",
    "df.shape"
   ]
  },
  {
   "cell_type": "code",
   "execution_count": 69,
   "id": "fb7205da-625f-4572-9ab3-5970b5693db9",
   "metadata": {},
   "outputs": [],
   "source": [
    "# independent and dependent variable\n",
    "x = df[['depth', 'table', 'price', 'x', 'y', 'z']]\n",
    "y = df[['carat']]"
   ]
  },
  {
   "cell_type": "code",
   "execution_count": 70,
   "id": "5862a95f-6b36-4ae1-86d8-26a182635b97",
   "metadata": {},
   "outputs": [],
   "source": [
    "# tran test split\n",
    "x_train, x_test, y_train, y_test = train_test_split(x,y, test_size=0.3, random_state=42)"
   ]
  },
  {
   "cell_type": "code",
   "execution_count": 71,
   "id": "c3e2a11d-1ec8-4bbc-bc65-8bb06aa42dd4",
   "metadata": {},
   "outputs": [
    {
     "data": {
      "text/html": [
       "<div>\n",
       "<style scoped>\n",
       "    .dataframe tbody tr th:only-of-type {\n",
       "        vertical-align: middle;\n",
       "    }\n",
       "\n",
       "    .dataframe tbody tr th {\n",
       "        vertical-align: top;\n",
       "    }\n",
       "\n",
       "    .dataframe thead th {\n",
       "        text-align: right;\n",
       "    }\n",
       "</style>\n",
       "<table border=\"1\" class=\"dataframe\">\n",
       "  <thead>\n",
       "    <tr style=\"text-align: right;\">\n",
       "      <th></th>\n",
       "      <th>depth</th>\n",
       "      <th>table</th>\n",
       "      <th>price</th>\n",
       "      <th>x</th>\n",
       "      <th>y</th>\n",
       "      <th>z</th>\n",
       "    </tr>\n",
       "  </thead>\n",
       "  <tbody>\n",
       "    <tr>\n",
       "      <th>19497</th>\n",
       "      <td>61.3</td>\n",
       "      <td>57.0</td>\n",
       "      <td>8131</td>\n",
       "      <td>6.92</td>\n",
       "      <td>6.87</td>\n",
       "      <td>4.23</td>\n",
       "    </tr>\n",
       "    <tr>\n",
       "      <th>31229</th>\n",
       "      <td>62.0</td>\n",
       "      <td>56.0</td>\n",
       "      <td>756</td>\n",
       "      <td>4.38</td>\n",
       "      <td>4.36</td>\n",
       "      <td>2.71</td>\n",
       "    </tr>\n",
       "  </tbody>\n",
       "</table>\n",
       "</div>"
      ],
      "text/plain": [
       "       depth  table  price     x     y     z\n",
       "19497   61.3   57.0   8131  6.92  6.87  4.23\n",
       "31229   62.0   56.0    756  4.38  4.36  2.71"
      ]
     },
     "execution_count": 71,
     "metadata": {},
     "output_type": "execute_result"
    }
   ],
   "source": [
    "x_train.head(2)"
   ]
  },
  {
   "cell_type": "code",
   "execution_count": 72,
   "id": "d2810e47-3336-4aca-b8c6-e0b5874d69a6",
   "metadata": {},
   "outputs": [],
   "source": [
    "# initializing\n",
    "pca = PCA(n_components=1)"
   ]
  },
  {
   "cell_type": "code",
   "execution_count": 73,
   "id": "a73ec9bb-db84-4777-8192-80cdc83dde30",
   "metadata": {
    "tags": []
   },
   "outputs": [
    {
     "data": {
      "text/plain": [
       "array([[ 4179.50502096],\n",
       "       [-3195.49597492],\n",
       "       [ 6399.5048021 ],\n",
       "       ...,\n",
       "       [-2937.49580527],\n",
       "       [-1080.49491594],\n",
       "       [ 2368.50516353]])"
      ]
     },
     "execution_count": 73,
     "metadata": {},
     "output_type": "execute_result"
    }
   ],
   "source": [
    "# fit transform in PCA\n",
    "p=pca.fit_transform(x_train)\n",
    "p"
   ]
  },
  {
   "cell_type": "code",
   "execution_count": 74,
   "id": "8358d239-79a9-439f-a32c-6a65a7dc7049",
   "metadata": {},
   "outputs": [
    {
     "data": {
      "text/html": [
       "<div>\n",
       "<style scoped>\n",
       "    .dataframe tbody tr th:only-of-type {\n",
       "        vertical-align: middle;\n",
       "    }\n",
       "\n",
       "    .dataframe tbody tr th {\n",
       "        vertical-align: top;\n",
       "    }\n",
       "\n",
       "    .dataframe thead th {\n",
       "        text-align: right;\n",
       "    }\n",
       "</style>\n",
       "<table border=\"1\" class=\"dataframe\">\n",
       "  <thead>\n",
       "    <tr style=\"text-align: right;\">\n",
       "      <th></th>\n",
       "      <th>pca1</th>\n",
       "    </tr>\n",
       "  </thead>\n",
       "  <tbody>\n",
       "    <tr>\n",
       "      <th>0</th>\n",
       "      <td>4179.505021</td>\n",
       "    </tr>\n",
       "    <tr>\n",
       "      <th>1</th>\n",
       "      <td>-3195.495975</td>\n",
       "    </tr>\n",
       "    <tr>\n",
       "      <th>2</th>\n",
       "      <td>6399.504802</td>\n",
       "    </tr>\n",
       "    <tr>\n",
       "      <th>3</th>\n",
       "      <td>-1156.495266</td>\n",
       "    </tr>\n",
       "    <tr>\n",
       "      <th>4</th>\n",
       "      <td>140.504700</td>\n",
       "    </tr>\n",
       "  </tbody>\n",
       "</table>\n",
       "</div>"
      ],
      "text/plain": [
       "          pca1\n",
       "0  4179.505021\n",
       "1 -3195.495975\n",
       "2  6399.504802\n",
       "3 -1156.495266\n",
       "4   140.504700"
      ]
     },
     "execution_count": 74,
     "metadata": {},
     "output_type": "execute_result"
    }
   ],
   "source": [
    "# converting to dataframe\n",
    "df1=pd.DataFrame(p, columns=['pca1'])\n",
    "df1.head()"
   ]
  },
  {
   "cell_type": "code",
   "execution_count": 75,
   "id": "0aa279eb-50ac-4117-ad05-8b51bc3ef187",
   "metadata": {},
   "outputs": [
    {
     "data": {
      "text/plain": [
       "array([[-1.50674053e-06,  6.80075625e-05,  9.99999925e-01,\n",
       "         2.47851985e-04,  2.47068404e-04,  1.51930641e-04]])"
      ]
     },
     "execution_count": 75,
     "metadata": {},
     "output_type": "execute_result"
    }
   ],
   "source": [
    "# pca component\n",
    "pca.components_"
   ]
  },
  {
   "cell_type": "code",
   "execution_count": 76,
   "id": "03f96dfd-2b4a-4b71-9f39-9c2d56a83855",
   "metadata": {},
   "outputs": [
    {
     "data": {
      "text/plain": [
       "array(['pca0'], dtype=object)"
      ]
     },
     "execution_count": 76,
     "metadata": {},
     "output_type": "execute_result"
    }
   ],
   "source": [
    "# pca eigenvector\n",
    "pca.get_feature_names_out()"
   ]
  },
  {
   "cell_type": "code",
   "execution_count": 77,
   "id": "4e25dd69-f9bb-4e67-a5f1-f475d6de7ee3",
   "metadata": {},
   "outputs": [
    {
     "data": {
      "text/plain": [
       "array([0.99999952])"
      ]
     },
     "execution_count": 77,
     "metadata": {},
     "output_type": "execute_result"
    }
   ],
   "source": [
    "# pca variance ratio\n",
    "pca.explained_variance_ratio_"
   ]
  },
  {
   "cell_type": "code",
   "execution_count": null,
   "id": "74532cfe-08e4-4374-9e8b-3a0020c20b56",
   "metadata": {},
   "outputs": [],
   "source": []
  },
  {
   "cell_type": "code",
   "execution_count": null,
   "id": "dc18417c-2887-4972-a7d4-9ce038a30a06",
   "metadata": {},
   "outputs": [],
   "source": [
    "'''Q5. You are working on a project to build a recommendation system for a food delivery service. The dataset contains features such as price, rating,\n",
    "       and delivery time. Explain how you would use Min-Max scaling to preprocess the data.'''"
   ]
  },
  {
   "cell_type": "code",
   "execution_count": 143,
   "id": "98f1d7d6-cd97-4fa9-83e9-21cb2f1367e7",
   "metadata": {},
   "outputs": [],
   "source": [
    "#Ans.\n",
    "\n",
    "# Food_delivery_data\n",
    "price = [210,310,199,70,45,311,455,145,210,210,234,455]\n",
    "rating = [4.8,4,4.3,3.8,4,4.5,4.6,4.9,5,4.7,3.6,4]\n",
    "delivery_time = [15, 30, 10, 5, 25, 20, 15, 10, 5, 10, 15, 15]"
   ]
  },
  {
   "cell_type": "code",
   "execution_count": 144,
   "id": "ef4732bd-ea6a-4b7d-8eba-f044a6a8e3a6",
   "metadata": {},
   "outputs": [],
   "source": [
    "# making dataframe\n",
    "price=pd.DataFrame(price, columns=['price'])\n",
    "rating=pd.DataFrame(rating, columns=['rating'])\n",
    "delivery_time=pd.DataFrame(delivery_time, columns=['delivery_time'])"
   ]
  },
  {
   "cell_type": "code",
   "execution_count": 145,
   "id": "22529d1d-af48-4432-aa44-a52d428d686d",
   "metadata": {},
   "outputs": [],
   "source": [
    "# concating dataframe\n",
    "fd=pd.concat([price, rating, delivery_time], axis=1)"
   ]
  },
  {
   "cell_type": "code",
   "execution_count": 146,
   "id": "85130f97-72d5-4bac-aee8-3cebb5b80983",
   "metadata": {},
   "outputs": [],
   "source": [
    "# importing MinMaxscaler\n",
    "from sklearn.preprocessing import MinMaxScaler"
   ]
  },
  {
   "cell_type": "code",
   "execution_count": 147,
   "id": "22fb3849-d4e1-4830-abcb-a4d7ad89ab0d",
   "metadata": {},
   "outputs": [],
   "source": [
    "# initializing\n",
    "scaler = MinMaxScaler()"
   ]
  },
  {
   "cell_type": "code",
   "execution_count": 148,
   "id": "f20e512c-d84d-45ff-a15e-ba44c479cf99",
   "metadata": {},
   "outputs": [
    {
     "data": {
      "text/plain": [
       "array([[0.40243902, 0.85714286, 0.4       ],\n",
       "       [0.64634146, 0.28571429, 1.        ],\n",
       "       [0.37560976, 0.5       , 0.2       ],\n",
       "       [0.06097561, 0.14285714, 0.        ],\n",
       "       [0.        , 0.28571429, 0.8       ],\n",
       "       [0.64878049, 0.64285714, 0.6       ],\n",
       "       [1.        , 0.71428571, 0.4       ],\n",
       "       [0.24390244, 0.92857143, 0.2       ],\n",
       "       [0.40243902, 1.        , 0.        ],\n",
       "       [0.40243902, 0.78571429, 0.2       ],\n",
       "       [0.46097561, 0.        , 0.4       ],\n",
       "       [1.        , 0.28571429, 0.4       ]])"
      ]
     },
     "execution_count": 148,
     "metadata": {},
     "output_type": "execute_result"
    }
   ],
   "source": [
    "# fit transform in min-max scaler\n",
    "scaled=scaler.fit_transform(fd)\n",
    "scaled"
   ]
  },
  {
   "cell_type": "code",
   "execution_count": 149,
   "id": "e1d0196d-2f30-42bd-91a9-5a53ea4f2e98",
   "metadata": {},
   "outputs": [],
   "source": [
    "# store in dataframe\n",
    "fd_scaled=pd.DataFrame(scaled, columns=['price', 'rating', 'delivery_time'])"
   ]
  },
  {
   "cell_type": "code",
   "execution_count": 150,
   "id": "03b22ae8-5937-4f76-ac26-3d5de4133b68",
   "metadata": {},
   "outputs": [
    {
     "data": {
      "text/plain": [
       "<AxesSubplot: xlabel='price', ylabel='Count'>"
      ]
     },
     "execution_count": 150,
     "metadata": {},
     "output_type": "execute_result"
    },
    {
     "data": {
      "image/png": "[encoded data removed]",
      "text/plain": [
       "<Figure size 640x480 with 1 Axes>"
      ]
     },
     "metadata": {},
     "output_type": "display_data"
    }
   ],
   "source": [
    "## ploting for comparing\n",
    "#original price plot\n",
    "sns.histplot(fd['price'])"
   ]
  },
  {
   "cell_type": "code",
   "execution_count": 151,
   "id": "78a40e1d-2a2c-474d-ae74-a50c73ada0be",
   "metadata": {},
   "outputs": [
    {
     "data": {
      "text/plain": [
       "<AxesSubplot: xlabel='price', ylabel='Count'>"
      ]
     },
     "execution_count": 151,
     "metadata": {},
     "output_type": "execute_result"
    },
    {
     "data": {
      "image/png": "[encoded data removed]",
      "text/plain": [
       "<Figure size 640x480 with 1 Axes>"
      ]
     },
     "metadata": {},
     "output_type": "display_data"
    }
   ],
   "source": [
    "# scaled price plot\n",
    "sns.histplot(fd_scaled['price'])"
   ]
  },
  {
   "cell_type": "code",
   "execution_count": null,
   "id": "618168de-3997-45d0-8c70-803dbcb92ba8",
   "metadata": {},
   "outputs": [],
   "source": []
  },
  {
   "cell_type": "code",
   "execution_count": null,
   "id": "f58d7f4c-de27-44b6-be24-ba654bebc5c6",
   "metadata": {},
   "outputs": [],
   "source": [
    "'''Q6. You are working on a project to build a model to predict stock prices. The dataset contains many features, such as company financial data and\n",
    "       market trends. Explain how you would use PCA to reduce the dimensionality of the dataset.'''"
   ]
  },
  {
   "cell_type": "code",
   "execution_count": 56,
   "id": "db7ede06-2cf6-42f2-ae36-5a919e83cd32",
   "metadata": {},
   "outputs": [],
   "source": [
    "#Ans.\n",
    "PCA is a technique which extract the feature from combining the one or two features , it reduce the dimesions of the dataset so that the model \n",
    "performance will be good. For extracing the feature or reducing the dimension of the dataset through the PCA technique, we follow some steps like first\n",
    "we should load dataset and removing the categorical column because pca applicable for continuous feature only. After that we have to do feature scaling\n",
    "through standard scaler technique and saw the correaltion matrix of the scaled data and see which feature is highly correlated with target variable and\n",
    "apply scaled data in the PCA function by initializing. The n_component hyperparameter tuning is also doing for getting a good accuracy."
   ]
  },
  {
   "cell_type": "code",
   "execution_count": 1,
   "id": "d2058c6c-38c1-467b-9585-b2500adb9778",
   "metadata": {},
   "outputs": [],
   "source": [
    "# importing libraries\n",
    "import pandas as pd\n",
    "import matplotlib.pyplot as plt\n",
    "import seaborn as sns"
   ]
  },
  {
   "cell_type": "code",
   "execution_count": 70,
   "id": "47999dbf-0e59-45fc-8599-95de3c68179e",
   "metadata": {},
   "outputs": [
    {
     "data": {
      "text/html": [
       "<div>\n",
       "<style scoped>\n",
       "    .dataframe tbody tr th:only-of-type {\n",
       "        vertical-align: middle;\n",
       "    }\n",
       "\n",
       "    .dataframe tbody tr th {\n",
       "        vertical-align: top;\n",
       "    }\n",
       "\n",
       "    .dataframe thead th {\n",
       "        text-align: right;\n",
       "    }\n",
       "</style>\n",
       "<table border=\"1\" class=\"dataframe\">\n",
       "  <thead>\n",
       "    <tr style=\"text-align: right;\">\n",
       "      <th></th>\n",
       "      <th>Open</th>\n",
       "      <th>High</th>\n",
       "      <th>Low</th>\n",
       "      <th>Close</th>\n",
       "      <th>Adj Close</th>\n",
       "      <th>Volume</th>\n",
       "    </tr>\n",
       "  </thead>\n",
       "  <tbody>\n",
       "    <tr>\n",
       "      <th>0</th>\n",
       "      <td>259.933319</td>\n",
       "      <td>264.500000</td>\n",
       "      <td>256.893341</td>\n",
       "      <td>260.436676</td>\n",
       "      <td>260.436676</td>\n",
       "      <td>62828700</td>\n",
       "    </tr>\n",
       "    <tr>\n",
       "      <th>1</th>\n",
       "      <td>260.333344</td>\n",
       "      <td>263.043335</td>\n",
       "      <td>258.333344</td>\n",
       "      <td>258.493347</td>\n",
       "      <td>258.493347</td>\n",
       "      <td>53868000</td>\n",
       "    </tr>\n",
       "    <tr>\n",
       "      <th>2</th>\n",
       "      <td>259.466675</td>\n",
       "      <td>260.260010</td>\n",
       "      <td>254.529999</td>\n",
       "      <td>258.406677</td>\n",
       "      <td>258.406677</td>\n",
       "      <td>51094200</td>\n",
       "    </tr>\n",
       "    <tr>\n",
       "      <th>3</th>\n",
       "      <td>265.500000</td>\n",
       "      <td>268.989990</td>\n",
       "      <td>258.706665</td>\n",
       "      <td>260.510010</td>\n",
       "      <td>260.510010</td>\n",
       "      <td>91449900</td>\n",
       "    </tr>\n",
       "    <tr>\n",
       "      <th>4</th>\n",
       "      <td>261.600006</td>\n",
       "      <td>265.769989</td>\n",
       "      <td>258.066681</td>\n",
       "      <td>260.196655</td>\n",
       "      <td>260.196655</td>\n",
       "      <td>55297800</td>\n",
       "    </tr>\n",
       "  </tbody>\n",
       "</table>\n",
       "</div>"
      ],
      "text/plain": [
       "         Open        High         Low       Close   Adj Close    Volume\n",
       "0  259.933319  264.500000  256.893341  260.436676  260.436676  62828700\n",
       "1  260.333344  263.043335  258.333344  258.493347  258.493347  53868000\n",
       "2  259.466675  260.260010  254.529999  258.406677  258.406677  51094200\n",
       "3  265.500000  268.989990  258.706665  260.510010  260.510010  91449900\n",
       "4  261.600006  265.769989  258.066681  260.196655  260.196655  55297800"
      ]
     },
     "execution_count": 70,
     "metadata": {},
     "output_type": "execute_result"
    }
   ],
   "source": [
    "# load dataset\n",
    "df=pd.read_csv('TESLA.csv')\n",
    "df=df.drop('Date', axis=1)\n",
    "df.head()"
   ]
  },
  {
   "cell_type": "code",
   "execution_count": 58,
   "id": "c80e02a4-523c-4c01-96e9-fc75bfc6c4e9",
   "metadata": {},
   "outputs": [],
   "source": [
    "# featue scaling (Standardization)\n",
    "\n",
    "from sklearn.preprocessing import StandardScaler"
   ]
  },
  {
   "cell_type": "code",
   "execution_count": 59,
   "id": "bedcad78-de60-4530-940e-17dfb229f9e6",
   "metadata": {},
   "outputs": [],
   "source": [
    "scaler = StandardScaler()"
   ]
  },
  {
   "cell_type": "code",
   "execution_count": 60,
   "id": "03d98987-bcec-4bc7-92b3-e6ca2c550899",
   "metadata": {},
   "outputs": [
    {
     "data": {
      "text/plain": [
       "array([[-0.87306052, -0.92052409, -0.78975648, -0.85939612, -0.85939612,\n",
       "        -0.69566337],\n",
       "       [-0.86437339, -0.95171784, -0.7574672 , -0.90192186, -0.90192186,\n",
       "        -1.04823075],\n",
       "       [-0.88319438, -1.01132134, -0.84274986, -0.90381846, -0.90381846,\n",
       "        -1.15736858],\n",
       "       ...,\n",
       "       [-0.35389186, -0.40293538, -0.32746754, -0.36695722, -0.36695722,\n",
       "        -0.73121244],\n",
       "       [-0.37039658, -0.39586887, -0.32612222, -0.2603874 , -0.2603874 ,\n",
       "        -1.01687988],\n",
       "       [-0.37734535, -0.51043657, -0.59049036, -0.68929314, -0.68929314,\n",
       "        -0.122613  ]])"
      ]
     },
     "execution_count": 60,
     "metadata": {},
     "output_type": "execute_result"
    }
   ],
   "source": [
    "scaled=scaler.fit_transform(df)\n",
    "scaled"
   ]
  },
  {
   "cell_type": "code",
   "execution_count": 71,
   "id": "43e5c7ef-e735-4e63-b0af-2a76768c5c2e",
   "metadata": {},
   "outputs": [
    {
     "data": {
      "text/html": [
       "<div>\n",
       "<style scoped>\n",
       "    .dataframe tbody tr th:only-of-type {\n",
       "        vertical-align: middle;\n",
       "    }\n",
       "\n",
       "    .dataframe tbody tr th {\n",
       "        vertical-align: top;\n",
       "    }\n",
       "\n",
       "    .dataframe thead th {\n",
       "        text-align: right;\n",
       "    }\n",
       "</style>\n",
       "<table border=\"1\" class=\"dataframe\">\n",
       "  <thead>\n",
       "    <tr style=\"text-align: right;\">\n",
       "      <th></th>\n",
       "      <th>Open</th>\n",
       "      <th>High</th>\n",
       "      <th>Low</th>\n",
       "      <th>Close</th>\n",
       "      <th>Adj Close</th>\n",
       "      <th>Volume</th>\n",
       "    </tr>\n",
       "  </thead>\n",
       "  <tbody>\n",
       "    <tr>\n",
       "      <th>0</th>\n",
       "      <td>-0.873061</td>\n",
       "      <td>-0.920524</td>\n",
       "      <td>-0.789756</td>\n",
       "      <td>-0.859396</td>\n",
       "      <td>-0.859396</td>\n",
       "      <td>-0.695663</td>\n",
       "    </tr>\n",
       "    <tr>\n",
       "      <th>1</th>\n",
       "      <td>-0.864373</td>\n",
       "      <td>-0.951718</td>\n",
       "      <td>-0.757467</td>\n",
       "      <td>-0.901922</td>\n",
       "      <td>-0.901922</td>\n",
       "      <td>-1.048231</td>\n",
       "    </tr>\n",
       "    <tr>\n",
       "      <th>2</th>\n",
       "      <td>-0.883194</td>\n",
       "      <td>-1.011321</td>\n",
       "      <td>-0.842750</td>\n",
       "      <td>-0.903818</td>\n",
       "      <td>-0.903818</td>\n",
       "      <td>-1.157369</td>\n",
       "    </tr>\n",
       "    <tr>\n",
       "      <th>3</th>\n",
       "      <td>-0.752172</td>\n",
       "      <td>-0.824373</td>\n",
       "      <td>-0.749096</td>\n",
       "      <td>-0.857791</td>\n",
       "      <td>-0.857791</td>\n",
       "      <td>0.430465</td>\n",
       "    </tr>\n",
       "    <tr>\n",
       "      <th>4</th>\n",
       "      <td>-0.836866</td>\n",
       "      <td>-0.893328</td>\n",
       "      <td>-0.763447</td>\n",
       "      <td>-0.864648</td>\n",
       "      <td>-0.864648</td>\n",
       "      <td>-0.991974</td>\n",
       "    </tr>\n",
       "  </tbody>\n",
       "</table>\n",
       "</div>"
      ],
      "text/plain": [
       "       Open      High       Low     Close  Adj Close    Volume\n",
       "0 -0.873061 -0.920524 -0.789756 -0.859396  -0.859396 -0.695663\n",
       "1 -0.864373 -0.951718 -0.757467 -0.901922  -0.901922 -1.048231\n",
       "2 -0.883194 -1.011321 -0.842750 -0.903818  -0.903818 -1.157369\n",
       "3 -0.752172 -0.824373 -0.749096 -0.857791  -0.857791  0.430465\n",
       "4 -0.836866 -0.893328 -0.763447 -0.864648  -0.864648 -0.991974"
      ]
     },
     "execution_count": 71,
     "metadata": {},
     "output_type": "execute_result"
    }
   ],
   "source": [
    "# make dataframe of scaled data\n",
    "df1=pd.DataFrame(scaled, columns=['Open', 'High', 'Low', 'Close', 'Adj Close', 'Volume'])\n",
    "df1.head()"
   ]
  },
  {
   "cell_type": "code",
   "execution_count": 72,
   "id": "bc027aff-ec64-48fa-83e5-513920f4244b",
   "metadata": {},
   "outputs": [
    {
     "data": {
      "text/plain": [
       "<AxesSubplot: >"
      ]
     },
     "execution_count": 72,
     "metadata": {},
     "output_type": "execute_result"
    },
    {
     "data": {
      "image/png": "[encoded data removed]",
      "text/plain": [
       "<Figure size 1200x600 with 2 Axes>"
      ]
     },
     "metadata": {},
     "output_type": "display_data"
    }
   ],
   "source": [
    "# correlation matrix of df1\n",
    "plt.figure(figsize=(12,6))\n",
    "corr=df1.corr()\n",
    "sns.heatmap(corr, annot=True)"
   ]
  },
  {
   "cell_type": "code",
   "execution_count": 73,
   "id": "5ace5bed-f1ab-4e50-b116-feca01243922",
   "metadata": {},
   "outputs": [],
   "source": [
    "## Importing PCA\n",
    "from sklearn.decomposition import PCA"
   ]
  },
  {
   "cell_type": "code",
   "execution_count": 74,
   "id": "206f630b-6e7a-430c-97e5-f36a50bd1a3a",
   "metadata": {},
   "outputs": [],
   "source": [
    "# pca components chossing\n",
    "pca = PCA(n_components=1)"
   ]
  },
  {
   "cell_type": "code",
   "execution_count": 75,
   "id": "229d4b6a-1097-4fb2-882c-7102e3125831",
   "metadata": {},
   "outputs": [],
   "source": [
    "# fit transform\n",
    "p=pca.fit_transform(df1[['Open', 'High', 'Low', 'Close']])"
   ]
  },
  {
   "cell_type": "code",
   "execution_count": 68,
   "id": "b3806fc0-ead3-4289-859a-1e24e85a15b6",
   "metadata": {},
   "outputs": [
    {
     "data": {
      "text/html": [
       "<div>\n",
       "<style scoped>\n",
       "    .dataframe tbody tr th:only-of-type {\n",
       "        vertical-align: middle;\n",
       "    }\n",
       "\n",
       "    .dataframe tbody tr th {\n",
       "        vertical-align: top;\n",
       "    }\n",
       "\n",
       "    .dataframe thead th {\n",
       "        text-align: right;\n",
       "    }\n",
       "</style>\n",
       "<table border=\"1\" class=\"dataframe\">\n",
       "  <thead>\n",
       "    <tr style=\"text-align: right;\">\n",
       "      <th></th>\n",
       "      <th>Adj Close</th>\n",
       "      <th>Volume</th>\n",
       "      <th>LHCO</th>\n",
       "    </tr>\n",
       "  </thead>\n",
       "  <tbody>\n",
       "    <tr>\n",
       "      <th>0</th>\n",
       "      <td>-0.859396</td>\n",
       "      <td>-0.695663</td>\n",
       "      <td>-1.721355</td>\n",
       "    </tr>\n",
       "    <tr>\n",
       "      <th>1</th>\n",
       "      <td>-0.901922</td>\n",
       "      <td>-1.048231</td>\n",
       "      <td>-1.737693</td>\n",
       "    </tr>\n",
       "    <tr>\n",
       "      <th>2</th>\n",
       "      <td>-0.903818</td>\n",
       "      <td>-1.157369</td>\n",
       "      <td>-1.820623</td>\n",
       "    </tr>\n",
       "    <tr>\n",
       "      <th>3</th>\n",
       "      <td>-0.857791</td>\n",
       "      <td>0.430465</td>\n",
       "      <td>-1.591676</td>\n",
       "    </tr>\n",
       "    <tr>\n",
       "      <th>4</th>\n",
       "      <td>-0.864648</td>\n",
       "      <td>-0.991974</td>\n",
       "      <td>-1.679105</td>\n",
       "    </tr>\n",
       "  </tbody>\n",
       "</table>\n",
       "</div>"
      ],
      "text/plain": [
       "   Adj Close    Volume      LHCO\n",
       "0  -0.859396 -0.695663 -1.721355\n",
       "1  -0.901922 -1.048231 -1.737693\n",
       "2  -0.903818 -1.157369 -1.820623\n",
       "3  -0.857791  0.430465 -1.591676\n",
       "4  -0.864648 -0.991974 -1.679105"
      ]
     },
     "execution_count": 68,
     "metadata": {},
     "output_type": "execute_result"
    }
   ],
   "source": [
    "# attaching the new feature\n",
    "df1['LHCO']=pd.DataFrame(p, columns=['LHCO'])\n",
    "\n",
    "# dropping useless feature\n",
    "df2=df1.drop(['Open', 'High', 'Low', 'Close'], axis=1)\n",
    "df2.head()"
   ]
  },
  {
   "cell_type": "code",
   "execution_count": 217,
   "id": "4ab8e6a0-98aa-4fee-9738-2ec2b1f57f44",
   "metadata": {},
   "outputs": [
    {
     "data": {
      "text/plain": [
       "<AxesSubplot: >"
      ]
     },
     "execution_count": 217,
     "metadata": {},
     "output_type": "execute_result"
    },
    {
     "data": {
      "image/png": "[encoded data removed]",
      "text/plain": [
       "<Figure size 1200x600 with 2 Axes>"
      ]
     },
     "metadata": {},
     "output_type": "display_data"
    }
   ],
   "source": [
    "# correlation matrix of df2\n",
    "plt.figure(figsize=(12,6))\n",
    "corr=df2.corr()\n",
    "sns.heatmap(corr, annot=True)"
   ]
  },
  {
   "cell_type": "code",
   "execution_count": null,
   "id": "a6ea815a-ad52-4b99-b753-ea5a96b18664",
   "metadata": {},
   "outputs": [],
   "source": []
  },
  {
   "cell_type": "code",
   "execution_count": null,
   "id": "ce428f51-ad39-4d72-abc8-f6308de196db",
   "metadata": {},
   "outputs": [],
   "source": [
    "'''Q7. For a dataset containing the following values: [1, 5, 10, 15, 20], perform Min-Max scaling to transform the values to a range of -1 to 1.'''"
   ]
  },
  {
   "cell_type": "code",
   "execution_count": 158,
   "id": "b8138e11-237d-4a20-a14f-6f067712c3d6",
   "metadata": {},
   "outputs": [],
   "source": [
    "#Ans.\n",
    "\n",
    "# Dataset\n",
    "feature = [1, 5, 10, 15, 20]"
   ]
  },
  {
   "cell_type": "code",
   "execution_count": 159,
   "id": "696e3cc6-116d-4c64-b580-97df1b4b2ab6",
   "metadata": {},
   "outputs": [],
   "source": [
    "## Performing Min-Max scaling\n",
    "from sklearn.preprocessing import MinMaxScaler"
   ]
  },
  {
   "cell_type": "code",
   "execution_count": 160,
   "id": "8c29885d-aaf0-44ac-a617-80d97cbe9d2e",
   "metadata": {},
   "outputs": [],
   "source": [
    "# initializing\n",
    "scaler = MinMaxScaler()"
   ]
  },
  {
   "cell_type": "code",
   "execution_count": 168,
   "id": "7793b9c5-9968-4b5b-86d4-8d4e292f68e2",
   "metadata": {},
   "outputs": [],
   "source": [
    "# Reshape the feature array to be a 2D array (required by MinMaxScaler)\n",
    "feature = [[x] for x in feature]"
   ]
  },
  {
   "cell_type": "code",
   "execution_count": 165,
   "id": "2862b78f-e22c-4092-8fae-117b803a1c5f",
   "metadata": {},
   "outputs": [
    {
     "data": {
      "text/plain": [
       "array([[0.        ],\n",
       "       [0.21052632],\n",
       "       [0.47368421],\n",
       "       [0.73684211],\n",
       "       [1.        ]])"
      ]
     },
     "execution_count": 165,
     "metadata": {},
     "output_type": "execute_result"
    }
   ],
   "source": [
    "# fit and transform the data to scaler\n",
    "scaled=scaler.fit_transform(feature)\n",
    "scaled"
   ]
  },
  {
   "cell_type": "code",
   "execution_count": 166,
   "id": "7963d0cf-d92b-4013-9329-ea6a86b1b44b",
   "metadata": {},
   "outputs": [],
   "source": [
    "# making dataframe of scaled data\n",
    "df=pd.DataFrame(scaled, columns=['feature'])"
   ]
  },
  {
   "cell_type": "code",
   "execution_count": 167,
   "id": "f818d2cc-8488-4b65-b25c-41a60e74ace9",
   "metadata": {},
   "outputs": [
    {
     "data": {
      "text/html": [
       "<div>\n",
       "<style scoped>\n",
       "    .dataframe tbody tr th:only-of-type {\n",
       "        vertical-align: middle;\n",
       "    }\n",
       "\n",
       "    .dataframe tbody tr th {\n",
       "        vertical-align: top;\n",
       "    }\n",
       "\n",
       "    .dataframe thead th {\n",
       "        text-align: right;\n",
       "    }\n",
       "</style>\n",
       "<table border=\"1\" class=\"dataframe\">\n",
       "  <thead>\n",
       "    <tr style=\"text-align: right;\">\n",
       "      <th></th>\n",
       "      <th>feature</th>\n",
       "    </tr>\n",
       "  </thead>\n",
       "  <tbody>\n",
       "    <tr>\n",
       "      <th>0</th>\n",
       "      <td>0.000000</td>\n",
       "    </tr>\n",
       "    <tr>\n",
       "      <th>1</th>\n",
       "      <td>0.210526</td>\n",
       "    </tr>\n",
       "    <tr>\n",
       "      <th>2</th>\n",
       "      <td>0.473684</td>\n",
       "    </tr>\n",
       "    <tr>\n",
       "      <th>3</th>\n",
       "      <td>0.736842</td>\n",
       "    </tr>\n",
       "    <tr>\n",
       "      <th>4</th>\n",
       "      <td>1.000000</td>\n",
       "    </tr>\n",
       "  </tbody>\n",
       "</table>\n",
       "</div>"
      ],
      "text/plain": [
       "    feature\n",
       "0  0.000000\n",
       "1  0.210526\n",
       "2  0.473684\n",
       "3  0.736842\n",
       "4  1.000000"
      ]
     },
     "execution_count": 167,
     "metadata": {},
     "output_type": "execute_result"
    }
   ],
   "source": [
    "# Result\n",
    "df"
   ]
  },
  {
   "cell_type": "code",
   "execution_count": null,
   "id": "520625b5-f078-4265-ad34-f313b7422a7b",
   "metadata": {},
   "outputs": [],
   "source": []
  },
  {
   "cell_type": "code",
   "execution_count": null,
   "id": "353089f9-7822-494b-9fd2-e487dd4ab915",
   "metadata": {},
   "outputs": [],
   "source": [
    "'''Q8. For a dataset containing the following features: [height, weight, age, gender, blood pressure], perform Feature Extraction using PCA. How many\n",
    "       principal components would you choose to retain, and why?'''"
   ]
  },
  {
   "cell_type": "code",
   "execution_count": 2,
   "id": "681f534c-6143-4e6e-b04c-fd8900dca652",
   "metadata": {},
   "outputs": [
    {
     "data": {
      "text/html": [
       "<div>\n",
       "<style scoped>\n",
       "    .dataframe tbody tr th:only-of-type {\n",
       "        vertical-align: middle;\n",
       "    }\n",
       "\n",
       "    .dataframe tbody tr th {\n",
       "        vertical-align: top;\n",
       "    }\n",
       "\n",
       "    .dataframe thead th {\n",
       "        text-align: right;\n",
       "    }\n",
       "</style>\n",
       "<table border=\"1\" class=\"dataframe\">\n",
       "  <thead>\n",
       "    <tr style=\"text-align: right;\">\n",
       "      <th></th>\n",
       "      <th>age</th>\n",
       "      <th>gender</th>\n",
       "      <th>height</th>\n",
       "      <th>weight</th>\n",
       "      <th>BP (%)</th>\n",
       "    </tr>\n",
       "  </thead>\n",
       "  <tbody>\n",
       "    <tr>\n",
       "      <th>0</th>\n",
       "      <td>18393</td>\n",
       "      <td>2</td>\n",
       "      <td>168</td>\n",
       "      <td>62.0</td>\n",
       "      <td>13.57</td>\n",
       "    </tr>\n",
       "    <tr>\n",
       "      <th>1</th>\n",
       "      <td>20228</td>\n",
       "      <td>1</td>\n",
       "      <td>156</td>\n",
       "      <td>85.0</td>\n",
       "      <td>11.92</td>\n",
       "    </tr>\n",
       "    <tr>\n",
       "      <th>2</th>\n",
       "      <td>18857</td>\n",
       "      <td>1</td>\n",
       "      <td>165</td>\n",
       "      <td>64.0</td>\n",
       "      <td>12.44</td>\n",
       "    </tr>\n",
       "    <tr>\n",
       "      <th>3</th>\n",
       "      <td>17623</td>\n",
       "      <td>2</td>\n",
       "      <td>169</td>\n",
       "      <td>82.0</td>\n",
       "      <td>12.58</td>\n",
       "    </tr>\n",
       "    <tr>\n",
       "      <th>4</th>\n",
       "      <td>17474</td>\n",
       "      <td>1</td>\n",
       "      <td>156</td>\n",
       "      <td>56.0</td>\n",
       "      <td>16.85</td>\n",
       "    </tr>\n",
       "    <tr>\n",
       "      <th>...</th>\n",
       "      <td>...</td>\n",
       "      <td>...</td>\n",
       "      <td>...</td>\n",
       "      <td>...</td>\n",
       "      <td>...</td>\n",
       "    </tr>\n",
       "    <tr>\n",
       "      <th>661</th>\n",
       "      <td>15377</td>\n",
       "      <td>1</td>\n",
       "      <td>168</td>\n",
       "      <td>75.0</td>\n",
       "      <td>30.50</td>\n",
       "    </tr>\n",
       "    <tr>\n",
       "      <th>662</th>\n",
       "      <td>19203</td>\n",
       "      <td>1</td>\n",
       "      <td>160</td>\n",
       "      <td>48.0</td>\n",
       "      <td>31.80</td>\n",
       "    </tr>\n",
       "    <tr>\n",
       "      <th>663</th>\n",
       "      <td>18779</td>\n",
       "      <td>1</td>\n",
       "      <td>162</td>\n",
       "      <td>56.0</td>\n",
       "      <td>22.30</td>\n",
       "    </tr>\n",
       "    <tr>\n",
       "      <th>664</th>\n",
       "      <td>20281</td>\n",
       "      <td>1</td>\n",
       "      <td>160</td>\n",
       "      <td>60.0</td>\n",
       "      <td>19.00</td>\n",
       "    </tr>\n",
       "    <tr>\n",
       "      <th>665</th>\n",
       "      <td>21094</td>\n",
       "      <td>2</td>\n",
       "      <td>167</td>\n",
       "      <td>90.0</td>\n",
       "      <td>20.10</td>\n",
       "    </tr>\n",
       "  </tbody>\n",
       "</table>\n",
       "<p>666 rows × 5 columns</p>\n",
       "</div>"
      ],
      "text/plain": [
       "       age  gender  height  weight  BP (%)\n",
       "0    18393       2     168    62.0   13.57\n",
       "1    20228       1     156    85.0   11.92\n",
       "2    18857       1     165    64.0   12.44\n",
       "3    17623       2     169    82.0   12.58\n",
       "4    17474       1     156    56.0   16.85\n",
       "..     ...     ...     ...     ...     ...\n",
       "661  15377       1     168    75.0   30.50\n",
       "662  19203       1     160    48.0   31.80\n",
       "663  18779       1     162    56.0   22.30\n",
       "664  20281       1     160    60.0   19.00\n",
       "665  21094       2     167    90.0   20.10\n",
       "\n",
       "[666 rows x 5 columns]"
      ]
     },
     "execution_count": 2,
     "metadata": {},
     "output_type": "execute_result"
    }
   ],
   "source": [
    "#Ans.\n",
    "The correct value of n_component is decided by invegating the cumulative explained variance ratio which preserve the right information of the data.\n",
    "Before applying the pca technique to dataset it is necessary to standardize the features of the dataset.\n",
    "\n",
    "# Reading data\n",
    "df=pd.read_excel('healthdata.xlsx')\n",
    "df"
   ]
  },
  {
   "cell_type": "code",
   "execution_count": 3,
   "id": "66160fe7-2827-4c0f-b7b6-6eead6ddb8ff",
   "metadata": {},
   "outputs": [
    {
     "data": {
      "text/plain": [
       "<AxesSubplot: >"
      ]
     },
     "execution_count": 3,
     "metadata": {},
     "output_type": "execute_result"
    },
    {
     "data": {
      "image/png": "[encoded data removed]",
      "text/plain": [
       "<Figure size 1800x800 with 2 Axes>"
      ]
     },
     "metadata": {},
     "output_type": "display_data"
    }
   ],
   "source": [
    "# correlation matrix\n",
    "plt.figure(figsize=(18,8))\n",
    "corr=df.corr()\n",
    "sns.heatmap(corr, annot=True)"
   ]
  },
  {
   "cell_type": "code",
   "execution_count": 14,
   "id": "2cc287d8-6d7c-4161-9230-924cc56e0b77",
   "metadata": {},
   "outputs": [],
   "source": [
    "# standardization the dataset (feature scaling)\n",
    "from sklearn.preprocessing import StandardScaler"
   ]
  },
  {
   "cell_type": "code",
   "execution_count": 5,
   "id": "341a8724-5b7b-463b-9488-6db2b043084f",
   "metadata": {},
   "outputs": [],
   "source": [
    "scaler = StandardScaler()"
   ]
  },
  {
   "cell_type": "code",
   "execution_count": 7,
   "id": "177ebe1e-0269-47a7-9f5c-73c79d9f0e62",
   "metadata": {},
   "outputs": [
    {
     "data": {
      "text/plain": [
       "array([[-0.44969923,  1.36773157,  0.45489444, -0.79229665, -0.1386387 ],\n",
       "       [ 0.30497324, -0.73113761, -0.92533196,  0.67712571, -0.31972973],\n",
       "       [-0.25887197, -0.73113761,  0.10983784, -0.6645208 , -0.26265862],\n",
       "       ...,\n",
       "       [-0.29095069, -0.73113761, -0.23521876, -1.17562423,  0.81949746],\n",
       "       [ 0.32677032, -0.73113761, -0.4652565 , -0.92007251,  0.45731541],\n",
       "       [ 0.66112929,  1.36773157,  0.33987557,  0.99656536,  0.57804276]])"
      ]
     },
     "execution_count": 7,
     "metadata": {},
     "output_type": "execute_result"
    }
   ],
   "source": [
    "scaled=scaler.fit_transform(df)\n",
    "scaled"
   ]
  },
  {
   "cell_type": "code",
   "execution_count": 11,
   "id": "e6c00357-67cd-490a-a1cf-17897b1bae9b",
   "metadata": {},
   "outputs": [
    {
     "data": {
      "text/html": [
       "<div>\n",
       "<style scoped>\n",
       "    .dataframe tbody tr th:only-of-type {\n",
       "        vertical-align: middle;\n",
       "    }\n",
       "\n",
       "    .dataframe tbody tr th {\n",
       "        vertical-align: top;\n",
       "    }\n",
       "\n",
       "    .dataframe thead th {\n",
       "        text-align: right;\n",
       "    }\n",
       "</style>\n",
       "<table border=\"1\" class=\"dataframe\">\n",
       "  <thead>\n",
       "    <tr style=\"text-align: right;\">\n",
       "      <th></th>\n",
       "      <th>age</th>\n",
       "      <th>gender</th>\n",
       "      <th>height</th>\n",
       "      <th>weight</th>\n",
       "      <th>BP (%)</th>\n",
       "    </tr>\n",
       "  </thead>\n",
       "  <tbody>\n",
       "    <tr>\n",
       "      <th>0</th>\n",
       "      <td>-0.449699</td>\n",
       "      <td>1.367732</td>\n",
       "      <td>0.454894</td>\n",
       "      <td>-0.792297</td>\n",
       "      <td>-0.138639</td>\n",
       "    </tr>\n",
       "    <tr>\n",
       "      <th>1</th>\n",
       "      <td>0.304973</td>\n",
       "      <td>-0.731138</td>\n",
       "      <td>-0.925332</td>\n",
       "      <td>0.677126</td>\n",
       "      <td>-0.319730</td>\n",
       "    </tr>\n",
       "    <tr>\n",
       "      <th>2</th>\n",
       "      <td>-0.258872</td>\n",
       "      <td>-0.731138</td>\n",
       "      <td>0.109838</td>\n",
       "      <td>-0.664521</td>\n",
       "      <td>-0.262659</td>\n",
       "    </tr>\n",
       "    <tr>\n",
       "      <th>3</th>\n",
       "      <td>-0.766374</td>\n",
       "      <td>1.367732</td>\n",
       "      <td>0.569913</td>\n",
       "      <td>0.485462</td>\n",
       "      <td>-0.247293</td>\n",
       "    </tr>\n",
       "    <tr>\n",
       "      <th>4</th>\n",
       "      <td>-0.827652</td>\n",
       "      <td>-0.731138</td>\n",
       "      <td>-0.925332</td>\n",
       "      <td>-1.175624</td>\n",
       "      <td>0.221348</td>\n",
       "    </tr>\n",
       "    <tr>\n",
       "      <th>...</th>\n",
       "      <td>...</td>\n",
       "      <td>...</td>\n",
       "      <td>...</td>\n",
       "      <td>...</td>\n",
       "      <td>...</td>\n",
       "    </tr>\n",
       "    <tr>\n",
       "      <th>661</th>\n",
       "      <td>-1.690076</td>\n",
       "      <td>-0.731138</td>\n",
       "      <td>0.454894</td>\n",
       "      <td>0.038246</td>\n",
       "      <td>1.719465</td>\n",
       "    </tr>\n",
       "    <tr>\n",
       "      <th>662</th>\n",
       "      <td>-0.116574</td>\n",
       "      <td>-0.731138</td>\n",
       "      <td>-0.465256</td>\n",
       "      <td>-1.686728</td>\n",
       "      <td>1.862143</td>\n",
       "    </tr>\n",
       "    <tr>\n",
       "      <th>663</th>\n",
       "      <td>-0.290951</td>\n",
       "      <td>-0.731138</td>\n",
       "      <td>-0.235219</td>\n",
       "      <td>-1.175624</td>\n",
       "      <td>0.819497</td>\n",
       "    </tr>\n",
       "    <tr>\n",
       "      <th>664</th>\n",
       "      <td>0.326770</td>\n",
       "      <td>-0.731138</td>\n",
       "      <td>-0.465256</td>\n",
       "      <td>-0.920073</td>\n",
       "      <td>0.457315</td>\n",
       "    </tr>\n",
       "    <tr>\n",
       "      <th>665</th>\n",
       "      <td>0.661129</td>\n",
       "      <td>1.367732</td>\n",
       "      <td>0.339876</td>\n",
       "      <td>0.996565</td>\n",
       "      <td>0.578043</td>\n",
       "    </tr>\n",
       "  </tbody>\n",
       "</table>\n",
       "<p>666 rows × 5 columns</p>\n",
       "</div>"
      ],
      "text/plain": [
       "          age    gender    height    weight    BP (%)\n",
       "0   -0.449699  1.367732  0.454894 -0.792297 -0.138639\n",
       "1    0.304973 -0.731138 -0.925332  0.677126 -0.319730\n",
       "2   -0.258872 -0.731138  0.109838 -0.664521 -0.262659\n",
       "3   -0.766374  1.367732  0.569913  0.485462 -0.247293\n",
       "4   -0.827652 -0.731138 -0.925332 -1.175624  0.221348\n",
       "..        ...       ...       ...       ...       ...\n",
       "661 -1.690076 -0.731138  0.454894  0.038246  1.719465\n",
       "662 -0.116574 -0.731138 -0.465256 -1.686728  1.862143\n",
       "663 -0.290951 -0.731138 -0.235219 -1.175624  0.819497\n",
       "664  0.326770 -0.731138 -0.465256 -0.920073  0.457315\n",
       "665  0.661129  1.367732  0.339876  0.996565  0.578043\n",
       "\n",
       "[666 rows x 5 columns]"
      ]
     },
     "execution_count": 11,
     "metadata": {},
     "output_type": "execute_result"
    }
   ],
   "source": [
    "# Store scaled data in dataframe\n",
    "df=pd.DataFrame(scaled, columns=['age','gender','height','weight','BP (%)'])\n",
    "df"
   ]
  },
  {
   "cell_type": "code",
   "execution_count": 12,
   "id": "d2d835eb-2f98-4d74-85f3-c68e66a9e7d6",
   "metadata": {},
   "outputs": [],
   "source": [
    "## PCA\n",
    "from sklearn.decomposition import PCA"
   ]
  },
  {
   "cell_type": "code",
   "execution_count": 15,
   "id": "4b45a9e4-8de0-407a-bd0f-3ccfb3e0dbfe",
   "metadata": {},
   "outputs": [],
   "source": [
    "pca=PCA(n_components=2)"
   ]
  },
  {
   "cell_type": "code",
   "execution_count": 18,
   "id": "293e5fab-3bbe-4dc6-b613-af4bc5e8cc3e",
   "metadata": {},
   "outputs": [
    {
     "data": {
      "text/plain": [
       "array([[-0.75681992,  0.58480297],\n",
       "       [ 0.74112745, -0.07633956],\n",
       "       [ 0.6176227 ,  0.11447688],\n",
       "       ...,\n",
       "       [ 1.10643941, -0.61076773],\n",
       "       [ 1.20196035, -0.15501489],\n",
       "       [-1.38284416, -0.11128164]])"
      ]
     },
     "execution_count": 18,
     "metadata": {},
     "output_type": "execute_result"
    }
   ],
   "source": [
    "p=pca.fit_transform(df)\n",
    "p"
   ]
  },
  {
   "cell_type": "code",
   "execution_count": 20,
   "id": "b9ec07f1-95d3-41c2-ade1-aefcfeac6993",
   "metadata": {},
   "outputs": [],
   "source": [
    "# Stroe pca new features in dataframe\n",
    "df=pd.DataFrame(p, columns=['PCA1', 'PCA2'])"
   ]
  },
  {
   "cell_type": "code",
   "execution_count": 21,
   "id": "d6bbf45b-be2c-4e4d-992e-8ddb5556676f",
   "metadata": {},
   "outputs": [
    {
     "data": {
      "text/html": [
       "<div>\n",
       "<style scoped>\n",
       "    .dataframe tbody tr th:only-of-type {\n",
       "        vertical-align: middle;\n",
       "    }\n",
       "\n",
       "    .dataframe tbody tr th {\n",
       "        vertical-align: top;\n",
       "    }\n",
       "\n",
       "    .dataframe thead th {\n",
       "        text-align: right;\n",
       "    }\n",
       "</style>\n",
       "<table border=\"1\" class=\"dataframe\">\n",
       "  <thead>\n",
       "    <tr style=\"text-align: right;\">\n",
       "      <th></th>\n",
       "      <th>PCA1</th>\n",
       "      <th>PCA2</th>\n",
       "    </tr>\n",
       "  </thead>\n",
       "  <tbody>\n",
       "    <tr>\n",
       "      <th>0</th>\n",
       "      <td>-0.756820</td>\n",
       "      <td>0.584803</td>\n",
       "    </tr>\n",
       "    <tr>\n",
       "      <th>1</th>\n",
       "      <td>0.741127</td>\n",
       "      <td>-0.076340</td>\n",
       "    </tr>\n",
       "    <tr>\n",
       "      <th>2</th>\n",
       "      <td>0.617623</td>\n",
       "      <td>0.114477</td>\n",
       "    </tr>\n",
       "    <tr>\n",
       "      <th>3</th>\n",
       "      <td>-1.471922</td>\n",
       "      <td>0.129483</td>\n",
       "    </tr>\n",
       "    <tr>\n",
       "      <th>4</th>\n",
       "      <td>1.496445</td>\n",
       "      <td>-0.378940</td>\n",
       "    </tr>\n",
       "    <tr>\n",
       "      <th>...</th>\n",
       "      <td>...</td>\n",
       "      <td>...</td>\n",
       "    </tr>\n",
       "    <tr>\n",
       "      <th>661</th>\n",
       "      <td>-0.064231</td>\n",
       "      <td>-2.282605</td>\n",
       "    </tr>\n",
       "    <tr>\n",
       "      <th>662</th>\n",
       "      <td>1.540568</td>\n",
       "      <td>-1.214632</td>\n",
       "    </tr>\n",
       "    <tr>\n",
       "      <th>663</th>\n",
       "      <td>1.106439</td>\n",
       "      <td>-0.610768</td>\n",
       "    </tr>\n",
       "    <tr>\n",
       "      <th>664</th>\n",
       "      <td>1.201960</td>\n",
       "      <td>-0.155015</td>\n",
       "    </tr>\n",
       "    <tr>\n",
       "      <th>665</th>\n",
       "      <td>-1.382844</td>\n",
       "      <td>-0.111282</td>\n",
       "    </tr>\n",
       "  </tbody>\n",
       "</table>\n",
       "<p>666 rows × 2 columns</p>\n",
       "</div>"
      ],
      "text/plain": [
       "         PCA1      PCA2\n",
       "0   -0.756820  0.584803\n",
       "1    0.741127 -0.076340\n",
       "2    0.617623  0.114477\n",
       "3   -1.471922  0.129483\n",
       "4    1.496445 -0.378940\n",
       "..        ...       ...\n",
       "661 -0.064231 -2.282605\n",
       "662  1.540568 -1.214632\n",
       "663  1.106439 -0.610768\n",
       "664  1.201960 -0.155015\n",
       "665 -1.382844 -0.111282\n",
       "\n",
       "[666 rows x 2 columns]"
      ]
     },
     "execution_count": 21,
     "metadata": {},
     "output_type": "execute_result"
    }
   ],
   "source": [
    "df"
   ]
  },
  {
   "cell_type": "code",
   "execution_count": 23,
   "id": "4c5859a5-3e7d-4af6-a933-ebc907cf7c51",
   "metadata": {},
   "outputs": [
    {
     "data": {
      "text/plain": [
       "array([[ 0.11154908, -0.56451563, -0.66893901, -0.47011948,  0.01967697],\n",
       "       [ 0.41566552,  0.28376017,  0.03433731, -0.32445828, -0.80015631]])"
      ]
     },
     "execution_count": 23,
     "metadata": {},
     "output_type": "execute_result"
    }
   ],
   "source": [
    "pca.components_"
   ]
  },
  {
   "cell_type": "code",
   "execution_count": 25,
   "id": "5f4272e3-b895-4af2-9757-cfd16e18df0b",
   "metadata": {},
   "outputs": [
    {
     "data": {
      "text/plain": [
       "array(['pca0', 'pca1'], dtype=object)"
      ]
     },
     "execution_count": 25,
     "metadata": {},
     "output_type": "execute_result"
    }
   ],
   "source": [
    "pca.get_feature_names_out()"
   ]
  },
  {
   "cell_type": "code",
   "execution_count": 26,
   "id": "a14028f6-8376-41c6-a3d4-3b11dfba7f38",
   "metadata": {},
   "outputs": [
    {
     "data": {
      "text/plain": [
       "array([0.32965407, 0.21339195])"
      ]
     },
     "execution_count": 26,
     "metadata": {},
     "output_type": "execute_result"
    }
   ],
   "source": [
    "pca.explained_variance_ratio_"
   ]
  },
  {
   "cell_type": "code",
   "execution_count": null,
   "id": "37594379-1f65-4c04-b47a-a9be79d80cab",
   "metadata": {},
   "outputs": [],
   "source": []
  },
  {
   "cell_type": "code",
   "execution_count": null,
   "id": "53990b92-898b-4d28-a7f4-a667ba66d3e4",
   "metadata": {},
   "outputs": [],
   "source": [
    "                                    ◦•●◉✿ ❤️️' 𝐉 𝐀 𝐈   𝐒 𝐇 𝐑 𝐄 𝐄   𝐇 𝐀 𝐑 𝐈   𝐕 𝐈 𝐒 𝐇 𝐍 𝐔 '❤️ ✿◉●•◦"
   ]
  }
 ],
 "metadata": {
  "kernelspec": {
   "display_name": "Python 3 (ipykernel)",
   "language": "python",
   "name": "python3"
  },
  "language_info": {
   "codemirror_mode": {
    "name": "ipython",
    "version": 3
   },
   "file_extension": ".py",
   "mimetype": "text/x-python",
   "name": "python",
   "nbconvert_exporter": "python",
   "pygments_lexer": "ipython3",
   "version": "3.10.8"
  }
 },
 "nbformat": 4,
 "nbformat_minor": 5
}
