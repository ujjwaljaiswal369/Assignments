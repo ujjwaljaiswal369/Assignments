{
 "cells": [
  {
   "cell_type": "markdown",
   "id": "1b2a71e4-51b3-478e-9617-061c54c42c52",
   "metadata": {
    "tags": []
   },
   "source": [
    "## Introduction to Machine Learning-1"
   ]
  },
  {
   "cell_type": "code",
   "execution_count": null,
   "id": "3e83c8a9-47f8-4309-a261-0b498036359c",
   "metadata": {},
   "outputs": [],
   "source": [
    "'''Q1. Explain the following with an example :\n",
    "       (a) Artificial Intelligence\n",
    "       (b) Machine Learning\n",
    "       (c) Deep learning'''"
   ]
  },
  {
   "cell_type": "code",
   "execution_count": null,
   "id": "4b234654-aa49-4902-884a-894b2f11da3e",
   "metadata": {},
   "outputs": [],
   "source": [
    "#Ans.\n",
    "\n",
    "(a) Artificial Intelligence(AI): Artificial intelligence (AI) is a smart application or Artificial brain which perform its \n",
    "                                 own tasks without human intervention. It is like universe or widely field in which \n",
    "                                 machine learning, Deep learning, Robots intelligence,etc. are comes under in artificial \n",
    "                                 intelligence. Nowadays, Artificial intelligence is developed very well by humans. It helps\n",
    "                                 a lot in human s daily works. \n",
    "                                \n",
    "    ex. Robots, Automation in Driving car, Alexa, Google assistant,etc.\n",
    "\n",
    "    \n",
    "(b) Machine Learning(ML): Machine learning (ML) is basically a subset of artificial intelligence, it is a part of \n",
    "                          artificial intelligence in which it helps a lot in developing a model by using machine learning\n",
    "                          algorithms. Machine learning provide statstools for analyze, visualize, predictive modals,\n",
    "                          forecasting,etc. It used the dataset and create the modals.\n",
    "    \n",
    "    ex. amazon.in, netflix, youtube,etc. have recommendation systems. Recommendation system suggest the product of \n",
    "        company according to their customers need. Amazon is a product based comapany which suggest useful product to \n",
    "        customers by recommendation system, netflix also suggest same it suggest movies, and youtube is recommend videos \n",
    "        to their viewer.\n",
    "        \n",
    "        \n",
    "    Further there are four types Machine Learning (ML) :\n",
    "    1. Supervised Machine Learning\n",
    "    2. Unsupervised Machine Learning\n",
    "    3. Semi-supervised Machine Learning\n",
    "    4. Reinforcement Learning\n",
    "    \n",
    "    \n",
    "(c) Deep Learning(DL) : Deep learning is also a subset or a part of machine learning and Artificial intelligence which \n",
    "                        mimic the human brain and helps in automation of things which is possible through data and given\n",
    "                        training to modals. We can make deep learning modals which understand the nature of humans and\n",
    "                        surrounding to make easy human life.\n",
    "                        In deep learning, We also use the Multi layered Neural network which helps in controlling the \n",
    "                        model complexity and model capacity.\n",
    "    \n",
    "    ex. Image recognition, Self driving cars, chatbots, Face recognition,etc. are some examples of deep learning modals"
   ]
  },
  {
   "cell_type": "code",
   "execution_count": null,
   "id": "fd413aef-1359-4cd9-ae3a-8debb8f829dc",
   "metadata": {},
   "outputs": [],
   "source": []
  },
  {
   "cell_type": "code",
   "execution_count": null,
   "id": "f4a2b34c-3fcf-4dff-8d38-9653cf838e7f",
   "metadata": {},
   "outputs": [],
   "source": [
    "'''Q2. What is supervised learning? List some examples of supervised learning.'''"
   ]
  },
  {
   "cell_type": "code",
   "execution_count": null,
   "id": "3e808c9c-2946-4fba-a846-48a7b012655a",
   "metadata": {},
   "outputs": [],
   "source": [
    "#Ans.\n",
    "\n",
    "Supervised Learning = Supervised learning is a category of machine learning, in which We know about the output of data \n",
    "                      or we know about the value of input feature and output feature and train the machine learning model \n",
    "                      which give us output features accuratly. The input features is known for independent feature and \n",
    "                      output features is known as dependent feature because output feature is depends upon input features.\n",
    "            \n",
    "                      In supervised machine learning there are two types of problem statement we found, first is \n",
    "                      Classification and second is Regression. Classification type is comes under only categorical \n",
    "                      features where feature have no. of categorical like yes/no or other. and Regression type is known \n",
    "                      for continuous value in feature.\n",
    "    \n",
    "    \n",
    "Some examples of supervised learning :\n",
    "    \n",
    "(a) Image or Object recognition - Image object recognition is a type model of supervised machine learning which is useful\n",
    "                                  for image analysis and computer vision techniques. It is train by supervised learning \n",
    "                                  algorithm.\n",
    "        \n",
    "(b) Spam Detection - Spam detection is another examples of supervised learning, using the supervised classification \n",
    "                     algorithm. It helps organisations or company for their spam detection in their new dataset.\n",
    "        \n",
    "(c) Credit Score - Credit Score is also examples of supervised learning algorithm which predict the loan repayment for \n",
    "                   new loan applicant based on their input features."
   ]
  },
  {
   "cell_type": "code",
   "execution_count": null,
   "id": "20b26d69-d1be-4e11-be3f-13a1d5c91a00",
   "metadata": {},
   "outputs": [],
   "source": []
  },
  {
   "cell_type": "code",
   "execution_count": null,
   "id": "3ef67fda-dea0-423a-82fb-87274b7959a1",
   "metadata": {},
   "outputs": [],
   "source": [
    "'''Q3- What is unsupervised learning? List some examples of unsupervised learning.'''"
   ]
  },
  {
   "cell_type": "code",
   "execution_count": null,
   "id": "5434d959-fea8-4460-a135-d7289c2e1876",
   "metadata": {},
   "outputs": [],
   "source": [
    "#Ans.\n",
    "\n",
    "Unsupervised learning = Unsupervised learning is a another subcategory of machine learning which is based on clustering of\n",
    "                        data. Clustering of data is a technique of unsupervised learning which cluster the similar data \n",
    "                        and helps in identify right opportunity for buisness or organizations.\n",
    "                        Unsupervised learning is not like supervised learning . It not shows the known ouput features. \n",
    "                        It based on predictive output from analysing and visualisin the data.\n",
    "\n",
    "                \n",
    "Some examples of unsupervised learning : \n",
    "    \n",
    "(a) Customer Segmentation = Customer segmentation is a best example for unsupervised learning algorithm. It make the\n",
    "                            cluster or group of smiliar data in graph of customer features and idetify best sutaible zone\n",
    "                            for their buisness. so that they can take actions for increase their buisness like discount\n",
    "                            coupon, etc.\n",
    "            \n",
    "(b) Social network analysis = Social network analysis can cluster the online friends of a specific region for suggesting\n",
    "                              them in their specific interested person.\n",
    "        \n",
    "(c) Organize computing clusters = The geographical region or area is determined by the clustering of web requests\n",
    "                                  received from a specific area of the world. "
   ]
  },
  {
   "cell_type": "code",
   "execution_count": null,
   "id": "34caa873-93f2-4535-a11a-b64ca660bfe7",
   "metadata": {},
   "outputs": [],
   "source": []
  },
  {
   "cell_type": "code",
   "execution_count": null,
   "id": "da8c727c-269a-4f0e-b762-d64a9122da8b",
   "metadata": {},
   "outputs": [],
   "source": [
    "'''Q4. What is the difference between AI, ML, DL, and DS?'''"
   ]
  },
  {
   "cell_type": "code",
   "execution_count": null,
   "id": "445d778b-9a84-4a38-86db-ae9c0817337d",
   "metadata": {},
   "outputs": [],
   "source": [
    "#Ans.\n",
    "Difference between Artificial Intelligence (AI), Machine Learning (ML), Deep Learning (DL), Data Science (DS) :\n",
    "    \n",
    "1. Artificial Intelligence (AI) :\n",
    "    \n",
    "Artificial intelligence is a smart applications which can perform its own tasks without any human intervention. It is\n",
    "basically human made intelligence having artificial brain which can think logics or perform tasks like human being.\n",
    "Artificial intelligence is nowadays is vastly used in modern technologies and day to day life. AI have major role in terms\n",
    "of automation of technologies.\n",
    "\n",
    "ex. Robots, Self Car driving, Game, etc.\n",
    "\n",
    "\n",
    "2. Machine Learning (ML) : \n",
    "    \n",
    "Machine Learning is part of artificial intelligence, The main purpose of machine learning is using its machine learning \n",
    "algorithm and building high accuracy machine learning model. The technical organizations and companies used vastly such\n",
    "models in their web application or systems.\n",
    "Machine learning is provides statools to analyze, visualize, forecasting, prediction the data,etc.\n",
    "\n",
    "ex. Product Recommendation system, Spam detection, Email-automation,etc.\n",
    "\n",
    "\n",
    "3. Deep learning (DL) : \n",
    "    \n",
    "Deep learning is also apart of artificial intelligence as well it is also part of machine learning. Deep learning is a \n",
    "technique which teaches the computer system to what to do naturally like humans do. It works on brain of technologies. \n",
    "From deep learning, Bots can do exactly like human if we train the model accuratly and perfectly.\n",
    "\n",
    "ex. Chatbots, Face recognition, Virtual assistant, Vision self driving,etc\n",
    "\n",
    "\n",
    "4.Data Science (DS) : \n",
    "    \n",
    "Data science is a science of data in which data is collecting , cleaning, analysing, visualizing,etc are done for \n",
    "extracting the meaningful insights for organization and buisness for scaling up their business. The work do for data \n",
    "science is known as Data Scientist. \n",
    "\n",
    "\n",
    "These all above terms are related to each other these all are part of artificial intelligence,Artificial intelligence is \n",
    "like family in which DL, ML are part of it. Deep learning is subset of Machine learning and Machine learning is a subset \n",
    "of artificial intelligence whereas Data science is work for all these. The data science is used in analyaze ,visualise \n",
    "data in these all field. Data scientist do 360 degree work in AI,ML,DL."
   ]
  },
  {
   "cell_type": "code",
   "execution_count": null,
   "id": "debcaf88-4b0a-4fc4-b04e-366a3baec7b8",
   "metadata": {},
   "outputs": [],
   "source": []
  },
  {
   "cell_type": "code",
   "execution_count": null,
   "id": "2c77e9a3-edd5-48b2-867b-8dc2ff162ebe",
   "metadata": {},
   "outputs": [],
   "source": [
    "'''Q5. What are the main differences between supervised, unsupervised, and semi-supervised learning?'''"
   ]
  },
  {
   "cell_type": "code",
   "execution_count": null,
   "id": "a7a480f4-9b5b-402b-89ed-3cbe5ecfc94a",
   "metadata": {},
   "outputs": [],
   "source": [
    "#Ans.\n",
    "\n",
    "Differences between Supervised Learning, Unsupervised Learning , and Semi-supervised Learning :\n",
    "  \n",
    "1. Supervised Learning = Supervised learning algorithms is used when the input and output of dataset we knew and train \n",
    "                         the algorithm from given proper dataset. So that it predict the outcomes from independent \n",
    "                         feature to dependent feature with accurately.\n",
    "        \n",
    "   ex. amazon.in, netflix, etc.\n",
    "\n",
    "\n",
    "2.Un-supervised learning = Unsupervised learning is clustering the data from dataset and train the model to find the \n",
    "                           relationship between similar data and idetify the trend and pattern.\n",
    "    \n",
    "    ex. Customer segmentation, Pattern recognition,etc.\n",
    "    \n",
    "    \n",
    "3. Semi-supervised learning = Semi-supervised learning is a part of machine learning which fall between supervised \n",
    "                              learning and unsupervised learning. It use both labled dataset and unlabled dataset but in \n",
    "                              comparison to labled dataset it use large amount of unlabled dataset and train the model or\n",
    "                              algorithm for proper prediction of output varibale by taking input varibales.\n",
    "            \n",
    "   ex. Image classification, Text classification, Anomaly detection,etc\n",
    "            \n",
    "    \n",
    "Supervised learning , unsupervised learning and semi-supervised learning these all three learnings have some similarities \n",
    "but also have some differences ,these categories are type of machine learning. These all three algorithms are have their\n",
    "own definition.\n",
    "The main differences between in all these is supervised learning is use labled dataset and train the algorithm for \n",
    "predict outcomes accurately whereas unsupervised learning is use unlabled dataset and make clusters of similiar and \n",
    "corresponding data which identify patterns and relationship in data. And Semi-supervised learning is a mixture of \n",
    "supervised and unsupervised learning it can perform both algorithms example like netflix. In netflix, it used supervised \n",
    "learning for recommend its movies to interested people and sometimes it used unsupervised learning for making cluster of \n",
    "specific region data and suggest movies to specific region and specific person. "
   ]
  },
  {
   "cell_type": "code",
   "execution_count": null,
   "id": "6b15b2b5-2fd0-4c71-b402-65ff55c407c4",
   "metadata": {},
   "outputs": [],
   "source": []
  },
  {
   "cell_type": "code",
   "execution_count": null,
   "id": "3841ef8b-fd25-47e1-a1a5-b55a83927ae3",
   "metadata": {},
   "outputs": [],
   "source": [
    "'''Q6. What is train, test and validation split? Explain the importance of each term.'''"
   ]
  },
  {
   "cell_type": "code",
   "execution_count": null,
   "id": "3dd1f2dc-23a3-471a-8bee-ff6138544225",
   "metadata": {},
   "outputs": [],
   "source": [
    "#Ans.\n",
    "\n",
    "When we get dataset in industry for making machine learning models and deep learning modals we have to first divide \n",
    "dataset in three category which is known for training dataset , validation split dataset and test dataset :\n",
    "\n",
    "1. Train : Training dataset is the main dataset for building the mahchine learning models or deep learning models. We \n",
    "           train the models from training dataset for proper predictions and high accuracy from expecting models. \n",
    "    \n",
    "2. Validation Split : Validation split is nothing but it is another part of main dataset which is used after train the \n",
    "                      models from training dataset for increasing its accuracy by changing or play with hyperparameter of\n",
    "                      models. Validation dataset is hypertuning the model for increasing performance and accuracy of \n",
    "                      machine learning models and deep learning models.\n",
    "            \n",
    "3. Test : Test dataset is the dataset for testing the model which preapred from training dataset and validation dataset.\n",
    "          It tells how are our model are perform accurately?. Test dataset is check whether the model is performing\n",
    "          good or not. \n",
    "        \n",
    "We can understand above terms and also from real world example : let Books is considered as training dataset, from which \n",
    "a student is preparing for giving his exams and his exams is considered as test dataset where he answer question and get \n",
    "score which tell about his study preparation and additional books is validation dataset from which he read and try to \n",
    "maximize the exam score. "
   ]
  },
  {
   "cell_type": "code",
   "execution_count": null,
   "id": "cb9df41c-4617-4d41-b913-d6885f147d69",
   "metadata": {},
   "outputs": [],
   "source": []
  },
  {
   "cell_type": "code",
   "execution_count": null,
   "id": "be8736fe-073a-43a5-8687-dd6796fcf35a",
   "metadata": {},
   "outputs": [],
   "source": [
    "'''Q7. How can unsupervised learning be used in anomaly detection?'''"
   ]
  },
  {
   "cell_type": "code",
   "execution_count": null,
   "id": "efccae73-7578-48bb-9f4f-d2baad80f34d",
   "metadata": {
    "tags": []
   },
   "outputs": [],
   "source": [
    "#Ans.\n",
    "Anomaly detection is a techniques of unsupervised learning which detect the outliers data point which are completly differ\n",
    "from normal cluster dataset. Outliers are sometimes very very important with respect to conclusion of data and sometimes\n",
    "useless. The anomaly detection is completly used in unsupervised machine learning. \n",
    "There are mainly three types of anomaly detection first point anomalies, second Contexual anomalies and third collective\n",
    "anomalies.\n",
    "There are some techniques also for detection of outliers from dataset:\n",
    "    \n",
    "1. Isolation forest : Isolation forest is a technique of anomaly detection which help in identify the outliers in dataset \n",
    "                      by making decision tree or isolation tree of each and every data points of dataset.The data points \n",
    "                      are stored in isolated leaf nodes. We use the formula for finding isolation score which tells the \n",
    "                      nature of datapoint which datapoint is outlier or not by comparing the value with threshold number\n",
    "                      0.5 , if isolation score is greater than 0.5 than it will counted as outliers and less than then it\n",
    "                      will non-outliers. In isolation tree, if we quickly idetify or easily reach to isolated leaf node \n",
    "                      datapoint then it considered as outlier.\n",
    "                        \n",
    "2. DBscan Clustering : DBscan clustering is the major technique or play important role in term of clustering of non linear\n",
    "                       separable dataset. It make groups of similar data or clustering of data of non linear data. DBscan \n",
    "                       have two important parameter,  min. points = x , ε = Radius\n",
    "        \n",
    "                       DBscan have three most important points : \n",
    "                       (a) Core point , (b) Border point , (c) Noise/Outliers\n",
    "                        \n",
    "                        (a) Core point = If the no. of points in the ε radius is greater than or equal to min. points then\n",
    "                                         it will be core point.\n",
    "                            \n",
    "                        (b) Border point = If the no. of points in the ε radius is below the min. points then it will be \n",
    "                                           border point.\n",
    "                            \n",
    "                        (c) Outlier = If there are no any points in the ε radius boundary then it will be outliers. "
   ]
  },
  {
   "cell_type": "code",
   "execution_count": null,
   "id": "d70944f8-6997-4806-94de-efdb84312842",
   "metadata": {},
   "outputs": [],
   "source": []
  },
  {
   "cell_type": "code",
   "execution_count": null,
   "id": "ac15a044-e97b-4ab9-b48a-f5cc77d07278",
   "metadata": {},
   "outputs": [],
   "source": [
    "'''Q8. List down some commonly used supervised learning algorithms and unsupervised learning algorithms.'''"
   ]
  },
  {
   "cell_type": "code",
   "execution_count": null,
   "id": "7b04e7f1-e209-46a2-b473-cbb239e9dc0d",
   "metadata": {},
   "outputs": [],
   "source": [
    "#Ans.\n",
    "Supervised learning algorithms are trained with labled dataset and predict the outcomes accuratly and Unsupervised \n",
    "learning algorithm are trained from unlabled dataset which predict the relationship in similar data without supervision \n",
    "way. There are list of some algorithms of both supervised learning algorithms and unsupervised learning algorithms :\n",
    "    \n",
    "1. Supervised learning algorithms :\n",
    "    \n",
    "    (a) Decision Tree\n",
    "    (b) Logistics Regression\n",
    "    (c) Linear Regression\n",
    "    (d) Support Vector Machine\n",
    "    \n",
    "    (a) Decision Tree = Decision tree is a supervised machine learning model in which decision tree is used for making \n",
    "                        predictions. It follow tree like model of predictiond and consequences.\n",
    "        \n",
    "    (b) Logistics Regression = Logistics regression is predicting categorical dependent varibale which is depends upon \n",
    "                               independent variables.\n",
    "        \n",
    "    (c) Linear Regression = Linear regression algorithm is a type of supervised learning algorithm which computes the \n",
    "                            linear relationship between dependent variable and one or more independent variable.\n",
    "        \n",
    "    (d) Support Vector Machine = Support Vector machine is supervised learning algorithm that used for both classification\n",
    "                                 and regression.\n",
    "    \n",
    "    \n",
    "2. Unsupervised learning algorithms :\n",
    "    \n",
    "    (a) Anomaly Detection\n",
    "    (b) K Nearest Neighbour (KNN)\n",
    "    (c) Apriori algorithm\n",
    "    (d) K means clustering\n",
    "    \n",
    "    (a) Anomaly Detection = Anomaly Detection algorithm of unsupervised is detect the outliers in normal similar dataset.\n",
    "    \n",
    "    (b) K Nearest Neighbour (KNN) = KNN is stores all data and classify the new data point based on the similarities.\n",
    "    \n",
    "    (c) Apriori algorithm = Apriori algorithm is refer to the association rule between two objects which tell how object A\n",
    "                            is related to object B.\n",
    "    \n",
    "    (d) K means clustering = K means clustering is a type of unsupervised learning algorithm in which group of unlabled \n",
    "                             data into different different clusters. Where k defines the number of pre-defined cluster."
   ]
  },
  {
   "cell_type": "code",
   "execution_count": null,
   "id": "bae86b37-2633-4b4a-b4d3-9952e43e457d",
   "metadata": {},
   "outputs": [],
   "source": []
  },
  {
   "cell_type": "code",
   "execution_count": null,
   "id": "b132a33c-ef84-4002-9bd9-57c09d74f632",
   "metadata": {},
   "outputs": [],
   "source": [
    "                            ◦•●◉✿ ❤️️' 𝐉 𝐀 𝐈   𝐒 𝐇 𝐑 𝐄 𝐄   𝐇 𝐀 𝐑 𝐈   𝐕 𝐈 𝐒 𝐇 𝐍 𝐔 '❤️ ✿◉●•◦"
   ]
  }
 ],
 "metadata": {
  "kernelspec": {
   "display_name": "Python 3 (ipykernel)",
   "language": "python",
   "name": "python3"
  },
  "language_info": {
   "codemirror_mode": {
    "name": "ipython",
    "version": 3
   },
   "file_extension": ".py",
   "mimetype": "text/x-python",
   "name": "python",
   "nbconvert_exporter": "python",
   "pygments_lexer": "ipython3",
   "version": "3.10.8"
  }
 },
 "nbformat": 4,
 "nbformat_minor": 5
}
