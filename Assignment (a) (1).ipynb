{
 "cells": [
  {
   "cell_type": "markdown",
   "id": "970b5272-1990-4ae8-819d-c0e668b785ad",
   "metadata": {},
   "source": [
    "## KNN - 1"
   ]
  },
  {
   "cell_type": "code",
   "execution_count": null,
   "id": "3ddac820-0620-4733-8465-9a47610e0ba3",
   "metadata": {},
   "outputs": [],
   "source": [
    "'''Q1. What is the KNN algorithm?'''"
   ]
  },
  {
   "cell_type": "code",
   "execution_count": null,
   "id": "51b36aae-c954-4b31-b8fe-c82de0d9885c",
   "metadata": {},
   "outputs": [],
   "source": [
    "#Ans.\n",
    "\n",
    "#Definition\n",
    "KNN algorithm is a non-parametric supervised machine learning algorithm which is make the predictions of new datapoints\n",
    "from the training dataset by finding the nearest datapoint of the new test datapoints. This algorithm can used for both\n",
    "classification and regression problem statement. \n",
    "\n",
    "\n",
    "#Mechanism_and_brief_exaplanation\n",
    "The full form of KNN is K Nearest Neighbour, The mechanism behind this algorithm is that whenever a new test dataset is \n",
    "coming after training data then it try to predict the new data point through previous data in a stepwise manner by \n",
    "finding its nearest similar datapoints and calculate their distance from test datapoints to train datapoints.\n",
    "First of all, it initialize the no. of k value the k value is describe the no. of nearest datapoints will select of the \n",
    "test datapoints. If the k value is 5 then algorithm select the nearest 5 datapoints of the new datpoints then after it \n",
    "select the nearest datapoints based on k value and predict the datapoints by cheking the highest number of class of\n",
    "datapoints.\n",
    "When the time complexity is increased due to calculating the distance of each and every datapoints then it becomes \n",
    "computationally expensive and consume lots of power and time then for this problem solution we use variants of knn \n",
    "algorithm which reduce the time complexity of the algorithm and help in making generalized model. There are mainly two\n",
    "types of variants of the knn algorithm.\n",
    "    \n",
    "    1. KD Tree\n",
    "    2. Ball Tree\n",
    "\n",
    "    1. KD Tree - KD tree is a variants which using binary tree method for defining knn algorithm and reduce time \n",
    "                 complexity by finding the limited no. of distance calculation in datapoints. It finding the median\n",
    "                 of all x and y coordinates in the trained dataset and when the test data points is come then algorithm \n",
    "                 is predict the test datapoint.\n",
    "                \n",
    "    2. Ball Tree - Ball Tree is also variants of knn algorithm but it have different technique for calculating distance.\n",
    "                   It make the groups of training datapoints and further creates more groups in big group. Then whenever\n",
    "                   new test datapoint is come then ball tree technique is calculate the distance between its neighbour\n",
    "                   datapoints and test datapoints only.\n",
    "    \n",
    "    \n",
    "#Time Complexity problem \n",
    "When the time complexity of the model processing is high then the variants of the KNN algorithm is used. The variants\n",
    "of KNN algorithm is helped in reducing time complexity of the model when it processed. Both the variants are based upon \n",
    "the binary tree method. The time complexity of the KD tree is Order(n). \n",
    "The time complexity problem is occured when the dataset is huge and KNN algorithm is finding the distance of each and \n",
    "every datapoints from the test datapoints to training datapoints.\n",
    "\n",
    "\n",
    "#Distance Metrice\n",
    "There are two type of Distance metrice used for calculating distance in KNN algorithm :\n",
    "    \n",
    "    1. Euclidean Distance Metric\n",
    "    2. Manhatten Distance Metric\n",
    "    \n",
    "Euclidean distance metrice is finding the distance of linear line by the distance formula √[(x2 – x1)2 + (y2 – y1)2].\n",
    "If in case on more datapoint then new formula be like  √[(x2 – x1)2 + (y2 – y1)2 + (z2 -z1)2].\n",
    "\n",
    "In Manhatten Distance metric, it not finding the distance of linear distance it find the distance in right angled \n",
    "triangle mode. The formula of calculating the distance is  | x 1 − x 2 | + | y 1 − y 2 | . The manhatten name is named \n",
    "based upon the manhatten city of US."
   ]
  },
  {
   "cell_type": "code",
   "execution_count": null,
   "id": "a49d2480-ff58-4fba-b2e0-f69db9aefeeb",
   "metadata": {},
   "outputs": [],
   "source": []
  },
  {
   "cell_type": "code",
   "execution_count": null,
   "id": "9678bb7f-f846-4352-b97b-e7bbb04d55e6",
   "metadata": {},
   "outputs": [],
   "source": [
    "'''Q2. How do you choose the value of K in KNN?'''"
   ]
  },
  {
   "cell_type": "code",
   "execution_count": null,
   "id": "f7cf7e00-5c07-440d-ab82-9422eb9ecfb0",
   "metadata": {},
   "outputs": [],
   "source": [
    "#Ans.\n",
    "The value of K in KNN algorithm is determining the accuracy of the model. The k value is a hyperparameter of the \n",
    "knn algorithm, By changing the k value we can get perfect model accuracy.\n",
    "\n",
    "Generally, the k value is set by default 5 in KNN neighbour algorithm but we should change this parameter for getting \n",
    "highest accuracy of the model and in classification case we use accuracy score fucntion of sklearn metrice for seeing the\n",
    "accuracy of the model and in regression case we use r2 score function and from these function we can check the performance\n",
    "of the model by changing the k value.\n",
    "\n",
    "Actually, The k value is tell the number of neighbour datapoints will select to the test datapoint and after finding its\n",
    "distance metrice through distance metrice method. By default the brute search is applied in knn algorithm which measure \n",
    "all the distance between datapoints."
   ]
  },
  {
   "cell_type": "code",
   "execution_count": null,
   "id": "52ae444f-6266-4bc5-8812-98dd8c700059",
   "metadata": {},
   "outputs": [],
   "source": []
  },
  {
   "cell_type": "code",
   "execution_count": null,
   "id": "713b8f6b-2de6-4ca2-ac7a-1270060ad66b",
   "metadata": {},
   "outputs": [],
   "source": [
    "'''Q3. What is the difference between KNN classifier and KNN regressor?'''"
   ]
  },
  {
   "cell_type": "code",
   "execution_count": null,
   "id": "d93dc42a-6624-4921-b80e-ec043336bb02",
   "metadata": {},
   "outputs": [],
   "source": [
    "#Ans.\n",
    "In K Nearest Neighbour algorithm, there are two types of method for building the model. One is KNN classifier and Second\n",
    "is KNN regressor. Both algorithm have their own properties both are same with some differences. KNN classifier is uses\n",
    "for classification problem statement and give output for discrete values whereas KNN regressor is used for regression \n",
    "problem statement and give output for continuous values. \n",
    "\n",
    "Following are the some points which clear the difference between KNN classifier and KNN regressor:\n",
    "    \n",
    "1. KNN classifier is a type of KNN algorithm which is mainly used for the classification problem statement Whereas KNN\n",
    "   regressor is used for regression problem statement.\n",
    "    \n",
    "2. KNN classifier algorithm is helpful in predicting classes or category of the categorical dataset Whereas regressor is \n",
    "   used for predicting the continuous output of the regression dataset.\n",
    "    \n",
    "3. KNN classifier algorithm is predict the class by using majority nearest neighbour selecting method Whereas KNN \n",
    "   regressor is used the mean method , it calculate the distance of the selected nearest neighbour and find the mean of\n",
    "   the nearest neighbour.\n",
    "\n",
    "4. KNN classifier algorithm measure the performance of the model through the accuracy score, classification report,\n",
    "   confusion matrix,etc. function from sklearn metric library Whereas KNN regressor is used r2_score, mean_squared_error,\n",
    "   absolute_mean_squared_error, etc function is used for checking the performance of the model.\n",
    "\n",
    "\n",
    "The important thing we should remember that, we should always use KNN classifier for classification problem and KNN \n",
    "regressor for regression problem statement Because if we use interchanging the algorithm with datasets then model will \n",
    "not perform accurately and considered as false model and the accuracy of the model is always give false prediction and \n",
    "false accuracy plus give false parameters. So, the suitable algorithm should used for suitable dataset."
   ]
  },
  {
   "cell_type": "code",
   "execution_count": null,
   "id": "b5090bed-fc1e-48ab-bfe9-f81ef1780f15",
   "metadata": {},
   "outputs": [],
   "source": []
  },
  {
   "cell_type": "code",
   "execution_count": null,
   "id": "6cf764fa-ef8b-4d56-a8ce-bc462250ad74",
   "metadata": {},
   "outputs": [],
   "source": [
    "'''Q4. How do you measure the performance of KNN?'''"
   ]
  },
  {
   "cell_type": "code",
   "execution_count": null,
   "id": "ef366eea-a606-4ac4-856c-6c32a94d0a86",
   "metadata": {},
   "outputs": [],
   "source": [
    "#Ans.\n",
    "KNN algorithm have two types of algorithm for building the model one is KNN classifier and second is KNN regressor. Both\n",
    "are looking similarities but having difference also. Measuring the performance of both KNN algorithms is also different,\n",
    "\n",
    "We can measure the KNN classifier model performance with the help of Confusion matrix, Accuracy model and Classification\n",
    "report function which we can use it from the sklearn metrice library.\n",
    "\n",
    "Whereas, In KNN regressor model, for measuring performance of the KNN regressor model we use r2_score, mean_squared_error,\n",
    "mean_absolute_erro,etc is used for measuring the performanc or accuracy of the model."
   ]
  },
  {
   "cell_type": "code",
   "execution_count": null,
   "id": "8d6c0b6e-4e00-45c0-8923-4d90d429a646",
   "metadata": {},
   "outputs": [],
   "source": []
  },
  {
   "cell_type": "code",
   "execution_count": null,
   "id": "c4beae23-8f9f-472a-bfd2-7389b41d3d6c",
   "metadata": {},
   "outputs": [],
   "source": [
    "'''Q5. What is the curse of dimensionality in KNN?'''"
   ]
  },
  {
   "cell_type": "code",
   "execution_count": null,
   "id": "6b6b550b-5e82-4f69-b98e-3baf1e2c6e69",
   "metadata": {},
   "outputs": [],
   "source": [
    "#Ans.\n",
    "\n",
    "#Definition\n",
    "The curse of dimensionality in KNN means increasing of unnecessary features which affect the performance of the model. \n",
    "The dimensions in dataset means features When the unnecessary features are adding in dataset which have no sense , no \n",
    "play role much in ouput of the model is known for unnecessary features and this unnecessary features data is reduce the\n",
    "overall performance of the model Which is known as curse of dimensionality. The model giving unaccurate outputs because \n",
    "it is suffered from curse of dimensionality. \n",
    "When we adding the features to the particular model, although it increases the accuracy of the model but when we \n",
    "unnecessary increasing dimensions then model get confused in predicting the outputs and model accuracy and performance is\n",
    "falled. And we can say it is happen due to curse of dimensionality.\n",
    "\n",
    "\n",
    "#Reducing Curse of dimensionality\n",
    "There are some techniques available which helps in reducing the curse of dimensionality and improve the accuracy and \n",
    "performance of the model. One is Feature Selection and Second is Principle Component Analysis (PCA). \n",
    "\n",
    "In Feature selection method, We select only those important feature which is useful for model and help in predicting the\n",
    "best output as well as ignore or remove the less important feature. But in these case we have disadvantage also that we \n",
    "lose some important information which is hidden in less important feature.\n",
    "\n",
    "So, from get rid from these problem. We use PCA technique or Principle Component Analysis technique, this technique is \n",
    "helps in reducing the dimensions by combining the unnecessary features to one feature. In other words, this technique is \n",
    "based upon the feature extraction, in which it extract the useful feature by using and getting the useful information from\n",
    "the less important feature. And this technique is better than feature selection because this technique is also use \n",
    "important information from the useles features and reduce the dimensions and protect the model in degrading the \n",
    "performance and accuracy."
   ]
  },
  {
   "cell_type": "code",
   "execution_count": null,
   "id": "ffb9486e-825b-4de0-9975-26dbace25a84",
   "metadata": {},
   "outputs": [],
   "source": []
  },
  {
   "cell_type": "code",
   "execution_count": null,
   "id": "e57da413-1ed5-4336-a6eb-49fe776ccb77",
   "metadata": {},
   "outputs": [],
   "source": [
    "'''Q6. How do you handle missing values in KNN?'''"
   ]
  },
  {
   "cell_type": "code",
   "execution_count": null,
   "id": "0f5adf14-b963-4e79-843f-fca390761288",
   "metadata": {},
   "outputs": [],
   "source": [
    "#Ans.\n",
    "\n",
    "Handling missing value are most important data preprocessing work in data industry. If missing value are less present in\n",
    "any dataset then it can be fine and we can handle it by removing particular rows. But if the missing values are present\n",
    "in large number in dataset then it will be serious problem for machine learning model and model cannot predict the output\n",
    "accurately. So for this , we have to handle the missing value in dataset by the imputation technique. \n",
    "\n",
    "Generally the imputaion technique is handle the missing values by estimating mean and median or may be through mode. And\n",
    "we can apply the imputation technique through scikit.impute for handling missing values through replacing the nan value \n",
    "from mean and median of the others neighbour datapoints. \n",
    "\n",
    "If we see in case of KNN algorithm, there is a seperate function for imputing missing values in KNN algorithm called \n",
    "KNNimputer function which helps in handling missing value or imputing missing values by finding and estimating the mean \n",
    "and median of neighbours datapoints. The working behind KNNimputer is like, it find the mean or median of neighbours of \n",
    "nan value and impute the missing value from the mean and median. The neighbour of missing datapoints is find by generally\n",
    "by euclidean distance matrix.\n",
    "\n",
    "We can understand the KNNimputer function and its use by below example :"
   ]
  },
  {
   "cell_type": "code",
   "execution_count": 27,
   "id": "01fdc356-f6e9-4866-a388-48a203a111c2",
   "metadata": {},
   "outputs": [],
   "source": [
    "#importing libraries and functions\n",
    "import pandas as pd\n",
    "from sklearn.impute import KNNImputer"
   ]
  },
  {
   "cell_type": "code",
   "execution_count": 3,
   "id": "e333f228-3d9b-46f0-a7d7-3ec6377b54e3",
   "metadata": {},
   "outputs": [
    {
     "data": {
      "text/plain": [
       "[['ujjwal', 21, 'male'],\n",
       " ['Imraz', 20, 'male'],\n",
       " ['Pragya', 18, None],\n",
       " ['pawan', 19, 'male'],\n",
       " ['manisha', 16, 'female']]"
      ]
     },
     "execution_count": 3,
     "metadata": {},
     "output_type": "execute_result"
    }
   ],
   "source": [
    "# making dataset\n",
    "data = [['ujjwal',21,'male'], ['Imraz', 20 , 'male'], ['Pragya', 18, None], ['pawan', 19, 'male'], \n",
    "        ['manisha', 16, 'female']]\n",
    "data"
   ]
  },
  {
   "cell_type": "code",
   "execution_count": 21,
   "id": "71c9a5c5-7baa-418c-af45-09f374f67fbb",
   "metadata": {},
   "outputs": [
    {
     "data": {
      "text/html": [
       "<div>\n",
       "<style scoped>\n",
       "    .dataframe tbody tr th:only-of-type {\n",
       "        vertical-align: middle;\n",
       "    }\n",
       "\n",
       "    .dataframe tbody tr th {\n",
       "        vertical-align: top;\n",
       "    }\n",
       "\n",
       "    .dataframe thead th {\n",
       "        text-align: right;\n",
       "    }\n",
       "</style>\n",
       "<table border=\"1\" class=\"dataframe\">\n",
       "  <thead>\n",
       "    <tr style=\"text-align: right;\">\n",
       "      <th></th>\n",
       "      <th>Name</th>\n",
       "      <th>Age</th>\n",
       "      <th>Gender</th>\n",
       "    </tr>\n",
       "  </thead>\n",
       "  <tbody>\n",
       "    <tr>\n",
       "      <th>0</th>\n",
       "      <td>ujjwal</td>\n",
       "      <td>21</td>\n",
       "      <td>male</td>\n",
       "    </tr>\n",
       "    <tr>\n",
       "      <th>1</th>\n",
       "      <td>Imraz</td>\n",
       "      <td>20</td>\n",
       "      <td>male</td>\n",
       "    </tr>\n",
       "    <tr>\n",
       "      <th>2</th>\n",
       "      <td>Pragya</td>\n",
       "      <td>18</td>\n",
       "      <td>None</td>\n",
       "    </tr>\n",
       "    <tr>\n",
       "      <th>3</th>\n",
       "      <td>pawan</td>\n",
       "      <td>19</td>\n",
       "      <td>male</td>\n",
       "    </tr>\n",
       "    <tr>\n",
       "      <th>4</th>\n",
       "      <td>manisha</td>\n",
       "      <td>16</td>\n",
       "      <td>female</td>\n",
       "    </tr>\n",
       "  </tbody>\n",
       "</table>\n",
       "</div>"
      ],
      "text/plain": [
       "      Name  Age  Gender\n",
       "0   ujjwal   21    male\n",
       "1    Imraz   20    male\n",
       "2   Pragya   18    None\n",
       "3    pawan   19    male\n",
       "4  manisha   16  female"
      ]
     },
     "execution_count": 21,
     "metadata": {},
     "output_type": "execute_result"
    }
   ],
   "source": [
    "df=pd.DataFrame(data, columns=['Name', 'Age', 'Gender'])\n",
    "df"
   ]
  },
  {
   "cell_type": "code",
   "execution_count": 22,
   "id": "5e71d10d-5c4f-43ae-9356-a50e81de34df",
   "metadata": {},
   "outputs": [],
   "source": [
    "# mapping categorical value to numerical\n",
    "df['Gender']=df.Gender.map({'female':1 , 'male':0})"
   ]
  },
  {
   "cell_type": "code",
   "execution_count": 23,
   "id": "2c43bc1c-60ef-4311-b280-0ffb8ff75903",
   "metadata": {},
   "outputs": [
    {
     "data": {
      "text/html": [
       "<div>\n",
       "<style scoped>\n",
       "    .dataframe tbody tr th:only-of-type {\n",
       "        vertical-align: middle;\n",
       "    }\n",
       "\n",
       "    .dataframe tbody tr th {\n",
       "        vertical-align: top;\n",
       "    }\n",
       "\n",
       "    .dataframe thead th {\n",
       "        text-align: right;\n",
       "    }\n",
       "</style>\n",
       "<table border=\"1\" class=\"dataframe\">\n",
       "  <thead>\n",
       "    <tr style=\"text-align: right;\">\n",
       "      <th></th>\n",
       "      <th>Age</th>\n",
       "      <th>Gender</th>\n",
       "    </tr>\n",
       "  </thead>\n",
       "  <tbody>\n",
       "    <tr>\n",
       "      <th>0</th>\n",
       "      <td>21</td>\n",
       "      <td>0.0</td>\n",
       "    </tr>\n",
       "    <tr>\n",
       "      <th>1</th>\n",
       "      <td>20</td>\n",
       "      <td>0.0</td>\n",
       "    </tr>\n",
       "    <tr>\n",
       "      <th>2</th>\n",
       "      <td>18</td>\n",
       "      <td>NaN</td>\n",
       "    </tr>\n",
       "    <tr>\n",
       "      <th>3</th>\n",
       "      <td>19</td>\n",
       "      <td>0.0</td>\n",
       "    </tr>\n",
       "    <tr>\n",
       "      <th>4</th>\n",
       "      <td>16</td>\n",
       "      <td>1.0</td>\n",
       "    </tr>\n",
       "  </tbody>\n",
       "</table>\n",
       "</div>"
      ],
      "text/plain": [
       "   Age  Gender\n",
       "0   21     0.0\n",
       "1   20     0.0\n",
       "2   18     NaN\n",
       "3   19     0.0\n",
       "4   16     1.0"
      ]
     },
     "execution_count": 23,
     "metadata": {},
     "output_type": "execute_result"
    }
   ],
   "source": [
    "df[['Age', 'Gender']]"
   ]
  },
  {
   "cell_type": "code",
   "execution_count": 25,
   "id": "747be53e-7d93-4ec7-86a9-3f8a39f90cf6",
   "metadata": {},
   "outputs": [],
   "source": [
    "# initializing\n",
    "imputer = KNNImputer(n_neighbors=2)"
   ]
  },
  {
   "cell_type": "code",
   "execution_count": 26,
   "id": "4a49ff59-6671-48c6-b285-bed6867aa064",
   "metadata": {},
   "outputs": [
    {
     "data": {
      "text/plain": [
       "array([[21.,  0.],\n",
       "       [20.,  0.],\n",
       "       [18.,  0.],\n",
       "       [19.,  0.],\n",
       "       [16.,  1.]])"
      ]
     },
     "execution_count": 26,
     "metadata": {},
     "output_type": "execute_result"
    }
   ],
   "source": [
    "# fitting data and get result.\n",
    "imputer.fit_transform(df[['Age', 'Gender']])"
   ]
  },
  {
   "cell_type": "code",
   "execution_count": null,
   "id": "43b43c65-4ce2-4cf1-a956-93326ec2083e",
   "metadata": {},
   "outputs": [],
   "source": []
  },
  {
   "cell_type": "code",
   "execution_count": null,
   "id": "3bbab288-6423-4c34-b688-0846145fb265",
   "metadata": {},
   "outputs": [],
   "source": [
    "'''Q7. Compare and contrast the performance of the KNN classifier and regressor. Which one is better for which type of \n",
    "       problem?'''"
   ]
  },
  {
   "cell_type": "code",
   "execution_count": null,
   "id": "c21706a2-d925-4865-8af6-7284d8805fba",
   "metadata": {},
   "outputs": [],
   "source": [
    "#Ans.\n",
    "\n",
    "#Brief_Explanation\n",
    "Out of which in machine learning algorithms, the K Nearest Neighbour algorithm is the easiest algorithm. This algorithm \n",
    "is predict the ouputs by features similarity method, The KNN algorithm have two types one is KNN classifier and second is\n",
    "KNN regressor. \n",
    "\n",
    "#Which_one_is_better_for_which\n",
    "When the dataset have categorical values or classes then the KNN classifier is used and when the datasets have continuous\n",
    "values and features then KNN regression algorithm is used. We should use classifier algorithm for classification problem \n",
    "statement and use regressor algorithm for regression problem statement only. If we use these algorithm by not according \n",
    "to dataset in other words if we use classifier algorithm for regression problem and use regressor algorithm for \n",
    "classification problem then it will be huge mistake in building perfect model. In this case the model will not give \n",
    "accurate outputs and accuracy of model also decreased sharply. So, we should use algorithm for suitable dataset only. \n",
    "\n",
    "#Difference in KNN classifier and regressor\n",
    "The KNN classifier and KNN regressor algorithm are working same but there are some difference between them. Lets \n",
    "understand the mechanism behind the machine learning model building K Nearest Neighbour algorithm:\n",
    "       \n",
    "1. KNN Classifier Algorithm: \n",
    "    In KNN classifier algorithm, when the training dataset is well trained from the knn algorithm and ready for predicting\n",
    "    new datapoints then, if a new test datapoints is comes to the trained knn algorithm model then first thing is happen\n",
    "    that test datapoints is mapping with all trained datapoints with euclidean distance matrix or manhatten distance\n",
    "    matrix then it find the nearest datapoints and the value of k is defined the how many nearest datapoint is selected \n",
    "    for test datapoints then The majority of class is find , which class is connect majorly then it is selected as \n",
    "    predicted data point.\n",
    "    \n",
    "2. KNN Regressor Algorithm:\n",
    "    In KNN regressor algorithm, all the process is same works as work in knn classifier but the only thing is change is in\n",
    "    predicting datapoints that knn regressor finding the nearest datapoints of the test datapoints and mapping that data\n",
    "    points through distance matrix and finding the average of nearest datapoints and that will be predicted point.\n",
    "    \n",
    "#summary (difference)\n",
    "The working and mechanism behind both the classifier and regressor algorithm is same but the only thing is that \n",
    "classifier algorithm is predicting datapoints through majority of class in nearest neighbour and in regression case, it \n",
    "finding the mean of the nearest datapoints of the test datapoints. "
   ]
  },
  {
   "cell_type": "code",
   "execution_count": null,
   "id": "66933a57-5b1e-429e-85f4-a3cdb7914666",
   "metadata": {},
   "outputs": [],
   "source": []
  },
  {
   "cell_type": "code",
   "execution_count": null,
   "id": "ca974a19-b172-46c4-8ac6-b8f2cc5124e9",
   "metadata": {},
   "outputs": [],
   "source": [
    "'''Q8. What are the strengths and weaknesses of the KNN algorithm for classification and regression tasks, and how can \n",
    "       these be addressed?'''"
   ]
  },
  {
   "cell_type": "code",
   "execution_count": null,
   "id": "91701082-13d8-4b22-93da-9e0be851455b",
   "metadata": {},
   "outputs": [],
   "source": [
    "#Ans.\n",
    "In knn algorithms both for classifier and regressor both are works well with their suitable datasets. And also build a \n",
    "high accurate machine learning model but there are lots of its strengths and weakness also which affect the environment \n",
    "of the model. The knn algorithm have many weakness like it is sensitive to the outliers and it is computationally \n",
    "expensive plus it also uncomfortable with imbalanced datasets. Apart from weakness, its have also good strengths also \n",
    "which helps in building a generalized model, its is non parametric, it can handle large datasets, easy and simple to use, etc. If we\n",
    "Lets further investigate its strenght and weakness, there are lots of information is available. Lets see about the \n",
    "strength and weakness of the knn algorithm:\n",
    "    \n",
    "    \n",
    "1. Strength of KNN algorithm :\n",
    "    \n",
    "    • Simple and Easy to understand - The knn algorithm is considered simple and easy to use out of all machine learning\n",
    "                                      algorithms. The basic idea about the knn algorithm is to chose the k value which\n",
    "        classify the test datapoints from trained dataset.\n",
    "        \n",
    "    • Non-Parametric - The knn algorithm is non-parametric algorithm, meaning that it does not make assumptions about the\n",
    "                        underlying distribution of the dataset. This algorithm is flexible in making wide range of \n",
    "                        applications.\n",
    "            \n",
    "    • No-Training required - The knn algorithm not required the training process, meaning that it is used much in real\n",
    "                             time industry where the data is continuously generated.\n",
    "        \n",
    "    • Accurate and Effective - the knn algorithm is accurate and effectiveness to the model building , specially for the\n",
    "                               medium and small sized dataset. It is robust algorithm which can handle noisy and \n",
    "                               incomplete data, which making it choice of many real time industry use.\n",
    "            \n",
    "2. Weakness of KNN algorithm :\n",
    "    \n",
    "    • Computationally Expensive - Apart from advantages of knn algorithm, it have major disadvantage is that it is \n",
    "                                  computationally expensive. meaning that when the algorithm is applied to the dataset\n",
    "                                  then test datapoints are come and make a relation or connection with each and every\n",
    "                                  training datapoints which increase its time complexity.\n",
    "                \n",
    "    • Sensitive to outliers - The knn algorithm is sensitive to outliers, meaning that it is less able to capture the \n",
    "                               outliers in datasets. The outliers is that datapoints which are completly different from\n",
    "                               the similar data and due to unable the capture outliers it affect the performance of the\n",
    "                               model.\n",
    "                \n",
    "    • Weak towards Imbalanced data - When the imbalanced dataset is present then the knnn algorithm is applied then it \n",
    "                                     may become disadvantage for the model. Because the imbalanced dataset have imbalance\n",
    "                                     datapoints, one feature have more datapoints then another feature have less \n",
    "                                     datapoints which is imbalanced dataset and leads to biased classification results. \n",
    "                                     From this case, the knn algorithm get confused and may predict wrong predictions \n",
    "                                     through majority selection class."
   ]
  },
  {
   "cell_type": "code",
   "execution_count": null,
   "id": "d4e319b6-05c0-4ba7-8539-c5324b5bb780",
   "metadata": {},
   "outputs": [],
   "source": []
  },
  {
   "cell_type": "code",
   "execution_count": null,
   "id": "60963b45-31d7-44a4-badc-0f100f0b0a12",
   "metadata": {},
   "outputs": [],
   "source": [
    "'''Q9. What is the difference between Euclidean distance and Manhattan distance in KNN?'''"
   ]
  },
  {
   "cell_type": "code",
   "execution_count": null,
   "id": "f3534136-a53d-4fdc-aea9-68d3236b8c32",
   "metadata": {},
   "outputs": [],
   "source": [
    "#Ans.\n",
    "\n",
    "#Introduction and difference\n",
    "The euclidean distance and manhattan distance is a distance matrix of the knn algorithm which measures the distance \n",
    "between the test datapoints and training datapoints. Both distance matrix is used well in knn algorithm, in mostly case\n",
    "the euclidean distance matrix is used both distance have their own formula and own technique to calculate the distance\n",
    "between datapoinst.\n",
    "\n",
    "\n",
    "1. Euclidean Distance matrix :\n",
    "    \n",
    "    Euclidean distance matrix is a distance matrix which calculate the distance between two any points. It calculates the\n",
    "    distance of linear line only. Hence, there are also datapoints available in knn algorithm and for calculating distance\n",
    "    from test datapoints to training datapoints Euclidean distance technique is used in knn algorithm. \n",
    "    The formula of euclidean distance matrix is = √[(x2 - x1)**2 + (y2 - y1)**2] , where x1 and y1 is a coordinate points\n",
    "    of one datapoints and x2 and y2 is another coordinate points of other datapoints and Euclidean distance matrix is a\n",
    "    2 dimension matrix. If there are more than two datapoints then the formula of euclidean distance matric will =\n",
    "     √[(x2 - x1)**2 + (y2 - y1)**2 + (z2 -z1)**2].\n",
    "    \n",
    "    \n",
    "2. Manhatten Distance matrix :\n",
    "    \n",
    "    Manhatten distance matrix is also a distance matrix like euclidean distance matrix but there is difference in both of\n",
    "    them. The forumula of manhatten distance matrix is different. Formula = |x1 - x2| + |y1 - y2|, where x1,y1,x2,y2 are\n",
    "    coordinates points of two datapoints respectively. Manhatten distance is calculate distance is not linear , it can\n",
    "    calculates the distance in right angled form. The name of manhatten is taken from the city of america in which the \n",
    "    manhatten city is seen complex city which path is in right angle form. \n",
    "    \n",
    "\n",
    "#Summary (difference)\n",
    "The major difference between both of distance matrix is that both formula of calculating distance is different, For \n",
    "euclidean is √[(x2 - x1)**2 + (y2 - y1)**2] and for manhatten is |x1 - x2| + |y1 - y2|.\n",
    "Both ways of calculating distance is also different, the euclidean is calculating for 2 dimension linear path and \n",
    "manhatten calculates for right angle path. \n",
    "\n",
    "#Additional_information\n",
    "Apart from above distance matrix there are more distance matrix also, which also calculate the distance between datapoints.\n",
    "The brute search and minkowski distance, The minkowski distance is a metric which which calculate distance of vectors.\n",
    "This is a generalization of both euclidean and manhatten distance matric. And the brute search is a default metrice in\n",
    "knn algorithm which is considered as simple distance metric but very slow due mapping each and every datapoints and \n",
    "time complexity is increase in this case."
   ]
  },
  {
   "cell_type": "code",
   "execution_count": null,
   "id": "8e21af24-89f6-4c77-9d8d-c22fc580ad5f",
   "metadata": {},
   "outputs": [],
   "source": []
  },
  {
   "cell_type": "code",
   "execution_count": null,
   "id": "202c13b2-587c-40ee-b063-19b3db7f53aa",
   "metadata": {},
   "outputs": [],
   "source": [
    "'''Q10. What is the role of feature scaling in KNN?'''"
   ]
  },
  {
   "cell_type": "code",
   "execution_count": null,
   "id": "8d1d56d1-91fa-4336-93da-8d2d29202423",
   "metadata": {},
   "outputs": [],
   "source": [
    "#Ans.\n",
    "\n",
    "#Importance of feature scaling\n",
    "There is great role of feature scaling in KNN machine learning algorithm, feature scaling is a one of the most important\n",
    "step in data preprocessing. Feature scaling is play crucial role in KNN algorithm.\n",
    "\n",
    "Actually, feature scaling is preventing the features in datasets which have large magnitude in dataset from dominanting \n",
    "the distance calculation. In all distance calculation algorithm in machine learning like knn algorithm, feature scaling \n",
    "is play very important role in building a generalized model. \n",
    "\n",
    "\n",
    "#Role_in_KNN\n",
    "Generally the dataset having features with large magnitude are dominating the distance calculation which results biased\n",
    "outcomes and model accuracy is become bad. For get rid from this problem, the feature scaling is used in knn algorithm \n",
    "and other distance algorithms, it transform the feature with large magnitude in a comparable range or scale, ensuring \n",
    "that features after applied feature scaling  is contributes fairly to the final result.\n",
    "\n",
    "\n",
    "#Types\n",
    "There are mainly two types of techniques for perform feature scaling for the datasets one is MinMaxScaler and second is \n",
    "StandardScaler. The minmaxscaler is transform the feature in a wide range typically in [0,1] by scaling the values. \n",
    "The standardscaler is centering the values around the mean and scaling them based on the standard deviation."
   ]
  },
  {
   "cell_type": "code",
   "execution_count": null,
   "id": "8ac6f81c-817c-4175-a8dd-694684ca9275",
   "metadata": {},
   "outputs": [],
   "source": []
  },
  {
   "cell_type": "code",
   "execution_count": null,
   "id": "8db92845-70c1-4ee9-8c9c-b92f5c64065f",
   "metadata": {},
   "outputs": [],
   "source": [
    "                        ◦•●◉✿ ❤️️' 𝐉 𝐀 𝐈   𝐒 𝐇 𝐑 𝐄 𝐄   𝐇 𝐀 𝐑 𝐈   𝐕 𝐈 𝐒 𝐇 𝐍 𝐔 '❤️ ✿◉●•◦"
   ]
  }
 ],
 "metadata": {
  "kernelspec": {
   "display_name": "Python 3 (ipykernel)",
   "language": "python",
   "name": "python3"
  },
  "language_info": {
   "codemirror_mode": {
    "name": "ipython",
    "version": 3
   },
   "file_extension": ".py",
   "mimetype": "text/x-python",
   "name": "python",
   "nbconvert_exporter": "python",
   "pygments_lexer": "ipython3",
   "version": "3.10.8"
  }
 },
 "nbformat": 4,
 "nbformat_minor": 5
}
