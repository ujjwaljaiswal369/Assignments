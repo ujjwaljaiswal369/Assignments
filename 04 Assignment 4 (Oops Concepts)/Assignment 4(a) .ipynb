{
 "cells": [
  {
   "cell_type": "code",
   "execution_count": 1,
   "id": "d5821c4d-321b-49aa-b36a-e0f14552a21b",
   "metadata": {},
   "outputs": [],
   "source": [
    "#Q1. Create a vehicle class with an init method having instance variables as\n",
    "#    name_of_vehicle, max_speed and average_of_vehicle."
   ]
  },
  {
   "cell_type": "code",
   "execution_count": 9,
   "id": "7267f20a-ef98-458e-99b0-b21e3ceb061a",
   "metadata": {},
   "outputs": [],
   "source": [
    "#Ans.\n",
    "class vehicle :\n",
    "    \n",
    "    def __init__(self, name_of_vehicle, max_speed, average_of_vehicle):\n",
    "        \n",
    "        self.name_of_vehicle = name_of_vehicle\n",
    "        self.max_speed = max_speed\n",
    "        self.average_of_vehicle = average_of_vehicle"
   ]
  },
  {
   "cell_type": "code",
   "execution_count": 12,
   "id": "05eb5d25-73c9-4a03-81c0-b709c6d2cbbe",
   "metadata": {},
   "outputs": [],
   "source": [
    "vehicle_obj = vehicle('Verna', 210, '20km')"
   ]
  },
  {
   "cell_type": "code",
   "execution_count": 13,
   "id": "515fe239-7fe9-437c-ada2-e2d540cfc7b8",
   "metadata": {},
   "outputs": [
    {
     "data": {
      "text/plain": [
       "210"
      ]
     },
     "execution_count": 13,
     "metadata": {},
     "output_type": "execute_result"
    }
   ],
   "source": [
    "vehicle_obj.max_speed"
   ]
  },
  {
   "cell_type": "code",
   "execution_count": 14,
   "id": "3c774362-ebb6-45a0-a640-a6d186139cef",
   "metadata": {},
   "outputs": [
    {
     "data": {
      "text/plain": [
       "'Verna'"
      ]
     },
     "execution_count": 14,
     "metadata": {},
     "output_type": "execute_result"
    }
   ],
   "source": [
    "vehicle_obj.name_of_vehicle"
   ]
  },
  {
   "cell_type": "code",
   "execution_count": 15,
   "id": "5c2b76c4-b06e-405a-a05c-2a864ffc597a",
   "metadata": {},
   "outputs": [
    {
     "data": {
      "text/plain": [
       "'20km'"
      ]
     },
     "execution_count": 15,
     "metadata": {},
     "output_type": "execute_result"
    }
   ],
   "source": [
    "vehicle_obj.average_of_vehicle"
   ]
  },
  {
   "cell_type": "code",
   "execution_count": null,
   "id": "5219dfc9-d79a-46e0-bba2-37e43db5c1a6",
   "metadata": {},
   "outputs": [],
   "source": []
  },
  {
   "cell_type": "code",
   "execution_count": 6,
   "id": "c5bb5659-3697-48de-b190-5450f3c59fef",
   "metadata": {},
   "outputs": [],
   "source": [
    "#Q2. Create a child class car from the vehicle class created in Que 1, which will\n",
    "#    inherit the vehicle class. Create a method named seating_capacity which takes \n",
    "#    capacity as an argument and returns the name of the vehicle and its seating \n",
    "#    capacity."
   ]
  },
  {
   "cell_type": "code",
   "execution_count": 99,
   "id": "631ad9ff-d5e4-4aa5-9bd1-74df751504f8",
   "metadata": {},
   "outputs": [],
   "source": [
    "class Vehicle:\n",
    "    \n",
    "    def __init__(self, name_of_vehicle, max_speed, average_of_vehicle):\n",
    "        self.name_of_vehicle = name_of_vehicle\n",
    "        self.max_speed = max_speed\n",
    "        self.average_of_vehicle = average_of_vehicle\n",
    "\n",
    "    def return_details(self):\n",
    "        return self.name_of_vehicle, self.max_speed, self.average_of_vehicle\n",
    "\n",
    "\n",
    "class ChildCar(Vehicle):\n",
    "    \n",
    "    def __init__(self, seating_capacity, name_of_vehicle):\n",
    "        super().__init__(name_of_vehicle, 0, 0)  \n",
    "        self.seating_capacity = seating_capacity\n",
    "\n",
    "    def return_details(self):\n",
    "        return self.seating_capacity, self.name_of_vehicle"
   ]
  },
  {
   "cell_type": "code",
   "execution_count": 100,
   "id": "79d35e79-a82c-43fa-977d-a574c3a42b5c",
   "metadata": {},
   "outputs": [],
   "source": [
    "car_obj = ChildCar('5', 'Verna')"
   ]
  },
  {
   "cell_type": "code",
   "execution_count": 101,
   "id": "1979c9db-57b0-4fb0-9f07-b83d1400eb12",
   "metadata": {},
   "outputs": [
    {
     "name": "stdout",
     "output_type": "stream",
     "text": [
      "5\n"
     ]
    }
   ],
   "source": [
    "print(car_obj.seating_capacity)"
   ]
  },
  {
   "cell_type": "code",
   "execution_count": 102,
   "id": "04800cde-fa78-4fb4-83ea-f5769994bc40",
   "metadata": {},
   "outputs": [
    {
     "name": "stdout",
     "output_type": "stream",
     "text": [
      "Verna\n"
     ]
    }
   ],
   "source": [
    "print(car_obj.name_of_vehicle)"
   ]
  },
  {
   "cell_type": "code",
   "execution_count": 103,
   "id": "ca6ea2da-3582-49fc-a621-3dcb3e56d17b",
   "metadata": {},
   "outputs": [
    {
     "name": "stdout",
     "output_type": "stream",
     "text": [
      "('5', 'Verna')\n"
     ]
    }
   ],
   "source": [
    "print(car_obj.return_details())"
   ]
  },
  {
   "cell_type": "code",
   "execution_count": null,
   "id": "0c070973-2210-46dc-a0d9-206438a606da",
   "metadata": {},
   "outputs": [],
   "source": []
  },
  {
   "cell_type": "code",
   "execution_count": 1,
   "id": "f82e5fe3-7bd5-41c9-8d17-ba769a72cf4a",
   "metadata": {},
   "outputs": [],
   "source": [
    "#Q3. What is multiple inheritance? Write a python code to demonstrate multiple \n",
    "#    inheritance."
   ]
  },
  {
   "cell_type": "code",
   "execution_count": null,
   "id": "51502af2-5c64-4fc9-93b5-456ff56fde92",
   "metadata": {},
   "outputs": [],
   "source": [
    "#Ans.\n",
    "Multiple inheritance is the process of inherit the derived class from more than one \n",
    "base class. The derived class can access all properties and methods of its base classes\n",
    "This type of inheritance is like father , mother and child relationship in which two\n",
    "or more than two parent class are inherit in one single child class."
   ]
  },
  {
   "cell_type": "code",
   "execution_count": 1,
   "id": "7784ad17-db7f-4c96-8552-1a666971131e",
   "metadata": {},
   "outputs": [],
   "source": [
    "#example\n",
    "class father :\n",
    "    \n",
    "    def dady(self):\n",
    "        return 'i am dad'"
   ]
  },
  {
   "cell_type": "code",
   "execution_count": 2,
   "id": "bf4ed9e2-d80e-4e5c-bc88-546da80069ba",
   "metadata": {},
   "outputs": [],
   "source": [
    "class mother :\n",
    "    \n",
    "    def mummy(self):\n",
    "        return 'i am mother'"
   ]
  },
  {
   "cell_type": "code",
   "execution_count": 5,
   "id": "43f1d4a1-6e0f-4927-be17-7c5d02437ba9",
   "metadata": {},
   "outputs": [],
   "source": [
    "class child( father, mother):\n",
    "    pass"
   ]
  },
  {
   "cell_type": "code",
   "execution_count": 6,
   "id": "be157cfe-0f83-434c-9947-606a5a8a5c8e",
   "metadata": {},
   "outputs": [],
   "source": [
    "c = child()"
   ]
  },
  {
   "cell_type": "code",
   "execution_count": 8,
   "id": "923b8588-fa60-4512-99fe-55532bb948b3",
   "metadata": {},
   "outputs": [
    {
     "data": {
      "text/plain": [
       "'i am dad'"
      ]
     },
     "execution_count": 8,
     "metadata": {},
     "output_type": "execute_result"
    }
   ],
   "source": [
    "c.dady()"
   ]
  },
  {
   "cell_type": "code",
   "execution_count": 9,
   "id": "7dee06ed-b7a0-4bc5-b553-cb092501aa37",
   "metadata": {},
   "outputs": [
    {
     "data": {
      "text/plain": [
       "'i am mother'"
      ]
     },
     "execution_count": 9,
     "metadata": {},
     "output_type": "execute_result"
    }
   ],
   "source": [
    "c.mummy()"
   ]
  },
  {
   "cell_type": "code",
   "execution_count": null,
   "id": "85df5af4-0da0-49fc-bc41-b97da91f5654",
   "metadata": {},
   "outputs": [],
   "source": []
  },
  {
   "cell_type": "code",
   "execution_count": null,
   "id": "0a15cc09-fc3c-4fb4-a79c-9bd45eb4e36b",
   "metadata": {},
   "outputs": [],
   "source": [
    "'''Q4. What are getter and setter in python? Create a class and create a getter and a \n",
    "     setter method in this class.'''"
   ]
  },
  {
   "cell_type": "code",
   "execution_count": null,
   "id": "0d068208-d1ce-4f2d-a5b5-eeab5e4f9bd2",
   "metadata": {},
   "outputs": [],
   "source": [
    "#Ans.\n",
    "Setter and Getter in python are used to modify or access value of class method. The \n",
    "method allows you to access the attribute in given class is known as getter and A \n",
    "method that allows you to set or mutate the value of an attribute of a class is known\n",
    "as Setter function.\n",
    "In encapsulation method of oops, we can set the value of private instance or method\n",
    "and same as also do for get value for the user .So, that user can set the value and \n",
    "get the value.\n",
    "Apart from this, we can also used setter method in property decorator method by calling\n",
    "the property decorator method and .setter \n",
    "\n",
    "#Example"
   ]
  },
  {
   "cell_type": "code",
   "execution_count": 73,
   "id": "c0d85c40-35d9-4289-869f-57bcf7019bb6",
   "metadata": {},
   "outputs": [],
   "source": [
    "class hanuman_speed :\n",
    "    \n",
    "    def __init__(self, speed = 10):\n",
    "        self._speed = speed\n",
    "        \n",
    "    \n",
    "    #getter speed\n",
    "    def get_speed(self):\n",
    "        return self._speed\n",
    "    \n",
    "     #setter speed\n",
    "    def set_speed(self, x):\n",
    "        self._speed = x"
   ]
  },
  {
   "cell_type": "code",
   "execution_count": 74,
   "id": "d082fa8f-fb0f-4364-bbb0-ebe7dee93f9e",
   "metadata": {},
   "outputs": [],
   "source": [
    "u = hanuman_speed()"
   ]
  },
  {
   "cell_type": "code",
   "execution_count": 77,
   "id": "8d0cfdd3-766d-4307-b512-6bb5f7ecda4d",
   "metadata": {},
   "outputs": [],
   "source": [
    "u.set_speed(10000000000000)"
   ]
  },
  {
   "cell_type": "code",
   "execution_count": 78,
   "id": "8a9cf30c-4055-41a9-87ad-46ee894cc9b9",
   "metadata": {},
   "outputs": [
    {
     "name": "stdout",
     "output_type": "stream",
     "text": [
      "10000000000000\n"
     ]
    }
   ],
   "source": [
    "print(u.get_speed())"
   ]
  },
  {
   "cell_type": "code",
   "execution_count": null,
   "id": "edb5d423-641d-4803-853d-be4bc16a31b0",
   "metadata": {},
   "outputs": [],
   "source": []
  },
  {
   "cell_type": "code",
   "execution_count": null,
   "id": "f0e04a52-c358-460a-864c-6b96a5570ad0",
   "metadata": {},
   "outputs": [],
   "source": [
    "'''Q5.What is method overriding in python? Write a python code to demonstrate method \n",
    "      overriding.'''"
   ]
  },
  {
   "cell_type": "code",
   "execution_count": null,
   "id": "3f6fe871-bcf6-4342-ad8a-7c169d844961",
   "metadata": {},
   "outputs": [],
   "source": [
    "#Ans.\n",
    "Overriding = Overriding in python means when a parent class and child class have same\n",
    "             method in both class , both class have same signature , same parameter,\n",
    "             same method, completly same then child class override the method in their\n",
    "             own way."
   ]
  },
  {
   "cell_type": "code",
   "execution_count": 89,
   "id": "41662ff0-f57a-4e47-8fb8-b86406772696",
   "metadata": {},
   "outputs": [],
   "source": [
    "class Hanuman :\n",
    "    \n",
    "    def __init__(self):\n",
    "        self.power = 'infinite'\n",
    "        \n",
    "    def get(self):\n",
    "        print(self.power)"
   ]
  },
  {
   "cell_type": "code",
   "execution_count": 90,
   "id": "9cdba8ad-aa53-4458-9567-41f2d7bee02e",
   "metadata": {},
   "outputs": [],
   "source": [
    "class ujjwal(Hanuman):\n",
    "    \n",
    "    def __init__(self):\n",
    "        self.power = 'limited'\n",
    "        \n",
    "    def get(self):\n",
    "        print(self.power)"
   ]
  },
  {
   "cell_type": "code",
   "execution_count": 106,
   "id": "15c0859f-3258-468d-868d-7c9e40de2c59",
   "metadata": {},
   "outputs": [],
   "source": [
    "h = Hanuman()\n",
    "u = ujjwal()"
   ]
  },
  {
   "cell_type": "code",
   "execution_count": 107,
   "id": "a867105e-57b6-4f0e-89d0-0b470cabff61",
   "metadata": {},
   "outputs": [
    {
     "name": "stdout",
     "output_type": "stream",
     "text": [
      "infinite\n",
      "limited\n"
     ]
    }
   ],
   "source": [
    "h.get()\n",
    "u.get()"
   ]
  },
  {
   "cell_type": "code",
   "execution_count": null,
   "id": "87385bad-b8c2-47a1-b8aa-039cf95e23f0",
   "metadata": {},
   "outputs": [],
   "source": []
  },
  {
   "cell_type": "code",
   "execution_count": null,
   "id": "eeb581c2-8387-4109-b6f0-4be22c47511a",
   "metadata": {},
   "outputs": [],
   "source": [
    "                                    ' J A I   S H R E E   H A R I   V I S H N U '"
   ]
  }
 ],
 "metadata": {
  "kernelspec": {
   "display_name": "Python 3 (ipykernel)",
   "language": "python",
   "name": "python3"
  },
  "language_info": {
   "codemirror_mode": {
    "name": "ipython",
    "version": 3
   },
   "file_extension": ".py",
   "mimetype": "text/x-python",
   "name": "python",
   "nbconvert_exporter": "python",
   "pygments_lexer": "ipython3",
   "version": "3.10.8"
  }
 },
 "nbformat": 4,
 "nbformat_minor": 5
}
