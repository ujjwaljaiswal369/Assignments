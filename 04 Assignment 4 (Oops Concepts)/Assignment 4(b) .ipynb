{
 "cells": [
  {
   "cell_type": "code",
   "execution_count": 1,
   "id": "e20ad868-e883-4037-bf6c-63da3080efd7",
   "metadata": {},
   "outputs": [],
   "source": [
    "'''Q1. Explain Class and Object with respect to Object-Oriented Programming. Give a\n",
    "     suitable example.'''"
   ]
  },
  {
   "cell_type": "code",
   "execution_count": null,
   "id": "baf6ffe7-1144-4ea5-9e08-58d0e6993030",
   "metadata": {},
   "outputs": [],
   "source": [
    "#Ans.\n",
    "class = In Oops,class is a blueprint or classification of real world entity which\n",
    "        defines properties and behaviour. The word class is in build in python. We can\n",
    "        define any class by random name like 'class pwskills' and We can define any \n",
    "        function in the defined class. It is a logical entity\n",
    "        \n",
    "Object = Object is a real world entity. Object is created in reference of class. It is\n",
    "         a instance of class or variable of class or object of class which stored\n",
    "         the properties and behaviour defined by the class"
   ]
  },
  {
   "cell_type": "code",
   "execution_count": 2,
   "id": "9dd45109-297b-4fd8-b866-133f0412da60",
   "metadata": {},
   "outputs": [],
   "source": [
    "#ex.\n",
    "class pwskills :\n",
    "    \n",
    "    def assignment(self):\n",
    "        return 'this is a assignment'\n",
    "    \n",
    "    def projects(self):\n",
    "        return 'this is a project'\n",
    "    \n",
    "    def quizes(self):\n",
    "        print('this is a quizes ')"
   ]
  },
  {
   "cell_type": "code",
   "execution_count": 3,
   "id": "5342badb-2841-4e31-b1ce-f818408827c8",
   "metadata": {},
   "outputs": [],
   "source": [
    "c = pwskills()"
   ]
  },
  {
   "cell_type": "code",
   "execution_count": 5,
   "id": "4cf990d6-de7f-40c5-badd-a1d5bf3c2166",
   "metadata": {},
   "outputs": [
    {
     "data": {
      "text/plain": [
       "'this is a assignment'"
      ]
     },
     "execution_count": 5,
     "metadata": {},
     "output_type": "execute_result"
    }
   ],
   "source": [
    "c.assignment()"
   ]
  },
  {
   "cell_type": "code",
   "execution_count": 6,
   "id": "29f183a7-ae1a-4bd2-8a29-553a3ba18931",
   "metadata": {},
   "outputs": [
    {
     "data": {
      "text/plain": [
       "'this is a project'"
      ]
     },
     "execution_count": 6,
     "metadata": {},
     "output_type": "execute_result"
    }
   ],
   "source": [
    "c.projects()"
   ]
  },
  {
   "cell_type": "code",
   "execution_count": 7,
   "id": "eec5f0bb-e773-45db-92ed-ebe949b3da8d",
   "metadata": {},
   "outputs": [
    {
     "name": "stdout",
     "output_type": "stream",
     "text": [
      "this is a quizes \n"
     ]
    }
   ],
   "source": [
    "c.quizes()"
   ]
  },
  {
   "cell_type": "code",
   "execution_count": null,
   "id": "aed2dfb7-ac14-42ee-ab95-102bfe2356a6",
   "metadata": {},
   "outputs": [],
   "source": []
  },
  {
   "cell_type": "code",
   "execution_count": 8,
   "id": "4df51864-60d9-4a9d-a214-00c40fa1eeee",
   "metadata": {},
   "outputs": [],
   "source": [
    "'''Q2. Name the four pillars of OOPs.'''"
   ]
  },
  {
   "cell_type": "code",
   "execution_count": null,
   "id": "da1cf6a1-e513-4f5e-9b27-9316bab4ebe9",
   "metadata": {},
   "outputs": [],
   "source": [
    "#Ans.\n",
    "\n",
    "1. Polymorphism\n",
    "2. Encapsulation\n",
    "3. Abstraction \n",
    "4. Inheritance"
   ]
  },
  {
   "cell_type": "code",
   "execution_count": null,
   "id": "9485cacb-d997-4134-8b9b-969da2b5a340",
   "metadata": {},
   "outputs": [],
   "source": []
  },
  {
   "cell_type": "code",
   "execution_count": 12,
   "id": "19dca04f-4878-48ac-ada9-857cac82137d",
   "metadata": {},
   "outputs": [],
   "source": [
    "'''Q3. Explain why the __init__() function is used. Give a suitable example.'''"
   ]
  },
  {
   "cell_type": "code",
   "execution_count": null,
   "id": "9e488256-14fc-4de0-a7c3-ed2bea40a2ef",
   "metadata": {},
   "outputs": [],
   "source": [
    "#Ans.\n",
    "The __init__ is a in built function of python which used to pass data in class method.\n",
    "This is called as constructor also. The 'self' world is written in parenthesis of \n",
    "__init__ , this is used for object of class. It is help to initilize the\n",
    "class."
   ]
  },
  {
   "cell_type": "code",
   "execution_count": 24,
   "id": "56c7c892-9a95-460b-8509-4e4caef43112",
   "metadata": {},
   "outputs": [],
   "source": [
    "class ujjwal :\n",
    "    \n",
    "    def __init__(self, age, surname, nature):\n",
    "        self.age = age\n",
    "        self.surname = surname\n",
    "        self.nature = nature\n",
    "        \n",
    "    def return_details(self):\n",
    "        return self.age , self.surname , self.nature"
   ]
  },
  {
   "cell_type": "code",
   "execution_count": 28,
   "id": "d7dd4a85-4a4a-41e7-8779-551b5e7085b9",
   "metadata": {},
   "outputs": [],
   "source": [
    "u = ujjwal(21, 'jaiswal', 'samaj sevak')"
   ]
  },
  {
   "cell_type": "code",
   "execution_count": 29,
   "id": "3832b1da-17bd-4746-9f24-6946d62af5f9",
   "metadata": {},
   "outputs": [
    {
     "data": {
      "text/plain": [
       "21"
      ]
     },
     "execution_count": 29,
     "metadata": {},
     "output_type": "execute_result"
    }
   ],
   "source": [
    "u.age"
   ]
  },
  {
   "cell_type": "code",
   "execution_count": 30,
   "id": "b00283d5-680b-4552-aae5-2de7a4022dd8",
   "metadata": {},
   "outputs": [
    {
     "data": {
      "text/plain": [
       "'jaiswal'"
      ]
     },
     "execution_count": 30,
     "metadata": {},
     "output_type": "execute_result"
    }
   ],
   "source": [
    "u.surname"
   ]
  },
  {
   "cell_type": "code",
   "execution_count": 31,
   "id": "62c3b443-7466-4b33-a510-acf79a453658",
   "metadata": {},
   "outputs": [
    {
     "data": {
      "text/plain": [
       "'samaj sevak'"
      ]
     },
     "execution_count": 31,
     "metadata": {},
     "output_type": "execute_result"
    }
   ],
   "source": [
    "u.nature"
   ]
  },
  {
   "cell_type": "code",
   "execution_count": null,
   "id": "61756a61-daf6-41b5-a18c-d65090f8314b",
   "metadata": {},
   "outputs": [],
   "source": []
  },
  {
   "cell_type": "code",
   "execution_count": 32,
   "id": "f18c0c68-e615-4e57-a2d9-83c950ab7cc6",
   "metadata": {},
   "outputs": [],
   "source": [
    "'''Q4. Why self is used in OOPs?'''"
   ]
  },
  {
   "cell_type": "code",
   "execution_count": null,
   "id": "89b1fa7b-e5a7-4725-9a71-f69ac196b48b",
   "metadata": {},
   "outputs": [],
   "source": [
    "#Ans.\n",
    "Self is a parameter which is used in method of class. It is put in parenthsis of\n",
    "method which we define through class. self is help to bind the method to class. We run\n",
    "code without it we got error which say 'you miss a argument'. to get rid of this error\n",
    "we use self word in method.\n",
    "The fact is that we can also use any other name in place of self word."
   ]
  },
  {
   "cell_type": "code",
   "execution_count": 33,
   "id": "ec179aa7-fe9c-467c-878f-dd150739694b",
   "metadata": {},
   "outputs": [],
   "source": [
    "class Banking :\n",
    "    \n",
    "    def __init__(self, customer, bill , date):\n",
    "        self.customer = customer\n",
    "        self.bill = bill\n",
    "        self.date = date \n",
    "        \n",
    "    def get_deatails(self):\n",
    "        return self.customer , self.bill, self.date"
   ]
  },
  {
   "cell_type": "code",
   "execution_count": 35,
   "id": "3a62e1b1-c352-4305-9ee9-22a8a052d723",
   "metadata": {},
   "outputs": [],
   "source": [
    "b = Banking('ujjwal', 100, '12 june')"
   ]
  },
  {
   "cell_type": "code",
   "execution_count": 36,
   "id": "5e81b6b2-9044-41e5-9984-8da75d4660a1",
   "metadata": {},
   "outputs": [
    {
     "data": {
      "text/plain": [
       "'ujjwal'"
      ]
     },
     "execution_count": 36,
     "metadata": {},
     "output_type": "execute_result"
    }
   ],
   "source": [
    "b.customer"
   ]
  },
  {
   "cell_type": "code",
   "execution_count": 37,
   "id": "b38e2d7d-d4de-4bf2-9e82-bab1f260914d",
   "metadata": {},
   "outputs": [
    {
     "data": {
      "text/plain": [
       "100"
      ]
     },
     "execution_count": 37,
     "metadata": {},
     "output_type": "execute_result"
    }
   ],
   "source": [
    "b.bill"
   ]
  },
  {
   "cell_type": "code",
   "execution_count": 38,
   "id": "eeb5ce7c-aed2-496e-a7ab-32023e82b980",
   "metadata": {},
   "outputs": [
    {
     "data": {
      "text/plain": [
       "'12 june'"
      ]
     },
     "execution_count": 38,
     "metadata": {},
     "output_type": "execute_result"
    }
   ],
   "source": [
    "b.date"
   ]
  },
  {
   "cell_type": "code",
   "execution_count": null,
   "id": "fa17a6c4-8b32-46cb-9396-ebe06fb959e0",
   "metadata": {},
   "outputs": [],
   "source": []
  },
  {
   "cell_type": "code",
   "execution_count": 39,
   "id": "42e2e74e-ac9b-45a7-b13c-24ba1c5df9d4",
   "metadata": {},
   "outputs": [],
   "source": [
    "'''Q5. What is inheritance? Give an example for each type of inheritance.'''"
   ]
  },
  {
   "cell_type": "code",
   "execution_count": null,
   "id": "5cec1fa1-7bf5-4b75-ab41-42a37f577d4b",
   "metadata": {},
   "outputs": [],
   "source": [
    "#Ans.\n",
    "Inheritance is a method to inherit property and methods of one class into another \n",
    "class. A Parent class can inherit by child class by enter the class name in child class\n",
    "parenthesis and execute the child class then we can access the properties and method\n",
    "of parent class through object of child class.\n",
    "In another words, When a class is derives from another class then it is called\n",
    "inheritance\n",
    "\n",
    "There are five types of inheritance :\n",
    "    \n",
    "1. Simple inheritance\n",
    "2. Multiple inheritance\n",
    "3. Multilevel inheritance\n",
    "4. Hierarchical inheritance\n",
    "5. Hybrid inheritance"
   ]
  },
  {
   "cell_type": "code",
   "execution_count": null,
   "id": "de0f57d9-dd9b-4581-a307-61af29cfa370",
   "metadata": {},
   "outputs": [],
   "source": [
    "#1. Simple inheritance\n",
    "\n",
    "Simple inheritance is the simple inherit between two classes one is parent class and\n",
    "another is child class. It derives the properties and methods from one parent class to\n",
    "another child class\n",
    "\n",
    "#ex."
   ]
  },
  {
   "cell_type": "code",
   "execution_count": 40,
   "id": "4f98c7e2-5d1e-490a-a6d0-c5fecc1349e2",
   "metadata": {},
   "outputs": [],
   "source": [
    "class parent_class :\n",
    "    \n",
    "    def class1(self):\n",
    "        return 'this is a parent class'"
   ]
  },
  {
   "cell_type": "code",
   "execution_count": 41,
   "id": "46cf9a42-cea6-49d5-ae93-bc030afd9269",
   "metadata": {},
   "outputs": [],
   "source": [
    "class child_class(parent_class):\n",
    "    \n",
    "    def class2(self):\n",
    "        return 'this is a child class'"
   ]
  },
  {
   "cell_type": "code",
   "execution_count": 43,
   "id": "7c83d128-6684-41c4-bea8-2429b66e7cb9",
   "metadata": {},
   "outputs": [],
   "source": [
    "child_obj = child_class()"
   ]
  },
  {
   "cell_type": "code",
   "execution_count": 44,
   "id": "3bea30f1-454e-4b8d-a78c-8a725725ad64",
   "metadata": {},
   "outputs": [
    {
     "data": {
      "text/plain": [
       "'this is a parent class'"
      ]
     },
     "execution_count": 44,
     "metadata": {},
     "output_type": "execute_result"
    }
   ],
   "source": [
    "child_obj.class1()"
   ]
  },
  {
   "cell_type": "code",
   "execution_count": 96,
   "id": "14d4f7f2-9760-47bc-b73f-f044bdbe38b0",
   "metadata": {},
   "outputs": [
    {
     "data": {
      "text/plain": [
       "'this is a child class'"
      ]
     },
     "execution_count": 96,
     "metadata": {},
     "output_type": "execute_result"
    }
   ],
   "source": [
    "child_obj.class2()"
   ]
  },
  {
   "cell_type": "code",
   "execution_count": null,
   "id": "7e28bf05-a0ed-43dd-bc4a-c20f1c7b6c7f",
   "metadata": {},
   "outputs": [],
   "source": [
    "As you can see we can access both method of both class in inherited child class."
   ]
  },
  {
   "cell_type": "code",
   "execution_count": 46,
   "id": "d410daf5-954c-4ad5-92c7-5b025cc82c7a",
   "metadata": {},
   "outputs": [],
   "source": [
    "#Multiple inheritance\n",
    "\n",
    "Multiple inheritance is inheritance class is inherit by more than one base class. In\n",
    "this derived class can inherit all properties and methods of all base classes.\n",
    "\n",
    "#ex."
   ]
  },
  {
   "cell_type": "code",
   "execution_count": 47,
   "id": "e93acdf4-f3d5-4ca9-a458-4ff524e5df99",
   "metadata": {},
   "outputs": [],
   "source": [
    "class ujjwal :\n",
    "    \n",
    "    def nature(self):\n",
    "        return 'ujjwal is a kind boy'"
   ]
  },
  {
   "cell_type": "code",
   "execution_count": 48,
   "id": "2d5e6cb2-2689-45c9-a59d-b6864324942e",
   "metadata": {},
   "outputs": [],
   "source": [
    "class Shree_Ram(ujjwal):\n",
    "    \n",
    "    def puroshtam(self):\n",
    "        return 'Ram ji ke pyare ujjwal'"
   ]
  },
  {
   "cell_type": "code",
   "execution_count": 49,
   "id": "c54e6a76-80ce-43b8-9e3a-09ce32c5d0bb",
   "metadata": {},
   "outputs": [],
   "source": [
    "class Hanuman(Shree_Ram):\n",
    "    \n",
    "    def mahabali(self):\n",
    "        return 'Hanuman ji ke seene mai RAM ji'"
   ]
  },
  {
   "cell_type": "code",
   "execution_count": 50,
   "id": "81a51d31-e489-4400-9b2d-a8a8c07b8649",
   "metadata": {},
   "outputs": [],
   "source": [
    "class shiv_ji(Hanuman):\n",
    "    \n",
    "    def rudransh(self):\n",
    "        return 'hanuman ji hai rudransh'"
   ]
  },
  {
   "cell_type": "code",
   "execution_count": 51,
   "id": "836d0d8c-4480-40f3-8559-0ba40e01de71",
   "metadata": {},
   "outputs": [],
   "source": [
    "s = shiv_ji()"
   ]
  },
  {
   "cell_type": "code",
   "execution_count": 53,
   "id": "ff3b3b03-625a-4539-8700-753d98a4f7dc",
   "metadata": {},
   "outputs": [
    {
     "data": {
      "text/plain": [
       "'ujjwal is a kind boy'"
      ]
     },
     "execution_count": 53,
     "metadata": {},
     "output_type": "execute_result"
    }
   ],
   "source": [
    "s.nature()"
   ]
  },
  {
   "cell_type": "code",
   "execution_count": 54,
   "id": "676ebe96-ac4e-4a80-8fac-ae7ac66af708",
   "metadata": {},
   "outputs": [
    {
     "data": {
      "text/plain": [
       "'Ram ji ke pyare ujjwal'"
      ]
     },
     "execution_count": 54,
     "metadata": {},
     "output_type": "execute_result"
    }
   ],
   "source": [
    "s.puroshtam()"
   ]
  },
  {
   "cell_type": "code",
   "execution_count": 55,
   "id": "151cfc85-17fb-4c12-935b-c12b090b5fb2",
   "metadata": {},
   "outputs": [
    {
     "data": {
      "text/plain": [
       "'Hanuman ji ke seene mai RAM ji'"
      ]
     },
     "execution_count": 55,
     "metadata": {},
     "output_type": "execute_result"
    }
   ],
   "source": [
    "s.mahabali()"
   ]
  },
  {
   "cell_type": "code",
   "execution_count": 56,
   "id": "907f9471-5e53-4515-a964-90520a6bac42",
   "metadata": {},
   "outputs": [
    {
     "data": {
      "text/plain": [
       "'hanuman ji hai rudransh'"
      ]
     },
     "execution_count": 56,
     "metadata": {},
     "output_type": "execute_result"
    }
   ],
   "source": [
    "s.rudransh()"
   ]
  },
  {
   "cell_type": "code",
   "execution_count": 57,
   "id": "6eb5c426-ac9a-4cfa-bfaf-8bf47b3c3b8a",
   "metadata": {},
   "outputs": [],
   "source": [
    "#Multilevel inheritance\n",
    "\n",
    "Multilevel inheritance means it have many levels of inheritance like chidl and grand_\n",
    "father relationship. The two base class or more than two base class is directly \n",
    "inherit properties in one class.\n",
    "\n",
    "#ex."
   ]
  },
  {
   "cell_type": "code",
   "execution_count": 58,
   "id": "21f502d1-9d6f-4744-b9af-7ee1ae6e1a23",
   "metadata": {},
   "outputs": [],
   "source": [
    "class ujjwal :\n",
    "    \n",
    "    def aboy(self):\n",
    "        return 'a boy'\n",
    "    \n",
    "    def good_boy(self):\n",
    "        return 'a good boy'"
   ]
  },
  {
   "cell_type": "code",
   "execution_count": 59,
   "id": "d497012d-49c9-45ec-bcbe-172ae51277c5",
   "metadata": {},
   "outputs": [],
   "source": [
    "class ashish :\n",
    "    \n",
    "    def agirl(self):\n",
    "        return 'a girl'"
   ]
  },
  {
   "cell_type": "code",
   "execution_count": 60,
   "id": "5bcf09c0-8182-4678-9e14-066e25eb9663",
   "metadata": {},
   "outputs": [],
   "source": [
    "class earth :\n",
    "    \n",
    "    def things(self):\n",
    "        return 'a earth'"
   ]
  },
  {
   "cell_type": "code",
   "execution_count": 61,
   "id": "7e0fd3e4-4698-40ae-a812-299cf8d6e04a",
   "metadata": {},
   "outputs": [],
   "source": [
    "class MAHA_VISHNU(ujjwal, ashish, earth):\n",
    "    \n",
    "    def all_rounder(self):\n",
    "        return 'He is reason for our existence'"
   ]
  },
  {
   "cell_type": "code",
   "execution_count": 62,
   "id": "f2be851f-c622-4d01-be07-363a8ca3ed27",
   "metadata": {},
   "outputs": [],
   "source": [
    "mv = MAHA_VISHNU()"
   ]
  },
  {
   "cell_type": "code",
   "execution_count": 63,
   "id": "21150b24-6742-476d-8aad-a4950b7846ec",
   "metadata": {},
   "outputs": [
    {
     "data": {
      "text/plain": [
       "'a boy'"
      ]
     },
     "execution_count": 63,
     "metadata": {},
     "output_type": "execute_result"
    }
   ],
   "source": [
    "mv.aboy()"
   ]
  },
  {
   "cell_type": "code",
   "execution_count": 64,
   "id": "97d437f0-331a-4858-9daa-3edc882acd2d",
   "metadata": {},
   "outputs": [
    {
     "data": {
      "text/plain": [
       "'He is reason for our existence'"
      ]
     },
     "execution_count": 64,
     "metadata": {},
     "output_type": "execute_result"
    }
   ],
   "source": [
    "mv.all_rounder()"
   ]
  },
  {
   "cell_type": "code",
   "execution_count": null,
   "id": "88ceab2d-2abc-4708-8587-75ebeadc8d57",
   "metadata": {},
   "outputs": [],
   "source": [
    "#Hierarchical inheritance\n",
    "\n",
    "Hierarchical inheritance give more than one derived class from a single base class,\n",
    "this is called Hierarchical Inheritance.\n",
    "\n",
    "#ex.\n"
   ]
  },
  {
   "cell_type": "code",
   "execution_count": 89,
   "id": "60e66796-b625-45ce-9509-5176e775da4b",
   "metadata": {},
   "outputs": [],
   "source": [
    "class shree_ram :\n",
    "    \n",
    "    def ujjwal(self):\n",
    "        return 'this is ujjwal'"
   ]
  },
  {
   "cell_type": "code",
   "execution_count": 90,
   "id": "f772578d-b8e9-48c7-a85a-3079887aa1e1",
   "metadata": {},
   "outputs": [],
   "source": [
    "class shree_ram1(shree_ram):\n",
    "    \n",
    "    def hanuman(self):\n",
    "        return 'this is hanuman'"
   ]
  },
  {
   "cell_type": "code",
   "execution_count": 91,
   "id": "2b5bffc7-c874-4367-a60e-06677c46e01f",
   "metadata": {},
   "outputs": [],
   "source": [
    "class shree_ram2(shree_ram):\n",
    "    \n",
    "    def lakshman(self):\n",
    "        return 'this is lakshman'"
   ]
  },
  {
   "cell_type": "code",
   "execution_count": 92,
   "id": "d5147838-8f07-44e6-85f8-baee4977986d",
   "metadata": {},
   "outputs": [],
   "source": [
    "sr = shree_ram()"
   ]
  },
  {
   "cell_type": "code",
   "execution_count": 93,
   "id": "67ef0283-f2e8-4a1a-a284-9ed80c70c81f",
   "metadata": {},
   "outputs": [
    {
     "data": {
      "text/plain": [
       "'this is ujjwal'"
      ]
     },
     "execution_count": 93,
     "metadata": {},
     "output_type": "execute_result"
    }
   ],
   "source": [
    "sr.ujjwal()"
   ]
  },
  {
   "cell_type": "code",
   "execution_count": 94,
   "id": "a08a6d7f-b464-4d9f-9a62-7acfbd8ce569",
   "metadata": {},
   "outputs": [],
   "source": [
    "sr1 = shree_ram2()"
   ]
  },
  {
   "cell_type": "code",
   "execution_count": 95,
   "id": "d2e3caca-366f-4456-ae8d-0e4a1cb7b4ff",
   "metadata": {},
   "outputs": [
    {
     "data": {
      "text/plain": [
       "'this is lakshman'"
      ]
     },
     "execution_count": 95,
     "metadata": {},
     "output_type": "execute_result"
    }
   ],
   "source": [
    "sr1.lakshman()"
   ]
  },
  {
   "cell_type": "code",
   "execution_count": 65,
   "id": "2720b66f-5312-41f9-b312-5f6f9a5a5fa1",
   "metadata": {},
   "outputs": [],
   "source": [
    "#Hybrid inheritance\n",
    "\n",
    "A inheritance consisting multiple types of inheritance is called is Hybrid \n",
    "Inheritance.\n",
    "\n",
    "#ex."
   ]
  },
  {
   "cell_type": "code",
   "execution_count": 66,
   "id": "29ac3329-8b33-4434-95eb-78f1cbcd0496",
   "metadata": {},
   "outputs": [],
   "source": [
    "class ram :\n",
    "    \n",
    "    def hanuman(self):\n",
    "        return 'i am hanuman'"
   ]
  },
  {
   "cell_type": "code",
   "execution_count": 67,
   "id": "008c5319-720b-4739-b5d7-52e5de347964",
   "metadata": {},
   "outputs": [],
   "source": [
    "class ram1(ram):\n",
    "    \n",
    "    def ujjwal(self):\n",
    "        return 'i am ujjwal'"
   ]
  },
  {
   "cell_type": "code",
   "execution_count": 70,
   "id": "541b7c64-84c7-474f-9c36-20d06c4d5f7d",
   "metadata": {},
   "outputs": [],
   "source": [
    "class ram2(ram):\n",
    "    \n",
    "    def lakshman(self):\n",
    "        return 'i am lakshman'"
   ]
  },
  {
   "cell_type": "code",
   "execution_count": 77,
   "id": "a295b2bd-834a-4300-8189-b2373ba0f256",
   "metadata": {},
   "outputs": [],
   "source": [
    "class ram3(ram2, ram1, ram):\n",
    "    \n",
    "    def sita(self):\n",
    "        return 'i am sita'"
   ]
  },
  {
   "cell_type": "code",
   "execution_count": 78,
   "id": "18db0fbd-a019-4bbc-b765-c9da223696b7",
   "metadata": {},
   "outputs": [],
   "source": [
    "r = ram3()"
   ]
  },
  {
   "cell_type": "code",
   "execution_count": 80,
   "id": "9ea5b976-5615-4252-b90b-819de239ba12",
   "metadata": {},
   "outputs": [
    {
     "data": {
      "text/plain": [
       "'i am hanuman'"
      ]
     },
     "execution_count": 80,
     "metadata": {},
     "output_type": "execute_result"
    }
   ],
   "source": [
    "r.hanuman()"
   ]
  },
  {
   "cell_type": "code",
   "execution_count": 81,
   "id": "bce41c30-87a4-4f5d-9195-0b36670775a3",
   "metadata": {},
   "outputs": [
    {
     "data": {
      "text/plain": [
       "'i am lakshman'"
      ]
     },
     "execution_count": 81,
     "metadata": {},
     "output_type": "execute_result"
    }
   ],
   "source": [
    "r.lakshman()"
   ]
  },
  {
   "cell_type": "code",
   "execution_count": 82,
   "id": "21bb5dff-f2d1-4f73-b81b-734a68ef1a61",
   "metadata": {},
   "outputs": [
    {
     "data": {
      "text/plain": [
       "'i am sita'"
      ]
     },
     "execution_count": 82,
     "metadata": {},
     "output_type": "execute_result"
    }
   ],
   "source": [
    "r.sita()"
   ]
  },
  {
   "cell_type": "code",
   "execution_count": 83,
   "id": "271fbd3e-599c-4724-9aaf-bfc47663b7fb",
   "metadata": {},
   "outputs": [
    {
     "data": {
      "text/plain": [
       "'i am ujjwal'"
      ]
     },
     "execution_count": 83,
     "metadata": {},
     "output_type": "execute_result"
    }
   ],
   "source": [
    "r.ujjwal()"
   ]
  },
  {
   "cell_type": "code",
   "execution_count": null,
   "id": "fa1f19c8-a6e1-4ecc-a2c2-bce8cea08e8e",
   "metadata": {},
   "outputs": [],
   "source": []
  },
  {
   "cell_type": "code",
   "execution_count": null,
   "id": "981bf7d5-d216-47c3-9c8b-704fdcef804d",
   "metadata": {},
   "outputs": [],
   "source": [
    "                         ' J A Y   S H R E E  R A M '"
   ]
  }
 ],
 "metadata": {
  "kernelspec": {
   "display_name": "Python 3 (ipykernel)",
   "language": "python",
   "name": "python3"
  },
  "language_info": {
   "codemirror_mode": {
    "name": "ipython",
    "version": 3
   },
   "file_extension": ".py",
   "mimetype": "text/x-python",
   "name": "python",
   "nbconvert_exporter": "python",
   "pygments_lexer": "ipython3",
   "version": "3.10.8"
  }
 },
 "nbformat": 4,
 "nbformat_minor": 5
}
