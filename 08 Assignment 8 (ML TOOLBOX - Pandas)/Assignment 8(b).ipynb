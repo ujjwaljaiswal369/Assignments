{
 "cells": [
  {
   "cell_type": "markdown",
   "id": "7d9de506-930a-40e7-9565-c24ed5d01815",
   "metadata": {},
   "source": [
    "Pandas Advance-1"
   ]
  },
  {
   "cell_type": "code",
   "execution_count": null,
   "id": "e30823b0-47ae-4af4-a3f1-2b7e89f151fb",
   "metadata": {},
   "outputs": [],
   "source": [
    "'''Q1. List any five functions of the pandas library with execution.'''"
   ]
  },
  {
   "cell_type": "code",
   "execution_count": null,
   "id": "32c8bc73-1415-4cb6-9ceb-6bcfafdc4649",
   "metadata": {},
   "outputs": [],
   "source": [
    "#Ans.\n",
    "Pandas library has many functions out of which five function are given below with their execution :\n",
    "    \n",
    "1. pd.DataFrame()\n",
    "2. pd.read_csv()\n",
    "3. pd.Series()\n",
    "4. pd.head()\n",
    "5. pd.tail()"
   ]
  },
  {
   "cell_type": "code",
   "execution_count": 1,
   "id": "43231201-9dba-4255-996c-5198ef2f996a",
   "metadata": {},
   "outputs": [],
   "source": [
    "import pandas as pd"
   ]
  },
  {
   "cell_type": "code",
   "execution_count": 3,
   "id": "2640f111-92cf-4e0f-9f7d-51baf62f7e7b",
   "metadata": {},
   "outputs": [],
   "source": [
    "#ex 1. DatFrame() = its show data in 2d data structure which is known as dataframe.\n",
    "\n",
    "data = {'Name' : ['Ujjwal','Raju uncle', 'Vinod ji', 'Khushboo', 'Anita jais'] ,\n",
    "        'Age' : [20,22,45,24,39],\n",
    "        'Work' : ['Data Scientist', 'Ssc Cgl', 'Contractor', 'Teacher', 'Samaj Sevak'] ,\n",
    "        'Nature' : ['Kind & Mercyful', 'Good', 'Good', 'Good', 'Good']}"
   ]
  },
  {
   "cell_type": "code",
   "execution_count": 4,
   "id": "fc1a8f67-570b-459f-8515-4cec159a9294",
   "metadata": {},
   "outputs": [],
   "source": [
    "df0 = pd.DataFrame(data)"
   ]
  },
  {
   "cell_type": "code",
   "execution_count": 5,
   "id": "fcede9f3-a8b2-442d-8d9d-0ab5a3b33a0f",
   "metadata": {},
   "outputs": [
    {
     "data": {
      "text/html": [
       "<div>\n",
       "<style scoped>\n",
       "    .dataframe tbody tr th:only-of-type {\n",
       "        vertical-align: middle;\n",
       "    }\n",
       "\n",
       "    .dataframe tbody tr th {\n",
       "        vertical-align: top;\n",
       "    }\n",
       "\n",
       "    .dataframe thead th {\n",
       "        text-align: right;\n",
       "    }\n",
       "</style>\n",
       "<table border=\"1\" class=\"dataframe\">\n",
       "  <thead>\n",
       "    <tr style=\"text-align: right;\">\n",
       "      <th></th>\n",
       "      <th>Name</th>\n",
       "      <th>Age</th>\n",
       "      <th>Work</th>\n",
       "      <th>Nature</th>\n",
       "    </tr>\n",
       "  </thead>\n",
       "  <tbody>\n",
       "    <tr>\n",
       "      <th>0</th>\n",
       "      <td>Ujjwal</td>\n",
       "      <td>20</td>\n",
       "      <td>Data Scientist</td>\n",
       "      <td>Kind &amp; Mercyful</td>\n",
       "    </tr>\n",
       "    <tr>\n",
       "      <th>1</th>\n",
       "      <td>Raju uncle</td>\n",
       "      <td>22</td>\n",
       "      <td>Ssc Cgl</td>\n",
       "      <td>Good</td>\n",
       "    </tr>\n",
       "    <tr>\n",
       "      <th>2</th>\n",
       "      <td>Vinod ji</td>\n",
       "      <td>45</td>\n",
       "      <td>Contractor</td>\n",
       "      <td>Good</td>\n",
       "    </tr>\n",
       "    <tr>\n",
       "      <th>3</th>\n",
       "      <td>Khushboo</td>\n",
       "      <td>24</td>\n",
       "      <td>Teacher</td>\n",
       "      <td>Good</td>\n",
       "    </tr>\n",
       "    <tr>\n",
       "      <th>4</th>\n",
       "      <td>Anita jais</td>\n",
       "      <td>39</td>\n",
       "      <td>Samaj Sevak</td>\n",
       "      <td>Good</td>\n",
       "    </tr>\n",
       "  </tbody>\n",
       "</table>\n",
       "</div>"
      ],
      "text/plain": [
       "         Name  Age            Work           Nature\n",
       "0      Ujjwal   20  Data Scientist  Kind & Mercyful\n",
       "1  Raju uncle   22         Ssc Cgl             Good\n",
       "2    Vinod ji   45      Contractor             Good\n",
       "3    Khushboo   24         Teacher             Good\n",
       "4  Anita jais   39     Samaj Sevak             Good"
      ]
     },
     "execution_count": 5,
     "metadata": {},
     "output_type": "execute_result"
    }
   ],
   "source": [
    "df0"
   ]
  },
  {
   "cell_type": "code",
   "execution_count": 6,
   "id": "7bd84301-8cb4-4d7d-b68a-07c104c43c49",
   "metadata": {},
   "outputs": [
    {
     "data": {
      "text/plain": [
       "pandas.core.frame.DataFrame"
      ]
     },
     "execution_count": 6,
     "metadata": {},
     "output_type": "execute_result"
    }
   ],
   "source": [
    "type(df0)"
   ]
  },
  {
   "cell_type": "code",
   "execution_count": 7,
   "id": "7723c668-486e-4534-a9af-a8d74dab9413",
   "metadata": {},
   "outputs": [],
   "source": [
    "#ex 2. read_csv() = this function used for reading file like csv,excel,json,etc\n",
    "\n",
    "df1 = pd.read_csv('my_world.csv')"
   ]
  },
  {
   "cell_type": "code",
   "execution_count": 8,
   "id": "cbe7df41-2ac9-421b-bf64-2608bbeb1fe1",
   "metadata": {},
   "outputs": [
    {
     "data": {
      "text/html": [
       "<div>\n",
       "<style scoped>\n",
       "    .dataframe tbody tr th:only-of-type {\n",
       "        vertical-align: middle;\n",
       "    }\n",
       "\n",
       "    .dataframe tbody tr th {\n",
       "        vertical-align: top;\n",
       "    }\n",
       "\n",
       "    .dataframe thead th {\n",
       "        text-align: right;\n",
       "    }\n",
       "</style>\n",
       "<table border=\"1\" class=\"dataframe\">\n",
       "  <thead>\n",
       "    <tr style=\"text-align: right;\">\n",
       "      <th></th>\n",
       "      <th>My_World</th>\n",
       "    </tr>\n",
       "  </thead>\n",
       "  <tbody>\n",
       "    <tr>\n",
       "      <th>0</th>\n",
       "      <td>Shree Ram</td>\n",
       "    </tr>\n",
       "    <tr>\n",
       "      <th>1</th>\n",
       "      <td>Sita Mata</td>\n",
       "    </tr>\n",
       "    <tr>\n",
       "      <th>2</th>\n",
       "      <td>Lakshman ji</td>\n",
       "    </tr>\n",
       "    <tr>\n",
       "      <th>3</th>\n",
       "      <td>Jai Hanuman</td>\n",
       "    </tr>\n",
       "    <tr>\n",
       "      <th>4</th>\n",
       "      <td>Bholenath</td>\n",
       "    </tr>\n",
       "    <tr>\n",
       "      <th>5</th>\n",
       "      <td>Hari Narayan</td>\n",
       "    </tr>\n",
       "    <tr>\n",
       "      <th>6</th>\n",
       "      <td>Kanhaiya</td>\n",
       "    </tr>\n",
       "    <tr>\n",
       "      <th>7</th>\n",
       "      <td>Parvati ji</td>\n",
       "    </tr>\n",
       "    <tr>\n",
       "      <th>8</th>\n",
       "      <td>Mata laxmi</td>\n",
       "    </tr>\n",
       "  </tbody>\n",
       "</table>\n",
       "</div>"
      ],
      "text/plain": [
       "       My_World\n",
       "0     Shree Ram\n",
       "1     Sita Mata\n",
       "2   Lakshman ji\n",
       "3   Jai Hanuman\n",
       "4     Bholenath\n",
       "5  Hari Narayan\n",
       "6      Kanhaiya\n",
       "7    Parvati ji\n",
       "8    Mata laxmi"
      ]
     },
     "execution_count": 8,
     "metadata": {},
     "output_type": "execute_result"
    }
   ],
   "source": [
    "df1"
   ]
  },
  {
   "cell_type": "code",
   "execution_count": 9,
   "id": "8599c69b-97e5-46d0-b62b-1005690e7e12",
   "metadata": {},
   "outputs": [
    {
     "data": {
      "text/plain": [
       "pandas.core.frame.DataFrame"
      ]
     },
     "execution_count": 9,
     "metadata": {},
     "output_type": "execute_result"
    }
   ],
   "source": [
    "type(df1)"
   ]
  },
  {
   "cell_type": "code",
   "execution_count": 10,
   "id": "0757e572-03dc-4f6d-8b5e-5b531802dcbd",
   "metadata": {},
   "outputs": [],
   "source": [
    "#ex 3. Series() = This is like dataframe but this show only 1-d data structure.\n",
    "\n",
    "df2 = pd.Series( [1,2,3,4,5] , [6,7,8,9,0])"
   ]
  },
  {
   "cell_type": "code",
   "execution_count": 11,
   "id": "19daaab5-1ce7-494b-bf79-b54fcc6c1d4c",
   "metadata": {},
   "outputs": [
    {
     "data": {
      "text/plain": [
       "6    1\n",
       "7    2\n",
       "8    3\n",
       "9    4\n",
       "0    5\n",
       "dtype: int64"
      ]
     },
     "execution_count": 11,
     "metadata": {},
     "output_type": "execute_result"
    }
   ],
   "source": [
    "df2"
   ]
  },
  {
   "cell_type": "code",
   "execution_count": 12,
   "id": "35d16823-c7a2-4d1c-8881-d92eefa6ca12",
   "metadata": {},
   "outputs": [
    {
     "data": {
      "text/plain": [
       "pandas.core.series.Series"
      ]
     },
     "execution_count": 12,
     "metadata": {},
     "output_type": "execute_result"
    }
   ],
   "source": [
    "type(df2)"
   ]
  },
  {
   "cell_type": "code",
   "execution_count": 13,
   "id": "7df45376-5776-4e05-b53f-87d00e8dad71",
   "metadata": {},
   "outputs": [
    {
     "data": {
      "text/html": [
       "<div>\n",
       "<style scoped>\n",
       "    .dataframe tbody tr th:only-of-type {\n",
       "        vertical-align: middle;\n",
       "    }\n",
       "\n",
       "    .dataframe tbody tr th {\n",
       "        vertical-align: top;\n",
       "    }\n",
       "\n",
       "    .dataframe thead th {\n",
       "        text-align: right;\n",
       "    }\n",
       "</style>\n",
       "<table border=\"1\" class=\"dataframe\">\n",
       "  <thead>\n",
       "    <tr style=\"text-align: right;\">\n",
       "      <th></th>\n",
       "      <th>My_World</th>\n",
       "    </tr>\n",
       "  </thead>\n",
       "  <tbody>\n",
       "    <tr>\n",
       "      <th>0</th>\n",
       "      <td>Shree Ram</td>\n",
       "    </tr>\n",
       "    <tr>\n",
       "      <th>1</th>\n",
       "      <td>Sita Mata</td>\n",
       "    </tr>\n",
       "    <tr>\n",
       "      <th>2</th>\n",
       "      <td>Lakshman ji</td>\n",
       "    </tr>\n",
       "    <tr>\n",
       "      <th>3</th>\n",
       "      <td>Jai Hanuman</td>\n",
       "    </tr>\n",
       "    <tr>\n",
       "      <th>4</th>\n",
       "      <td>Bholenath</td>\n",
       "    </tr>\n",
       "  </tbody>\n",
       "</table>\n",
       "</div>"
      ],
      "text/plain": [
       "      My_World\n",
       "0    Shree Ram\n",
       "1    Sita Mata\n",
       "2  Lakshman ji\n",
       "3  Jai Hanuman\n",
       "4    Bholenath"
      ]
     },
     "execution_count": 13,
     "metadata": {},
     "output_type": "execute_result"
    }
   ],
   "source": [
    "#ex 4. head() = this functions show first 5 rows of given dataframe\n",
    "\n",
    "df1.head()"
   ]
  },
  {
   "cell_type": "code",
   "execution_count": 14,
   "id": "923e1df6-b6e5-456d-9e1f-fdc8a40389b5",
   "metadata": {},
   "outputs": [
    {
     "data": {
      "text/html": [
       "<div>\n",
       "<style scoped>\n",
       "    .dataframe tbody tr th:only-of-type {\n",
       "        vertical-align: middle;\n",
       "    }\n",
       "\n",
       "    .dataframe tbody tr th {\n",
       "        vertical-align: top;\n",
       "    }\n",
       "\n",
       "    .dataframe thead th {\n",
       "        text-align: right;\n",
       "    }\n",
       "</style>\n",
       "<table border=\"1\" class=\"dataframe\">\n",
       "  <thead>\n",
       "    <tr style=\"text-align: right;\">\n",
       "      <th></th>\n",
       "      <th>My_World</th>\n",
       "    </tr>\n",
       "  </thead>\n",
       "  <tbody>\n",
       "    <tr>\n",
       "      <th>4</th>\n",
       "      <td>Bholenath</td>\n",
       "    </tr>\n",
       "    <tr>\n",
       "      <th>5</th>\n",
       "      <td>Hari Narayan</td>\n",
       "    </tr>\n",
       "    <tr>\n",
       "      <th>6</th>\n",
       "      <td>Kanhaiya</td>\n",
       "    </tr>\n",
       "    <tr>\n",
       "      <th>7</th>\n",
       "      <td>Parvati ji</td>\n",
       "    </tr>\n",
       "    <tr>\n",
       "      <th>8</th>\n",
       "      <td>Mata laxmi</td>\n",
       "    </tr>\n",
       "  </tbody>\n",
       "</table>\n",
       "</div>"
      ],
      "text/plain": [
       "       My_World\n",
       "4     Bholenath\n",
       "5  Hari Narayan\n",
       "6      Kanhaiya\n",
       "7    Parvati ji\n",
       "8    Mata laxmi"
      ]
     },
     "execution_count": 14,
     "metadata": {},
     "output_type": "execute_result"
    }
   ],
   "source": [
    "#ex 5. tail() = this is opposite of head() it show 5 rows from last\n",
    "\n",
    "df1.tail()"
   ]
  },
  {
   "cell_type": "code",
   "execution_count": null,
   "id": "8400c78d-5ab6-4fa0-a47b-999e8b032c53",
   "metadata": {},
   "outputs": [],
   "source": []
  },
  {
   "cell_type": "code",
   "execution_count": null,
   "id": "6257d988-19a2-4223-bf64-56557c5370fc",
   "metadata": {},
   "outputs": [],
   "source": [
    "'''Q2. Given a Pandas DataFrame df with columns 'A', 'B', and 'C', write a Python function to re-index the\n",
    "       DataFrame with a new index that starts from 1 and increments by 2 for each row.'''"
   ]
  },
  {
   "cell_type": "code",
   "execution_count": 65,
   "id": "aa6cf133-ce18-4a40-a387-6950449f7b27",
   "metadata": {},
   "outputs": [
    {
     "name": "stdout",
     "output_type": "stream",
     "text": [
      "Original DataFrame:\n",
      "               A              B              C\n",
      "0         Tarzan  Sasural simar   Chidiya Ghar\n",
      "1         Ra-one    Kerla story      Jini juju\n",
      "2  Kashmir files          ТМКОС  Ninja hattori\n",
      "3         Dangal   Balika Vadhu   Chhota bheem\n",
      "4       Sky High      Jini juju    Tom & Jerry\n"
     ]
    }
   ],
   "source": [
    "#Ans.\n",
    "\n",
    "data = {\n",
    "    'A': ['Tarzan', 'Ra-one', 'Kashmir files', 'Dangal', 'Sky High'],\n",
    "    'B': ['Sasural simar', 'Kerla story', 'ТМКОС', 'Balika Vadhu', 'Jini juju'],\n",
    "    'C': ['Chidiya Ghar', 'Jini juju', 'Ninja hattori', 'Chhota bheem', 'Tom & Jerry']\n",
    "}\n",
    "\n",
    "df = pd.DataFrame(data)\n",
    "\n",
    "print('Original DataFrame:')\n",
    "print(df)"
   ]
  },
  {
   "cell_type": "code",
   "execution_count": 72,
   "id": "296b7dca-8972-4384-860a-7665a8c5b234",
   "metadata": {},
   "outputs": [],
   "source": [
    "def re_index(df):\n",
    "    df = df.reset_index(drop = True)\n",
    "    df.index = pd.RangeIndex(start = 1 , stop = len(df)*2 , step = 2)\n",
    "    \n",
    "    return df"
   ]
  },
  {
   "cell_type": "code",
   "execution_count": 73,
   "id": "4f432f19-0409-4cdb-91e8-8204bb67ec3a",
   "metadata": {},
   "outputs": [
    {
     "name": "stdout",
     "output_type": "stream",
     "text": [
      "Re-Indexed DataFrame:\n",
      "               A              B              C\n",
      "1         Tarzan  Sasural simar   Chidiya Ghar\n",
      "3         Ra-one    Kerla story      Jini juju\n",
      "5  Kashmir files          ТМКОС  Ninja hattori\n",
      "7         Dangal   Balika Vadhu   Chhota bheem\n",
      "9       Sky High      Jini juju    Tom & Jerry\n"
     ]
    }
   ],
   "source": [
    "new_index = re_index(df)\n",
    "print('Re-Indexed DataFrame:')\n",
    "print(new_index)"
   ]
  },
  {
   "cell_type": "code",
   "execution_count": null,
   "id": "07fe8d63-71ea-4d69-90ec-ed65ff6022bd",
   "metadata": {},
   "outputs": [],
   "source": []
  },
  {
   "cell_type": "code",
   "execution_count": null,
   "id": "60daa8eb-8eda-4956-ba53-a50bd9912210",
   "metadata": {},
   "outputs": [],
   "source": [
    "'''Q3. You have a Pandas DataFrame df with a column named 'Values'. Write a Python function that iterates over the \n",
    "       DataFrame and calculates the sum of the first three values in the 'Values' column. The function should print the \n",
    "       sum to the console.\n",
    "       \n",
    "       For example, if the 'Values' column of df contains the values [10, 20, 30, 40, 50], your function should calculate\n",
    "       and print the sum of the first three values, which is 60.'''"
   ]
  },
  {
   "cell_type": "code",
   "execution_count": 50,
   "id": "84875df6-3d73-4944-adaa-87757eed55ce",
   "metadata": {},
   "outputs": [],
   "source": [
    "#Ans.\n",
    "\n",
    "#Creating data for dataframe\n",
    "data1 = {'Values' : [12,23,34,45,56,67,78,89,90]}\n",
    "\n",
    "#converting in dataframe\n",
    "df3 = pd.DataFrame(data1)"
   ]
  },
  {
   "cell_type": "code",
   "execution_count": 51,
   "id": "f4947a61-f13b-408d-87f0-dc772843dd28",
   "metadata": {},
   "outputs": [
    {
     "data": {
      "text/html": [
       "<div>\n",
       "<style scoped>\n",
       "    .dataframe tbody tr th:only-of-type {\n",
       "        vertical-align: middle;\n",
       "    }\n",
       "\n",
       "    .dataframe tbody tr th {\n",
       "        vertical-align: top;\n",
       "    }\n",
       "\n",
       "    .dataframe thead th {\n",
       "        text-align: right;\n",
       "    }\n",
       "</style>\n",
       "<table border=\"1\" class=\"dataframe\">\n",
       "  <thead>\n",
       "    <tr style=\"text-align: right;\">\n",
       "      <th></th>\n",
       "      <th>Values</th>\n",
       "    </tr>\n",
       "  </thead>\n",
       "  <tbody>\n",
       "    <tr>\n",
       "      <th>0</th>\n",
       "      <td>12</td>\n",
       "    </tr>\n",
       "    <tr>\n",
       "      <th>1</th>\n",
       "      <td>23</td>\n",
       "    </tr>\n",
       "    <tr>\n",
       "      <th>2</th>\n",
       "      <td>34</td>\n",
       "    </tr>\n",
       "    <tr>\n",
       "      <th>3</th>\n",
       "      <td>45</td>\n",
       "    </tr>\n",
       "    <tr>\n",
       "      <th>4</th>\n",
       "      <td>56</td>\n",
       "    </tr>\n",
       "    <tr>\n",
       "      <th>5</th>\n",
       "      <td>67</td>\n",
       "    </tr>\n",
       "    <tr>\n",
       "      <th>6</th>\n",
       "      <td>78</td>\n",
       "    </tr>\n",
       "    <tr>\n",
       "      <th>7</th>\n",
       "      <td>89</td>\n",
       "    </tr>\n",
       "    <tr>\n",
       "      <th>8</th>\n",
       "      <td>90</td>\n",
       "    </tr>\n",
       "  </tbody>\n",
       "</table>\n",
       "</div>"
      ],
      "text/plain": [
       "   Values\n",
       "0      12\n",
       "1      23\n",
       "2      34\n",
       "3      45\n",
       "4      56\n",
       "5      67\n",
       "6      78\n",
       "7      89\n",
       "8      90"
      ]
     },
     "execution_count": 51,
     "metadata": {},
     "output_type": "execute_result"
    }
   ],
   "source": [
    "df3"
   ]
  },
  {
   "cell_type": "code",
   "execution_count": 52,
   "id": "85fe7772-30a0-4c5d-83ad-c4cd9de6793c",
   "metadata": {},
   "outputs": [],
   "source": [
    "#making function\n",
    "def sum_of_three_rows(x):\n",
    "    \n",
    "    #initialize the sum variable \n",
    "    total_sum = 0\n",
    "    \n",
    "    #Iterate over the first three row of dataframe\n",
    "    for index, row in x.head(3).iterrows():\n",
    "        \n",
    "        #add the sum value of 'Values'to total sum\n",
    "        total_sum += row['Values']\n",
    "    \n",
    "    #return the sum\n",
    "    return total_sum"
   ]
  },
  {
   "cell_type": "code",
   "execution_count": 53,
   "id": "9f50fbb4-d950-4e18-85cc-dd75a4753984",
   "metadata": {},
   "outputs": [],
   "source": [
    "#assigning the function and enter dataframe\n",
    "sum_of = sum_of_three_rows(df3)"
   ]
  },
  {
   "cell_type": "code",
   "execution_count": 54,
   "id": "dc82d0de-bd37-4431-908a-e780b17cf3de",
   "metadata": {
    "tags": []
   },
   "outputs": [
    {
     "name": "stdout",
     "output_type": "stream",
     "text": [
      "69\n"
     ]
    }
   ],
   "source": [
    "#printing the varibale \n",
    "print(sum_of)"
   ]
  },
  {
   "cell_type": "code",
   "execution_count": null,
   "id": "fe3706c3-4714-48d6-9b08-c871a6bf776b",
   "metadata": {},
   "outputs": [],
   "source": []
  },
  {
   "cell_type": "code",
   "execution_count": null,
   "id": "9ba9e5d9-81c9-43c2-a187-dff59f7e8b9a",
   "metadata": {},
   "outputs": [],
   "source": [
    "'''Q4. Given a Pandas DataFrame df with a column 'Text', write a Python function to create a new column\n",
    "       'Word_Count' that contains the number of words in each row of the 'Text' column.'''"
   ]
  },
  {
   "cell_type": "code",
   "execution_count": 16,
   "id": "dbd08be0-36b1-4a9b-8145-5b2150ca424d",
   "metadata": {},
   "outputs": [],
   "source": [
    "#Ans.\n",
    "\n",
    "#to display complte text on screen\n",
    "pd.set_option('Display.max_Colwidth', 100000)\n",
    "\n",
    "#creating data\n",
    "data2 = {'Text' : ['Jai_Shree_Ram Jai_Shree_Ram Jai_Shree_Ram Jai_Shree_Ram Jai_Shree_Ram Jai_Shree_Ram Jai_Shree_Ram Jai_Shree_Ram Jai_Shree_Ram Jai_Shree_Ram Jai_Shree_Ram Jai_Shree_Ram Jai_Shree_Ram Jai_Shree_Ram Jai_Shree_Ram Jai_Shree_Ram Jai_Shree_Ram Jai_Shree_Ram Jai_Shree_Ram Jai_Shree_Ram Jai_Shree_Ram Jai_Shree_Ram Jai_Shree_Ram Jai_Shree_Ram Jai_Shree_Ram Jai_Shree_Ram Jai_Shree_Ram Jai_Shree_Ram Jai_Shree_Ram Jai_Shree_Ram Jai_Shree_Ram Jai_Shree_Ram Jai_Shree_Ram Jai_Shree_Ram Jai_Shree_Ram Jai_Shree_Ram Jai_Shree_Ram Jai_Shree_Ram Jai_Shree_Ram Jai_Shree_Ram Jai_Shree_Ram Jai_Shree_Ram Jai_Shree_Ram Jai_Shree_Ram Jai_Shree_Ram Jai_Shree_Ram Jai_Shree_Ram Jai_Shree_Ram Jai_Shree_Ram Jai_Shree_Ram Jai_Shree_Ram Jai_Shree_Ram Jai_Shree_Ram Jai_Shree_Ram Jai_Shree_Ram Jai_Shree_Ram Jai_Shree_Ram Jai_Shree_Ram Jai_Shree_Ram Jai_Shree_Ram Jai_Shree_Ram Jai_Shree_Ram Jai_Shree_Ram Jai_Shree_Ram Jai_Shree_Ram Jai_Shree_Ram Jai_Shree_Ram Jai_Shree_Ram Jai_Shree_Ram Jai_Shree_Ram Jai_Shree_Ram Jai_Shree_Ram Jai_Shree_Ram Jai_Shree_Ram Jai_Shree_Ram Jai_Shree_Ram Jai_Shree_Ram Jai_Shree_Ram Jai_Shree_Ram Jai_Shree_Ram Jai_Shree_Ram Jai_Shree_Ram Jai_Shree_Ram Jai_Shree_Ram Jai_Shree_Ram Jai_Shree_Ram Jai_Shree_Ram Jai_Shree_Ram Jai_Shree_Ram Jai_Shree_Ram Jai_Shree_Ram Jai_Shree_Ram Jai_Shree_Ram Jai_Shree_Ram Jai_Shree_Ram Jai_Shree_Ram Jai_Shree_Ram Jai_Shree_Ram Jai_Shree_Ram Jai_Shree_Ram Jai_Shree_Ram Jai_Shree_Ram Jai_Shree_Ram Jai_Shree_Ram Jai_Shree_Ram Jai_Shree_Ram Jai_Shree_Ram Jai_Shree_Ram Jai_Shree_Ram Jai_Shree_Ram Jai_Shree_Ram Jai_Shree_Ram Jai_Shree_Ram Jai_Shree_Ram Jai_Shree_Ram Jai_Shree_Ram Jai_Shree_Ram Jai_Shree_Ram Jai_Shree_Ram Jai_Shree_Ram Jai_Shree_Ram Jai_Shree_Ram Jai_Shree_Ram Jai_Shree_Ram Jai_Shree_Ram Jai_Shree_Ram Jai_Shree_Ram Jai_Shree_Ram Jai_Shree_Ram Jai_Shree_Ram Jai_Shree_Ram Jai_Shree_Ram Jai_Shree_Ram Jai_Shree_Ram Jai_Shree_Ram Jai_Shree_Ram Jai_Shree_Ram Jai_Shree_Ram Jai_Shree_Ram Jai_Shree_Ram Jai_Shree_Ram Jai_Shree_Ram Jai_Shree_Ram Jai_Shree_Ram Jai_Shree_Ram Jai_Shree_Ram Jai_Shree_Ram Jai_Shree_Ram Jai_Shree_Ram Jai_Shree_Ram Jai_Shree_Ram Jai_Shree_Ram Jai_Shree_Ram Jai_Shree_Ram Jai_Shree_Ram Jai_Shree_Ram Jai_Shree_Ram Jai_Shree_Ram Jai_Shree_Ram Jai_Shree_Ram Jai_Shree_Ram Jai_Shree_Ram Jai_Shree_Ram Jai_Shree_Ram Jai_Shree_Ram Jai_Shree_Ram Jai_Shree_Ram Jai_Shree_Ram Jai_Shree_Ram Jai_Shree_Ram Jai_Shree_Ram Jai_Shree_Ram Jai_Shree_Ram Jai_Shree_Ram Jai_Shree_Ram Jai_Shree_Ram Jai_Shree_Ram Jai_Shree_Ram Jai_Shree_Ram Jai_Shree_Ram Jai_Shree_Ram Jai_Shree_Ram Jai_Shree_Ram Jai_Shree_Ram Jai_Shree_Ram Jai_Shree_Ram Jai_Shree_Ram Jai_Shree_Ram Jai_Shree_Ram Jai_Shree_Ram Jai_Shree_Ram Jai_Shree_Ram Jai_Shree_Ram Jai_Shree_Ram Jai_Shree_Ram Jai_Shree_Ram Jai_Shree_Ram Jai_Shree_Ram Jai_Shree_Ram Jai_Shree_Ram Jai_Shree_Ram Jai_Shree_Ram Jai_Shree_Ram Jai_Shree_Ram Jai_Shree_Ram Jai_Shree_Ram Jai_Shree_Ram Jai_Shree_Ram Jai_Shree_Ram Jai_Shree_Ram Jai_Shree_Ram Jai_Shree_Ram Jai_Shree_Ram Jai_Shree_Ram Jai_Shree_Ram Jai_Shree_Ram Jai_Shree_Ram Jai_Shree_Ram Jai_Shree_Ram Jai_Shree_Ram Jai_Shree_Ram Jai_Shree_Ram Jai_Shree_Ram Jai_Shree_Ram Jai_Shree_Ram Jai_Shree_Ram Jai_Shree_Ram Jai_Shree_Ram Jai_Shree_Ram Jai_Shree_Ram Jai_Shree_Ram Jai_Shree_Ram Jai_Shree_Ram Jai_Shree_Ram Jai_Shree_Ram Jai_Shree_Ram Jai_Shree_Ram Jai_Shree_Ram Jai_Shree_Ram Jai_Shree_Ram Jai_Shree_Ram Jai_Shree_Ram Jai_Shree_Ram Jai_Shree_Ram Jai_Shree_Ram Jai_Shree_Ram Jai_Shree_Ram Jai_Shree_Ram Jai_Shree_Ram Jai_Shree_Ram Jai_Shree_Ram Jai_Shree_Ram Jai_Shree_Ram Jai_Shree_Ram Jai_Shree_Ram Jai_Shree_Ram Jai_Shree_Ram Jai_Shree_Ram Jai_Shree_Ram Jai_Shree_Ram Jai_Shree_Ram Jai_Shree_Ram Jai_Shree_Ram Jai_Shree_Ram Jai_Shree_Ram Jai_Shree_Ram Jai_Shree_Ram Jai_Shree_Ram Jai_Shree_Ram Jai_Shree_Ram Jai_Shree_Ram Jai_Shree_Ram Jai_Shree_Ram Jai_Shree_Ram Jai_Shree_Ram Jai_Shree_Ram Jai_Shree_Ram Jai_Shree_Ram Jai_Shree_Ram Jai_Shree_Ram Jai_Shree_Ram Jai_Shree_Ram Jai_Shree_Ram Jai_Shree_Ram Jai_Shree_Ram Jai_Shree_Ram Jai_Shree_Ram Jai_Shree_Ram Jai_Shree_Ram Jai_Shree_Ram Jai_Shree_Ram Jai_Shree_Ram Jai_Shree_Ram Jai_Shree_Ram Jai_Shree_Ram Jai_Shree_Ram Jai_Shree_Ram Jai_Shree_Ram Jai_Shree_Ram Jai_Shree_Ram Jai_Shree_Ram Jai_Shree_Ram Jai_Shree_Ram Jai_Shree_Ram Jai_Shree_Ram Jai_Shree_Ram Jai_Shree_Ram Jai_Shree_Ram Jai_Shree_Ram Jai_Shree_Ram Jai_Shree_Ram Jai_Shree_Ram Jai_Shree_Ram Jai_Shree_Ram Jai_Shree_Ram Jai_Shree_Ram Jai_Shree_Ram Jai_Shree_Ram Jai_Shree_Ram Jai_Shree_Ram Jai_Shree_Ram Jai_Shree_Ram Jai_Shree_Ram Jai_Shree_Ram Jai_Shree_Ram Jai_Shree_Ram Jai_Shree_Ram Jai_Shree_Ram Jai_Shree_Ram Jai_Shree_Ram Jai_Shree_Ram Jai_Shree_Ram Jai_Shree_Ram Jai_Shree_Ram Jai_Shree_Ram Jai_Shree_Ram Jai_Shree_Ram Jai_Shree_Ram Jai_Shree_Ram Jai_Shree_Ram Jai_Shree_Ram Jai_Shree_Ram Jai_Shree_Ram Jai_Shree_Ram Jai_Shree_Ram Jai_Shree_Ram Jai_Shree_Ram Jai_Shree_Ram Jai_Shree_Ram Jai_Shree_Ram Jai_Shree_Ram Jai_Shree_Ram Jai_Shree_Ram Jai_Shree_Ram Jai_Shree_Ram Jai_Shree_Ram Jai_Shree_Ram Jai_Shree_Ram Jai_Shree_Ram Jai_Shree_Ram Jai_Shree_Ram Jai_Shree_Ram Jai_Shree_Ram Jai_Shree_Ram Jai_Shree_Ram Jai_Shree_Ram Jai_Shree_Ram Jai_Shree_Ram Jai_Shree_Ram Jai_Shree_Ram Jai_Shree_Ram Jai_Shree_Ram Jai_Shree_Ram Jai_Shree_Ram Jai_Shree_Ram Jai_Shree_Ram Jai_Shree_Ram Jai_Shree_Ram Jai_Shree_Ram Jai_Shree_Ram Jai_Shree_Ram Jai_Shree_Ram Jai_Shree_Ram Jai_Shree_Ram Jai_Shree_Ram Jai_Shree_Ram Jai_Shree_Ram Jai_Shree_Ram Jai_Shree_Ram Jai_Shree_Ram Jai_Shree_Ram Jai_Shree_Ram Jai_Shree_Ram Jai_Shree_Ram Jai_Shree_Ram Jai_Shree_Ram Jai_Shree_Ram Jai_Shree_Ram Jai_Shree_Ram Jai_Shree_Ram Jai_Shree_Ram Jai_Shree_Ram Jai_Shree_Ram Jai_Shree_Ram Jai_Shree_Ram Jai_Shree_Ram Jai_Shree_Ram Jai_Shree_Ram Jai_Shree_Ram Jai_Shree_Ram Jai_Shree_Ram Jai_Shree_Ram Jai_Shree_Ram Jai_Shree_Ram Jai_Shree_Ram Jai_Shree_Ram Jai_Shree_Ram Jai_Shree_Ram Jai_Shree_Ram Jai_Shree_Ram Jai_Shree_Ram Jai_Shree_Ram Jai_Shree_Ram Jai_Shree_Ram Jai_Shree_Ram Jai_Shree_Ram Jai_Shree_Ram Jai_Shree_Ram Jai_Shree_Ram Jai_Shree_Ram Jai_Shree_Ram Jai_Shree_Ram Jai_Shree_Ram Jai_Shree_Ram Jai_Shree_Ram Jai_Shree_Ram Jai_Shree_Ram Jai_Shree_Ram Jai_Shree_Ram Jai_Shree_Ram Jai_Shree_Ram Jai_Shree_Ram Jai_Shree_Ram Jai_Shree_Ram Jai_Shree_Ram Jai_Shree_Ram Jai_Shree_Ram Jai_Shree_Ram Jai_Shree_Ram Jai_Shree_Ram Jai_Shree_Ram Jai_Shree_Ram Jai_Shree_Ram Jai_Shree_Ram Jai_Shree_Ram Jai_Shree_Ram Jai_Shree_Ram Jai_Shree_Ram Jai_Shree_Ram Jai_Shree_Ram Jai_Shree_Ram Jai_Shree_Ram Jai_Shree_Ram Jai_Shree_Ram Jai_Shree_Ram Jai_Shree_Ram Jai_Shree_Ram Jai_Shree_Ram Jai_Shree_Ram Jai_Shree_Ram Jai_Shree_Ram Jai_Shree_Ram Jai_Shree_Ram Jai_Shree_Ram Jai_Shree_Ram Jai_Shree_Ram Jai_Shree_Ram Jai_Shree_Ram Jai_Shree_Ram Jai_Shree_Ram Jai_Shree_Ram Jai_Shree_Ram Jai_Shree_Ram Jai_Shree_Ram Jai_Shree_Ram Jai_Shree_Ram Jai_Shree_Ram Jai_Shree_Ram Jai_Shree_Ram Jai_Shree_Ram Jai_Shree_Ram Jai_Shree_Ram Jai_Shree_Ram Jai_Shree_Ram Jai_Shree_Ram Jai_Shree_Ram Jai_Shree_Ram Jai_Shree_Ram Jai_Shree_Ram Jai_Shree_Ram Jai_Shree_Ram Jai_Shree_Ram Jai_Shree_Ram Jai_Shree_Ram Jai_Shree_Ram Jai_Shree_Ram Jai_Shree_Ram Jai_Shree_Ram Jai_Shree_Ram Jai_Shree_Ram Jai_Shree_Ram Jai_Shree_Ram Jai_Shree_Ram Jai_Shree_Ram Jai_Shree_Ram Jai_Shree_Ram Jai_Shree_Ram Jai_Shree_Ram Jai_Shree_Ram Jai_Shree_Ram Jai_Shree_Ram Jai_Shree_Ram Jai_Shree_Ram Jai_Shree_Ram Jai_Shree_Ram Jai_Shree_Ram Jai_Shree_Ram Jai_Shree_Ram Jai_Shree_Ram Jai_Shree_Ram Jai_Shree_Ram Jai_Shree_Ram Jai_Shree_Ram Jai_Shree_Ram Jai_Shree_Ram Jai_Shree_Ram Jai_Shree_Ram Jai_Shree_Ram Jai_Shree_Ram Jai_Shree_Ram Jai_Shree_Ram Jai_Shree_Ram Jai_Shree_Ram Jai_Shree_Ram Jai_Shree_Ram Jai_Shree_Ram Jai_Shree_Ram Jai_Shree_Ram Jai_Shree_Ram Jai_Shree_Ram Jai_Shree_Ram Jai_Shree_Ram Jai_Shree_Ram Jai_Shree_Ram Jai_Shree_Ram Jai_Shree_Ram Jai_Shree_Ram Jai_Shree_Ram Jai_Shree_Ram Jai_Shree_Ram Jai_Shree_Ram Jai_Shree_Ram Jai_Shree_Ram Jai_Shree_Ram Jai_Shree_Ram Jai_Shree_Ram Jai_Shree_Ram Jai_Shree_Ram Jai_Shree_Ram Jai_Shree_Ram Jai_Shree_Ram Jai_Shree_Ram Jai_Shree_Ram Jai_Shree_Ram Jai_Shree_Ram Jai_Shree_Ram Jai_Shree_Ram Jai_Shree_Ram Jai_Shree_Ram Jai_Shree_Ram Jai_Shree_Ram Jai_Shree_Ram Jai_Shree_Ram Jai_Shree_Ram Jai_Shree_Ram Jai_Shree_Ram Jai_Shree_Ram Jai_Shree_Ram Jai_Shree_Ram Jai_Shree_Ram Jai_Shree_Ram Jai_Shree_Ram Jai_Shree_Ram Jai_Shree_Ram Jai_Shree_Ram Jai_Shree_Ram Jai_Shree_Ram Jai_Shree_Ram Jai_Shree_Ram Jai_Shree_Ram Jai_Shree_Ram Jai_Shree_Ram Jai_Shree_Ram Jai_Shree_Ram Jai_Shree_Ram Jai_Shree_Ram Jai_Shree_Ram Jai_Shree_Ram Jai_Shree_Ram Jai_Shree_Ram Jai_Shree_Ram Jai_Shree_Ram Jai_Shree_Ram Jai_Shree_Ram Jai_Shree_Ram Jai_Shree_Ram Jai_Shree_Ram Jai_Shree_Ram Jai_Shree_Ram Jai_Shree_Ram Jai_Shree_Ram Jai_Shree_Ram Jai_Shree_Ram Jai_Shree_Ram Jai_Shree_Ram Jai_Shree_Ram Jai_Shree_Ram Jai_Shree_Ram Jai_Shree_Ram Jai_Shree_Ram Jai_Shree_Ram Jai_Shree_Ram Jai_Shree_Ram Jai_Shree_Ram Jai_Shree_Ram Jai_Shree_Ram Jai_Shree_Ram Jai_Shree_Ram Jai_Shree_Ram Jai_Shree_Ram Jai_Shree_Ram Jai_Shree_Ram Jai_Shree_Ram Jai_Shree_Ram Jai_Shree_Ram Jai_Shree_Ram Jai_Shree_Ram Jai_Shree_Ram Jai_Shree_Ram Jai_Shree_Ram Jai_Shree_Ram Jai_Shree_Ram Jai_Shree_Ram Jai_Shree_Ram Jai_Shree_Ram Jai_Shree_Ram Jai_Shree_Ram Jai_Shree_Ram Jai_Shree_Ram Jai_Shree_Ram Jai_Shree_Ram Jai_Shree_Ram Jai_Shree_Ram Jai_Shree_Ram Jai_Shree_Ram Jai_Shree_Ram Jai_Shree_Ram Jai_Shree_Ram Jai_Shree_Ram Jai_Shree_Ram Jai_Shree_Ram Jai_Shree_Ram Jai_Shree_Ram Jai_Shree_Ram Jai_Shree_Ram Jai_Shree_Ram Jai_Shree_Ram Jai_Shree_Ram Jai_Shree_Ram Jai_Shree_Ram Jai_Shree_Ram Jai_Shree_Ram Jai_Shree_Ram Jai_Shree_Ram Jai_Shree_Ram Jai_Shree_Ram Jai_Shree_Ram Jai_Shree_Ram Jai_Shree_Ram Jai_Shree_Ram Jai_Shree_Ram Jai_Shree_Ram Jai_Shree_Ram Jai_Shree_Ram Jai_Shree_Ram Jai_Shree_Ram Jai_Shree_Ram Jai_Shree_Ram Jai_Shree_Ram Jai_Shree_Ram Jai_Shree_Ram Jai_Shree_Ram Jai_Shree_Ram Jai_Shree_Ram Jai_Shree_Ram Jai_Shree_Ram Jai_Shree_Ram Jai_Shree_Ram Jai_Shree_Ram Jai_Shree_Ram Jai_Shree_Ram Jai_Shree_Ram Jai_Shree_Ram Jai_Shree_Ram Jai_Shree_Ram Jai_Shree_Ram Jai_Shree_Ram Jai_Shree_Ram Jai_Shree_Ram Jai_Shree_Ram Jai_Shree_Ram Jai_Shree_Ram Jai_Shree_Ram Jai_Shree_Ram Jai_Shree_Ram Jai_Shree_Ram Jai_Shree_Ram Jai_Shree_Ram Jai_Shree_Ram Jai_Shree_Ram Jai_Shree_Ram Jai_Shree_Ram Jai_Shree_Ram Jai_Shree_Ram Jai_Shree_Ram Jai_Shree_Ram Jai_Shree_Ram Jai_Shree_Ram Jai_Shree_Ram Jai_Shree_Ram Jai_Shree_Ram Jai_Shree_Ram Jai_Shree_Ram Jai_Shree_Ram Jai_Shree_Ram Jai_Shree_Ram Jai_Shree_Ram Jai_Shree_Ram Jai_Shree_Ram Jai_Shree_Ram Jai_Shree_Ram Jai_Shree_Ram Jai_Shree_Ram Jai_Shree_Ram Jai_Shree_Ram Jai_Shree_Ram Jai_Shree_Ram Jai_Shree_Ram Jai_Shree_Ram Jai_Shree_Ram Jai_Shree_Ram Jai_Shree_Ram Jai_Shree_Ram Jai_Shree_Ram Jai_Shree_Ram Jai_Shree_Ram Jai_Shree_Ram Jai_Shree_Ram Jai_Shree_Ram Jai_Shree_Ram Jai_Shree_Ram Jai_Shree_Ram Jai_Shree_Ram Jai_Shree_Ram Jai_Shree_Ram Jai_Shree_Ram Jai_Shree_Ram Jai_Shree_Ram Jai_Shree_Ram Jai_Shree_Ram Jai_Shree_Ram Jai_Shree_Ram Jai_Shree_Ram Jai_Shree_Ram Jai_Shree_Ram Jai_Shree_Ram Jai_Shree_Ram Jai_Shree_Ram Jai_Shree_Ram Jai_Shree_Ram Jai_Shree_Ram Jai_Shree_Ram Jai_Shree_Ram Jai_Shree_Ram Jai_Shree_Ram Jai_Shree_Ram Jai_Shree_Ram Jai_Shree_Ram Jai_Shree_Ram Jai_Shree_Ram Jai_Shree_Ram Jai_Shree_Ram Jai_Shree_Ram Jai_Shree_Ram Jai_Shree_Ram Jai_Shree_Ram Jai_Shree_Ram Jai_Shree_Ram Jai_Shree_Ram Jai_Shree_Ram Jai_Shree_Ram Jai_Shree_Ram Jai_Shree_Ram Jai_Shree_Ram Jai_Shree_Ram Jai_Shree_Ram Jai_Shree_Ram Jai_Shree_Ram Jai_Shree_Ram Jai_Shree_Ram Jai_Shree_Ram Jai_Shree_Ram Jai_Shree_Ram Jai_Shree_Ram Jai_Shree_Ram Jai_Shree_Ram Jai_Shree_Ram Jai_Shree_Ram Jai_Shree_Ram Jai_Shree_Ram Jai_Shree_Ram Jai_Shree_Ram Jai_Shree_Ram Jai_Shree_Ram Jai_Shree_Ram Jai_Shree_Ram Jai_Shree_Ram Jai_Shree_Ram Jai_Shree_Ram Jai_Shree_Ram Jai_Shree_Ram Jai_Shree_Ram Jai_Shree_Ram Jai_Shree_Ram Jai_Shree_Ram Jai_Shree_Ram Jai_Shree_Ram Jai_Shree_Ram Jai_Shree_Ram Jai_Shree_Ram Jai_Shree_Ram Jai_Shree_Ram Jai_Shree_Ram Jai_Shree_Ram Jai_Shree_Ram Jai_Shree_Ram Jai_Shree_Ram Jai_Shree_Ram Jai_Shree_Ram Jai_Shree_Ram Jai_Shree_Ram Jai_Shree_Ram Jai_Shree_Ram Jai_Shree_Ram Jai_Shree_Ram Jai_Shree_Ram Jai_Shree_Ram Jai_Shree_Ram Jai_Shree_Ram Jai_Shree_Ram Jai_Shree_Ram Jai_Shree_Ram Jai_Shree_Ram Jai_Shree_Ram Jai_Shree_Ram Jai_Shree_Ram Jai_Shree_Ram Jai_Shree_Ram Jai_Shree_Ram Jai_Shree_Ram Jai_Shree_Ram Jai_Shree_Ram Jai_Shree_Ram Jai_Shree_Ram Jai_Shree_Ram Jai_Shree_Ram Jai_Shree_Ram Jai_Shree_Ram Jai_Shree_Ram Jai_Shree_Ram Jai_Shree_Ram Jai_Shree_Ram Jai_Shree_Ram Jai_Shree_Ram Jai_Shree_Ram Jai_Shree_Ram Jai_Shree_Ram Jai_Shree_Ram Jai_Shree_Ram Jai_Shree_Ram Jai_Shree_Ram Jai_Shree_Ram Jai_Shree_Ram Jai_Shree_Ram Jai_Shree_Ram Jai_Shree_Ram Jai_Shree_Ram Jai_Shree_Ram Jai_Shree_Ram Jai_Shree_Ram Jai_Shree_Ram Jai_Shree_Ram Jai_Shree_Ram Jai_Shree_Ram Jai_Shree_Ram Jai_Shree_Ram Jai_Shree_Ram Jai_Shree_Ram Jai_Shree_Ram Jai_Shree_Ram Jai_Shree_Ram Jai_Shree_Ram Jai_Shree_Ram Jai_Shree_Ram Jai_Shree_Ram Jai_Shree_Ram Jai_Shree_Ram Jai_Shree_Ram Jai_Shree_Ram Jai_Shree_Ram Jai_Shree_Ram Jai_Shree_Ram Jai_Shree_Ram Jai_Shree_Ram Jai_Shree_Ram Jai_Shree_Ram Jai_Shree_Ram Jai_Shree_Ram Jai_Shree_Ram Jai_Shree_Ram Jai_Shree_Ram Jai_Shree_Ram Jai_Shree_Ram Jai_Shree_Ram Jai_Shree_Ram Jai_Shree_Ram Jai_Shree_Ram Jai_Shree_Ram Jai_Shree_Ram Jai_Shree_Ram Jai_Shree_Ram Jai_Shree_Ram Jai_Shree_Ram Jai_Shree_Ram Jai_Shree_Ram Jai_Shree_Ram Jai_Shree_Ram Jai_Shree_Ram Jai_Shree_Ram Jai_Shree_Ram Jai_Shree_Ram Jai_Shree_Ram Jai_Shree_Ram Jai_Shree_Ram Jai_Shree_Ram Jai_Shree_Ram Jai_Shree_Ram Jai_Shree_Ram Jai_Shree_Ram Jai_Shree_Ram Jai_Shree_Ram Jai_Shree_Ram Jai_Shree_Ram Jai_Shree_Ram Jai_Shree_Ram Jai_Shree_Ram Jai_Shree_Ram Jai_Shree_Ram Jai_Shree_Ram Jai_Shree_Ram Jai_Shree_Ram Jai_Shree_Ram Jai_Shree_Ram Jai_Shree_Ram Jai_Shree_Ram Jai_Shree_Ram Jai_Shree_Ram Jai_Shree_Ram Jai_Shree_Ram Jai_Shree_Ram Jai_Shree_Ram Jai_Shree_Ram Jai_Shree_Ram Jai_Shree_Ram Jai_Shree_Ram Jai_Shree_Ram Jai_Shree_Ram Jai_Shree_Ram Jai_Shree_Ram Jai_Shree_Ram Jai_Shree_Ram Jai_Shree_Ram Jai_Shree_Ram Jai_Shree_Ram Jai_Shree_Ram Jai_Shree_Ram Jai_Shree_Ram Jai_Shree_Ram']}\n",
    "\n",
    "#converting data to dataframe\n",
    "df4 = pd.DataFrame(data2)"
   ]
  },
  {
   "cell_type": "code",
   "execution_count": 17,
   "id": "bfe0dfa7-9452-4005-9cce-c798ecfded8a",
   "metadata": {},
   "outputs": [
    {
     "data": {
      "text/html": [
       "<div>\n",
       "<style scoped>\n",
       "    .dataframe tbody tr th:only-of-type {\n",
       "        vertical-align: middle;\n",
       "    }\n",
       "\n",
       "    .dataframe tbody tr th {\n",
       "        vertical-align: top;\n",
       "    }\n",
       "\n",
       "    .dataframe thead th {\n",
       "        text-align: right;\n",
       "    }\n",
       "</style>\n",
       "<table border=\"1\" class=\"dataframe\">\n",
       "  <thead>\n",
       "    <tr style=\"text-align: right;\">\n",
       "      <th></th>\n",
       "      <th>Text</th>\n",
       "    </tr>\n",
       "  </thead>\n",
       "  <tbody>\n",
       "    <tr>\n",
       "      <th>0</th>\n",
       "      <td>Jai_Shree_Ram Jai_Shree_Ram Jai_Shree_Ram Jai_Shree_Ram Jai_Shree_Ram Jai_Shree_Ram Jai_Shree_Ram Jai_Shree_Ram Jai_Shree_Ram Jai_Shree_Ram Jai_Shree_Ram Jai_Shree_Ram Jai_Shree_Ram Jai_Shree_Ram Jai_Shree_Ram Jai_Shree_Ram Jai_Shree_Ram Jai_Shree_Ram Jai_Shree_Ram Jai_Shree_Ram Jai_Shree_Ram Jai_Shree_Ram Jai_Shree_Ram Jai_Shree_Ram Jai_Shree_Ram Jai_Shree_Ram Jai_Shree_Ram Jai_Shree_Ram Jai_Shree_Ram Jai_Shree_Ram Jai_Shree_Ram Jai_Shree_Ram Jai_Shree_Ram Jai_Shree_Ram Jai_Shree_Ram Jai_Shree_Ram Jai_Shree_Ram Jai_Shree_Ram Jai_Shree_Ram Jai_Shree_Ram Jai_Shree_Ram Jai_Shree_Ram Jai_Shree_Ram Jai_Shree_Ram Jai_Shree_Ram Jai_Shree_Ram Jai_Shree_Ram Jai_Shree_Ram Jai_Shree_Ram Jai_Shree_Ram Jai_Shree_Ram Jai_Shree_Ram Jai_Shree_Ram Jai_Shree_Ram Jai_Shree_Ram Jai_Shree_Ram Jai_Shree_Ram Jai_Shree_Ram Jai_Shree_Ram Jai_Shree_Ram Jai_Shree_Ram Jai_Shree_Ram Jai_Shree_Ram Jai_Shree_Ram Jai_Shree_Ram Jai_Shree_Ram Jai_Shree_Ram Jai_Shree_Ram Jai_Shree_Ram Jai_Shree_Ram Jai_Shree_Ram Jai_Shree_Ram Jai_Shree_Ram Jai_Shree_Ram Jai_Shree_Ram Jai_Shree_Ram Jai_Shree_Ram Jai_Shree_Ram Jai_Shree_Ram Jai_Shree_Ram Jai_Shree_Ram Jai_Shree_Ram Jai_Shree_Ram Jai_Shree_Ram Jai_Shree_Ram Jai_Shree_Ram Jai_Shree_Ram Jai_Shree_Ram Jai_Shree_Ram Jai_Shree_Ram Jai_Shree_Ram Jai_Shree_Ram Jai_Shree_Ram Jai_Shree_Ram Jai_Shree_Ram Jai_Shree_Ram Jai_Shree_Ram Jai_Shree_Ram Jai_Shree_Ram Jai_Shree_Ram Jai_Shree_Ram Jai_Shree_Ram Jai_Shree_Ram Jai_Shree_Ram Jai_Shree_Ram Jai_Shree_Ram Jai_Shree_Ram Jai_Shree_Ram Jai_Shree_Ram Jai_Shree_Ram Jai_Shree_Ram Jai_Shree_Ram Jai_Shree_Ram Jai_Shree_Ram Jai_Shree_Ram Jai_Shree_Ram Jai_Shree_Ram Jai_Shree_Ram Jai_Shree_Ram Jai_Shree_Ram Jai_Shree_Ram Jai_Shree_Ram Jai_Shree_Ram Jai_Shree_Ram Jai_Shree_Ram Jai_Shree_Ram Jai_Shree_Ram Jai_Shree_Ram Jai_Shree_Ram Jai_Shree_Ram Jai_Shree_Ram Jai_Shree_Ram Jai_Shree_Ram Jai_Shree_Ram Jai_Shree_Ram Jai_Shree_Ram Jai_Shree_Ram Jai_Shree_Ram Jai_Shree_Ram Jai_Shree_Ram Jai_Shree_Ram Jai_Shree_Ram Jai_Shree_Ram Jai_Shree_Ram Jai_Shree_Ram Jai_Shree_Ram Jai_Shree_Ram Jai_Shree_Ram Jai_Shree_Ram Jai_Shree_Ram Jai_Shree_Ram Jai_Shree_Ram Jai_Shree_Ram Jai_Shree_Ram Jai_Shree_Ram Jai_Shree_Ram Jai_Shree_Ram Jai_Shree_Ram Jai_Shree_Ram Jai_Shree_Ram Jai_Shree_Ram Jai_Shree_Ram Jai_Shree_Ram Jai_Shree_Ram Jai_Shree_Ram Jai_Shree_Ram Jai_Shree_Ram Jai_Shree_Ram Jai_Shree_Ram Jai_Shree_Ram Jai_Shree_Ram Jai_Shree_Ram Jai_Shree_Ram Jai_Shree_Ram Jai_Shree_Ram Jai_Shree_Ram Jai_Shree_Ram Jai_Shree_Ram Jai_Shree_Ram Jai_Shree_Ram Jai_Shree_Ram Jai_Shree_Ram Jai_Shree_Ram Jai_Shree_Ram Jai_Shree_Ram Jai_Shree_Ram Jai_Shree_Ram Jai_Shree_Ram Jai_Shree_Ram Jai_Shree_Ram Jai_Shree_Ram Jai_Shree_Ram Jai_Shree_Ram Jai_Shree_Ram Jai_Shree_Ram Jai_Shree_Ram Jai_Shree_Ram Jai_Shree_Ram Jai_Shree_Ram Jai_Shree_Ram Jai_Shree_Ram Jai_Shree_Ram Jai_Shree_Ram Jai_Shree_Ram Jai_Shree_Ram Jai_Shree_Ram Jai_Shree_Ram Jai_Shree_Ram Jai_Shree_Ram Jai_Shree_Ram Jai_Shree_Ram Jai_Shree_Ram Jai_Shree_Ram Jai_Shree_Ram Jai_Shree_Ram Jai_Shree_Ram Jai_Shree_Ram Jai_Shree_Ram Jai_Shree_Ram Jai_Shree_Ram Jai_Shree_Ram Jai_Shree_Ram Jai_Shree_Ram Jai_Shree_Ram Jai_Shree_Ram Jai_Shree_Ram Jai_Shree_Ram Jai_Shree_Ram Jai_Shree_Ram Jai_Shree_Ram Jai_Shree_Ram Jai_Shree_Ram Jai_Shree_Ram Jai_Shree_Ram Jai_Shree_Ram Jai_Shree_Ram Jai_Shree_Ram Jai_Shree_Ram Jai_Shree_Ram Jai_Shree_Ram Jai_Shree_Ram Jai_Shree_Ram Jai_Shree_Ram Jai_Shree_Ram Jai_Shree_Ram Jai_Shree_Ram Jai_Shree_Ram Jai_Shree_Ram Jai_Shree_Ram Jai_Shree_Ram Jai_Shree_Ram Jai_Shree_Ram Jai_Shree_Ram Jai_Shree_Ram Jai_Shree_Ram Jai_Shree_Ram Jai_Shree_Ram Jai_Shree_Ram Jai_Shree_Ram Jai_Shree_Ram Jai_Shree_Ram Jai_Shree_Ram Jai_Shree_Ram Jai_Shree_Ram Jai_Shree_Ram Jai_Shree_Ram Jai_Shree_Ram Jai_Shree_Ram Jai_Shree_Ram Jai_Shree_Ram Jai_Shree_Ram Jai_Shree_Ram Jai_Shree_Ram Jai_Shree_Ram Jai_Shree_Ram Jai_Shree_Ram Jai_Shree_Ram Jai_Shree_Ram Jai_Shree_Ram Jai_Shree_Ram Jai_Shree_Ram Jai_Shree_Ram Jai_Shree_Ram Jai_Shree_Ram Jai_Shree_Ram Jai_Shree_Ram Jai_Shree_Ram Jai_Shree_Ram Jai_Shree_Ram Jai_Shree_Ram Jai_Shree_Ram Jai_Shree_Ram Jai_Shree_Ram Jai_Shree_Ram Jai_Shree_Ram Jai_Shree_Ram Jai_Shree_Ram Jai_Shree_Ram Jai_Shree_Ram Jai_Shree_Ram Jai_Shree_Ram Jai_Shree_Ram Jai_Shree_Ram Jai_Shree_Ram Jai_Shree_Ram Jai_Shree_Ram Jai_Shree_Ram Jai_Shree_Ram Jai_Shree_Ram Jai_Shree_Ram Jai_Shree_Ram Jai_Shree_Ram Jai_Shree_Ram Jai_Shree_Ram Jai_Shree_Ram Jai_Shree_Ram Jai_Shree_Ram Jai_Shree_Ram Jai_Shree_Ram Jai_Shree_Ram Jai_Shree_Ram Jai_Shree_Ram Jai_Shree_Ram Jai_Shree_Ram Jai_Shree_Ram Jai_Shree_Ram Jai_Shree_Ram Jai_Shree_Ram Jai_Shree_Ram Jai_Shree_Ram Jai_Shree_Ram Jai_Shree_Ram Jai_Shree_Ram Jai_Shree_Ram Jai_Shree_Ram Jai_Shree_Ram Jai_Shree_Ram Jai_Shree_Ram Jai_Shree_Ram Jai_Shree_Ram Jai_Shree_Ram Jai_Shree_Ram Jai_Shree_Ram Jai_Shree_Ram Jai_Shree_Ram Jai_Shree_Ram Jai_Shree_Ram Jai_Shree_Ram Jai_Shree_Ram Jai_Shree_Ram Jai_Shree_Ram Jai_Shree_Ram Jai_Shree_Ram Jai_Shree_Ram Jai_Shree_Ram Jai_Shree_Ram Jai_Shree_Ram Jai_Shree_Ram Jai_Shree_Ram Jai_Shree_Ram Jai_Shree_Ram Jai_Shree_Ram Jai_Shree_Ram Jai_Shree_Ram Jai_Shree_Ram Jai_Shree_Ram Jai_Shree_Ram Jai_Shree_Ram Jai_Shree_Ram Jai_Shree_Ram Jai_Shree_Ram Jai_Shree_Ram Jai_Shree_Ram Jai_Shree_Ram Jai_Shree_Ram Jai_Shree_Ram Jai_Shree_Ram Jai_Shree_Ram Jai_Shree_Ram Jai_Shree_Ram Jai_Shree_Ram Jai_Shree_Ram Jai_Shree_Ram Jai_Shree_Ram Jai_Shree_Ram Jai_Shree_Ram Jai_Shree_Ram Jai_Shree_Ram Jai_Shree_Ram Jai_Shree_Ram Jai_Shree_Ram Jai_Shree_Ram Jai_Shree_Ram Jai_Shree_Ram Jai_Shree_Ram Jai_Shree_Ram Jai_Shree_Ram Jai_Shree_Ram Jai_Shree_Ram Jai_Shree_Ram Jai_Shree_Ram Jai_Shree_Ram Jai_Shree_Ram Jai_Shree_Ram Jai_Shree_Ram Jai_Shree_Ram Jai_Shree_Ram Jai_Shree_Ram Jai_Shree_Ram Jai_Shree_Ram Jai_Shree_Ram Jai_Shree_Ram Jai_Shree_Ram Jai_Shree_Ram Jai_Shree_Ram Jai_Shree_Ram Jai_Shree_Ram Jai_Shree_Ram Jai_Shree_Ram Jai_Shree_Ram Jai_Shree_Ram Jai_Shree_Ram Jai_Shree_Ram Jai_Shree_Ram Jai_Shree_Ram Jai_Shree_Ram Jai_Shree_Ram Jai_Shree_Ram Jai_Shree_Ram Jai_Shree_Ram Jai_Shree_Ram Jai_Shree_Ram Jai_Shree_Ram Jai_Shree_Ram Jai_Shree_Ram Jai_Shree_Ram Jai_Shree_Ram Jai_Shree_Ram Jai_Shree_Ram Jai_Shree_Ram Jai_Shree_Ram Jai_Shree_Ram Jai_Shree_Ram Jai_Shree_Ram Jai_Shree_Ram Jai_Shree_Ram Jai_Shree_Ram Jai_Shree_Ram Jai_Shree_Ram Jai_Shree_Ram Jai_Shree_Ram Jai_Shree_Ram Jai_Shree_Ram Jai_Shree_Ram Jai_Shree_Ram Jai_Shree_Ram Jai_Shree_Ram Jai_Shree_Ram Jai_Shree_Ram Jai_Shree_Ram Jai_Shree_Ram Jai_Shree_Ram Jai_Shree_Ram Jai_Shree_Ram Jai_Shree_Ram Jai_Shree_Ram Jai_Shree_Ram Jai_Shree_Ram Jai_Shree_Ram Jai_Shree_Ram Jai_Shree_Ram Jai_Shree_Ram Jai_Shree_Ram Jai_Shree_Ram Jai_Shree_Ram Jai_Shree_Ram Jai_Shree_Ram Jai_Shree_Ram Jai_Shree_Ram Jai_Shree_Ram Jai_Shree_Ram Jai_Shree_Ram Jai_Shree_Ram Jai_Shree_Ram Jai_Shree_Ram Jai_Shree_Ram Jai_Shree_Ram Jai_Shree_Ram Jai_Shree_Ram Jai_Shree_Ram Jai_Shree_Ram Jai_Shree_Ram Jai_Shree_Ram Jai_Shree_Ram Jai_Shree_Ram Jai_Shree_Ram Jai_Shree_Ram Jai_Shree_Ram Jai_Shree_Ram Jai_Shree_Ram Jai_Shree_Ram Jai_Shree_Ram Jai_Shree_Ram Jai_Shree_Ram Jai_Shree_Ram Jai_Shree_Ram Jai_Shree_Ram Jai_Shree_Ram Jai_Shree_Ram Jai_Shree_Ram Jai_Shree_Ram Jai_Shree_Ram Jai_Shree_Ram Jai_Shree_Ram Jai_Shree_Ram Jai_Shree_Ram Jai_Shree_Ram Jai_Shree_Ram Jai_Shree_Ram Jai_Shree_Ram Jai_Shree_Ram Jai_Shree_Ram Jai_Shree_Ram Jai_Shree_Ram Jai_Shree_Ram Jai_Shree_Ram Jai_Shree_Ram Jai_Shree_Ram Jai_Shree_Ram Jai_Shree_Ram Jai_Shree_Ram Jai_Shree_Ram Jai_Shree_Ram Jai_Shree_Ram Jai_Shree_Ram Jai_Shree_Ram Jai_Shree_Ram Jai_Shree_Ram Jai_Shree_Ram Jai_Shree_Ram Jai_Shree_Ram Jai_Shree_Ram Jai_Shree_Ram Jai_Shree_Ram Jai_Shree_Ram Jai_Shree_Ram Jai_Shree_Ram Jai_Shree_Ram Jai_Shree_Ram Jai_Shree_Ram Jai_Shree_Ram Jai_Shree_Ram Jai_Shree_Ram Jai_Shree_Ram Jai_Shree_Ram Jai_Shree_Ram Jai_Shree_Ram Jai_Shree_Ram Jai_Shree_Ram Jai_Shree_Ram Jai_Shree_Ram Jai_Shree_Ram Jai_Shree_Ram Jai_Shree_Ram Jai_Shree_Ram Jai_Shree_Ram Jai_Shree_Ram Jai_Shree_Ram Jai_Shree_Ram Jai_Shree_Ram Jai_Shree_Ram Jai_Shree_Ram Jai_Shree_Ram Jai_Shree_Ram Jai_Shree_Ram Jai_Shree_Ram Jai_Shree_Ram Jai_Shree_Ram Jai_Shree_Ram Jai_Shree_Ram Jai_Shree_Ram Jai_Shree_Ram Jai_Shree_Ram Jai_Shree_Ram Jai_Shree_Ram Jai_Shree_Ram Jai_Shree_Ram Jai_Shree_Ram Jai_Shree_Ram Jai_Shree_Ram Jai_Shree_Ram Jai_Shree_Ram Jai_Shree_Ram Jai_Shree_Ram Jai_Shree_Ram Jai_Shree_Ram Jai_Shree_Ram Jai_Shree_Ram Jai_Shree_Ram Jai_Shree_Ram Jai_Shree_Ram Jai_Shree_Ram Jai_Shree_Ram Jai_Shree_Ram Jai_Shree_Ram Jai_Shree_Ram Jai_Shree_Ram Jai_Shree_Ram Jai_Shree_Ram Jai_Shree_Ram Jai_Shree_Ram Jai_Shree_Ram Jai_Shree_Ram Jai_Shree_Ram Jai_Shree_Ram Jai_Shree_Ram Jai_Shree_Ram Jai_Shree_Ram Jai_Shree_Ram Jai_Shree_Ram Jai_Shree_Ram Jai_Shree_Ram Jai_Shree_Ram Jai_Shree_Ram Jai_Shree_Ram Jai_Shree_Ram Jai_Shree_Ram Jai_Shree_Ram Jai_Shree_Ram Jai_Shree_Ram Jai_Shree_Ram Jai_Shree_Ram Jai_Shree_Ram Jai_Shree_Ram Jai_Shree_Ram Jai_Shree_Ram Jai_Shree_Ram Jai_Shree_Ram Jai_Shree_Ram Jai_Shree_Ram Jai_Shree_Ram Jai_Shree_Ram Jai_Shree_Ram Jai_Shree_Ram Jai_Shree_Ram Jai_Shree_Ram Jai_Shree_Ram Jai_Shree_Ram Jai_Shree_Ram Jai_Shree_Ram Jai_Shree_Ram Jai_Shree_Ram Jai_Shree_Ram Jai_Shree_Ram Jai_Shree_Ram Jai_Shree_Ram Jai_Shree_Ram Jai_Shree_Ram Jai_Shree_Ram Jai_Shree_Ram Jai_Shree_Ram Jai_Shree_Ram Jai_Shree_Ram Jai_Shree_Ram Jai_Shree_Ram Jai_Shree_Ram Jai_Shree_Ram Jai_Shree_Ram Jai_Shree_Ram Jai_Shree_Ram Jai_Shree_Ram Jai_Shree_Ram Jai_Shree_Ram Jai_Shree_Ram Jai_Shree_Ram Jai_Shree_Ram Jai_Shree_Ram Jai_Shree_Ram Jai_Shree_Ram Jai_Shree_Ram Jai_Shree_Ram Jai_Shree_Ram Jai_Shree_Ram Jai_Shree_Ram Jai_Shree_Ram Jai_Shree_Ram Jai_Shree_Ram Jai_Shree_Ram Jai_Shree_Ram Jai_Shree_Ram Jai_Shree_Ram Jai_Shree_Ram Jai_Shree_Ram Jai_Shree_Ram Jai_Shree_Ram Jai_Shree_Ram Jai_Shree_Ram Jai_Shree_Ram Jai_Shree_Ram Jai_Shree_Ram Jai_Shree_Ram Jai_Shree_Ram Jai_Shree_Ram Jai_Shree_Ram Jai_Shree_Ram Jai_Shree_Ram Jai_Shree_Ram Jai_Shree_Ram Jai_Shree_Ram Jai_Shree_Ram Jai_Shree_Ram Jai_Shree_Ram Jai_Shree_Ram Jai_Shree_Ram Jai_Shree_Ram Jai_Shree_Ram Jai_Shree_Ram Jai_Shree_Ram Jai_Shree_Ram Jai_Shree_Ram Jai_Shree_Ram Jai_Shree_Ram Jai_Shree_Ram Jai_Shree_Ram Jai_Shree_Ram Jai_Shree_Ram Jai_Shree_Ram Jai_Shree_Ram Jai_Shree_Ram Jai_Shree_Ram Jai_Shree_Ram Jai_Shree_Ram Jai_Shree_Ram Jai_Shree_Ram Jai_Shree_Ram Jai_Shree_Ram Jai_Shree_Ram Jai_Shree_Ram Jai_Shree_Ram Jai_Shree_Ram Jai_Shree_Ram Jai_Shree_Ram Jai_Shree_Ram Jai_Shree_Ram Jai_Shree_Ram Jai_Shree_Ram Jai_Shree_Ram Jai_Shree_Ram Jai_Shree_Ram Jai_Shree_Ram Jai_Shree_Ram Jai_Shree_Ram Jai_Shree_Ram Jai_Shree_Ram Jai_Shree_Ram Jai_Shree_Ram Jai_Shree_Ram Jai_Shree_Ram Jai_Shree_Ram Jai_Shree_Ram Jai_Shree_Ram Jai_Shree_Ram Jai_Shree_Ram Jai_Shree_Ram Jai_Shree_Ram Jai_Shree_Ram Jai_Shree_Ram Jai_Shree_Ram Jai_Shree_Ram Jai_Shree_Ram Jai_Shree_Ram Jai_Shree_Ram Jai_Shree_Ram Jai_Shree_Ram Jai_Shree_Ram Jai_Shree_Ram Jai_Shree_Ram Jai_Shree_Ram Jai_Shree_Ram Jai_Shree_Ram Jai_Shree_Ram Jai_Shree_Ram Jai_Shree_Ram Jai_Shree_Ram Jai_Shree_Ram Jai_Shree_Ram Jai_Shree_Ram Jai_Shree_Ram Jai_Shree_Ram Jai_Shree_Ram Jai_Shree_Ram Jai_Shree_Ram Jai_Shree_Ram Jai_Shree_Ram Jai_Shree_Ram Jai_Shree_Ram Jai_Shree_Ram Jai_Shree_Ram Jai_Shree_Ram Jai_Shree_Ram Jai_Shree_Ram Jai_Shree_Ram Jai_Shree_Ram Jai_Shree_Ram Jai_Shree_Ram Jai_Shree_Ram Jai_Shree_Ram Jai_Shree_Ram Jai_Shree_Ram Jai_Shree_Ram Jai_Shree_Ram Jai_Shree_Ram Jai_Shree_Ram Jai_Shree_Ram Jai_Shree_Ram Jai_Shree_Ram Jai_Shree_Ram Jai_Shree_Ram Jai_Shree_Ram Jai_Shree_Ram Jai_Shree_Ram Jai_Shree_Ram Jai_Shree_Ram Jai_Shree_Ram Jai_Shree_Ram Jai_Shree_Ram Jai_Shree_Ram Jai_Shree_Ram Jai_Shree_Ram Jai_Shree_Ram Jai_Shree_Ram Jai_Shree_Ram Jai_Shree_Ram Jai_Shree_Ram Jai_Shree_Ram Jai_Shree_Ram Jai_Shree_Ram Jai_Shree_Ram Jai_Shree_Ram Jai_Shree_Ram Jai_Shree_Ram Jai_Shree_Ram Jai_Shree_Ram Jai_Shree_Ram Jai_Shree_Ram Jai_Shree_Ram Jai_Shree_Ram Jai_Shree_Ram Jai_Shree_Ram Jai_Shree_Ram Jai_Shree_Ram Jai_Shree_Ram Jai_Shree_Ram Jai_Shree_Ram Jai_Shree_Ram Jai_Shree_Ram Jai_Shree_Ram Jai_Shree_Ram Jai_Shree_Ram Jai_Shree_Ram Jai_Shree_Ram Jai_Shree_Ram Jai_Shree_Ram Jai_Shree_Ram Jai_Shree_Ram Jai_Shree_Ram Jai_Shree_Ram Jai_Shree_Ram Jai_Shree_Ram Jai_Shree_Ram Jai_Shree_Ram Jai_Shree_Ram Jai_Shree_Ram Jai_Shree_Ram Jai_Shree_Ram Jai_Shree_Ram Jai_Shree_Ram Jai_Shree_Ram Jai_Shree_Ram Jai_Shree_Ram Jai_Shree_Ram Jai_Shree_Ram Jai_Shree_Ram Jai_Shree_Ram Jai_Shree_Ram Jai_Shree_Ram Jai_Shree_Ram Jai_Shree_Ram Jai_Shree_Ram Jai_Shree_Ram Jai_Shree_Ram Jai_Shree_Ram Jai_Shree_Ram Jai_Shree_Ram Jai_Shree_Ram Jai_Shree_Ram Jai_Shree_Ram Jai_Shree_Ram Jai_Shree_Ram Jai_Shree_Ram Jai_Shree_Ram Jai_Shree_Ram Jai_Shree_Ram Jai_Shree_Ram Jai_Shree_Ram Jai_Shree_Ram Jai_Shree_Ram Jai_Shree_Ram Jai_Shree_Ram Jai_Shree_Ram Jai_Shree_Ram Jai_Shree_Ram Jai_Shree_Ram Jai_Shree_Ram Jai_Shree_Ram Jai_Shree_Ram Jai_Shree_Ram Jai_Shree_Ram Jai_Shree_Ram Jai_Shree_Ram Jai_Shree_Ram Jai_Shree_Ram Jai_Shree_Ram Jai_Shree_Ram Jai_Shree_Ram Jai_Shree_Ram Jai_Shree_Ram Jai_Shree_Ram Jai_Shree_Ram Jai_Shree_Ram Jai_Shree_Ram Jai_Shree_Ram Jai_Shree_Ram Jai_Shree_Ram Jai_Shree_Ram Jai_Shree_Ram Jai_Shree_Ram Jai_Shree_Ram Jai_Shree_Ram Jai_Shree_Ram Jai_Shree_Ram Jai_Shree_Ram Jai_Shree_Ram Jai_Shree_Ram Jai_Shree_Ram Jai_Shree_Ram Jai_Shree_Ram Jai_Shree_Ram Jai_Shree_Ram Jai_Shree_Ram Jai_Shree_Ram Jai_Shree_Ram Jai_Shree_Ram Jai_Shree_Ram Jai_Shree_Ram Jai_Shree_Ram Jai_Shree_Ram Jai_Shree_Ram Jai_Shree_Ram Jai_Shree_Ram Jai_Shree_Ram Jai_Shree_Ram Jai_Shree_Ram Jai_Shree_Ram Jai_Shree_Ram Jai_Shree_Ram Jai_Shree_Ram Jai_Shree_Ram Jai_Shree_Ram Jai_Shree_Ram Jai_Shree_Ram Jai_Shree_Ram Jai_Shree_Ram Jai_Shree_Ram Jai_Shree_Ram Jai_Shree_Ram Jai_Shree_Ram Jai_Shree_Ram Jai_Shree_Ram Jai_Shree_Ram Jai_Shree_Ram Jai_Shree_Ram Jai_Shree_Ram Jai_Shree_Ram Jai_Shree_Ram Jai_Shree_Ram Jai_Shree_Ram Jai_Shree_Ram Jai_Shree_Ram Jai_Shree_Ram Jai_Shree_Ram Jai_Shree_Ram Jai_Shree_Ram Jai_Shree_Ram Jai_Shree_Ram Jai_Shree_Ram Jai_Shree_Ram Jai_Shree_Ram Jai_Shree_Ram Jai_Shree_Ram Jai_Shree_Ram Jai_Shree_Ram Jai_Shree_Ram Jai_Shree_Ram Jai_Shree_Ram Jai_Shree_Ram Jai_Shree_Ram Jai_Shree_Ram</td>\n",
       "    </tr>\n",
       "  </tbody>\n",
       "</table>\n",
       "</div>"
      ],
      "text/plain": [
       "                                                                                                                                                                                                                                                                                                                                                                                                                                                                                                                                                                                                                                                                                                                                                                                                                                                                                                                                                                                                                                                                                                                                                                                                                                                                                                                                                                                                                                                                                                                                                                                                                                                                                                                                                                                                                                                                                                                                                                                                                                                                                                                                                                                                                                                                                                                                                                                                                                                                                                                                                                                                                                                                                                                                                                                                                                                                                                                                                                                                                                                                                                                                                                                                                                                                                                                                                                                                                                                                                                                                                                                                                                                                                                                                                                                                                                                                                                                                                                                                                                                                                                                                                                                                                                                                                                                                                                                                                                                                                                                                                                                                                                                                                                                                                                                                                                                                                                                                                                                                                                                                                                                                                                                                                                                                                                                                                                                                                                                                                                                                                                                                                                                                                                                                                                                                                                                                                                                                                                                                                                                                                                                                                                                                                                                                                                                                                                                                                                                                                                                                                                                                                                                                                                                                                                                                                                                                                                                                                                                                                                                                                                                                                                                                                                                                                                                                                                                                                                                                                                                                                                                                                                                                                                                                                                                                                                                                                                                                                                                                                                                                                                                                                                                                                                                                                                                                                                                                                                                                                                                                                                                                                                                                                                                                                                                                                                                                                                                                                                                                                                                                                                                                                                                                                                                                                                                                                                                                                                                                                                                                                                                                                                                                                                                                                                                                                                                                                                                                                                                                                                                                                                                                                                                                                                                                                                                                                                                                                                                                                                                                                                                                                                                                                                                                                                                                                                                                                                                                                                                                                                                                                                                                                                                                                                                                                                                                                                                                                                                                                                                                                                                                                                                                                                                                                                                                                                                                                                                                                                                                                                                                                                                                                                                                                                                                                                                                                                                                                                                                                                                                                                                                                                                                                                                                                                                                                                                                                                                                                                                                                                                                                                                                                                                                                                                                                                                                                                                                                                                                                                                                                                                                                                                                                                                                                                                                                                                                                                                                                                                                                                                                                                                                                                                                                                                                                                                                                                                                                                                                                                                                                                                                                                                                                              Text\n",
       "0  Jai_Shree_Ram Jai_Shree_Ram Jai_Shree_Ram Jai_Shree_Ram Jai_Shree_Ram Jai_Shree_Ram Jai_Shree_Ram Jai_Shree_Ram Jai_Shree_Ram Jai_Shree_Ram Jai_Shree_Ram Jai_Shree_Ram Jai_Shree_Ram Jai_Shree_Ram Jai_Shree_Ram Jai_Shree_Ram Jai_Shree_Ram Jai_Shree_Ram Jai_Shree_Ram Jai_Shree_Ram Jai_Shree_Ram Jai_Shree_Ram Jai_Shree_Ram Jai_Shree_Ram Jai_Shree_Ram Jai_Shree_Ram Jai_Shree_Ram Jai_Shree_Ram Jai_Shree_Ram Jai_Shree_Ram Jai_Shree_Ram Jai_Shree_Ram Jai_Shree_Ram Jai_Shree_Ram Jai_Shree_Ram Jai_Shree_Ram Jai_Shree_Ram Jai_Shree_Ram Jai_Shree_Ram Jai_Shree_Ram Jai_Shree_Ram Jai_Shree_Ram Jai_Shree_Ram Jai_Shree_Ram Jai_Shree_Ram Jai_Shree_Ram Jai_Shree_Ram Jai_Shree_Ram Jai_Shree_Ram Jai_Shree_Ram Jai_Shree_Ram Jai_Shree_Ram Jai_Shree_Ram Jai_Shree_Ram Jai_Shree_Ram Jai_Shree_Ram Jai_Shree_Ram Jai_Shree_Ram Jai_Shree_Ram Jai_Shree_Ram Jai_Shree_Ram Jai_Shree_Ram Jai_Shree_Ram Jai_Shree_Ram Jai_Shree_Ram Jai_Shree_Ram Jai_Shree_Ram Jai_Shree_Ram Jai_Shree_Ram Jai_Shree_Ram Jai_Shree_Ram Jai_Shree_Ram Jai_Shree_Ram Jai_Shree_Ram Jai_Shree_Ram Jai_Shree_Ram Jai_Shree_Ram Jai_Shree_Ram Jai_Shree_Ram Jai_Shree_Ram Jai_Shree_Ram Jai_Shree_Ram Jai_Shree_Ram Jai_Shree_Ram Jai_Shree_Ram Jai_Shree_Ram Jai_Shree_Ram Jai_Shree_Ram Jai_Shree_Ram Jai_Shree_Ram Jai_Shree_Ram Jai_Shree_Ram Jai_Shree_Ram Jai_Shree_Ram Jai_Shree_Ram Jai_Shree_Ram Jai_Shree_Ram Jai_Shree_Ram Jai_Shree_Ram Jai_Shree_Ram Jai_Shree_Ram Jai_Shree_Ram Jai_Shree_Ram Jai_Shree_Ram Jai_Shree_Ram Jai_Shree_Ram Jai_Shree_Ram Jai_Shree_Ram Jai_Shree_Ram Jai_Shree_Ram Jai_Shree_Ram Jai_Shree_Ram Jai_Shree_Ram Jai_Shree_Ram Jai_Shree_Ram Jai_Shree_Ram Jai_Shree_Ram Jai_Shree_Ram Jai_Shree_Ram Jai_Shree_Ram Jai_Shree_Ram Jai_Shree_Ram Jai_Shree_Ram Jai_Shree_Ram Jai_Shree_Ram Jai_Shree_Ram Jai_Shree_Ram Jai_Shree_Ram Jai_Shree_Ram Jai_Shree_Ram Jai_Shree_Ram Jai_Shree_Ram Jai_Shree_Ram Jai_Shree_Ram Jai_Shree_Ram Jai_Shree_Ram Jai_Shree_Ram Jai_Shree_Ram Jai_Shree_Ram Jai_Shree_Ram Jai_Shree_Ram Jai_Shree_Ram Jai_Shree_Ram Jai_Shree_Ram Jai_Shree_Ram Jai_Shree_Ram Jai_Shree_Ram Jai_Shree_Ram Jai_Shree_Ram Jai_Shree_Ram Jai_Shree_Ram Jai_Shree_Ram Jai_Shree_Ram Jai_Shree_Ram Jai_Shree_Ram Jai_Shree_Ram Jai_Shree_Ram Jai_Shree_Ram Jai_Shree_Ram Jai_Shree_Ram Jai_Shree_Ram Jai_Shree_Ram Jai_Shree_Ram Jai_Shree_Ram Jai_Shree_Ram Jai_Shree_Ram Jai_Shree_Ram Jai_Shree_Ram Jai_Shree_Ram Jai_Shree_Ram Jai_Shree_Ram Jai_Shree_Ram Jai_Shree_Ram Jai_Shree_Ram Jai_Shree_Ram Jai_Shree_Ram Jai_Shree_Ram Jai_Shree_Ram Jai_Shree_Ram Jai_Shree_Ram Jai_Shree_Ram Jai_Shree_Ram Jai_Shree_Ram Jai_Shree_Ram Jai_Shree_Ram Jai_Shree_Ram Jai_Shree_Ram Jai_Shree_Ram Jai_Shree_Ram Jai_Shree_Ram Jai_Shree_Ram Jai_Shree_Ram Jai_Shree_Ram Jai_Shree_Ram Jai_Shree_Ram Jai_Shree_Ram Jai_Shree_Ram Jai_Shree_Ram Jai_Shree_Ram Jai_Shree_Ram Jai_Shree_Ram Jai_Shree_Ram Jai_Shree_Ram Jai_Shree_Ram Jai_Shree_Ram Jai_Shree_Ram Jai_Shree_Ram Jai_Shree_Ram Jai_Shree_Ram Jai_Shree_Ram Jai_Shree_Ram Jai_Shree_Ram Jai_Shree_Ram Jai_Shree_Ram Jai_Shree_Ram Jai_Shree_Ram Jai_Shree_Ram Jai_Shree_Ram Jai_Shree_Ram Jai_Shree_Ram Jai_Shree_Ram Jai_Shree_Ram Jai_Shree_Ram Jai_Shree_Ram Jai_Shree_Ram Jai_Shree_Ram Jai_Shree_Ram Jai_Shree_Ram Jai_Shree_Ram Jai_Shree_Ram Jai_Shree_Ram Jai_Shree_Ram Jai_Shree_Ram Jai_Shree_Ram Jai_Shree_Ram Jai_Shree_Ram Jai_Shree_Ram Jai_Shree_Ram Jai_Shree_Ram Jai_Shree_Ram Jai_Shree_Ram Jai_Shree_Ram Jai_Shree_Ram Jai_Shree_Ram Jai_Shree_Ram Jai_Shree_Ram Jai_Shree_Ram Jai_Shree_Ram Jai_Shree_Ram Jai_Shree_Ram Jai_Shree_Ram Jai_Shree_Ram Jai_Shree_Ram Jai_Shree_Ram Jai_Shree_Ram Jai_Shree_Ram Jai_Shree_Ram Jai_Shree_Ram Jai_Shree_Ram Jai_Shree_Ram Jai_Shree_Ram Jai_Shree_Ram Jai_Shree_Ram Jai_Shree_Ram Jai_Shree_Ram Jai_Shree_Ram Jai_Shree_Ram Jai_Shree_Ram Jai_Shree_Ram Jai_Shree_Ram Jai_Shree_Ram Jai_Shree_Ram Jai_Shree_Ram Jai_Shree_Ram Jai_Shree_Ram Jai_Shree_Ram Jai_Shree_Ram Jai_Shree_Ram Jai_Shree_Ram Jai_Shree_Ram Jai_Shree_Ram Jai_Shree_Ram Jai_Shree_Ram Jai_Shree_Ram Jai_Shree_Ram Jai_Shree_Ram Jai_Shree_Ram Jai_Shree_Ram Jai_Shree_Ram Jai_Shree_Ram Jai_Shree_Ram Jai_Shree_Ram Jai_Shree_Ram Jai_Shree_Ram Jai_Shree_Ram Jai_Shree_Ram Jai_Shree_Ram Jai_Shree_Ram Jai_Shree_Ram Jai_Shree_Ram Jai_Shree_Ram Jai_Shree_Ram Jai_Shree_Ram Jai_Shree_Ram Jai_Shree_Ram Jai_Shree_Ram Jai_Shree_Ram Jai_Shree_Ram Jai_Shree_Ram Jai_Shree_Ram Jai_Shree_Ram Jai_Shree_Ram Jai_Shree_Ram Jai_Shree_Ram Jai_Shree_Ram Jai_Shree_Ram Jai_Shree_Ram Jai_Shree_Ram Jai_Shree_Ram Jai_Shree_Ram Jai_Shree_Ram Jai_Shree_Ram Jai_Shree_Ram Jai_Shree_Ram Jai_Shree_Ram Jai_Shree_Ram Jai_Shree_Ram Jai_Shree_Ram Jai_Shree_Ram Jai_Shree_Ram Jai_Shree_Ram Jai_Shree_Ram Jai_Shree_Ram Jai_Shree_Ram Jai_Shree_Ram Jai_Shree_Ram Jai_Shree_Ram Jai_Shree_Ram Jai_Shree_Ram Jai_Shree_Ram Jai_Shree_Ram Jai_Shree_Ram Jai_Shree_Ram Jai_Shree_Ram Jai_Shree_Ram Jai_Shree_Ram Jai_Shree_Ram Jai_Shree_Ram Jai_Shree_Ram Jai_Shree_Ram Jai_Shree_Ram Jai_Shree_Ram Jai_Shree_Ram Jai_Shree_Ram Jai_Shree_Ram Jai_Shree_Ram Jai_Shree_Ram Jai_Shree_Ram Jai_Shree_Ram Jai_Shree_Ram Jai_Shree_Ram Jai_Shree_Ram Jai_Shree_Ram Jai_Shree_Ram Jai_Shree_Ram Jai_Shree_Ram Jai_Shree_Ram Jai_Shree_Ram Jai_Shree_Ram Jai_Shree_Ram Jai_Shree_Ram Jai_Shree_Ram Jai_Shree_Ram Jai_Shree_Ram Jai_Shree_Ram Jai_Shree_Ram Jai_Shree_Ram Jai_Shree_Ram Jai_Shree_Ram Jai_Shree_Ram Jai_Shree_Ram Jai_Shree_Ram Jai_Shree_Ram Jai_Shree_Ram Jai_Shree_Ram Jai_Shree_Ram Jai_Shree_Ram Jai_Shree_Ram Jai_Shree_Ram Jai_Shree_Ram Jai_Shree_Ram Jai_Shree_Ram Jai_Shree_Ram Jai_Shree_Ram Jai_Shree_Ram Jai_Shree_Ram Jai_Shree_Ram Jai_Shree_Ram Jai_Shree_Ram Jai_Shree_Ram Jai_Shree_Ram Jai_Shree_Ram Jai_Shree_Ram Jai_Shree_Ram Jai_Shree_Ram Jai_Shree_Ram Jai_Shree_Ram Jai_Shree_Ram Jai_Shree_Ram Jai_Shree_Ram Jai_Shree_Ram Jai_Shree_Ram Jai_Shree_Ram Jai_Shree_Ram Jai_Shree_Ram Jai_Shree_Ram Jai_Shree_Ram Jai_Shree_Ram Jai_Shree_Ram Jai_Shree_Ram Jai_Shree_Ram Jai_Shree_Ram Jai_Shree_Ram Jai_Shree_Ram Jai_Shree_Ram Jai_Shree_Ram Jai_Shree_Ram Jai_Shree_Ram Jai_Shree_Ram Jai_Shree_Ram Jai_Shree_Ram Jai_Shree_Ram Jai_Shree_Ram Jai_Shree_Ram Jai_Shree_Ram Jai_Shree_Ram Jai_Shree_Ram Jai_Shree_Ram Jai_Shree_Ram Jai_Shree_Ram Jai_Shree_Ram Jai_Shree_Ram Jai_Shree_Ram Jai_Shree_Ram Jai_Shree_Ram Jai_Shree_Ram Jai_Shree_Ram Jai_Shree_Ram Jai_Shree_Ram Jai_Shree_Ram Jai_Shree_Ram Jai_Shree_Ram Jai_Shree_Ram Jai_Shree_Ram Jai_Shree_Ram Jai_Shree_Ram Jai_Shree_Ram Jai_Shree_Ram Jai_Shree_Ram Jai_Shree_Ram Jai_Shree_Ram Jai_Shree_Ram Jai_Shree_Ram Jai_Shree_Ram Jai_Shree_Ram Jai_Shree_Ram Jai_Shree_Ram Jai_Shree_Ram Jai_Shree_Ram Jai_Shree_Ram Jai_Shree_Ram Jai_Shree_Ram Jai_Shree_Ram Jai_Shree_Ram Jai_Shree_Ram Jai_Shree_Ram Jai_Shree_Ram Jai_Shree_Ram Jai_Shree_Ram Jai_Shree_Ram Jai_Shree_Ram Jai_Shree_Ram Jai_Shree_Ram Jai_Shree_Ram Jai_Shree_Ram Jai_Shree_Ram Jai_Shree_Ram Jai_Shree_Ram Jai_Shree_Ram Jai_Shree_Ram Jai_Shree_Ram Jai_Shree_Ram Jai_Shree_Ram Jai_Shree_Ram Jai_Shree_Ram Jai_Shree_Ram Jai_Shree_Ram Jai_Shree_Ram Jai_Shree_Ram Jai_Shree_Ram Jai_Shree_Ram Jai_Shree_Ram Jai_Shree_Ram Jai_Shree_Ram Jai_Shree_Ram Jai_Shree_Ram Jai_Shree_Ram Jai_Shree_Ram Jai_Shree_Ram Jai_Shree_Ram Jai_Shree_Ram Jai_Shree_Ram Jai_Shree_Ram Jai_Shree_Ram Jai_Shree_Ram Jai_Shree_Ram Jai_Shree_Ram Jai_Shree_Ram Jai_Shree_Ram Jai_Shree_Ram Jai_Shree_Ram Jai_Shree_Ram Jai_Shree_Ram Jai_Shree_Ram Jai_Shree_Ram Jai_Shree_Ram Jai_Shree_Ram Jai_Shree_Ram Jai_Shree_Ram Jai_Shree_Ram Jai_Shree_Ram Jai_Shree_Ram Jai_Shree_Ram Jai_Shree_Ram Jai_Shree_Ram Jai_Shree_Ram Jai_Shree_Ram Jai_Shree_Ram Jai_Shree_Ram Jai_Shree_Ram Jai_Shree_Ram Jai_Shree_Ram Jai_Shree_Ram Jai_Shree_Ram Jai_Shree_Ram Jai_Shree_Ram Jai_Shree_Ram Jai_Shree_Ram Jai_Shree_Ram Jai_Shree_Ram Jai_Shree_Ram Jai_Shree_Ram Jai_Shree_Ram Jai_Shree_Ram Jai_Shree_Ram Jai_Shree_Ram Jai_Shree_Ram Jai_Shree_Ram Jai_Shree_Ram Jai_Shree_Ram Jai_Shree_Ram Jai_Shree_Ram Jai_Shree_Ram Jai_Shree_Ram Jai_Shree_Ram Jai_Shree_Ram Jai_Shree_Ram Jai_Shree_Ram Jai_Shree_Ram Jai_Shree_Ram Jai_Shree_Ram Jai_Shree_Ram Jai_Shree_Ram Jai_Shree_Ram Jai_Shree_Ram Jai_Shree_Ram Jai_Shree_Ram Jai_Shree_Ram Jai_Shree_Ram Jai_Shree_Ram Jai_Shree_Ram Jai_Shree_Ram Jai_Shree_Ram Jai_Shree_Ram Jai_Shree_Ram Jai_Shree_Ram Jai_Shree_Ram Jai_Shree_Ram Jai_Shree_Ram Jai_Shree_Ram Jai_Shree_Ram Jai_Shree_Ram Jai_Shree_Ram Jai_Shree_Ram Jai_Shree_Ram Jai_Shree_Ram Jai_Shree_Ram Jai_Shree_Ram Jai_Shree_Ram Jai_Shree_Ram Jai_Shree_Ram Jai_Shree_Ram Jai_Shree_Ram Jai_Shree_Ram Jai_Shree_Ram Jai_Shree_Ram Jai_Shree_Ram Jai_Shree_Ram Jai_Shree_Ram Jai_Shree_Ram Jai_Shree_Ram Jai_Shree_Ram Jai_Shree_Ram Jai_Shree_Ram Jai_Shree_Ram Jai_Shree_Ram Jai_Shree_Ram Jai_Shree_Ram Jai_Shree_Ram Jai_Shree_Ram Jai_Shree_Ram Jai_Shree_Ram Jai_Shree_Ram Jai_Shree_Ram Jai_Shree_Ram Jai_Shree_Ram Jai_Shree_Ram Jai_Shree_Ram Jai_Shree_Ram Jai_Shree_Ram Jai_Shree_Ram Jai_Shree_Ram Jai_Shree_Ram Jai_Shree_Ram Jai_Shree_Ram Jai_Shree_Ram Jai_Shree_Ram Jai_Shree_Ram Jai_Shree_Ram Jai_Shree_Ram Jai_Shree_Ram Jai_Shree_Ram Jai_Shree_Ram Jai_Shree_Ram Jai_Shree_Ram Jai_Shree_Ram Jai_Shree_Ram Jai_Shree_Ram Jai_Shree_Ram Jai_Shree_Ram Jai_Shree_Ram Jai_Shree_Ram Jai_Shree_Ram Jai_Shree_Ram Jai_Shree_Ram Jai_Shree_Ram Jai_Shree_Ram Jai_Shree_Ram Jai_Shree_Ram Jai_Shree_Ram Jai_Shree_Ram Jai_Shree_Ram Jai_Shree_Ram Jai_Shree_Ram Jai_Shree_Ram Jai_Shree_Ram Jai_Shree_Ram Jai_Shree_Ram Jai_Shree_Ram Jai_Shree_Ram Jai_Shree_Ram Jai_Shree_Ram Jai_Shree_Ram Jai_Shree_Ram Jai_Shree_Ram Jai_Shree_Ram Jai_Shree_Ram Jai_Shree_Ram Jai_Shree_Ram Jai_Shree_Ram Jai_Shree_Ram Jai_Shree_Ram Jai_Shree_Ram Jai_Shree_Ram Jai_Shree_Ram Jai_Shree_Ram Jai_Shree_Ram Jai_Shree_Ram Jai_Shree_Ram Jai_Shree_Ram Jai_Shree_Ram Jai_Shree_Ram Jai_Shree_Ram Jai_Shree_Ram Jai_Shree_Ram Jai_Shree_Ram Jai_Shree_Ram Jai_Shree_Ram Jai_Shree_Ram Jai_Shree_Ram Jai_Shree_Ram Jai_Shree_Ram Jai_Shree_Ram Jai_Shree_Ram Jai_Shree_Ram Jai_Shree_Ram Jai_Shree_Ram Jai_Shree_Ram Jai_Shree_Ram Jai_Shree_Ram Jai_Shree_Ram Jai_Shree_Ram Jai_Shree_Ram Jai_Shree_Ram Jai_Shree_Ram Jai_Shree_Ram Jai_Shree_Ram Jai_Shree_Ram Jai_Shree_Ram Jai_Shree_Ram Jai_Shree_Ram Jai_Shree_Ram Jai_Shree_Ram Jai_Shree_Ram Jai_Shree_Ram Jai_Shree_Ram Jai_Shree_Ram Jai_Shree_Ram Jai_Shree_Ram Jai_Shree_Ram Jai_Shree_Ram Jai_Shree_Ram Jai_Shree_Ram Jai_Shree_Ram Jai_Shree_Ram Jai_Shree_Ram Jai_Shree_Ram Jai_Shree_Ram Jai_Shree_Ram Jai_Shree_Ram Jai_Shree_Ram Jai_Shree_Ram Jai_Shree_Ram Jai_Shree_Ram Jai_Shree_Ram Jai_Shree_Ram Jai_Shree_Ram Jai_Shree_Ram Jai_Shree_Ram Jai_Shree_Ram Jai_Shree_Ram Jai_Shree_Ram Jai_Shree_Ram Jai_Shree_Ram Jai_Shree_Ram Jai_Shree_Ram Jai_Shree_Ram Jai_Shree_Ram Jai_Shree_Ram Jai_Shree_Ram Jai_Shree_Ram Jai_Shree_Ram Jai_Shree_Ram Jai_Shree_Ram Jai_Shree_Ram Jai_Shree_Ram Jai_Shree_Ram Jai_Shree_Ram Jai_Shree_Ram Jai_Shree_Ram Jai_Shree_Ram Jai_Shree_Ram Jai_Shree_Ram Jai_Shree_Ram Jai_Shree_Ram Jai_Shree_Ram Jai_Shree_Ram Jai_Shree_Ram Jai_Shree_Ram Jai_Shree_Ram Jai_Shree_Ram Jai_Shree_Ram Jai_Shree_Ram Jai_Shree_Ram Jai_Shree_Ram Jai_Shree_Ram Jai_Shree_Ram Jai_Shree_Ram Jai_Shree_Ram Jai_Shree_Ram Jai_Shree_Ram Jai_Shree_Ram Jai_Shree_Ram Jai_Shree_Ram Jai_Shree_Ram Jai_Shree_Ram Jai_Shree_Ram Jai_Shree_Ram Jai_Shree_Ram Jai_Shree_Ram Jai_Shree_Ram Jai_Shree_Ram Jai_Shree_Ram Jai_Shree_Ram Jai_Shree_Ram Jai_Shree_Ram Jai_Shree_Ram Jai_Shree_Ram Jai_Shree_Ram Jai_Shree_Ram Jai_Shree_Ram Jai_Shree_Ram Jai_Shree_Ram Jai_Shree_Ram Jai_Shree_Ram Jai_Shree_Ram Jai_Shree_Ram Jai_Shree_Ram Jai_Shree_Ram Jai_Shree_Ram Jai_Shree_Ram Jai_Shree_Ram Jai_Shree_Ram Jai_Shree_Ram Jai_Shree_Ram Jai_Shree_Ram Jai_Shree_Ram Jai_Shree_Ram Jai_Shree_Ram Jai_Shree_Ram Jai_Shree_Ram Jai_Shree_Ram Jai_Shree_Ram Jai_Shree_Ram Jai_Shree_Ram Jai_Shree_Ram Jai_Shree_Ram Jai_Shree_Ram Jai_Shree_Ram Jai_Shree_Ram Jai_Shree_Ram Jai_Shree_Ram Jai_Shree_Ram Jai_Shree_Ram Jai_Shree_Ram Jai_Shree_Ram Jai_Shree_Ram Jai_Shree_Ram Jai_Shree_Ram Jai_Shree_Ram Jai_Shree_Ram Jai_Shree_Ram Jai_Shree_Ram Jai_Shree_Ram Jai_Shree_Ram Jai_Shree_Ram Jai_Shree_Ram Jai_Shree_Ram Jai_Shree_Ram Jai_Shree_Ram Jai_Shree_Ram Jai_Shree_Ram Jai_Shree_Ram Jai_Shree_Ram Jai_Shree_Ram Jai_Shree_Ram Jai_Shree_Ram Jai_Shree_Ram Jai_Shree_Ram Jai_Shree_Ram Jai_Shree_Ram Jai_Shree_Ram Jai_Shree_Ram Jai_Shree_Ram Jai_Shree_Ram Jai_Shree_Ram Jai_Shree_Ram Jai_Shree_Ram Jai_Shree_Ram Jai_Shree_Ram Jai_Shree_Ram Jai_Shree_Ram Jai_Shree_Ram Jai_Shree_Ram Jai_Shree_Ram Jai_Shree_Ram Jai_Shree_Ram Jai_Shree_Ram Jai_Shree_Ram Jai_Shree_Ram Jai_Shree_Ram Jai_Shree_Ram Jai_Shree_Ram Jai_Shree_Ram Jai_Shree_Ram Jai_Shree_Ram Jai_Shree_Ram Jai_Shree_Ram Jai_Shree_Ram Jai_Shree_Ram Jai_Shree_Ram Jai_Shree_Ram Jai_Shree_Ram Jai_Shree_Ram Jai_Shree_Ram Jai_Shree_Ram Jai_Shree_Ram Jai_Shree_Ram Jai_Shree_Ram Jai_Shree_Ram Jai_Shree_Ram Jai_Shree_Ram Jai_Shree_Ram Jai_Shree_Ram Jai_Shree_Ram Jai_Shree_Ram Jai_Shree_Ram Jai_Shree_Ram Jai_Shree_Ram Jai_Shree_Ram Jai_Shree_Ram Jai_Shree_Ram Jai_Shree_Ram Jai_Shree_Ram Jai_Shree_Ram Jai_Shree_Ram Jai_Shree_Ram Jai_Shree_Ram Jai_Shree_Ram Jai_Shree_Ram Jai_Shree_Ram Jai_Shree_Ram Jai_Shree_Ram Jai_Shree_Ram Jai_Shree_Ram Jai_Shree_Ram Jai_Shree_Ram Jai_Shree_Ram Jai_Shree_Ram Jai_Shree_Ram Jai_Shree_Ram Jai_Shree_Ram Jai_Shree_Ram Jai_Shree_Ram Jai_Shree_Ram Jai_Shree_Ram Jai_Shree_Ram Jai_Shree_Ram Jai_Shree_Ram Jai_Shree_Ram Jai_Shree_Ram Jai_Shree_Ram Jai_Shree_Ram Jai_Shree_Ram Jai_Shree_Ram Jai_Shree_Ram Jai_Shree_Ram Jai_Shree_Ram Jai_Shree_Ram Jai_Shree_Ram Jai_Shree_Ram Jai_Shree_Ram Jai_Shree_Ram Jai_Shree_Ram Jai_Shree_Ram Jai_Shree_Ram Jai_Shree_Ram Jai_Shree_Ram Jai_Shree_Ram Jai_Shree_Ram Jai_Shree_Ram Jai_Shree_Ram Jai_Shree_Ram Jai_Shree_Ram Jai_Shree_Ram Jai_Shree_Ram Jai_Shree_Ram Jai_Shree_Ram Jai_Shree_Ram Jai_Shree_Ram Jai_Shree_Ram Jai_Shree_Ram Jai_Shree_Ram Jai_Shree_Ram Jai_Shree_Ram Jai_Shree_Ram Jai_Shree_Ram Jai_Shree_Ram Jai_Shree_Ram Jai_Shree_Ram Jai_Shree_Ram Jai_Shree_Ram Jai_Shree_Ram Jai_Shree_Ram Jai_Shree_Ram Jai_Shree_Ram Jai_Shree_Ram Jai_Shree_Ram Jai_Shree_Ram Jai_Shree_Ram Jai_Shree_Ram Jai_Shree_Ram Jai_Shree_Ram Jai_Shree_Ram Jai_Shree_Ram Jai_Shree_Ram Jai_Shree_Ram Jai_Shree_Ram"
      ]
     },
     "execution_count": 17,
     "metadata": {},
     "output_type": "execute_result"
    }
   ],
   "source": [
    "df4"
   ]
  },
  {
   "cell_type": "code",
   "execution_count": 18,
   "id": "f345b4d1-8bd9-4a58-8b22-10aa1248ef03",
   "metadata": {},
   "outputs": [],
   "source": [
    "#creating new column with function for words count\n",
    "df4['Word_Count'] = df4['Text'].apply(lambda x : len(x.split()))"
   ]
  },
  {
   "cell_type": "code",
   "execution_count": 19,
   "id": "eff0b9ac-795d-438f-a461-cc7be17c603d",
   "metadata": {},
   "outputs": [
    {
     "data": {
      "text/html": [
       "<div>\n",
       "<style scoped>\n",
       "    .dataframe tbody tr th:only-of-type {\n",
       "        vertical-align: middle;\n",
       "    }\n",
       "\n",
       "    .dataframe tbody tr th {\n",
       "        vertical-align: top;\n",
       "    }\n",
       "\n",
       "    .dataframe thead th {\n",
       "        text-align: right;\n",
       "    }\n",
       "</style>\n",
       "<table border=\"1\" class=\"dataframe\">\n",
       "  <thead>\n",
       "    <tr style=\"text-align: right;\">\n",
       "      <th></th>\n",
       "      <th>Text</th>\n",
       "      <th>Word_Count</th>\n",
       "    </tr>\n",
       "  </thead>\n",
       "  <tbody>\n",
       "    <tr>\n",
       "      <th>0</th>\n",
       "      <td>Jai_Shree_Ram Jai_Shree_Ram Jai_Shree_Ram Jai_Shree_Ram Jai_Shree_Ram Jai_Shree_Ram Jai_Shree_Ram Jai_Shree_Ram Jai_Shree_Ram Jai_Shree_Ram Jai_Shree_Ram Jai_Shree_Ram Jai_Shree_Ram Jai_Shree_Ram Jai_Shree_Ram Jai_Shree_Ram Jai_Shree_Ram Jai_Shree_Ram Jai_Shree_Ram Jai_Shree_Ram Jai_Shree_Ram Jai_Shree_Ram Jai_Shree_Ram Jai_Shree_Ram Jai_Shree_Ram Jai_Shree_Ram Jai_Shree_Ram Jai_Shree_Ram Jai_Shree_Ram Jai_Shree_Ram Jai_Shree_Ram Jai_Shree_Ram Jai_Shree_Ram Jai_Shree_Ram Jai_Shree_Ram Jai_Shree_Ram Jai_Shree_Ram Jai_Shree_Ram Jai_Shree_Ram Jai_Shree_Ram Jai_Shree_Ram Jai_Shree_Ram Jai_Shree_Ram Jai_Shree_Ram Jai_Shree_Ram Jai_Shree_Ram Jai_Shree_Ram Jai_Shree_Ram Jai_Shree_Ram Jai_Shree_Ram Jai_Shree_Ram Jai_Shree_Ram Jai_Shree_Ram Jai_Shree_Ram Jai_Shree_Ram Jai_Shree_Ram Jai_Shree_Ram Jai_Shree_Ram Jai_Shree_Ram Jai_Shree_Ram Jai_Shree_Ram Jai_Shree_Ram Jai_Shree_Ram Jai_Shree_Ram Jai_Shree_Ram Jai_Shree_Ram Jai_Shree_Ram Jai_Shree_Ram Jai_Shree_Ram Jai_Shree_Ram Jai_Shree_Ram Jai_Shree_Ram Jai_Shree_Ram Jai_Shree_Ram Jai_Shree_Ram Jai_Shree_Ram Jai_Shree_Ram Jai_Shree_Ram Jai_Shree_Ram Jai_Shree_Ram Jai_Shree_Ram Jai_Shree_Ram Jai_Shree_Ram Jai_Shree_Ram Jai_Shree_Ram Jai_Shree_Ram Jai_Shree_Ram Jai_Shree_Ram Jai_Shree_Ram Jai_Shree_Ram Jai_Shree_Ram Jai_Shree_Ram Jai_Shree_Ram Jai_Shree_Ram Jai_Shree_Ram Jai_Shree_Ram Jai_Shree_Ram Jai_Shree_Ram Jai_Shree_Ram Jai_Shree_Ram Jai_Shree_Ram Jai_Shree_Ram Jai_Shree_Ram Jai_Shree_Ram Jai_Shree_Ram Jai_Shree_Ram Jai_Shree_Ram Jai_Shree_Ram Jai_Shree_Ram Jai_Shree_Ram Jai_Shree_Ram Jai_Shree_Ram Jai_Shree_Ram Jai_Shree_Ram Jai_Shree_Ram Jai_Shree_Ram Jai_Shree_Ram Jai_Shree_Ram Jai_Shree_Ram Jai_Shree_Ram Jai_Shree_Ram Jai_Shree_Ram Jai_Shree_Ram Jai_Shree_Ram Jai_Shree_Ram Jai_Shree_Ram Jai_Shree_Ram Jai_Shree_Ram Jai_Shree_Ram Jai_Shree_Ram Jai_Shree_Ram Jai_Shree_Ram Jai_Shree_Ram Jai_Shree_Ram Jai_Shree_Ram Jai_Shree_Ram Jai_Shree_Ram Jai_Shree_Ram Jai_Shree_Ram Jai_Shree_Ram Jai_Shree_Ram Jai_Shree_Ram Jai_Shree_Ram Jai_Shree_Ram Jai_Shree_Ram Jai_Shree_Ram Jai_Shree_Ram Jai_Shree_Ram Jai_Shree_Ram Jai_Shree_Ram Jai_Shree_Ram Jai_Shree_Ram Jai_Shree_Ram Jai_Shree_Ram Jai_Shree_Ram Jai_Shree_Ram Jai_Shree_Ram Jai_Shree_Ram Jai_Shree_Ram Jai_Shree_Ram Jai_Shree_Ram Jai_Shree_Ram Jai_Shree_Ram Jai_Shree_Ram Jai_Shree_Ram Jai_Shree_Ram Jai_Shree_Ram Jai_Shree_Ram Jai_Shree_Ram Jai_Shree_Ram Jai_Shree_Ram Jai_Shree_Ram Jai_Shree_Ram Jai_Shree_Ram Jai_Shree_Ram Jai_Shree_Ram Jai_Shree_Ram Jai_Shree_Ram Jai_Shree_Ram Jai_Shree_Ram Jai_Shree_Ram Jai_Shree_Ram Jai_Shree_Ram Jai_Shree_Ram Jai_Shree_Ram Jai_Shree_Ram Jai_Shree_Ram Jai_Shree_Ram Jai_Shree_Ram Jai_Shree_Ram Jai_Shree_Ram Jai_Shree_Ram Jai_Shree_Ram Jai_Shree_Ram Jai_Shree_Ram Jai_Shree_Ram Jai_Shree_Ram Jai_Shree_Ram Jai_Shree_Ram Jai_Shree_Ram Jai_Shree_Ram Jai_Shree_Ram Jai_Shree_Ram Jai_Shree_Ram Jai_Shree_Ram Jai_Shree_Ram Jai_Shree_Ram Jai_Shree_Ram Jai_Shree_Ram Jai_Shree_Ram Jai_Shree_Ram Jai_Shree_Ram Jai_Shree_Ram Jai_Shree_Ram Jai_Shree_Ram Jai_Shree_Ram Jai_Shree_Ram Jai_Shree_Ram Jai_Shree_Ram Jai_Shree_Ram Jai_Shree_Ram Jai_Shree_Ram Jai_Shree_Ram Jai_Shree_Ram Jai_Shree_Ram Jai_Shree_Ram Jai_Shree_Ram Jai_Shree_Ram Jai_Shree_Ram Jai_Shree_Ram Jai_Shree_Ram Jai_Shree_Ram Jai_Shree_Ram Jai_Shree_Ram Jai_Shree_Ram Jai_Shree_Ram Jai_Shree_Ram Jai_Shree_Ram Jai_Shree_Ram Jai_Shree_Ram Jai_Shree_Ram Jai_Shree_Ram Jai_Shree_Ram Jai_Shree_Ram Jai_Shree_Ram Jai_Shree_Ram Jai_Shree_Ram Jai_Shree_Ram Jai_Shree_Ram Jai_Shree_Ram Jai_Shree_Ram Jai_Shree_Ram Jai_Shree_Ram Jai_Shree_Ram Jai_Shree_Ram Jai_Shree_Ram Jai_Shree_Ram Jai_Shree_Ram Jai_Shree_Ram Jai_Shree_Ram Jai_Shree_Ram Jai_Shree_Ram Jai_Shree_Ram Jai_Shree_Ram Jai_Shree_Ram Jai_Shree_Ram Jai_Shree_Ram Jai_Shree_Ram Jai_Shree_Ram Jai_Shree_Ram Jai_Shree_Ram Jai_Shree_Ram Jai_Shree_Ram Jai_Shree_Ram Jai_Shree_Ram Jai_Shree_Ram Jai_Shree_Ram Jai_Shree_Ram Jai_Shree_Ram Jai_Shree_Ram Jai_Shree_Ram Jai_Shree_Ram Jai_Shree_Ram Jai_Shree_Ram Jai_Shree_Ram Jai_Shree_Ram Jai_Shree_Ram Jai_Shree_Ram Jai_Shree_Ram Jai_Shree_Ram Jai_Shree_Ram Jai_Shree_Ram Jai_Shree_Ram Jai_Shree_Ram Jai_Shree_Ram Jai_Shree_Ram Jai_Shree_Ram Jai_Shree_Ram Jai_Shree_Ram Jai_Shree_Ram Jai_Shree_Ram Jai_Shree_Ram Jai_Shree_Ram Jai_Shree_Ram Jai_Shree_Ram Jai_Shree_Ram Jai_Shree_Ram Jai_Shree_Ram Jai_Shree_Ram Jai_Shree_Ram Jai_Shree_Ram Jai_Shree_Ram Jai_Shree_Ram Jai_Shree_Ram Jai_Shree_Ram Jai_Shree_Ram Jai_Shree_Ram Jai_Shree_Ram Jai_Shree_Ram Jai_Shree_Ram Jai_Shree_Ram Jai_Shree_Ram Jai_Shree_Ram Jai_Shree_Ram Jai_Shree_Ram Jai_Shree_Ram Jai_Shree_Ram Jai_Shree_Ram Jai_Shree_Ram Jai_Shree_Ram Jai_Shree_Ram Jai_Shree_Ram Jai_Shree_Ram Jai_Shree_Ram Jai_Shree_Ram Jai_Shree_Ram Jai_Shree_Ram Jai_Shree_Ram Jai_Shree_Ram Jai_Shree_Ram Jai_Shree_Ram Jai_Shree_Ram Jai_Shree_Ram Jai_Shree_Ram Jai_Shree_Ram Jai_Shree_Ram Jai_Shree_Ram Jai_Shree_Ram Jai_Shree_Ram Jai_Shree_Ram Jai_Shree_Ram Jai_Shree_Ram Jai_Shree_Ram Jai_Shree_Ram Jai_Shree_Ram Jai_Shree_Ram Jai_Shree_Ram Jai_Shree_Ram Jai_Shree_Ram Jai_Shree_Ram Jai_Shree_Ram Jai_Shree_Ram Jai_Shree_Ram Jai_Shree_Ram Jai_Shree_Ram Jai_Shree_Ram Jai_Shree_Ram Jai_Shree_Ram Jai_Shree_Ram Jai_Shree_Ram Jai_Shree_Ram Jai_Shree_Ram Jai_Shree_Ram Jai_Shree_Ram Jai_Shree_Ram Jai_Shree_Ram Jai_Shree_Ram Jai_Shree_Ram Jai_Shree_Ram Jai_Shree_Ram Jai_Shree_Ram Jai_Shree_Ram Jai_Shree_Ram Jai_Shree_Ram Jai_Shree_Ram Jai_Shree_Ram Jai_Shree_Ram Jai_Shree_Ram Jai_Shree_Ram Jai_Shree_Ram Jai_Shree_Ram Jai_Shree_Ram Jai_Shree_Ram Jai_Shree_Ram Jai_Shree_Ram Jai_Shree_Ram Jai_Shree_Ram Jai_Shree_Ram Jai_Shree_Ram Jai_Shree_Ram Jai_Shree_Ram Jai_Shree_Ram Jai_Shree_Ram Jai_Shree_Ram Jai_Shree_Ram Jai_Shree_Ram Jai_Shree_Ram Jai_Shree_Ram Jai_Shree_Ram Jai_Shree_Ram Jai_Shree_Ram Jai_Shree_Ram Jai_Shree_Ram Jai_Shree_Ram Jai_Shree_Ram Jai_Shree_Ram Jai_Shree_Ram Jai_Shree_Ram Jai_Shree_Ram Jai_Shree_Ram Jai_Shree_Ram Jai_Shree_Ram Jai_Shree_Ram Jai_Shree_Ram Jai_Shree_Ram Jai_Shree_Ram Jai_Shree_Ram Jai_Shree_Ram Jai_Shree_Ram Jai_Shree_Ram Jai_Shree_Ram Jai_Shree_Ram Jai_Shree_Ram Jai_Shree_Ram Jai_Shree_Ram Jai_Shree_Ram Jai_Shree_Ram Jai_Shree_Ram Jai_Shree_Ram Jai_Shree_Ram Jai_Shree_Ram Jai_Shree_Ram Jai_Shree_Ram Jai_Shree_Ram Jai_Shree_Ram Jai_Shree_Ram Jai_Shree_Ram Jai_Shree_Ram Jai_Shree_Ram Jai_Shree_Ram Jai_Shree_Ram Jai_Shree_Ram Jai_Shree_Ram Jai_Shree_Ram Jai_Shree_Ram Jai_Shree_Ram Jai_Shree_Ram Jai_Shree_Ram Jai_Shree_Ram Jai_Shree_Ram Jai_Shree_Ram Jai_Shree_Ram Jai_Shree_Ram Jai_Shree_Ram Jai_Shree_Ram Jai_Shree_Ram Jai_Shree_Ram Jai_Shree_Ram Jai_Shree_Ram Jai_Shree_Ram Jai_Shree_Ram Jai_Shree_Ram Jai_Shree_Ram Jai_Shree_Ram Jai_Shree_Ram Jai_Shree_Ram Jai_Shree_Ram Jai_Shree_Ram Jai_Shree_Ram Jai_Shree_Ram Jai_Shree_Ram Jai_Shree_Ram Jai_Shree_Ram Jai_Shree_Ram Jai_Shree_Ram Jai_Shree_Ram Jai_Shree_Ram Jai_Shree_Ram Jai_Shree_Ram Jai_Shree_Ram Jai_Shree_Ram Jai_Shree_Ram Jai_Shree_Ram Jai_Shree_Ram Jai_Shree_Ram Jai_Shree_Ram Jai_Shree_Ram Jai_Shree_Ram Jai_Shree_Ram Jai_Shree_Ram Jai_Shree_Ram Jai_Shree_Ram Jai_Shree_Ram Jai_Shree_Ram Jai_Shree_Ram Jai_Shree_Ram Jai_Shree_Ram Jai_Shree_Ram Jai_Shree_Ram Jai_Shree_Ram Jai_Shree_Ram Jai_Shree_Ram Jai_Shree_Ram Jai_Shree_Ram Jai_Shree_Ram Jai_Shree_Ram Jai_Shree_Ram Jai_Shree_Ram Jai_Shree_Ram Jai_Shree_Ram Jai_Shree_Ram Jai_Shree_Ram Jai_Shree_Ram Jai_Shree_Ram Jai_Shree_Ram Jai_Shree_Ram Jai_Shree_Ram Jai_Shree_Ram Jai_Shree_Ram Jai_Shree_Ram Jai_Shree_Ram Jai_Shree_Ram Jai_Shree_Ram Jai_Shree_Ram Jai_Shree_Ram Jai_Shree_Ram Jai_Shree_Ram Jai_Shree_Ram Jai_Shree_Ram Jai_Shree_Ram Jai_Shree_Ram Jai_Shree_Ram Jai_Shree_Ram Jai_Shree_Ram Jai_Shree_Ram Jai_Shree_Ram Jai_Shree_Ram Jai_Shree_Ram Jai_Shree_Ram Jai_Shree_Ram Jai_Shree_Ram Jai_Shree_Ram Jai_Shree_Ram Jai_Shree_Ram Jai_Shree_Ram Jai_Shree_Ram Jai_Shree_Ram Jai_Shree_Ram Jai_Shree_Ram Jai_Shree_Ram Jai_Shree_Ram Jai_Shree_Ram Jai_Shree_Ram Jai_Shree_Ram Jai_Shree_Ram Jai_Shree_Ram Jai_Shree_Ram Jai_Shree_Ram Jai_Shree_Ram Jai_Shree_Ram Jai_Shree_Ram Jai_Shree_Ram Jai_Shree_Ram Jai_Shree_Ram Jai_Shree_Ram Jai_Shree_Ram Jai_Shree_Ram Jai_Shree_Ram Jai_Shree_Ram Jai_Shree_Ram Jai_Shree_Ram Jai_Shree_Ram Jai_Shree_Ram Jai_Shree_Ram Jai_Shree_Ram Jai_Shree_Ram Jai_Shree_Ram Jai_Shree_Ram Jai_Shree_Ram Jai_Shree_Ram Jai_Shree_Ram Jai_Shree_Ram Jai_Shree_Ram Jai_Shree_Ram Jai_Shree_Ram Jai_Shree_Ram Jai_Shree_Ram Jai_Shree_Ram Jai_Shree_Ram Jai_Shree_Ram Jai_Shree_Ram Jai_Shree_Ram Jai_Shree_Ram Jai_Shree_Ram Jai_Shree_Ram Jai_Shree_Ram Jai_Shree_Ram Jai_Shree_Ram Jai_Shree_Ram Jai_Shree_Ram Jai_Shree_Ram Jai_Shree_Ram Jai_Shree_Ram Jai_Shree_Ram Jai_Shree_Ram Jai_Shree_Ram Jai_Shree_Ram Jai_Shree_Ram Jai_Shree_Ram Jai_Shree_Ram Jai_Shree_Ram Jai_Shree_Ram Jai_Shree_Ram Jai_Shree_Ram Jai_Shree_Ram Jai_Shree_Ram Jai_Shree_Ram Jai_Shree_Ram Jai_Shree_Ram Jai_Shree_Ram Jai_Shree_Ram Jai_Shree_Ram Jai_Shree_Ram Jai_Shree_Ram Jai_Shree_Ram Jai_Shree_Ram Jai_Shree_Ram Jai_Shree_Ram Jai_Shree_Ram Jai_Shree_Ram Jai_Shree_Ram Jai_Shree_Ram Jai_Shree_Ram Jai_Shree_Ram Jai_Shree_Ram Jai_Shree_Ram Jai_Shree_Ram Jai_Shree_Ram Jai_Shree_Ram Jai_Shree_Ram Jai_Shree_Ram Jai_Shree_Ram Jai_Shree_Ram Jai_Shree_Ram Jai_Shree_Ram Jai_Shree_Ram Jai_Shree_Ram Jai_Shree_Ram Jai_Shree_Ram Jai_Shree_Ram Jai_Shree_Ram Jai_Shree_Ram Jai_Shree_Ram Jai_Shree_Ram Jai_Shree_Ram Jai_Shree_Ram Jai_Shree_Ram Jai_Shree_Ram Jai_Shree_Ram Jai_Shree_Ram Jai_Shree_Ram Jai_Shree_Ram Jai_Shree_Ram Jai_Shree_Ram Jai_Shree_Ram Jai_Shree_Ram Jai_Shree_Ram Jai_Shree_Ram Jai_Shree_Ram Jai_Shree_Ram Jai_Shree_Ram Jai_Shree_Ram Jai_Shree_Ram Jai_Shree_Ram Jai_Shree_Ram Jai_Shree_Ram Jai_Shree_Ram Jai_Shree_Ram Jai_Shree_Ram Jai_Shree_Ram Jai_Shree_Ram Jai_Shree_Ram Jai_Shree_Ram Jai_Shree_Ram Jai_Shree_Ram Jai_Shree_Ram Jai_Shree_Ram Jai_Shree_Ram Jai_Shree_Ram Jai_Shree_Ram Jai_Shree_Ram Jai_Shree_Ram Jai_Shree_Ram Jai_Shree_Ram Jai_Shree_Ram Jai_Shree_Ram Jai_Shree_Ram Jai_Shree_Ram Jai_Shree_Ram Jai_Shree_Ram Jai_Shree_Ram Jai_Shree_Ram Jai_Shree_Ram Jai_Shree_Ram Jai_Shree_Ram Jai_Shree_Ram Jai_Shree_Ram Jai_Shree_Ram Jai_Shree_Ram Jai_Shree_Ram Jai_Shree_Ram Jai_Shree_Ram Jai_Shree_Ram Jai_Shree_Ram Jai_Shree_Ram Jai_Shree_Ram Jai_Shree_Ram Jai_Shree_Ram Jai_Shree_Ram Jai_Shree_Ram Jai_Shree_Ram Jai_Shree_Ram Jai_Shree_Ram Jai_Shree_Ram Jai_Shree_Ram Jai_Shree_Ram Jai_Shree_Ram Jai_Shree_Ram Jai_Shree_Ram Jai_Shree_Ram Jai_Shree_Ram Jai_Shree_Ram Jai_Shree_Ram Jai_Shree_Ram Jai_Shree_Ram Jai_Shree_Ram Jai_Shree_Ram Jai_Shree_Ram Jai_Shree_Ram Jai_Shree_Ram Jai_Shree_Ram Jai_Shree_Ram Jai_Shree_Ram Jai_Shree_Ram Jai_Shree_Ram Jai_Shree_Ram Jai_Shree_Ram Jai_Shree_Ram Jai_Shree_Ram Jai_Shree_Ram Jai_Shree_Ram Jai_Shree_Ram Jai_Shree_Ram Jai_Shree_Ram Jai_Shree_Ram Jai_Shree_Ram Jai_Shree_Ram Jai_Shree_Ram Jai_Shree_Ram Jai_Shree_Ram Jai_Shree_Ram Jai_Shree_Ram Jai_Shree_Ram Jai_Shree_Ram Jai_Shree_Ram Jai_Shree_Ram Jai_Shree_Ram Jai_Shree_Ram Jai_Shree_Ram Jai_Shree_Ram Jai_Shree_Ram Jai_Shree_Ram Jai_Shree_Ram Jai_Shree_Ram Jai_Shree_Ram Jai_Shree_Ram Jai_Shree_Ram Jai_Shree_Ram Jai_Shree_Ram Jai_Shree_Ram Jai_Shree_Ram Jai_Shree_Ram Jai_Shree_Ram Jai_Shree_Ram Jai_Shree_Ram Jai_Shree_Ram Jai_Shree_Ram Jai_Shree_Ram Jai_Shree_Ram Jai_Shree_Ram Jai_Shree_Ram Jai_Shree_Ram Jai_Shree_Ram Jai_Shree_Ram Jai_Shree_Ram Jai_Shree_Ram Jai_Shree_Ram Jai_Shree_Ram Jai_Shree_Ram Jai_Shree_Ram Jai_Shree_Ram Jai_Shree_Ram Jai_Shree_Ram Jai_Shree_Ram Jai_Shree_Ram Jai_Shree_Ram Jai_Shree_Ram Jai_Shree_Ram Jai_Shree_Ram Jai_Shree_Ram Jai_Shree_Ram Jai_Shree_Ram Jai_Shree_Ram Jai_Shree_Ram Jai_Shree_Ram Jai_Shree_Ram Jai_Shree_Ram Jai_Shree_Ram Jai_Shree_Ram Jai_Shree_Ram Jai_Shree_Ram Jai_Shree_Ram Jai_Shree_Ram Jai_Shree_Ram Jai_Shree_Ram Jai_Shree_Ram Jai_Shree_Ram Jai_Shree_Ram Jai_Shree_Ram Jai_Shree_Ram Jai_Shree_Ram Jai_Shree_Ram Jai_Shree_Ram Jai_Shree_Ram Jai_Shree_Ram Jai_Shree_Ram Jai_Shree_Ram Jai_Shree_Ram Jai_Shree_Ram Jai_Shree_Ram Jai_Shree_Ram Jai_Shree_Ram Jai_Shree_Ram Jai_Shree_Ram Jai_Shree_Ram Jai_Shree_Ram Jai_Shree_Ram Jai_Shree_Ram Jai_Shree_Ram Jai_Shree_Ram Jai_Shree_Ram Jai_Shree_Ram Jai_Shree_Ram Jai_Shree_Ram Jai_Shree_Ram Jai_Shree_Ram Jai_Shree_Ram Jai_Shree_Ram Jai_Shree_Ram Jai_Shree_Ram Jai_Shree_Ram Jai_Shree_Ram Jai_Shree_Ram Jai_Shree_Ram Jai_Shree_Ram Jai_Shree_Ram Jai_Shree_Ram Jai_Shree_Ram Jai_Shree_Ram Jai_Shree_Ram Jai_Shree_Ram Jai_Shree_Ram Jai_Shree_Ram Jai_Shree_Ram Jai_Shree_Ram Jai_Shree_Ram Jai_Shree_Ram Jai_Shree_Ram Jai_Shree_Ram Jai_Shree_Ram Jai_Shree_Ram Jai_Shree_Ram Jai_Shree_Ram Jai_Shree_Ram Jai_Shree_Ram Jai_Shree_Ram Jai_Shree_Ram Jai_Shree_Ram Jai_Shree_Ram Jai_Shree_Ram Jai_Shree_Ram Jai_Shree_Ram Jai_Shree_Ram Jai_Shree_Ram Jai_Shree_Ram Jai_Shree_Ram Jai_Shree_Ram Jai_Shree_Ram Jai_Shree_Ram Jai_Shree_Ram Jai_Shree_Ram Jai_Shree_Ram Jai_Shree_Ram Jai_Shree_Ram Jai_Shree_Ram Jai_Shree_Ram Jai_Shree_Ram Jai_Shree_Ram Jai_Shree_Ram Jai_Shree_Ram Jai_Shree_Ram Jai_Shree_Ram Jai_Shree_Ram Jai_Shree_Ram Jai_Shree_Ram Jai_Shree_Ram Jai_Shree_Ram Jai_Shree_Ram Jai_Shree_Ram Jai_Shree_Ram Jai_Shree_Ram Jai_Shree_Ram Jai_Shree_Ram Jai_Shree_Ram Jai_Shree_Ram Jai_Shree_Ram Jai_Shree_Ram Jai_Shree_Ram Jai_Shree_Ram Jai_Shree_Ram Jai_Shree_Ram Jai_Shree_Ram Jai_Shree_Ram Jai_Shree_Ram Jai_Shree_Ram Jai_Shree_Ram Jai_Shree_Ram Jai_Shree_Ram Jai_Shree_Ram Jai_Shree_Ram Jai_Shree_Ram Jai_Shree_Ram Jai_Shree_Ram Jai_Shree_Ram Jai_Shree_Ram Jai_Shree_Ram Jai_Shree_Ram Jai_Shree_Ram Jai_Shree_Ram Jai_Shree_Ram Jai_Shree_Ram Jai_Shree_Ram Jai_Shree_Ram Jai_Shree_Ram Jai_Shree_Ram Jai_Shree_Ram Jai_Shree_Ram Jai_Shree_Ram Jai_Shree_Ram Jai_Shree_Ram Jai_Shree_Ram Jai_Shree_Ram Jai_Shree_Ram Jai_Shree_Ram Jai_Shree_Ram Jai_Shree_Ram Jai_Shree_Ram Jai_Shree_Ram Jai_Shree_Ram Jai_Shree_Ram Jai_Shree_Ram Jai_Shree_Ram Jai_Shree_Ram Jai_Shree_Ram Jai_Shree_Ram Jai_Shree_Ram Jai_Shree_Ram Jai_Shree_Ram Jai_Shree_Ram Jai_Shree_Ram Jai_Shree_Ram Jai_Shree_Ram Jai_Shree_Ram Jai_Shree_Ram Jai_Shree_Ram Jai_Shree_Ram Jai_Shree_Ram Jai_Shree_Ram Jai_Shree_Ram Jai_Shree_Ram Jai_Shree_Ram Jai_Shree_Ram Jai_Shree_Ram Jai_Shree_Ram Jai_Shree_Ram Jai_Shree_Ram Jai_Shree_Ram Jai_Shree_Ram</td>\n",
       "      <td>1008</td>\n",
       "    </tr>\n",
       "  </tbody>\n",
       "</table>\n",
       "</div>"
      ],
      "text/plain": [
       "                                                                                                                                                                                                                                                                                                                                                                                                                                                                                                                                                                                                                                                                                                                                                                                                                                                                                                                                                                                                                                                                                                                                                                                                                                                                                                                                                                                                                                                                                                                                                                                                                                                                                                                                                                                                                                                                                                                                                                                                                                                                                                                                                                                                                                                                                                                                                                                                                                                                                                                                                                                                                                                                                                                                                                                                                                                                                                                                                                                                                                                                                                                                                                                                                                                                                                                                                                                                                                                                                                                                                                                                                                                                                                                                                                                                                                                                                                                                                                                                                                                                                                                                                                                                                                                                                                                                                                                                                                                                                                                                                                                                                                                                                                                                                                                                                                                                                                                                                                                                                                                                                                                                                                                                                                                                                                                                                                                                                                                                                                                                                                                                                                                                                                                                                                                                                                                                                                                                                                                                                                                                                                                                                                                                                                                                                                                                                                                                                                                                                                                                                                                                                                                                                                                                                                                                                                                                                                                                                                                                                                                                                                                                                                                                                                                                                                                                                                                                                                                                                                                                                                                                                                                                                                                                                                                                                                                                                                                                                                                                                                                                                                                                                                                                                                                                                                                                                                                                                                                                                                                                                                                                                                                                                                                                                                                                                                                                                                                                                                                                                                                                                                                                                                                                                                                                                                                                                                                                                                                                                                                                                                                                                                                                                                                                                                                                                                                                                                                                                                                                                                                                                                                                                                                                                                                                                                                                                                                                                                                                                                                                                                                                                                                                                                                                                                                                                                                                                                                                                                                                                                                                                                                                                                                                                                                                                                                                                                                                                                                                                                                                                                                                                                                                                                                                                                                                                                                                                                                                                                                                                                                                                                                                                                                                                                                                                                                                                                                                                                                                                                                                                                                                                                                                                                                                                                                                                                                                                                                                                                                                                                                                                                                                                                                                                                                                                                                                                                                                                                                                                                                                                                                                                                                                                                                                                                                                                                                                                                                                                                                                                                                                                                                                                                                                                                                                                                                                                                                                                                                                                                                                                                                                                                                                                              Text  \\\n",
       "0  Jai_Shree_Ram Jai_Shree_Ram Jai_Shree_Ram Jai_Shree_Ram Jai_Shree_Ram Jai_Shree_Ram Jai_Shree_Ram Jai_Shree_Ram Jai_Shree_Ram Jai_Shree_Ram Jai_Shree_Ram Jai_Shree_Ram Jai_Shree_Ram Jai_Shree_Ram Jai_Shree_Ram Jai_Shree_Ram Jai_Shree_Ram Jai_Shree_Ram Jai_Shree_Ram Jai_Shree_Ram Jai_Shree_Ram Jai_Shree_Ram Jai_Shree_Ram Jai_Shree_Ram Jai_Shree_Ram Jai_Shree_Ram Jai_Shree_Ram Jai_Shree_Ram Jai_Shree_Ram Jai_Shree_Ram Jai_Shree_Ram Jai_Shree_Ram Jai_Shree_Ram Jai_Shree_Ram Jai_Shree_Ram Jai_Shree_Ram Jai_Shree_Ram Jai_Shree_Ram Jai_Shree_Ram Jai_Shree_Ram Jai_Shree_Ram Jai_Shree_Ram Jai_Shree_Ram Jai_Shree_Ram Jai_Shree_Ram Jai_Shree_Ram Jai_Shree_Ram Jai_Shree_Ram Jai_Shree_Ram Jai_Shree_Ram Jai_Shree_Ram Jai_Shree_Ram Jai_Shree_Ram Jai_Shree_Ram Jai_Shree_Ram Jai_Shree_Ram Jai_Shree_Ram Jai_Shree_Ram Jai_Shree_Ram Jai_Shree_Ram Jai_Shree_Ram Jai_Shree_Ram Jai_Shree_Ram Jai_Shree_Ram Jai_Shree_Ram Jai_Shree_Ram Jai_Shree_Ram Jai_Shree_Ram Jai_Shree_Ram Jai_Shree_Ram Jai_Shree_Ram Jai_Shree_Ram Jai_Shree_Ram Jai_Shree_Ram Jai_Shree_Ram Jai_Shree_Ram Jai_Shree_Ram Jai_Shree_Ram Jai_Shree_Ram Jai_Shree_Ram Jai_Shree_Ram Jai_Shree_Ram Jai_Shree_Ram Jai_Shree_Ram Jai_Shree_Ram Jai_Shree_Ram Jai_Shree_Ram Jai_Shree_Ram Jai_Shree_Ram Jai_Shree_Ram Jai_Shree_Ram Jai_Shree_Ram Jai_Shree_Ram Jai_Shree_Ram Jai_Shree_Ram Jai_Shree_Ram Jai_Shree_Ram Jai_Shree_Ram Jai_Shree_Ram Jai_Shree_Ram Jai_Shree_Ram Jai_Shree_Ram Jai_Shree_Ram Jai_Shree_Ram Jai_Shree_Ram Jai_Shree_Ram Jai_Shree_Ram Jai_Shree_Ram Jai_Shree_Ram Jai_Shree_Ram Jai_Shree_Ram Jai_Shree_Ram Jai_Shree_Ram Jai_Shree_Ram Jai_Shree_Ram Jai_Shree_Ram Jai_Shree_Ram Jai_Shree_Ram Jai_Shree_Ram Jai_Shree_Ram Jai_Shree_Ram Jai_Shree_Ram Jai_Shree_Ram Jai_Shree_Ram Jai_Shree_Ram Jai_Shree_Ram Jai_Shree_Ram Jai_Shree_Ram Jai_Shree_Ram Jai_Shree_Ram Jai_Shree_Ram Jai_Shree_Ram Jai_Shree_Ram Jai_Shree_Ram Jai_Shree_Ram Jai_Shree_Ram Jai_Shree_Ram Jai_Shree_Ram Jai_Shree_Ram Jai_Shree_Ram Jai_Shree_Ram Jai_Shree_Ram Jai_Shree_Ram Jai_Shree_Ram Jai_Shree_Ram Jai_Shree_Ram Jai_Shree_Ram Jai_Shree_Ram Jai_Shree_Ram Jai_Shree_Ram Jai_Shree_Ram Jai_Shree_Ram Jai_Shree_Ram Jai_Shree_Ram Jai_Shree_Ram Jai_Shree_Ram Jai_Shree_Ram Jai_Shree_Ram Jai_Shree_Ram Jai_Shree_Ram Jai_Shree_Ram Jai_Shree_Ram Jai_Shree_Ram Jai_Shree_Ram Jai_Shree_Ram Jai_Shree_Ram Jai_Shree_Ram Jai_Shree_Ram Jai_Shree_Ram Jai_Shree_Ram Jai_Shree_Ram Jai_Shree_Ram Jai_Shree_Ram Jai_Shree_Ram Jai_Shree_Ram Jai_Shree_Ram Jai_Shree_Ram Jai_Shree_Ram Jai_Shree_Ram Jai_Shree_Ram Jai_Shree_Ram Jai_Shree_Ram Jai_Shree_Ram Jai_Shree_Ram Jai_Shree_Ram Jai_Shree_Ram Jai_Shree_Ram Jai_Shree_Ram Jai_Shree_Ram Jai_Shree_Ram Jai_Shree_Ram Jai_Shree_Ram Jai_Shree_Ram Jai_Shree_Ram Jai_Shree_Ram Jai_Shree_Ram Jai_Shree_Ram Jai_Shree_Ram Jai_Shree_Ram Jai_Shree_Ram Jai_Shree_Ram Jai_Shree_Ram Jai_Shree_Ram Jai_Shree_Ram Jai_Shree_Ram Jai_Shree_Ram Jai_Shree_Ram Jai_Shree_Ram Jai_Shree_Ram Jai_Shree_Ram Jai_Shree_Ram Jai_Shree_Ram Jai_Shree_Ram Jai_Shree_Ram Jai_Shree_Ram Jai_Shree_Ram Jai_Shree_Ram Jai_Shree_Ram Jai_Shree_Ram Jai_Shree_Ram Jai_Shree_Ram Jai_Shree_Ram Jai_Shree_Ram Jai_Shree_Ram Jai_Shree_Ram Jai_Shree_Ram Jai_Shree_Ram Jai_Shree_Ram Jai_Shree_Ram Jai_Shree_Ram Jai_Shree_Ram Jai_Shree_Ram Jai_Shree_Ram Jai_Shree_Ram Jai_Shree_Ram Jai_Shree_Ram Jai_Shree_Ram Jai_Shree_Ram Jai_Shree_Ram Jai_Shree_Ram Jai_Shree_Ram Jai_Shree_Ram Jai_Shree_Ram Jai_Shree_Ram Jai_Shree_Ram Jai_Shree_Ram Jai_Shree_Ram Jai_Shree_Ram Jai_Shree_Ram Jai_Shree_Ram Jai_Shree_Ram Jai_Shree_Ram Jai_Shree_Ram Jai_Shree_Ram Jai_Shree_Ram Jai_Shree_Ram Jai_Shree_Ram Jai_Shree_Ram Jai_Shree_Ram Jai_Shree_Ram Jai_Shree_Ram Jai_Shree_Ram Jai_Shree_Ram Jai_Shree_Ram Jai_Shree_Ram Jai_Shree_Ram Jai_Shree_Ram Jai_Shree_Ram Jai_Shree_Ram Jai_Shree_Ram Jai_Shree_Ram Jai_Shree_Ram Jai_Shree_Ram Jai_Shree_Ram Jai_Shree_Ram Jai_Shree_Ram Jai_Shree_Ram Jai_Shree_Ram Jai_Shree_Ram Jai_Shree_Ram Jai_Shree_Ram Jai_Shree_Ram Jai_Shree_Ram Jai_Shree_Ram Jai_Shree_Ram Jai_Shree_Ram Jai_Shree_Ram Jai_Shree_Ram Jai_Shree_Ram Jai_Shree_Ram Jai_Shree_Ram Jai_Shree_Ram Jai_Shree_Ram Jai_Shree_Ram Jai_Shree_Ram Jai_Shree_Ram Jai_Shree_Ram Jai_Shree_Ram Jai_Shree_Ram Jai_Shree_Ram Jai_Shree_Ram Jai_Shree_Ram Jai_Shree_Ram Jai_Shree_Ram Jai_Shree_Ram Jai_Shree_Ram Jai_Shree_Ram Jai_Shree_Ram Jai_Shree_Ram Jai_Shree_Ram Jai_Shree_Ram Jai_Shree_Ram Jai_Shree_Ram Jai_Shree_Ram Jai_Shree_Ram Jai_Shree_Ram Jai_Shree_Ram Jai_Shree_Ram Jai_Shree_Ram Jai_Shree_Ram Jai_Shree_Ram Jai_Shree_Ram Jai_Shree_Ram Jai_Shree_Ram Jai_Shree_Ram Jai_Shree_Ram Jai_Shree_Ram Jai_Shree_Ram Jai_Shree_Ram Jai_Shree_Ram Jai_Shree_Ram Jai_Shree_Ram Jai_Shree_Ram Jai_Shree_Ram Jai_Shree_Ram Jai_Shree_Ram Jai_Shree_Ram Jai_Shree_Ram Jai_Shree_Ram Jai_Shree_Ram Jai_Shree_Ram Jai_Shree_Ram Jai_Shree_Ram Jai_Shree_Ram Jai_Shree_Ram Jai_Shree_Ram Jai_Shree_Ram Jai_Shree_Ram Jai_Shree_Ram Jai_Shree_Ram Jai_Shree_Ram Jai_Shree_Ram Jai_Shree_Ram Jai_Shree_Ram Jai_Shree_Ram Jai_Shree_Ram Jai_Shree_Ram Jai_Shree_Ram Jai_Shree_Ram Jai_Shree_Ram Jai_Shree_Ram Jai_Shree_Ram Jai_Shree_Ram Jai_Shree_Ram Jai_Shree_Ram Jai_Shree_Ram Jai_Shree_Ram Jai_Shree_Ram Jai_Shree_Ram Jai_Shree_Ram Jai_Shree_Ram Jai_Shree_Ram Jai_Shree_Ram Jai_Shree_Ram Jai_Shree_Ram Jai_Shree_Ram Jai_Shree_Ram Jai_Shree_Ram Jai_Shree_Ram Jai_Shree_Ram Jai_Shree_Ram Jai_Shree_Ram Jai_Shree_Ram Jai_Shree_Ram Jai_Shree_Ram Jai_Shree_Ram Jai_Shree_Ram Jai_Shree_Ram Jai_Shree_Ram Jai_Shree_Ram Jai_Shree_Ram Jai_Shree_Ram Jai_Shree_Ram Jai_Shree_Ram Jai_Shree_Ram Jai_Shree_Ram Jai_Shree_Ram Jai_Shree_Ram Jai_Shree_Ram Jai_Shree_Ram Jai_Shree_Ram Jai_Shree_Ram Jai_Shree_Ram Jai_Shree_Ram Jai_Shree_Ram Jai_Shree_Ram Jai_Shree_Ram Jai_Shree_Ram Jai_Shree_Ram Jai_Shree_Ram Jai_Shree_Ram Jai_Shree_Ram Jai_Shree_Ram Jai_Shree_Ram Jai_Shree_Ram Jai_Shree_Ram Jai_Shree_Ram Jai_Shree_Ram Jai_Shree_Ram Jai_Shree_Ram Jai_Shree_Ram Jai_Shree_Ram Jai_Shree_Ram Jai_Shree_Ram Jai_Shree_Ram Jai_Shree_Ram Jai_Shree_Ram Jai_Shree_Ram Jai_Shree_Ram Jai_Shree_Ram Jai_Shree_Ram Jai_Shree_Ram Jai_Shree_Ram Jai_Shree_Ram Jai_Shree_Ram Jai_Shree_Ram Jai_Shree_Ram Jai_Shree_Ram Jai_Shree_Ram Jai_Shree_Ram Jai_Shree_Ram Jai_Shree_Ram Jai_Shree_Ram Jai_Shree_Ram Jai_Shree_Ram Jai_Shree_Ram Jai_Shree_Ram Jai_Shree_Ram Jai_Shree_Ram Jai_Shree_Ram Jai_Shree_Ram Jai_Shree_Ram Jai_Shree_Ram Jai_Shree_Ram Jai_Shree_Ram Jai_Shree_Ram Jai_Shree_Ram Jai_Shree_Ram Jai_Shree_Ram Jai_Shree_Ram Jai_Shree_Ram Jai_Shree_Ram Jai_Shree_Ram Jai_Shree_Ram Jai_Shree_Ram Jai_Shree_Ram Jai_Shree_Ram Jai_Shree_Ram Jai_Shree_Ram Jai_Shree_Ram Jai_Shree_Ram Jai_Shree_Ram Jai_Shree_Ram Jai_Shree_Ram Jai_Shree_Ram Jai_Shree_Ram Jai_Shree_Ram Jai_Shree_Ram Jai_Shree_Ram Jai_Shree_Ram Jai_Shree_Ram Jai_Shree_Ram Jai_Shree_Ram Jai_Shree_Ram Jai_Shree_Ram Jai_Shree_Ram Jai_Shree_Ram Jai_Shree_Ram Jai_Shree_Ram Jai_Shree_Ram Jai_Shree_Ram Jai_Shree_Ram Jai_Shree_Ram Jai_Shree_Ram Jai_Shree_Ram Jai_Shree_Ram Jai_Shree_Ram Jai_Shree_Ram Jai_Shree_Ram Jai_Shree_Ram Jai_Shree_Ram Jai_Shree_Ram Jai_Shree_Ram Jai_Shree_Ram Jai_Shree_Ram Jai_Shree_Ram Jai_Shree_Ram Jai_Shree_Ram Jai_Shree_Ram Jai_Shree_Ram Jai_Shree_Ram Jai_Shree_Ram Jai_Shree_Ram Jai_Shree_Ram Jai_Shree_Ram Jai_Shree_Ram Jai_Shree_Ram Jai_Shree_Ram Jai_Shree_Ram Jai_Shree_Ram Jai_Shree_Ram Jai_Shree_Ram Jai_Shree_Ram Jai_Shree_Ram Jai_Shree_Ram Jai_Shree_Ram Jai_Shree_Ram Jai_Shree_Ram Jai_Shree_Ram Jai_Shree_Ram Jai_Shree_Ram Jai_Shree_Ram Jai_Shree_Ram Jai_Shree_Ram Jai_Shree_Ram Jai_Shree_Ram Jai_Shree_Ram Jai_Shree_Ram Jai_Shree_Ram Jai_Shree_Ram Jai_Shree_Ram Jai_Shree_Ram Jai_Shree_Ram Jai_Shree_Ram Jai_Shree_Ram Jai_Shree_Ram Jai_Shree_Ram Jai_Shree_Ram Jai_Shree_Ram Jai_Shree_Ram Jai_Shree_Ram Jai_Shree_Ram Jai_Shree_Ram Jai_Shree_Ram Jai_Shree_Ram Jai_Shree_Ram Jai_Shree_Ram Jai_Shree_Ram Jai_Shree_Ram Jai_Shree_Ram Jai_Shree_Ram Jai_Shree_Ram Jai_Shree_Ram Jai_Shree_Ram Jai_Shree_Ram Jai_Shree_Ram Jai_Shree_Ram Jai_Shree_Ram Jai_Shree_Ram Jai_Shree_Ram Jai_Shree_Ram Jai_Shree_Ram Jai_Shree_Ram Jai_Shree_Ram Jai_Shree_Ram Jai_Shree_Ram Jai_Shree_Ram Jai_Shree_Ram Jai_Shree_Ram Jai_Shree_Ram Jai_Shree_Ram Jai_Shree_Ram Jai_Shree_Ram Jai_Shree_Ram Jai_Shree_Ram Jai_Shree_Ram Jai_Shree_Ram Jai_Shree_Ram Jai_Shree_Ram Jai_Shree_Ram Jai_Shree_Ram Jai_Shree_Ram Jai_Shree_Ram Jai_Shree_Ram Jai_Shree_Ram Jai_Shree_Ram Jai_Shree_Ram Jai_Shree_Ram Jai_Shree_Ram Jai_Shree_Ram Jai_Shree_Ram Jai_Shree_Ram Jai_Shree_Ram Jai_Shree_Ram Jai_Shree_Ram Jai_Shree_Ram Jai_Shree_Ram Jai_Shree_Ram Jai_Shree_Ram Jai_Shree_Ram Jai_Shree_Ram Jai_Shree_Ram Jai_Shree_Ram Jai_Shree_Ram Jai_Shree_Ram Jai_Shree_Ram Jai_Shree_Ram Jai_Shree_Ram Jai_Shree_Ram Jai_Shree_Ram Jai_Shree_Ram Jai_Shree_Ram Jai_Shree_Ram Jai_Shree_Ram Jai_Shree_Ram Jai_Shree_Ram Jai_Shree_Ram Jai_Shree_Ram Jai_Shree_Ram Jai_Shree_Ram Jai_Shree_Ram Jai_Shree_Ram Jai_Shree_Ram Jai_Shree_Ram Jai_Shree_Ram Jai_Shree_Ram Jai_Shree_Ram Jai_Shree_Ram Jai_Shree_Ram Jai_Shree_Ram Jai_Shree_Ram Jai_Shree_Ram Jai_Shree_Ram Jai_Shree_Ram Jai_Shree_Ram Jai_Shree_Ram Jai_Shree_Ram Jai_Shree_Ram Jai_Shree_Ram Jai_Shree_Ram Jai_Shree_Ram Jai_Shree_Ram Jai_Shree_Ram Jai_Shree_Ram Jai_Shree_Ram Jai_Shree_Ram Jai_Shree_Ram Jai_Shree_Ram Jai_Shree_Ram Jai_Shree_Ram Jai_Shree_Ram Jai_Shree_Ram Jai_Shree_Ram Jai_Shree_Ram Jai_Shree_Ram Jai_Shree_Ram Jai_Shree_Ram Jai_Shree_Ram Jai_Shree_Ram Jai_Shree_Ram Jai_Shree_Ram Jai_Shree_Ram Jai_Shree_Ram Jai_Shree_Ram Jai_Shree_Ram Jai_Shree_Ram Jai_Shree_Ram Jai_Shree_Ram Jai_Shree_Ram Jai_Shree_Ram Jai_Shree_Ram Jai_Shree_Ram Jai_Shree_Ram Jai_Shree_Ram Jai_Shree_Ram Jai_Shree_Ram Jai_Shree_Ram Jai_Shree_Ram Jai_Shree_Ram Jai_Shree_Ram Jai_Shree_Ram Jai_Shree_Ram Jai_Shree_Ram Jai_Shree_Ram Jai_Shree_Ram Jai_Shree_Ram Jai_Shree_Ram Jai_Shree_Ram Jai_Shree_Ram Jai_Shree_Ram Jai_Shree_Ram Jai_Shree_Ram Jai_Shree_Ram Jai_Shree_Ram Jai_Shree_Ram Jai_Shree_Ram Jai_Shree_Ram Jai_Shree_Ram Jai_Shree_Ram Jai_Shree_Ram Jai_Shree_Ram Jai_Shree_Ram Jai_Shree_Ram Jai_Shree_Ram Jai_Shree_Ram Jai_Shree_Ram Jai_Shree_Ram Jai_Shree_Ram Jai_Shree_Ram Jai_Shree_Ram Jai_Shree_Ram Jai_Shree_Ram Jai_Shree_Ram Jai_Shree_Ram Jai_Shree_Ram Jai_Shree_Ram Jai_Shree_Ram Jai_Shree_Ram Jai_Shree_Ram Jai_Shree_Ram Jai_Shree_Ram Jai_Shree_Ram Jai_Shree_Ram Jai_Shree_Ram Jai_Shree_Ram Jai_Shree_Ram Jai_Shree_Ram Jai_Shree_Ram Jai_Shree_Ram Jai_Shree_Ram Jai_Shree_Ram Jai_Shree_Ram Jai_Shree_Ram Jai_Shree_Ram Jai_Shree_Ram Jai_Shree_Ram Jai_Shree_Ram Jai_Shree_Ram Jai_Shree_Ram Jai_Shree_Ram Jai_Shree_Ram Jai_Shree_Ram Jai_Shree_Ram Jai_Shree_Ram Jai_Shree_Ram Jai_Shree_Ram Jai_Shree_Ram Jai_Shree_Ram Jai_Shree_Ram Jai_Shree_Ram Jai_Shree_Ram Jai_Shree_Ram Jai_Shree_Ram Jai_Shree_Ram Jai_Shree_Ram Jai_Shree_Ram Jai_Shree_Ram Jai_Shree_Ram Jai_Shree_Ram Jai_Shree_Ram Jai_Shree_Ram Jai_Shree_Ram Jai_Shree_Ram Jai_Shree_Ram Jai_Shree_Ram Jai_Shree_Ram Jai_Shree_Ram Jai_Shree_Ram Jai_Shree_Ram Jai_Shree_Ram Jai_Shree_Ram Jai_Shree_Ram Jai_Shree_Ram Jai_Shree_Ram Jai_Shree_Ram Jai_Shree_Ram Jai_Shree_Ram Jai_Shree_Ram Jai_Shree_Ram Jai_Shree_Ram Jai_Shree_Ram Jai_Shree_Ram Jai_Shree_Ram Jai_Shree_Ram Jai_Shree_Ram Jai_Shree_Ram Jai_Shree_Ram Jai_Shree_Ram Jai_Shree_Ram Jai_Shree_Ram Jai_Shree_Ram Jai_Shree_Ram Jai_Shree_Ram Jai_Shree_Ram Jai_Shree_Ram Jai_Shree_Ram Jai_Shree_Ram Jai_Shree_Ram Jai_Shree_Ram Jai_Shree_Ram Jai_Shree_Ram Jai_Shree_Ram Jai_Shree_Ram Jai_Shree_Ram Jai_Shree_Ram Jai_Shree_Ram Jai_Shree_Ram Jai_Shree_Ram Jai_Shree_Ram Jai_Shree_Ram Jai_Shree_Ram Jai_Shree_Ram Jai_Shree_Ram Jai_Shree_Ram Jai_Shree_Ram Jai_Shree_Ram Jai_Shree_Ram Jai_Shree_Ram Jai_Shree_Ram Jai_Shree_Ram Jai_Shree_Ram Jai_Shree_Ram Jai_Shree_Ram Jai_Shree_Ram Jai_Shree_Ram Jai_Shree_Ram Jai_Shree_Ram Jai_Shree_Ram Jai_Shree_Ram Jai_Shree_Ram Jai_Shree_Ram Jai_Shree_Ram Jai_Shree_Ram Jai_Shree_Ram Jai_Shree_Ram Jai_Shree_Ram Jai_Shree_Ram Jai_Shree_Ram Jai_Shree_Ram Jai_Shree_Ram Jai_Shree_Ram Jai_Shree_Ram Jai_Shree_Ram Jai_Shree_Ram Jai_Shree_Ram Jai_Shree_Ram Jai_Shree_Ram Jai_Shree_Ram Jai_Shree_Ram Jai_Shree_Ram Jai_Shree_Ram Jai_Shree_Ram Jai_Shree_Ram Jai_Shree_Ram Jai_Shree_Ram Jai_Shree_Ram Jai_Shree_Ram Jai_Shree_Ram Jai_Shree_Ram Jai_Shree_Ram Jai_Shree_Ram Jai_Shree_Ram Jai_Shree_Ram Jai_Shree_Ram Jai_Shree_Ram Jai_Shree_Ram Jai_Shree_Ram Jai_Shree_Ram Jai_Shree_Ram Jai_Shree_Ram Jai_Shree_Ram Jai_Shree_Ram Jai_Shree_Ram Jai_Shree_Ram Jai_Shree_Ram Jai_Shree_Ram Jai_Shree_Ram Jai_Shree_Ram Jai_Shree_Ram Jai_Shree_Ram Jai_Shree_Ram Jai_Shree_Ram Jai_Shree_Ram Jai_Shree_Ram Jai_Shree_Ram Jai_Shree_Ram Jai_Shree_Ram Jai_Shree_Ram Jai_Shree_Ram Jai_Shree_Ram Jai_Shree_Ram Jai_Shree_Ram Jai_Shree_Ram Jai_Shree_Ram Jai_Shree_Ram Jai_Shree_Ram Jai_Shree_Ram Jai_Shree_Ram Jai_Shree_Ram Jai_Shree_Ram Jai_Shree_Ram Jai_Shree_Ram Jai_Shree_Ram Jai_Shree_Ram Jai_Shree_Ram Jai_Shree_Ram Jai_Shree_Ram Jai_Shree_Ram Jai_Shree_Ram Jai_Shree_Ram Jai_Shree_Ram Jai_Shree_Ram Jai_Shree_Ram Jai_Shree_Ram Jai_Shree_Ram Jai_Shree_Ram Jai_Shree_Ram Jai_Shree_Ram Jai_Shree_Ram Jai_Shree_Ram Jai_Shree_Ram Jai_Shree_Ram Jai_Shree_Ram Jai_Shree_Ram Jai_Shree_Ram Jai_Shree_Ram Jai_Shree_Ram Jai_Shree_Ram Jai_Shree_Ram Jai_Shree_Ram Jai_Shree_Ram Jai_Shree_Ram Jai_Shree_Ram Jai_Shree_Ram Jai_Shree_Ram Jai_Shree_Ram Jai_Shree_Ram Jai_Shree_Ram Jai_Shree_Ram Jai_Shree_Ram Jai_Shree_Ram Jai_Shree_Ram Jai_Shree_Ram Jai_Shree_Ram Jai_Shree_Ram Jai_Shree_Ram Jai_Shree_Ram Jai_Shree_Ram Jai_Shree_Ram Jai_Shree_Ram Jai_Shree_Ram Jai_Shree_Ram Jai_Shree_Ram Jai_Shree_Ram Jai_Shree_Ram Jai_Shree_Ram Jai_Shree_Ram Jai_Shree_Ram Jai_Shree_Ram Jai_Shree_Ram Jai_Shree_Ram Jai_Shree_Ram Jai_Shree_Ram Jai_Shree_Ram Jai_Shree_Ram Jai_Shree_Ram Jai_Shree_Ram Jai_Shree_Ram Jai_Shree_Ram Jai_Shree_Ram Jai_Shree_Ram Jai_Shree_Ram Jai_Shree_Ram Jai_Shree_Ram Jai_Shree_Ram Jai_Shree_Ram Jai_Shree_Ram Jai_Shree_Ram Jai_Shree_Ram Jai_Shree_Ram Jai_Shree_Ram Jai_Shree_Ram Jai_Shree_Ram Jai_Shree_Ram Jai_Shree_Ram Jai_Shree_Ram Jai_Shree_Ram Jai_Shree_Ram Jai_Shree_Ram Jai_Shree_Ram Jai_Shree_Ram Jai_Shree_Ram Jai_Shree_Ram Jai_Shree_Ram Jai_Shree_Ram Jai_Shree_Ram Jai_Shree_Ram Jai_Shree_Ram   \n",
       "\n",
       "   Word_Count  \n",
       "0        1008  "
      ]
     },
     "execution_count": 19,
     "metadata": {},
     "output_type": "execute_result"
    }
   ],
   "source": [
    "df4"
   ]
  },
  {
   "cell_type": "code",
   "execution_count": null,
   "id": "9b3b795d-c106-4f4b-9d9b-60845b431ac4",
   "metadata": {},
   "outputs": [],
   "source": []
  },
  {
   "cell_type": "code",
   "execution_count": null,
   "id": "e500b320-d326-4c50-a029-94bff9325d2c",
   "metadata": {},
   "outputs": [],
   "source": [
    "'''Q5. How are DataFrame.size() and DataFrame.shape() different?'''"
   ]
  },
  {
   "cell_type": "code",
   "execution_count": null,
   "id": "c8c3e394-7973-4603-8463-46eaf5042bcc",
   "metadata": {},
   "outputs": [],
   "source": [
    "#Ans.\n",
    "DataFrame.size = DataFrame.size() is a property of pandas which show about the size of dataframe by giving the int value\n",
    "                 which show number of elements in object. If in case series, it show no. of rows and if in case dataframe\n",
    "                 it shows about number of rows times the number of columns."
   ]
  },
  {
   "cell_type": "code",
   "execution_count": 2,
   "id": "42a5b7b1-c4a4-4b3d-a323-f9cb719b112f",
   "metadata": {},
   "outputs": [],
   "source": [
    "#ex of DataFrame.Size()\n",
    "\n",
    "#making dataframe\n",
    "df5 = pd.read_csv('my_world.csv')"
   ]
  },
  {
   "cell_type": "code",
   "execution_count": 7,
   "id": "e4135e66-0c62-48d5-aac5-2d52ffa44e5f",
   "metadata": {},
   "outputs": [
    {
     "data": {
      "text/html": [
       "<div>\n",
       "<style scoped>\n",
       "    .dataframe tbody tr th:only-of-type {\n",
       "        vertical-align: middle;\n",
       "    }\n",
       "\n",
       "    .dataframe tbody tr th {\n",
       "        vertical-align: top;\n",
       "    }\n",
       "\n",
       "    .dataframe thead th {\n",
       "        text-align: right;\n",
       "    }\n",
       "</style>\n",
       "<table border=\"1\" class=\"dataframe\">\n",
       "  <thead>\n",
       "    <tr style=\"text-align: right;\">\n",
       "      <th></th>\n",
       "      <th>My_World</th>\n",
       "    </tr>\n",
       "  </thead>\n",
       "  <tbody>\n",
       "    <tr>\n",
       "      <th>0</th>\n",
       "      <td>Shree Ram</td>\n",
       "    </tr>\n",
       "    <tr>\n",
       "      <th>1</th>\n",
       "      <td>Sita Mata</td>\n",
       "    </tr>\n",
       "    <tr>\n",
       "      <th>2</th>\n",
       "      <td>Lakshman ji</td>\n",
       "    </tr>\n",
       "    <tr>\n",
       "      <th>3</th>\n",
       "      <td>Jai Hanuman</td>\n",
       "    </tr>\n",
       "    <tr>\n",
       "      <th>4</th>\n",
       "      <td>Bholenath</td>\n",
       "    </tr>\n",
       "    <tr>\n",
       "      <th>5</th>\n",
       "      <td>Hari Narayan</td>\n",
       "    </tr>\n",
       "    <tr>\n",
       "      <th>6</th>\n",
       "      <td>Kanhaiya</td>\n",
       "    </tr>\n",
       "    <tr>\n",
       "      <th>7</th>\n",
       "      <td>Parvati ji</td>\n",
       "    </tr>\n",
       "    <tr>\n",
       "      <th>8</th>\n",
       "      <td>Mata laxmi</td>\n",
       "    </tr>\n",
       "  </tbody>\n",
       "</table>\n",
       "</div>"
      ],
      "text/plain": [
       "       My_World\n",
       "0     Shree Ram\n",
       "1     Sita Mata\n",
       "2   Lakshman ji\n",
       "3   Jai Hanuman\n",
       "4     Bholenath\n",
       "5  Hari Narayan\n",
       "6      Kanhaiya\n",
       "7    Parvati ji\n",
       "8    Mata laxmi"
      ]
     },
     "execution_count": 7,
     "metadata": {},
     "output_type": "execute_result"
    }
   ],
   "source": [
    "df5"
   ]
  },
  {
   "cell_type": "code",
   "execution_count": 8,
   "id": "dcfd00be-42bc-4f9e-b77c-d78bd4161a0c",
   "metadata": {},
   "outputs": [],
   "source": [
    "#using size() function by assigning\n",
    "a = df5.size"
   ]
  },
  {
   "cell_type": "code",
   "execution_count": 10,
   "id": "9c17fa95-d2ec-4cef-a6da-5207f2fcca70",
   "metadata": {},
   "outputs": [
    {
     "name": "stdout",
     "output_type": "stream",
     "text": [
      "The size is 9\n"
     ]
    }
   ],
   "source": [
    "#printing the variable\n",
    "print('The size is {}'.format(a))"
   ]
  },
  {
   "cell_type": "code",
   "execution_count": null,
   "id": "bf134fb0-ae07-48d2-9d4d-1fda96f7c639",
   "metadata": {},
   "outputs": [],
   "source": [
    "DataFrame.shape() = DataFrame.shape is property which give a tuple set with numbers which represents the number of rows \n",
    "                    and columns in dataframe or series. From which anyone get idea about how  is data. The number of \n",
    "                    rows are given in left and coulmns are given in right in tuple form."
   ]
  },
  {
   "cell_type": "code",
   "execution_count": 11,
   "id": "98161846-7b7d-4c23-b6b6-6a535a2cb8ca",
   "metadata": {},
   "outputs": [],
   "source": [
    "#Ex of dataframe.shape()\n",
    "\n",
    "#making datframe\n",
    "df6 = pd.read_csv('my_world.csv')"
   ]
  },
  {
   "cell_type": "code",
   "execution_count": 12,
   "id": "f947462c-ba48-44e8-8c4e-3d337abdb625",
   "metadata": {},
   "outputs": [
    {
     "data": {
      "text/html": [
       "<div>\n",
       "<style scoped>\n",
       "    .dataframe tbody tr th:only-of-type {\n",
       "        vertical-align: middle;\n",
       "    }\n",
       "\n",
       "    .dataframe tbody tr th {\n",
       "        vertical-align: top;\n",
       "    }\n",
       "\n",
       "    .dataframe thead th {\n",
       "        text-align: right;\n",
       "    }\n",
       "</style>\n",
       "<table border=\"1\" class=\"dataframe\">\n",
       "  <thead>\n",
       "    <tr style=\"text-align: right;\">\n",
       "      <th></th>\n",
       "      <th>My_World</th>\n",
       "    </tr>\n",
       "  </thead>\n",
       "  <tbody>\n",
       "    <tr>\n",
       "      <th>0</th>\n",
       "      <td>Shree Ram</td>\n",
       "    </tr>\n",
       "    <tr>\n",
       "      <th>1</th>\n",
       "      <td>Sita Mata</td>\n",
       "    </tr>\n",
       "    <tr>\n",
       "      <th>2</th>\n",
       "      <td>Lakshman ji</td>\n",
       "    </tr>\n",
       "    <tr>\n",
       "      <th>3</th>\n",
       "      <td>Jai Hanuman</td>\n",
       "    </tr>\n",
       "    <tr>\n",
       "      <th>4</th>\n",
       "      <td>Bholenath</td>\n",
       "    </tr>\n",
       "    <tr>\n",
       "      <th>5</th>\n",
       "      <td>Hari Narayan</td>\n",
       "    </tr>\n",
       "    <tr>\n",
       "      <th>6</th>\n",
       "      <td>Kanhaiya</td>\n",
       "    </tr>\n",
       "    <tr>\n",
       "      <th>7</th>\n",
       "      <td>Parvati ji</td>\n",
       "    </tr>\n",
       "    <tr>\n",
       "      <th>8</th>\n",
       "      <td>Mata laxmi</td>\n",
       "    </tr>\n",
       "  </tbody>\n",
       "</table>\n",
       "</div>"
      ],
      "text/plain": [
       "       My_World\n",
       "0     Shree Ram\n",
       "1     Sita Mata\n",
       "2   Lakshman ji\n",
       "3   Jai Hanuman\n",
       "4     Bholenath\n",
       "5  Hari Narayan\n",
       "6      Kanhaiya\n",
       "7    Parvati ji\n",
       "8    Mata laxmi"
      ]
     },
     "execution_count": 12,
     "metadata": {},
     "output_type": "execute_result"
    }
   ],
   "source": [
    "df6"
   ]
  },
  {
   "cell_type": "code",
   "execution_count": 13,
   "id": "2b06e391-5e00-429e-a17d-73c8c0e705c7",
   "metadata": {},
   "outputs": [],
   "source": [
    "#applying shape function and assigning\n",
    "b = df6.shape"
   ]
  },
  {
   "cell_type": "code",
   "execution_count": 17,
   "id": "ac81d3a5-6ff6-4eca-92a6-69bc4524bc60",
   "metadata": {},
   "outputs": [
    {
     "name": "stdout",
     "output_type": "stream",
     "text": [
      "(9, 1)\n"
     ]
    }
   ],
   "source": [
    "#printing varibale\n",
    "print(b)"
   ]
  },
  {
   "cell_type": "code",
   "execution_count": null,
   "id": "953223a6-b5df-4b6f-a588-d8e8b1a7047b",
   "metadata": {},
   "outputs": [],
   "source": []
  },
  {
   "cell_type": "code",
   "execution_count": null,
   "id": "a9bcefca-7286-4aaa-be4e-c45b6ea6aaef",
   "metadata": {},
   "outputs": [],
   "source": [
    "'''Q6. Which function of pandas do we use to read an excel file?'''"
   ]
  },
  {
   "cell_type": "code",
   "execution_count": null,
   "id": "2b44d232-61e8-47fd-89b4-381a47a1c85f",
   "metadata": {},
   "outputs": [],
   "source": [
    "#Ans.\n",
    "Pandas library is a library of function, there are many function in pandas and for reading data we use different read \n",
    "function depends upon the extension of file.\n",
    "For excel file we use 'read_excel' function"
   ]
  },
  {
   "cell_type": "code",
   "execution_count": 1,
   "id": "acfcebfb-a849-4d1d-b6ff-ce7eda53c8ee",
   "metadata": {},
   "outputs": [
    {
     "data": {
      "text/html": [
       "<div>\n",
       "<style scoped>\n",
       "    .dataframe tbody tr th:only-of-type {\n",
       "        vertical-align: middle;\n",
       "    }\n",
       "\n",
       "    .dataframe tbody tr th {\n",
       "        vertical-align: top;\n",
       "    }\n",
       "\n",
       "    .dataframe thead th {\n",
       "        text-align: right;\n",
       "    }\n",
       "</style>\n",
       "<table border=\"1\" class=\"dataframe\">\n",
       "  <thead>\n",
       "    <tr style=\"text-align: right;\">\n",
       "      <th></th>\n",
       "      <th>Sno.</th>\n",
       "      <th>Name</th>\n",
       "      <th>Age</th>\n",
       "      <th>Nature</th>\n",
       "    </tr>\n",
       "  </thead>\n",
       "  <tbody>\n",
       "    <tr>\n",
       "      <th>0</th>\n",
       "      <td>1</td>\n",
       "      <td>Ujjwal</td>\n",
       "      <td>21</td>\n",
       "      <td>Good</td>\n",
       "    </tr>\n",
       "    <tr>\n",
       "      <th>1</th>\n",
       "      <td>2</td>\n",
       "      <td>Pawan</td>\n",
       "      <td>20</td>\n",
       "      <td>Good</td>\n",
       "    </tr>\n",
       "    <tr>\n",
       "      <th>2</th>\n",
       "      <td>3</td>\n",
       "      <td>Janesh</td>\n",
       "      <td>20</td>\n",
       "      <td>Good</td>\n",
       "    </tr>\n",
       "    <tr>\n",
       "      <th>3</th>\n",
       "      <td>4</td>\n",
       "      <td>Rohit</td>\n",
       "      <td>22</td>\n",
       "      <td>Good</td>\n",
       "    </tr>\n",
       "    <tr>\n",
       "      <th>4</th>\n",
       "      <td>5</td>\n",
       "      <td>Jenu</td>\n",
       "      <td>19</td>\n",
       "      <td>Good</td>\n",
       "    </tr>\n",
       "  </tbody>\n",
       "</table>\n",
       "</div>"
      ],
      "text/plain": [
       "   Sno.     Name  Age Nature\n",
       "0     1  Ujjwal    21   Good\n",
       "1     2    Pawan   20   Good\n",
       "2     3   Janesh   20   Good\n",
       "3     4    Rohit   22   Good\n",
       "4     5     Jenu   19   Good"
      ]
     },
     "execution_count": 1,
     "metadata": {},
     "output_type": "execute_result"
    }
   ],
   "source": [
    "#ex\n",
    "import pandas as pd\n",
    "\n",
    "pd.read_excel('name of friends.xlsx')"
   ]
  },
  {
   "cell_type": "code",
   "execution_count": null,
   "id": "090de3fe-f0f5-4001-bd66-76e8626a5817",
   "metadata": {},
   "outputs": [],
   "source": []
  },
  {
   "cell_type": "code",
   "execution_count": null,
   "id": "f041e949-dd65-4b40-9af4-55dc37f85679",
   "metadata": {},
   "outputs": [],
   "source": [
    "'''Q7. You have a Pandas DataFrame df that contains a column named 'Email' that contains email addresses in the format \n",
    "       'username@domain.com'. Write a Python function that creates a new column 'Username' in df that contains only the \n",
    "       username part of each email address.\n",
    "       \n",
    "       The username is the part of the email address that appears before the '@' symbol. For example, if the\n",
    "       email address is 'john.doe@example.com', the 'Username' column should contain 'john.doe'. Your\n",
    "       function should extract the username from each email address and store it in the new 'Username'\n",
    "       column.'''"
   ]
  },
  {
   "cell_type": "code",
   "execution_count": 18,
   "id": "6711f503-54e3-48d6-9553-533055cd87bf",
   "metadata": {},
   "outputs": [],
   "source": [
    "#Ans.\n",
    "\n",
    "#making data for dataframe\n",
    "data3 = { 'Email' : ['ujjwaljaiswal491@gmail.com', 'jaiswalv950@gmail.com', 'jayshreeharivishnu666@gmail.com', 'jaishivshankar333@gmail.com', 'jaibrahma999@gmail.com']}\n",
    "\n",
    "#converting data to dataframe\n",
    "df7 = pd.DataFrame(data3)"
   ]
  },
  {
   "cell_type": "code",
   "execution_count": 19,
   "id": "fcd289c2-fb3e-47ff-b057-5ae1a1170b7b",
   "metadata": {},
   "outputs": [
    {
     "data": {
      "text/html": [
       "<div>\n",
       "<style scoped>\n",
       "    .dataframe tbody tr th:only-of-type {\n",
       "        vertical-align: middle;\n",
       "    }\n",
       "\n",
       "    .dataframe tbody tr th {\n",
       "        vertical-align: top;\n",
       "    }\n",
       "\n",
       "    .dataframe thead th {\n",
       "        text-align: right;\n",
       "    }\n",
       "</style>\n",
       "<table border=\"1\" class=\"dataframe\">\n",
       "  <thead>\n",
       "    <tr style=\"text-align: right;\">\n",
       "      <th></th>\n",
       "      <th>Email</th>\n",
       "    </tr>\n",
       "  </thead>\n",
       "  <tbody>\n",
       "    <tr>\n",
       "      <th>0</th>\n",
       "      <td>ujjwaljaiswal491@gmail.com</td>\n",
       "    </tr>\n",
       "    <tr>\n",
       "      <th>1</th>\n",
       "      <td>jaiswalv950@gmail.com</td>\n",
       "    </tr>\n",
       "    <tr>\n",
       "      <th>2</th>\n",
       "      <td>jayshreeharivishnu666@gmail.com</td>\n",
       "    </tr>\n",
       "    <tr>\n",
       "      <th>3</th>\n",
       "      <td>jaishivshankar333@gmail.com</td>\n",
       "    </tr>\n",
       "    <tr>\n",
       "      <th>4</th>\n",
       "      <td>jaibrahma999@gmail.com</td>\n",
       "    </tr>\n",
       "  </tbody>\n",
       "</table>\n",
       "</div>"
      ],
      "text/plain": [
       "                             Email\n",
       "0       ujjwaljaiswal491@gmail.com\n",
       "1            jaiswalv950@gmail.com\n",
       "2  jayshreeharivishnu666@gmail.com\n",
       "3      jaishivshankar333@gmail.com\n",
       "4           jaibrahma999@gmail.com"
      ]
     },
     "execution_count": 19,
     "metadata": {},
     "output_type": "execute_result"
    }
   ],
   "source": [
    "#demo\n",
    "df7"
   ]
  },
  {
   "cell_type": "code",
   "execution_count": 20,
   "id": "24ca9b3f-9344-4415-9588-3a1fe84b5661",
   "metadata": {},
   "outputs": [],
   "source": [
    "#function for splitting username from mails\n",
    "x = lambda z : z.split('@gmail.com')[0]"
   ]
  },
  {
   "cell_type": "code",
   "execution_count": 21,
   "id": "fa479438-8f9c-4fc6-acf6-93319cbd3904",
   "metadata": {},
   "outputs": [],
   "source": [
    "#creating new username for dataframe\n",
    "df7['Username'] = df7['Email'].apply(x)"
   ]
  },
  {
   "cell_type": "code",
   "execution_count": 22,
   "id": "5e695c44-ec85-4149-b42e-8b749cd5ae8f",
   "metadata": {},
   "outputs": [
    {
     "data": {
      "text/html": [
       "<div>\n",
       "<style scoped>\n",
       "    .dataframe tbody tr th:only-of-type {\n",
       "        vertical-align: middle;\n",
       "    }\n",
       "\n",
       "    .dataframe tbody tr th {\n",
       "        vertical-align: top;\n",
       "    }\n",
       "\n",
       "    .dataframe thead th {\n",
       "        text-align: right;\n",
       "    }\n",
       "</style>\n",
       "<table border=\"1\" class=\"dataframe\">\n",
       "  <thead>\n",
       "    <tr style=\"text-align: right;\">\n",
       "      <th></th>\n",
       "      <th>Email</th>\n",
       "      <th>Username</th>\n",
       "    </tr>\n",
       "  </thead>\n",
       "  <tbody>\n",
       "    <tr>\n",
       "      <th>0</th>\n",
       "      <td>ujjwaljaiswal491@gmail.com</td>\n",
       "      <td>ujjwaljaiswal491</td>\n",
       "    </tr>\n",
       "    <tr>\n",
       "      <th>1</th>\n",
       "      <td>jaiswalv950@gmail.com</td>\n",
       "      <td>jaiswalv950</td>\n",
       "    </tr>\n",
       "    <tr>\n",
       "      <th>2</th>\n",
       "      <td>jayshreeharivishnu666@gmail.com</td>\n",
       "      <td>jayshreeharivishnu666</td>\n",
       "    </tr>\n",
       "    <tr>\n",
       "      <th>3</th>\n",
       "      <td>jaishivshankar333@gmail.com</td>\n",
       "      <td>jaishivshankar333</td>\n",
       "    </tr>\n",
       "    <tr>\n",
       "      <th>4</th>\n",
       "      <td>jaibrahma999@gmail.com</td>\n",
       "      <td>jaibrahma999</td>\n",
       "    </tr>\n",
       "  </tbody>\n",
       "</table>\n",
       "</div>"
      ],
      "text/plain": [
       "                             Email               Username\n",
       "0       ujjwaljaiswal491@gmail.com       ujjwaljaiswal491\n",
       "1            jaiswalv950@gmail.com            jaiswalv950\n",
       "2  jayshreeharivishnu666@gmail.com  jayshreeharivishnu666\n",
       "3      jaishivshankar333@gmail.com      jaishivshankar333\n",
       "4           jaibrahma999@gmail.com           jaibrahma999"
      ]
     },
     "execution_count": 22,
     "metadata": {},
     "output_type": "execute_result"
    }
   ],
   "source": [
    "#result\n",
    "df7"
   ]
  },
  {
   "cell_type": "code",
   "execution_count": null,
   "id": "bd6fe304-6514-43aa-b596-e31c562f17bc",
   "metadata": {},
   "outputs": [],
   "source": []
  },
  {
   "cell_type": "code",
   "execution_count": null,
   "id": "f10508f9-4b45-48e9-a338-700c710d1bce",
   "metadata": {},
   "outputs": [],
   "source": [
    "'''Q8. You have a Pandas DataFrame df with columns 'A', 'B', and 'C'. Write a Python function that selects all rows where\n",
    "       the value in column 'A' is greater than 5 and the value in column 'B' is less than 10. The function should return \n",
    "       a new DataFrame that contains only the selected rows. For example, if df contains the following values:\n",
    "       A B C\n",
    "     0 3 5 1\n",
    "     1 8 2 7\n",
    "     2 6 9 4\n",
    "     3 2 3 5\n",
    "     4 9 1 2\n",
    "       \n",
    "       Your function should select the following rows: A B C\n",
    "       1 8 2 7\n",
    "       4 9 1 2\n",
    "       The function should return a new DataFrame that contains only the selected rows.'''"
   ]
  },
  {
   "cell_type": "code",
   "execution_count": 39,
   "id": "77f55bba-2d0f-4018-b05e-62ec47f79bd3",
   "metadata": {},
   "outputs": [],
   "source": [
    "#Ans.\n",
    "\n",
    "#making data\n",
    "data4 = {'A' : [3,8,6,2,9],\n",
    "        'B' : [5,2,9,3,1],\n",
    "        'C' : [1,7,4,5,2]}\n",
    "\n",
    "#converting data into dataframe\n",
    "df8 = pd.DataFrame(data4)"
   ]
  },
  {
   "cell_type": "code",
   "execution_count": 40,
   "id": "2aa79184-1796-4a15-8d3f-7c04aece314c",
   "metadata": {},
   "outputs": [
    {
     "data": {
      "text/html": [
       "<div>\n",
       "<style scoped>\n",
       "    .dataframe tbody tr th:only-of-type {\n",
       "        vertical-align: middle;\n",
       "    }\n",
       "\n",
       "    .dataframe tbody tr th {\n",
       "        vertical-align: top;\n",
       "    }\n",
       "\n",
       "    .dataframe thead th {\n",
       "        text-align: right;\n",
       "    }\n",
       "</style>\n",
       "<table border=\"1\" class=\"dataframe\">\n",
       "  <thead>\n",
       "    <tr style=\"text-align: right;\">\n",
       "      <th></th>\n",
       "      <th>A</th>\n",
       "      <th>B</th>\n",
       "      <th>C</th>\n",
       "    </tr>\n",
       "  </thead>\n",
       "  <tbody>\n",
       "    <tr>\n",
       "      <th>0</th>\n",
       "      <td>3</td>\n",
       "      <td>5</td>\n",
       "      <td>1</td>\n",
       "    </tr>\n",
       "    <tr>\n",
       "      <th>1</th>\n",
       "      <td>8</td>\n",
       "      <td>2</td>\n",
       "      <td>7</td>\n",
       "    </tr>\n",
       "    <tr>\n",
       "      <th>2</th>\n",
       "      <td>6</td>\n",
       "      <td>9</td>\n",
       "      <td>4</td>\n",
       "    </tr>\n",
       "    <tr>\n",
       "      <th>3</th>\n",
       "      <td>2</td>\n",
       "      <td>3</td>\n",
       "      <td>5</td>\n",
       "    </tr>\n",
       "    <tr>\n",
       "      <th>4</th>\n",
       "      <td>9</td>\n",
       "      <td>1</td>\n",
       "      <td>2</td>\n",
       "    </tr>\n",
       "  </tbody>\n",
       "</table>\n",
       "</div>"
      ],
      "text/plain": [
       "   A  B  C\n",
       "0  3  5  1\n",
       "1  8  2  7\n",
       "2  6  9  4\n",
       "3  2  3  5\n",
       "4  9  1  2"
      ]
     },
     "execution_count": 40,
     "metadata": {},
     "output_type": "execute_result"
    }
   ],
   "source": [
    "#original dataframe\n",
    "df8"
   ]
  },
  {
   "cell_type": "code",
   "execution_count": 48,
   "id": "624455bb-c45f-492e-bad4-d10717774ccf",
   "metadata": {},
   "outputs": [],
   "source": [
    "#making function for selecting rows on condition\n",
    "def select_rows(x):\n",
    "    \n",
    "    #creating condition based on question\n",
    "    a = x[(x['A'] > 5) & (x['B'] < 10)]\n",
    "    \n",
    "    #returning object\n",
    "    return a"
   ]
  },
  {
   "cell_type": "code",
   "execution_count": 55,
   "id": "ab25ae72-c9ad-4f47-ba92-94d01832c177",
   "metadata": {},
   "outputs": [],
   "source": [
    "#making varible to print\n",
    "new_def = select_rows(df8)"
   ]
  },
  {
   "cell_type": "code",
   "execution_count": 56,
   "id": "2044fb9d-29db-41e6-9452-b0129f27df32",
   "metadata": {},
   "outputs": [
    {
     "data": {
      "text/html": [
       "<div>\n",
       "<style scoped>\n",
       "    .dataframe tbody tr th:only-of-type {\n",
       "        vertical-align: middle;\n",
       "    }\n",
       "\n",
       "    .dataframe tbody tr th {\n",
       "        vertical-align: top;\n",
       "    }\n",
       "\n",
       "    .dataframe thead th {\n",
       "        text-align: right;\n",
       "    }\n",
       "</style>\n",
       "<table border=\"1\" class=\"dataframe\">\n",
       "  <thead>\n",
       "    <tr style=\"text-align: right;\">\n",
       "      <th></th>\n",
       "      <th>A</th>\n",
       "      <th>B</th>\n",
       "      <th>C</th>\n",
       "    </tr>\n",
       "  </thead>\n",
       "  <tbody>\n",
       "    <tr>\n",
       "      <th>1</th>\n",
       "      <td>8</td>\n",
       "      <td>2</td>\n",
       "      <td>7</td>\n",
       "    </tr>\n",
       "    <tr>\n",
       "      <th>2</th>\n",
       "      <td>6</td>\n",
       "      <td>9</td>\n",
       "      <td>4</td>\n",
       "    </tr>\n",
       "    <tr>\n",
       "      <th>4</th>\n",
       "      <td>9</td>\n",
       "      <td>1</td>\n",
       "      <td>2</td>\n",
       "    </tr>\n",
       "  </tbody>\n",
       "</table>\n",
       "</div>"
      ],
      "text/plain": [
       "   A  B  C\n",
       "1  8  2  7\n",
       "2  6  9  4\n",
       "4  9  1  2"
      ]
     },
     "execution_count": 56,
     "metadata": {},
     "output_type": "execute_result"
    }
   ],
   "source": [
    "#answer\n",
    "new_def"
   ]
  },
  {
   "cell_type": "code",
   "execution_count": null,
   "id": "2aca90b6-9ad0-4cd5-8f30-268ddd2c53e4",
   "metadata": {},
   "outputs": [],
   "source": []
  },
  {
   "cell_type": "code",
   "execution_count": null,
   "id": "bc523ecc-8573-4eb6-bf8c-c25b397b273e",
   "metadata": {},
   "outputs": [],
   "source": [
    "'''Q9. Given a Pandas DataFrame df with a column 'Values', write a Python function to calculate the mean,\n",
    "median, and standard deviation of the values in the 'Values' column.'''"
   ]
  },
  {
   "cell_type": "code",
   "execution_count": 20,
   "id": "f0f08b4b-d7f7-4c20-b436-1b1211d2947d",
   "metadata": {},
   "outputs": [],
   "source": [
    "#Ans.\n",
    "\n",
    "#making data\n",
    "data5 = {'Values' : [3,6,9,12,15,18,21,24,27,30]}\n",
    "\n",
    "#converting data into dataframe\n",
    "df9 = pd.DataFrame(data5)"
   ]
  },
  {
   "cell_type": "code",
   "execution_count": 21,
   "id": "e8fdb6c5-2761-4a1a-bc34-68053ad5121e",
   "metadata": {},
   "outputs": [
    {
     "data": {
      "text/html": [
       "<div>\n",
       "<style scoped>\n",
       "    .dataframe tbody tr th:only-of-type {\n",
       "        vertical-align: middle;\n",
       "    }\n",
       "\n",
       "    .dataframe tbody tr th {\n",
       "        vertical-align: top;\n",
       "    }\n",
       "\n",
       "    .dataframe thead th {\n",
       "        text-align: right;\n",
       "    }\n",
       "</style>\n",
       "<table border=\"1\" class=\"dataframe\">\n",
       "  <thead>\n",
       "    <tr style=\"text-align: right;\">\n",
       "      <th></th>\n",
       "      <th>Values</th>\n",
       "    </tr>\n",
       "  </thead>\n",
       "  <tbody>\n",
       "    <tr>\n",
       "      <th>0</th>\n",
       "      <td>3</td>\n",
       "    </tr>\n",
       "    <tr>\n",
       "      <th>1</th>\n",
       "      <td>6</td>\n",
       "    </tr>\n",
       "    <tr>\n",
       "      <th>2</th>\n",
       "      <td>9</td>\n",
       "    </tr>\n",
       "    <tr>\n",
       "      <th>3</th>\n",
       "      <td>12</td>\n",
       "    </tr>\n",
       "    <tr>\n",
       "      <th>4</th>\n",
       "      <td>15</td>\n",
       "    </tr>\n",
       "    <tr>\n",
       "      <th>5</th>\n",
       "      <td>18</td>\n",
       "    </tr>\n",
       "    <tr>\n",
       "      <th>6</th>\n",
       "      <td>21</td>\n",
       "    </tr>\n",
       "    <tr>\n",
       "      <th>7</th>\n",
       "      <td>24</td>\n",
       "    </tr>\n",
       "    <tr>\n",
       "      <th>8</th>\n",
       "      <td>27</td>\n",
       "    </tr>\n",
       "    <tr>\n",
       "      <th>9</th>\n",
       "      <td>30</td>\n",
       "    </tr>\n",
       "  </tbody>\n",
       "</table>\n",
       "</div>"
      ],
      "text/plain": [
       "   Values\n",
       "0       3\n",
       "1       6\n",
       "2       9\n",
       "3      12\n",
       "4      15\n",
       "5      18\n",
       "6      21\n",
       "7      24\n",
       "8      27\n",
       "9      30"
      ]
     },
     "execution_count": 21,
     "metadata": {},
     "output_type": "execute_result"
    }
   ],
   "source": [
    "#original\n",
    "df9"
   ]
  },
  {
   "cell_type": "code",
   "execution_count": 22,
   "id": "0de9f9e4-9346-41f5-bcf4-8c53d2dfb8e8",
   "metadata": {},
   "outputs": [],
   "source": [
    "#creating function for mean, mode and std\n",
    "def getting_mean(df9): \n",
    "    \n",
    "    #initialize the variable and inserting condition\n",
    "    mean_n = df9['Values'].mean() \n",
    "    mode_e = df9['Values'].mode()\n",
    "    std = df9['Values'].std()\n",
    "    \n",
    "    #returning the variables\n",
    "    return 'mean = {}'.format(mean_n), 'Mode = {}'.format(mode_e) , 'Standard Deviation = {}'.format(std)"
   ]
  },
  {
   "cell_type": "code",
   "execution_count": 23,
   "id": "8fe52f1f-81b4-4c7e-bde6-8752c03acae9",
   "metadata": {},
   "outputs": [],
   "source": [
    "#assigning the function\n",
    "mean,mode,std = getting_mean(df9)"
   ]
  },
  {
   "cell_type": "code",
   "execution_count": 24,
   "id": "40683791-65fb-4910-a1b8-4fb01cbea126",
   "metadata": {},
   "outputs": [
    {
     "name": "stdout",
     "output_type": "stream",
     "text": [
      "mean = 16.5 Mode = 0     3\n",
      "1     6\n",
      "2     9\n",
      "3    12\n",
      "4    15\n",
      "5    18\n",
      "6    21\n",
      "7    24\n",
      "8    27\n",
      "9    30\n",
      "Name: Values, dtype: int64 Standard Deviation = 9.082951062292475\n"
     ]
    }
   ],
   "source": [
    "#printing answer\n",
    "print(mean,mode,std)"
   ]
  },
  {
   "cell_type": "code",
   "execution_count": null,
   "id": "c923b8ae-3a77-411d-8a86-e9643c6fd8d0",
   "metadata": {},
   "outputs": [],
   "source": []
  },
  {
   "cell_type": "code",
   "execution_count": null,
   "id": "8dd9aaa8-22df-4560-a8fa-247e051d4553",
   "metadata": {},
   "outputs": [],
   "source": [
    "'''Q10. Given a Pandas DataFrame df with a column 'Sales' and a column 'Date', write a Python function to create a new \n",
    "        column 'MovingAverage' that contains the moving average of the sales for the past 7 days for each row in the \n",
    "        DataFrame. The moving average should be calculated using a window of size 7 and should include the current day.'''"
   ]
  },
  {
   "cell_type": "code",
   "execution_count": 25,
   "id": "5db2b724-d60d-4e04-8aa1-cfaae162317c",
   "metadata": {},
   "outputs": [],
   "source": [
    "#Ans.\n",
    "\n",
    "#making data according to question\n",
    "data6 = {'Sales' : [2100, 1843, 5004, 3000, 4514, 2435, 3133, 1224],\n",
    "        'Date' : ['2024-1-1', '2024-1-2', '2024-1-3', '2024-1-4', '2024-1-5', '2024-1-6', '2024-1-7', '2024-1-8']}\n",
    "\n",
    "#converting dict to dataframe\n",
    "df10 = pd.DataFrame(data6)"
   ]
  },
  {
   "cell_type": "code",
   "execution_count": 26,
   "id": "5afe5f3b-5368-4298-a075-08c497019d7a",
   "metadata": {},
   "outputs": [
    {
     "data": {
      "text/html": [
       "<div>\n",
       "<style scoped>\n",
       "    .dataframe tbody tr th:only-of-type {\n",
       "        vertical-align: middle;\n",
       "    }\n",
       "\n",
       "    .dataframe tbody tr th {\n",
       "        vertical-align: top;\n",
       "    }\n",
       "\n",
       "    .dataframe thead th {\n",
       "        text-align: right;\n",
       "    }\n",
       "</style>\n",
       "<table border=\"1\" class=\"dataframe\">\n",
       "  <thead>\n",
       "    <tr style=\"text-align: right;\">\n",
       "      <th></th>\n",
       "      <th>Sales</th>\n",
       "      <th>Date</th>\n",
       "    </tr>\n",
       "  </thead>\n",
       "  <tbody>\n",
       "    <tr>\n",
       "      <th>0</th>\n",
       "      <td>2100</td>\n",
       "      <td>2024-1-1</td>\n",
       "    </tr>\n",
       "    <tr>\n",
       "      <th>1</th>\n",
       "      <td>1843</td>\n",
       "      <td>2024-1-2</td>\n",
       "    </tr>\n",
       "    <tr>\n",
       "      <th>2</th>\n",
       "      <td>5004</td>\n",
       "      <td>2024-1-3</td>\n",
       "    </tr>\n",
       "    <tr>\n",
       "      <th>3</th>\n",
       "      <td>3000</td>\n",
       "      <td>2024-1-4</td>\n",
       "    </tr>\n",
       "    <tr>\n",
       "      <th>4</th>\n",
       "      <td>4514</td>\n",
       "      <td>2024-1-5</td>\n",
       "    </tr>\n",
       "    <tr>\n",
       "      <th>5</th>\n",
       "      <td>2435</td>\n",
       "      <td>2024-1-6</td>\n",
       "    </tr>\n",
       "    <tr>\n",
       "      <th>6</th>\n",
       "      <td>3133</td>\n",
       "      <td>2024-1-7</td>\n",
       "    </tr>\n",
       "    <tr>\n",
       "      <th>7</th>\n",
       "      <td>1224</td>\n",
       "      <td>2024-1-8</td>\n",
       "    </tr>\n",
       "  </tbody>\n",
       "</table>\n",
       "</div>"
      ],
      "text/plain": [
       "   Sales      Date\n",
       "0   2100  2024-1-1\n",
       "1   1843  2024-1-2\n",
       "2   5004  2024-1-3\n",
       "3   3000  2024-1-4\n",
       "4   4514  2024-1-5\n",
       "5   2435  2024-1-6\n",
       "6   3133  2024-1-7\n",
       "7   1224  2024-1-8"
      ]
     },
     "execution_count": 26,
     "metadata": {},
     "output_type": "execute_result"
    }
   ],
   "source": [
    "#original\n",
    "df10"
   ]
  },
  {
   "cell_type": "code",
   "execution_count": 27,
   "id": "adc2b968-7bf8-4953-97c9-5d19a80ba39b",
   "metadata": {},
   "outputs": [],
   "source": [
    "#converting in date type\n",
    "df10['Date_up'] = pd.to_datetime(df10['Date'])"
   ]
  },
  {
   "cell_type": "code",
   "execution_count": 28,
   "id": "01f1e01f-4513-4c2a-a669-2ccd1bf73f8b",
   "metadata": {},
   "outputs": [],
   "source": [
    "df11 = df10.drop('Date', axis = 1  )"
   ]
  },
  {
   "cell_type": "code",
   "execution_count": 29,
   "id": "9be3c43f-6104-43b2-9d01-4c0dc9dface8",
   "metadata": {},
   "outputs": [
    {
     "data": {
      "text/html": [
       "<div>\n",
       "<style scoped>\n",
       "    .dataframe tbody tr th:only-of-type {\n",
       "        vertical-align: middle;\n",
       "    }\n",
       "\n",
       "    .dataframe tbody tr th {\n",
       "        vertical-align: top;\n",
       "    }\n",
       "\n",
       "    .dataframe thead th {\n",
       "        text-align: right;\n",
       "    }\n",
       "</style>\n",
       "<table border=\"1\" class=\"dataframe\">\n",
       "  <thead>\n",
       "    <tr style=\"text-align: right;\">\n",
       "      <th></th>\n",
       "      <th>Sales</th>\n",
       "      <th>Date_up</th>\n",
       "    </tr>\n",
       "  </thead>\n",
       "  <tbody>\n",
       "    <tr>\n",
       "      <th>0</th>\n",
       "      <td>2100</td>\n",
       "      <td>2024-01-01</td>\n",
       "    </tr>\n",
       "    <tr>\n",
       "      <th>1</th>\n",
       "      <td>1843</td>\n",
       "      <td>2024-01-02</td>\n",
       "    </tr>\n",
       "    <tr>\n",
       "      <th>2</th>\n",
       "      <td>5004</td>\n",
       "      <td>2024-01-03</td>\n",
       "    </tr>\n",
       "    <tr>\n",
       "      <th>3</th>\n",
       "      <td>3000</td>\n",
       "      <td>2024-01-04</td>\n",
       "    </tr>\n",
       "    <tr>\n",
       "      <th>4</th>\n",
       "      <td>4514</td>\n",
       "      <td>2024-01-05</td>\n",
       "    </tr>\n",
       "    <tr>\n",
       "      <th>5</th>\n",
       "      <td>2435</td>\n",
       "      <td>2024-01-06</td>\n",
       "    </tr>\n",
       "    <tr>\n",
       "      <th>6</th>\n",
       "      <td>3133</td>\n",
       "      <td>2024-01-07</td>\n",
       "    </tr>\n",
       "    <tr>\n",
       "      <th>7</th>\n",
       "      <td>1224</td>\n",
       "      <td>2024-01-08</td>\n",
       "    </tr>\n",
       "  </tbody>\n",
       "</table>\n",
       "</div>"
      ],
      "text/plain": [
       "   Sales    Date_up\n",
       "0   2100 2024-01-01\n",
       "1   1843 2024-01-02\n",
       "2   5004 2024-01-03\n",
       "3   3000 2024-01-04\n",
       "4   4514 2024-01-05\n",
       "5   2435 2024-01-06\n",
       "6   3133 2024-01-07\n",
       "7   1224 2024-01-08"
      ]
     },
     "execution_count": 29,
     "metadata": {},
     "output_type": "execute_result"
    }
   ],
   "source": [
    "df11"
   ]
  },
  {
   "cell_type": "code",
   "execution_count": 30,
   "id": "2dcd9f2a-8e7a-47ac-929d-debc43a0c936",
   "metadata": {},
   "outputs": [],
   "source": [
    "#creating new column and using function and making condition reaspect to question\n",
    "df11['Moving Average'] = df11['Sales'].rolling(window=7, min_periods=1).mean()"
   ]
  },
  {
   "cell_type": "code",
   "execution_count": 31,
   "id": "464c6ea6-f2d8-46a9-b78c-e4a3cc9d50a4",
   "metadata": {},
   "outputs": [
    {
     "data": {
      "text/html": [
       "<div>\n",
       "<style scoped>\n",
       "    .dataframe tbody tr th:only-of-type {\n",
       "        vertical-align: middle;\n",
       "    }\n",
       "\n",
       "    .dataframe tbody tr th {\n",
       "        vertical-align: top;\n",
       "    }\n",
       "\n",
       "    .dataframe thead th {\n",
       "        text-align: right;\n",
       "    }\n",
       "</style>\n",
       "<table border=\"1\" class=\"dataframe\">\n",
       "  <thead>\n",
       "    <tr style=\"text-align: right;\">\n",
       "      <th></th>\n",
       "      <th>Sales</th>\n",
       "      <th>Date_up</th>\n",
       "      <th>Moving Average</th>\n",
       "    </tr>\n",
       "  </thead>\n",
       "  <tbody>\n",
       "    <tr>\n",
       "      <th>0</th>\n",
       "      <td>2100</td>\n",
       "      <td>2024-01-01</td>\n",
       "      <td>2100.000000</td>\n",
       "    </tr>\n",
       "    <tr>\n",
       "      <th>1</th>\n",
       "      <td>1843</td>\n",
       "      <td>2024-01-02</td>\n",
       "      <td>1971.500000</td>\n",
       "    </tr>\n",
       "    <tr>\n",
       "      <th>2</th>\n",
       "      <td>5004</td>\n",
       "      <td>2024-01-03</td>\n",
       "      <td>2982.333333</td>\n",
       "    </tr>\n",
       "    <tr>\n",
       "      <th>3</th>\n",
       "      <td>3000</td>\n",
       "      <td>2024-01-04</td>\n",
       "      <td>2986.750000</td>\n",
       "    </tr>\n",
       "    <tr>\n",
       "      <th>4</th>\n",
       "      <td>4514</td>\n",
       "      <td>2024-01-05</td>\n",
       "      <td>3292.200000</td>\n",
       "    </tr>\n",
       "    <tr>\n",
       "      <th>5</th>\n",
       "      <td>2435</td>\n",
       "      <td>2024-01-06</td>\n",
       "      <td>3149.333333</td>\n",
       "    </tr>\n",
       "    <tr>\n",
       "      <th>6</th>\n",
       "      <td>3133</td>\n",
       "      <td>2024-01-07</td>\n",
       "      <td>3147.000000</td>\n",
       "    </tr>\n",
       "    <tr>\n",
       "      <th>7</th>\n",
       "      <td>1224</td>\n",
       "      <td>2024-01-08</td>\n",
       "      <td>3021.857143</td>\n",
       "    </tr>\n",
       "  </tbody>\n",
       "</table>\n",
       "</div>"
      ],
      "text/plain": [
       "   Sales    Date_up  Moving Average\n",
       "0   2100 2024-01-01     2100.000000\n",
       "1   1843 2024-01-02     1971.500000\n",
       "2   5004 2024-01-03     2982.333333\n",
       "3   3000 2024-01-04     2986.750000\n",
       "4   4514 2024-01-05     3292.200000\n",
       "5   2435 2024-01-06     3149.333333\n",
       "6   3133 2024-01-07     3147.000000\n",
       "7   1224 2024-01-08     3021.857143"
      ]
     },
     "execution_count": 31,
     "metadata": {},
     "output_type": "execute_result"
    }
   ],
   "source": [
    "#answer\n",
    "df11"
   ]
  },
  {
   "cell_type": "code",
   "execution_count": null,
   "id": "e89dbc0f-03ac-411b-9e87-e2834388014a",
   "metadata": {},
   "outputs": [],
   "source": []
  },
  {
   "cell_type": "code",
   "execution_count": null,
   "id": "8b11f0a8-d9a2-4838-9af1-77d7441e0ea0",
   "metadata": {},
   "outputs": [],
   "source": [
    "'''Q11. You have a Pandas DataFrame df with a column 'Date'. Write a Python function that creates a new column 'Weekday' \n",
    "        in the DataFrame. The 'Weekday' column should contain the weekday name (e.g.Monday, Tuesday) corresponding to \n",
    "        each date in the 'Date' column.\n",
    "            For example, if df contains the following values:\n",
    "            \n",
    "        Date\n",
    "        0 2023-01-01\n",
    "        1 2023-01-02\n",
    "        2 2023-01-03\n",
    "        3 2023-01-04\n",
    "        4 2023-01-05\n",
    "        \n",
    "        Your function should create the following DataFrame:\n",
    "        \n",
    "        Date Weekday\n",
    "        0 2023-01-01 Sunday\n",
    "        1 2023-01-02 Monday\n",
    "        2 2023-01-03 Tuesday\n",
    "        3 2023-01-04 Wednesday\n",
    "        4 2023-01-05 Thursday\n",
    "        \n",
    "        The function should return the modified DataFrame.'''"
   ]
  },
  {
   "cell_type": "code",
   "execution_count": 32,
   "id": "1c1d2385-bda6-4c9e-a1df-b2634f0fe047",
   "metadata": {},
   "outputs": [],
   "source": [
    "#Ans.\n",
    "\n",
    "#making dates from pandas function\n",
    "data7 = pd.date_range(start = '2023-01-01' , end = '2023-01-05' )"
   ]
  },
  {
   "cell_type": "code",
   "execution_count": 33,
   "id": "045c3f9e-ad32-496f-b3f0-5ad65b0145e5",
   "metadata": {},
   "outputs": [
    {
     "data": {
      "text/plain": [
       "DatetimeIndex(['2023-01-01', '2023-01-02', '2023-01-03', '2023-01-04',\n",
       "               '2023-01-05'],\n",
       "              dtype='datetime64[ns]', freq='D')"
      ]
     },
     "execution_count": 33,
     "metadata": {},
     "output_type": "execute_result"
    }
   ],
   "source": [
    "#dates\n",
    "data7"
   ]
  },
  {
   "cell_type": "code",
   "execution_count": 34,
   "id": "e397d026-9d56-4922-a3a0-c8dc1963673c",
   "metadata": {},
   "outputs": [],
   "source": [
    "#converting data to dataframe\n",
    "df12 = pd.DataFrame({'Date' : data7})"
   ]
  },
  {
   "cell_type": "code",
   "execution_count": 35,
   "id": "0b2b3cca-5986-4a49-bd77-f851c892d9c4",
   "metadata": {},
   "outputs": [
    {
     "data": {
      "text/html": [
       "<div>\n",
       "<style scoped>\n",
       "    .dataframe tbody tr th:only-of-type {\n",
       "        vertical-align: middle;\n",
       "    }\n",
       "\n",
       "    .dataframe tbody tr th {\n",
       "        vertical-align: top;\n",
       "    }\n",
       "\n",
       "    .dataframe thead th {\n",
       "        text-align: right;\n",
       "    }\n",
       "</style>\n",
       "<table border=\"1\" class=\"dataframe\">\n",
       "  <thead>\n",
       "    <tr style=\"text-align: right;\">\n",
       "      <th></th>\n",
       "      <th>Date</th>\n",
       "    </tr>\n",
       "  </thead>\n",
       "  <tbody>\n",
       "    <tr>\n",
       "      <th>0</th>\n",
       "      <td>2023-01-01</td>\n",
       "    </tr>\n",
       "    <tr>\n",
       "      <th>1</th>\n",
       "      <td>2023-01-02</td>\n",
       "    </tr>\n",
       "    <tr>\n",
       "      <th>2</th>\n",
       "      <td>2023-01-03</td>\n",
       "    </tr>\n",
       "    <tr>\n",
       "      <th>3</th>\n",
       "      <td>2023-01-04</td>\n",
       "    </tr>\n",
       "    <tr>\n",
       "      <th>4</th>\n",
       "      <td>2023-01-05</td>\n",
       "    </tr>\n",
       "  </tbody>\n",
       "</table>\n",
       "</div>"
      ],
      "text/plain": [
       "        Date\n",
       "0 2023-01-01\n",
       "1 2023-01-02\n",
       "2 2023-01-03\n",
       "3 2023-01-04\n",
       "4 2023-01-05"
      ]
     },
     "execution_count": 35,
     "metadata": {},
     "output_type": "execute_result"
    }
   ],
   "source": [
    "#original\n",
    "df12"
   ]
  },
  {
   "cell_type": "code",
   "execution_count": 39,
   "id": "ad25f36d-d6f5-40ed-ab3f-b7b2ae3ffed1",
   "metadata": {},
   "outputs": [],
   "source": [
    "#making function for getting weekdays\n",
    "def get_weekdays(x):\n",
    "    \n",
    "    #creating function and conditions\n",
    "    x['Weekday'] = pd.to_datetime(x['Date']).dt.strftime('%A')\n",
    "    \n",
    "    #returning df12\n",
    "    return x"
   ]
  },
  {
   "cell_type": "code",
   "execution_count": 40,
   "id": "a3d04ce3-99f9-4251-883b-fdba23deda05",
   "metadata": {},
   "outputs": [],
   "source": [
    "#assigning the function\n",
    "week_days = get_weekdays(df12)"
   ]
  },
  {
   "cell_type": "code",
   "execution_count": 41,
   "id": "432c21e7-4de6-4725-a257-d7d319644c18",
   "metadata": {},
   "outputs": [
    {
     "name": "stdout",
     "output_type": "stream",
     "text": [
      "        Date    Weekday\n",
      "0 2023-01-01     Sunday\n",
      "1 2023-01-02     Monday\n",
      "2 2023-01-03    Tuesday\n",
      "3 2023-01-04  Wednesday\n",
      "4 2023-01-05   Thursday\n"
     ]
    }
   ],
   "source": [
    "#printing\n",
    "print(week_days)"
   ]
  },
  {
   "cell_type": "code",
   "execution_count": null,
   "id": "2815ea71-ec2d-4f63-b570-5b908e3a7a52",
   "metadata": {},
   "outputs": [],
   "source": []
  },
  {
   "cell_type": "code",
   "execution_count": null,
   "id": "cd569baa-5006-4102-9069-5984579a7116",
   "metadata": {},
   "outputs": [],
   "source": [
    "'''Q12. Given a Pandas DataFrame df with a column 'Date' that contains timestamps, write a Python function to select all \n",
    "        rows where the date is between '2023-01-01' and '2023-01-31'.'''"
   ]
  },
  {
   "cell_type": "code",
   "execution_count": 13,
   "id": "47415dd6-26a2-467c-9545-53f26a51b9b1",
   "metadata": {},
   "outputs": [
    {
     "name": "stdout",
     "output_type": "stream",
     "text": [
      "        Date\n",
      "0 2023-01-01\n",
      "1 2023-01-15\n",
      "2 2023-01-31\n"
     ]
    }
   ],
   "source": [
    "#Ans.\n",
    "\n",
    "def select_rows_between_dates(df, start_date, end_date):\n",
    "    \n",
    "    # Convert 'Date' column to datetime data type if not already\n",
    "    if not pd.api.types.is_datetime64_any_dtype(df['Date']):\n",
    "        df['Date'] = pd.to_datetime(df['Date'])\n",
    "\n",
    "    # Create a boolean mask based on the condition\n",
    "    mask = (df['Date'] >= start_date) & (df['Date'] <= end_date)\n",
    "\n",
    "    # Use the mask to select rows from the DataFrame\n",
    "    selected_rows = df[mask]\n",
    "\n",
    "    return selected_rows\n",
    "\n",
    "# Example DataFrame\n",
    "df = pd.DataFrame({\n",
    "    'Date': ['2023-01-01', '2023-01-15', '2023-01-31', '2023-02-05']\n",
    "})\n",
    "\n",
    "start_date = '2023-01-01'\n",
    "end_date = '2023-01-31'\n",
    "\n",
    "selected_rows = select_rows_between_dates(df, start_date, end_date)\n",
    "print(selected_rows)"
   ]
  },
  {
   "cell_type": "code",
   "execution_count": null,
   "id": "29a482b7-6ac3-4932-87e9-704123e16b99",
   "metadata": {},
   "outputs": [],
   "source": []
  },
  {
   "cell_type": "code",
   "execution_count": null,
   "id": "6adff4f5-994c-429b-b945-a8ebffad57ec",
   "metadata": {},
   "outputs": [],
   "source": [
    "'''Q13. To use the basic functions of pandas, what is the first and foremost necessary library that needs to be imported?'''"
   ]
  },
  {
   "cell_type": "code",
   "execution_count": null,
   "id": "71670758-3e62-4397-a208-86aa3f56b676",
   "metadata": {},
   "outputs": [],
   "source": [
    "#Ans.\n",
    "The first and foremost necessary library that needs to be imported is Pandas.\n",
    "like, import pandas as pd"
   ]
  },
  {
   "cell_type": "code",
   "execution_count": null,
   "id": "b07f3536-eb41-4345-ae52-97dc46f4fca7",
   "metadata": {},
   "outputs": [],
   "source": []
  },
  {
   "cell_type": "code",
   "execution_count": null,
   "id": "f378c2d4-b13f-4534-8304-f87a6016dcd1",
   "metadata": {},
   "outputs": [],
   "source": [
    "                         ◦•●◉✿ ❤️️' 𝐉 𝐀 𝐈   𝐒 𝐇 𝐑 𝐄 𝐄   𝐇 𝐀 𝐑 𝐈   𝐕 𝐈 𝐒 𝐇 𝐍 𝐔 '❤️ ✿◉●•◦"
   ]
  }
 ],
 "metadata": {
  "kernelspec": {
   "display_name": "Python 3 (ipykernel)",
   "language": "python",
   "name": "python3"
  },
  "language_info": {
   "codemirror_mode": {
    "name": "ipython",
    "version": 3
   },
   "file_extension": ".py",
   "mimetype": "text/x-python",
   "name": "python",
   "nbconvert_exporter": "python",
   "pygments_lexer": "ipython3",
   "version": "3.10.8"
  }
 },
 "nbformat": 4,
 "nbformat_minor": 5
}
