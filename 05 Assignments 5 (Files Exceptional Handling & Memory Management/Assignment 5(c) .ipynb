{
 "cells": [
  {
   "cell_type": "markdown",
   "id": "8b2e3ebf-061b-4201-8793-dc135209a505",
   "metadata": {},
   "source": [
    "Multithreading"
   ]
  },
  {
   "cell_type": "code",
   "execution_count": 1,
   "id": "a98df46d-bd14-43d9-9f87-4e3ed6e31f50",
   "metadata": {},
   "outputs": [],
   "source": [
    "'''Q1.  What is multithreading in python? Why is it used? Name the module used to handle threads in python'''"
   ]
  },
  {
   "cell_type": "code",
   "execution_count": null,
   "id": "0801c338-d9ba-4ae2-a84d-669ca059f6be",
   "metadata": {},
   "outputs": [],
   "source": [
    "#Ans.\n",
    "Multithreading is a technique of executing multiple threads in programming to run concurrently in single process. \n",
    "Multithreading is accessable by importing threading module which is in built in python. \n",
    "The main application of multithreading is to download or access online files in our local system at once or parallely.\n",
    "It helps us to save time by executing files or threads in single process.\n",
    "For implementing multithreading in python is done by 'threading' module and using start() function to start the initiation\n",
    "of programme and using join() function to stop it."
   ]
  },
  {
   "cell_type": "code",
   "execution_count": null,
   "id": "68750493-ab7b-4362-af2d-a4510fcc94a6",
   "metadata": {},
   "outputs": [],
   "source": []
  },
  {
   "cell_type": "code",
   "execution_count": 1,
   "id": "9e0d62cd-4356-428d-9231-f9419b44df36",
   "metadata": {},
   "outputs": [],
   "source": [
    "'''Q2. Why threading module used? Write the use of the following functions\n",
    "1.activeCount()\n",
    "2.currentThread()\n",
    "3.enumerate()'''"
   ]
  },
  {
   "cell_type": "code",
   "execution_count": null,
   "id": "dee19ee4-acc3-40a1-b283-6b29f8603e01",
   "metadata": {},
   "outputs": [],
   "source": [
    "#Ans.\n",
    "threading module is used for multithreading in programming. It is useful for executing multiple threads or files within\n",
    "a single process. For further communication in threading we can use multiple function for perform multiple tasks.\n",
    "\n",
    "\n",
    "1. activeCount() = activeCount() is a function which used in threading and return the number of the thread object that \n",
    "                   are active\n",
    "    \n",
    "2. currentThread() = currentThread() is in-built function which return the number of thread objects corresponds to \n",
    "                     callers thread control.\n",
    "    \n",
    "3. enumerate() = enumerate() function is helps to keep track of index of each element in list and allow user to iterate\n",
    "                 element in a sequence way."
   ]
  },
  {
   "cell_type": "code",
   "execution_count": null,
   "id": "7e4742b9-620a-4a8f-ad0d-57e441a39b32",
   "metadata": {},
   "outputs": [],
   "source": []
  },
  {
   "cell_type": "code",
   "execution_count": 2,
   "id": "36fe3415-d928-4fc4-a935-305f56450066",
   "metadata": {},
   "outputs": [],
   "source": [
    "'''Q3. Explain the following functions :\n",
    "1. run()\n",
    "2. start()\n",
    "3. join()\n",
    "4. isAlive()'''"
   ]
  },
  {
   "cell_type": "code",
   "execution_count": null,
   "id": "3a5d535a-f267-48de-85fe-bb17e2c0e3db",
   "metadata": {},
   "outputs": [],
   "source": [
    "#Ans.\n",
    "1. run() = run() method is for that where the thread works. In addition to other method, run method can also called from\n",
    "           other method. run() method is not start automatically . We must call the threads start() method to start the \n",
    "           threads work.\n",
    "    \n",
    "2. start() = start() method is used for to start the threads work. It is used at once at a one thread. This method calls \n",
    "             the run() method internally which then executes the target method.\n",
    "\n",
    "3. join() = join() method is also in-built function like other it is used when we need to stop the thread. After execute\n",
    "            this method it wait for thread completion and then work automatically.\n",
    "\n",
    "4. isAlive() = isAlive() method is in-built function in python which checks whether the thread is alive or not."
   ]
  },
  {
   "cell_type": "code",
   "execution_count": null,
   "id": "4be47530-842e-4768-8134-5961c4735f34",
   "metadata": {},
   "outputs": [],
   "source": []
  },
  {
   "cell_type": "code",
   "execution_count": 1,
   "id": "c5d45c06-077a-4e4f-9bc0-a6ab7c640ec4",
   "metadata": {},
   "outputs": [],
   "source": [
    "'''Q4. Write a python program to create two threads. Thread one must print the list of squares and thread two must print \n",
    "    the list of cubes.'''"
   ]
  },
  {
   "cell_type": "code",
   "execution_count": 2,
   "id": "fc9d67d1-8ddc-4285-999c-98be1fdec200",
   "metadata": {},
   "outputs": [
    {
     "name": "stdout",
     "output_type": "stream",
     "text": [
      "1\n",
      "4\n",
      "9\n",
      "16\n",
      "25\n",
      "36\n",
      "49\n",
      "64\n",
      "81\n",
      "100\n",
      "1\n",
      "8\n",
      "27\n",
      "64\n",
      "125\n",
      "216\n",
      "343\n",
      "512\n",
      "729\n",
      "1000\n"
     ]
    }
   ],
   "source": [
    "#Ans.\n",
    "import threading\n",
    "\n",
    "\n",
    "def squares():\n",
    "    squares = [i ** 2 for i in range(1, 11)]\n",
    "    for square in squares:\n",
    "        print(square)\n",
    "\n",
    "\n",
    "def cubes():\n",
    "    cubes = [i ** 3 for i in range(1, 11)]\n",
    "    for cube in cubes:\n",
    "        print(cube)\n",
    "\n",
    "\n",
    "# Create threads\n",
    "thread1 = threading.Thread(target=squares)\n",
    "thread2 = threading.Thread(target=cubes)\n",
    "\n",
    "# Starting the threads Ujjwal\n",
    "thread1.start()\n",
    "thread2.start()\n",
    "\n",
    "# Wait for threads to complete\n",
    "thread1.join()\n",
    "thread2.join()"
   ]
  },
  {
   "cell_type": "code",
   "execution_count": null,
   "id": "2c9328d5-fa2c-46b1-82ba-2859a74d1f17",
   "metadata": {},
   "outputs": [],
   "source": []
  },
  {
   "cell_type": "code",
   "execution_count": null,
   "id": "64d77dae-3ffc-4c13-829d-1ac990bad430",
   "metadata": {},
   "outputs": [],
   "source": [
    "'''Q5. State advantages and disadvantages of multithreading'''"
   ]
  },
  {
   "cell_type": "code",
   "execution_count": null,
   "id": "ec2968c7-c358-4b3d-b6c2-09392343bba1",
   "metadata": {},
   "outputs": [],
   "source": [
    "#Ans.\n",
    "\n",
    "Advantages of Multithreading :\n",
    "\n",
    "1. Multithreading is technique which allows programme to run continuously without any disturbing even if a part of \n",
    "   programme is blocked or lengthy of programme.Hence it increases the responsiveness to users.\n",
    "    \n",
    "2. Multithreading also helps in resource sharing. It shares message passing and shares memory by threading process.\n",
    "\n",
    "3. Threads share memory with the process it belongs, it is more economical to create and context switch threads. Generally\n",
    "   much more time is consumed in creating and managing processes than in threads.\n",
    "    \n",
    "4. Multithreading on multiple on CPU machine increases parallelism.The benefits of multithreading programming greatly \n",
    "   increases in case of multiprocess architecture where threads may be running parallel on multiple processors"
   ]
  },
  {
   "cell_type": "code",
   "execution_count": null,
   "id": "0271f970-f521-4b64-b2e3-418b47d1594e",
   "metadata": {},
   "outputs": [],
   "source": [
    "Disadvantages of Multithreading :\n",
    "    \n",
    "1. Multithreaded and multicontexted applications are not easy to write. Only experienced programmers should undertake \n",
    "   coding for these types of applications.\n",
    "    \n",
    "2. It is much harder to replicate an error in a multithreaded than it is to do so in a single-threaded. As a result, it \n",
    "   is more difficult, in the former case, to identify and verify root causes when errors occur.\n",
    "    \n",
    "3. Testing a multithreaded application is more difficult than testing a single-threaded application because defects are\n",
    "   often timing-related and more difficult to reproduce.\n",
    "    \n",
    "4. Existing code often requires significant re-architecting to take advantage of multithreading:\n",
    "    Programmers need to:\n",
    "\n",
    "    Remove static variables\n",
    "\n",
    "    Replace any function calls that are not thread-safe\n",
    "\n",
    "    Replace any other code that is not thread-safe"
   ]
  },
  {
   "cell_type": "code",
   "execution_count": null,
   "id": "b6eaae97-5d88-4a0c-8f5d-75bf34fa3845",
   "metadata": {},
   "outputs": [],
   "source": []
  },
  {
   "cell_type": "code",
   "execution_count": null,
   "id": "2dc2e65e-f546-4fbd-a2da-35129f7125d9",
   "metadata": {},
   "outputs": [],
   "source": [
    "'''Q6. Explain deadlocks and race conditions.'''"
   ]
  },
  {
   "cell_type": "code",
   "execution_count": null,
   "id": "91311cac-a02f-4f74-b476-4a94eade493e",
   "metadata": {},
   "outputs": [],
   "source": [
    "#Ans.\n",
    "Deadlocks = Deadlocks is a concurrency failure mode where a thread or threads wait for a condition that never occurs.The \n",
    "            result is that the deadlock threads are unable to progress and the program is stuck or frozen and must be \n",
    "            terminated forcefully.\n",
    "            To idetify deadlocks we need to set thread checkpoint. Set a timer at the beginning of doing work thats set \n",
    "            formlonger than you think the work could possibly take. If the timer fires, you assume the thread is \n",
    "            deadlocked.\n",
    "            \n",
    "            \n",
    "Race conditions =  A race condition means that your programs result might depend on the order of execution of the \n",
    "                   individual steps. When two or more threads(here programs) try to access or use some shared resource \n",
    "                   at the same time to make changes to it, a condition occurs,race condition."
   ]
  },
  {
   "cell_type": "code",
   "execution_count": 1,
   "id": "372f8b97-09ee-4e32-8ad1-28ea0d31a880",
   "metadata": {},
   "outputs": [
    {
     "name": "stdout",
     "output_type": "stream",
     "text": [
      "Thread-5 (increment) increments x by 5, x: 15Thread-6 (increment) increments x by 10, x: 20\n",
      "\n",
      "The final value of x is 20\n"
     ]
    }
   ],
   "source": [
    "#example (race condition)\n",
    "\n",
    "import threading\n",
    "import time\n",
    " \n",
    "x = 10\n",
    " \n",
    "def increment(increment_by):\n",
    "    global x\n",
    " \n",
    "    local_counter = x\n",
    "    local_counter += increment_by\n",
    " \n",
    "    time.sleep(1)\n",
    " \n",
    "    x = local_counter\n",
    "    print(f'{threading.current_thread().name} increments x by {increment_by}, x: {x}')\n",
    " \n",
    "# creating threads\n",
    "t1 = threading.Thread(target=increment, args=(5,))\n",
    "t2 = threading.Thread(target=increment, args=(10,))\n",
    " \n",
    "# starting the threads\n",
    "t1.start()\n",
    "t2.start()\n",
    " \n",
    "# waiting for the threads to complete\n",
    "t1.join()\n",
    "t2.join()\n",
    " \n",
    "print(f'The final value of x is {x}')"
   ]
  },
  {
   "cell_type": "code",
   "execution_count": null,
   "id": "4b25b117-a38f-4edb-9f3c-c03aa68dca0c",
   "metadata": {},
   "outputs": [],
   "source": []
  },
  {
   "cell_type": "code",
   "execution_count": null,
   "id": "a2400ee8-75d8-40b5-a42f-c025ca034210",
   "metadata": {},
   "outputs": [],
   "source": [
    "                          ◦•●◉✿ ❤️️' 𝐉 𝐀 𝐈   𝐒 𝐇 𝐑 𝐄 𝐄   𝐇 𝐀 𝐑 𝐈   𝐕 𝐈 𝐒 𝐇 𝐍 𝐔 '❤️ ✿◉●•◦ "
   ]
  }
 ],
 "metadata": {
  "kernelspec": {
   "display_name": "Python 3 (ipykernel)",
   "language": "python",
   "name": "python3"
  },
  "language_info": {
   "codemirror_mode": {
    "name": "ipython",
    "version": 3
   },
   "file_extension": ".py",
   "mimetype": "text/x-python",
   "name": "python",
   "nbconvert_exporter": "python",
   "pygments_lexer": "ipython3",
   "version": "3.10.8"
  }
 },
 "nbformat": 4,
 "nbformat_minor": 5
}
