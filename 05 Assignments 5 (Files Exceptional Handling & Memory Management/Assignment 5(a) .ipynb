{
 "cells": [
  {
   "cell_type": "markdown",
   "id": "52ed81c1-cc40-43d5-b468-9179bbfee61d",
   "metadata": {},
   "source": [
    "Exception Handling - 1"
   ]
  },
  {
   "cell_type": "code",
   "execution_count": null,
   "id": "5fdc6fb1-51b9-419a-a22f-2ea2bfadfb27",
   "metadata": {},
   "outputs": [],
   "source": [
    "#Q1. What is an Exception in python? Write the difference between Exceptions and Syntex errors"
   ]
  },
  {
   "cell_type": "code",
   "execution_count": null,
   "id": "382709a9-5987-47f3-a0d2-1a77d4dac05e",
   "metadata": {},
   "outputs": [],
   "source": [
    "#Ans\n",
    "Exception in python , is the incident in which occuring of errors and mistakes during the executing the code which can \n",
    "stop your code and programms command and detected by system is known as Exception.\n",
    "\n",
    "Difference between Exceptions and Syntex error :\n",
    "    Exception is the normal error as compare to syntax error, it generally stop normal flow of excecution of program while \n",
    "    Syntax error is prevents programs to completing it task. Both errors and exceptions are come during the execution of \n",
    "    program. Both are run time errors."
   ]
  },
  {
   "cell_type": "code",
   "execution_count": null,
   "id": "53fba6d9-d556-46d4-8dbc-f3e56482d28f",
   "metadata": {},
   "outputs": [],
   "source": []
  },
  {
   "cell_type": "code",
   "execution_count": null,
   "id": "6323b725-547d-42ee-9094-1375bbeee558",
   "metadata": {},
   "outputs": [],
   "source": [
    "#Q2. What happpens when an exception is not handled ? Explain with an example."
   ]
  },
  {
   "cell_type": "code",
   "execution_count": null,
   "id": "96485e30-7b91-491d-b1d1-d3d25e18340a",
   "metadata": {},
   "outputs": [],
   "source": [
    "#Ans.\n",
    "The exception have 4 blocks (try,except,else,finally) out of which two blocks try and except are generally used for\n",
    "exception handling. The program or code are written in try block while error are written in except block Generally program\n",
    "executes properly but if any error occur then except block will handle and Even after got error coders can execute his\n",
    "programs further without any issue."
   ]
  },
  {
   "cell_type": "code",
   "execution_count": 2,
   "id": "072a61ca-5195-4491-9902-1fe86f67c57b",
   "metadata": {},
   "outputs": [
    {
     "name": "stdout",
     "output_type": "stream",
     "text": [
      "name 'w' is not defined\n"
     ]
    }
   ],
   "source": [
    "try:\n",
    "    with open('Ram.txt', 'w') as f :\n",
    "        w.write()\n",
    "except Exception as e :\n",
    "    print(e)"
   ]
  },
  {
   "cell_type": "code",
   "execution_count": null,
   "id": "02a6a114-6904-4e6f-96a5-897f04980a91",
   "metadata": {},
   "outputs": [],
   "source": []
  },
  {
   "cell_type": "code",
   "execution_count": null,
   "id": "23d14949-d32e-474c-92ed-799cc0924c3c",
   "metadata": {},
   "outputs": [],
   "source": [
    "#Q3. Which Python statements are used to catch and handle exceptions? Explain with an example"
   ]
  },
  {
   "cell_type": "code",
   "execution_count": null,
   "id": "2bfb3c47-3b06-4e4f-a69c-700684fe0841",
   "metadata": {},
   "outputs": [],
   "source": [
    "#Ans\n",
    "There are four python statements for exception handling like :\n",
    "1.try\n",
    "2.except\n",
    "3.else\n",
    "4.finally\n",
    "\n",
    "The try and except are using most and apart from these , finally and else block also using in some cases. try block is\n",
    "using by put program or code inside this block and rest except block is used for managing error in console.\n",
    "Apart from this else is working with try , if try block execute successfully then else will also execute along with this.\n",
    "And finally block is that block which execute in any condition it is independently execute."
   ]
  },
  {
   "cell_type": "code",
   "execution_count": 10,
   "id": "9bab1db0-7e29-4531-ae65-d34ad6dcfaed",
   "metadata": {},
   "outputs": [
    {
     "name": "stdout",
     "output_type": "stream",
     "text": [
      "Success\n",
      "This is result\n"
     ]
    }
   ],
   "source": [
    "#example\n",
    "\n",
    "try:\n",
    "    def narayan(a):\n",
    "        a = 'Ram ji'\n",
    "        print(a)\n",
    "        \n",
    "except AttributeError as e:\n",
    "    print(e)\n",
    "    \n",
    "else:\n",
    "    print('Success')\n",
    "    \n",
    "finally:\n",
    "    print('This is result')"
   ]
  },
  {
   "cell_type": "code",
   "execution_count": 11,
   "id": "0612be02-0123-45f8-b175-af24d648b604",
   "metadata": {},
   "outputs": [
    {
     "name": "stdout",
     "output_type": "stream",
     "text": [
      "list index out of range\n",
      "This is result\n"
     ]
    }
   ],
   "source": [
    "try:\n",
    "    l = [1,2,3,4,5]\n",
    "    print(l[5])\n",
    "    \n",
    "except IndexError as e:\n",
    "    print(e)\n",
    "    \n",
    "else:\n",
    "    print('Success')\n",
    "    \n",
    "finally:\n",
    "    print('This is result')"
   ]
  },
  {
   "cell_type": "code",
   "execution_count": null,
   "id": "f2d184f5-9b95-41e4-a31f-9e187bb651da",
   "metadata": {},
   "outputs": [],
   "source": []
  },
  {
   "cell_type": "code",
   "execution_count": 12,
   "id": "a05b6d39-dc8b-4bb5-85c4-bf2a3f712369",
   "metadata": {},
   "outputs": [],
   "source": [
    "#Q4. Explain with an example:\n",
    "#    (a) try and else\n",
    "#    (b) finally\n",
    "#    (c) raise"
   ]
  },
  {
   "cell_type": "code",
   "execution_count": null,
   "id": "840f3af4-ba45-4362-a903-840c917f62ba",
   "metadata": {},
   "outputs": [],
   "source": [
    "#Ans.\n",
    "(a) try and else = try and else are that pair of block which are execute always at the same time , else are execute along\n",
    "                   with the try block. If try block is true and if it will execute then else will also execute along with\n",
    "                   it."
   ]
  },
  {
   "cell_type": "code",
   "execution_count": 10,
   "id": "78da0c7a-41ae-4fe2-97d4-43d5d6725486",
   "metadata": {},
   "outputs": [
    {
     "name": "stdout",
     "output_type": "stream",
     "text": [
      "Ram ji had 3 brothers\n",
      "Lakshman Bharat Shatrughn\n"
     ]
    }
   ],
   "source": [
    "#Example\n",
    "\n",
    "try:\n",
    "    import threading\n",
    "    \n",
    "    def Ram1(id):\n",
    "        print('Ram ji had %d brothers' %id)\n",
    "    Ram1(3)\n",
    "\n",
    "except AttributeError as e :\n",
    "    print(e)\n",
    "\n",
    "else:\n",
    "    print('Lakshman','Bharat','Shatrughn')"
   ]
  },
  {
   "cell_type": "code",
   "execution_count": null,
   "id": "6433c8a6-e2b4-42e2-8b38-e6779e031a57",
   "metadata": {},
   "outputs": [],
   "source": [
    "(b) finally = finally is block which are used in some case if we add finally in exceptions handling then it will execute\n",
    "              in any situation. It not depend upon try or else it is independent which are execute at any cost."
   ]
  },
  {
   "cell_type": "code",
   "execution_count": 3,
   "id": "5eae9f9d-130c-45be-bee2-059e23f9fcd6",
   "metadata": {},
   "outputs": [
    {
     "name": "stdout",
     "output_type": "stream",
     "text": [
      "This is answer\n"
     ]
    }
   ],
   "source": [
    "#Example\n",
    "\n",
    "try:\n",
    "    f = open('test369.txt', 'w')\n",
    "    f.write('One should say always truth')\n",
    "    f.close()\n",
    "    \n",
    "except AttributeError as e:\n",
    "    print(e)\n",
    "    \n",
    "finally:\n",
    "    print('This is answer')"
   ]
  },
  {
   "cell_type": "code",
   "execution_count": null,
   "id": "9394f9bc-6b17-4896-96b0-afde8e800ee0",
   "metadata": {},
   "outputs": [],
   "source": [
    "(c) raise = raise is a keyword which are used to call an Exception or custom exception when the condition met by the \n",
    "            exception class or exception instance. raise is a in built keyword which are using in custom exception."
   ]
  },
  {
   "cell_type": "code",
   "execution_count": 4,
   "id": "f92dafac-d9bb-40db-af72-0d851a83f0a4",
   "metadata": {},
   "outputs": [
    {
     "name": "stdin",
     "output_type": "stream",
     "text": [
      "Enter your age 21\n"
     ]
    },
    {
     "name": "stdout",
     "output_type": "stream",
     "text": [
      "Done\n"
     ]
    }
   ],
   "source": [
    "#Example\n",
    "\n",
    "#This is age function with custom exception handling\n",
    "\n",
    "class age(Exception):\n",
    "    def __init__(self, msg):\n",
    "        self.msg = msg\n",
    "        \n",
    "def age_check(age):\n",
    "    if age > 100 :\n",
    "        raise age('This is too high')\n",
    "    elif age < 0 :\n",
    "        raise age('This is not valid')\n",
    "    else:\n",
    "        print('Done')\n",
    "        \n",
    "try:\n",
    "    age = int(input('Enter your age'))\n",
    "    age_check(age)\n",
    "    \n",
    "except age as e :\n",
    "    print(e)"
   ]
  },
  {
   "cell_type": "code",
   "execution_count": null,
   "id": "c1a80a14-69a2-40b6-ad8e-538819f45230",
   "metadata": {},
   "outputs": [],
   "source": []
  },
  {
   "cell_type": "code",
   "execution_count": 5,
   "id": "23a00290-03bb-45d6-9b8a-129bde8c0f75",
   "metadata": {},
   "outputs": [],
   "source": [
    "#Q5. What are Custom Exceptions in python? Why do we need Custom Exceptions? Explain with an example."
   ]
  },
  {
   "cell_type": "code",
   "execution_count": null,
   "id": "eacf4287-0502-4857-89d2-6d7242747de6",
   "metadata": {},
   "outputs": [],
   "source": [
    "#Ans.\n",
    "Custom Exceptions in python are that exception which are created by coder itself which are not in build class but it is \n",
    "derived by Exception superclass.\n",
    "\n",
    "In Exception handling, there are limited type of classes for which a coder can use for exception handling like AttribError,\n",
    "FileNotFoundError,TypeError,NameError,etc. but in some case a coder need speical type of exception which a coder can create\n",
    "himself by deriving from superclass 'Exception'."
   ]
  },
  {
   "cell_type": "code",
   "execution_count": 15,
   "id": "2a3d98a1-e0ca-4e43-9f7f-b1a1de35c852",
   "metadata": {},
   "outputs": [
    {
     "name": "stdout",
     "output_type": "stream",
     "text": [
      "144\n"
     ]
    }
   ],
   "source": [
    "#Example\n",
    "\n",
    "class My_Error(Exception):\n",
    "    \n",
    "    def __init__(self,value):\n",
    "        self.value = value\n",
    "        \n",
    "    def __str__(self):\n",
    "        return (repr(self.value))\n",
    "    \n",
    "try:\n",
    "    raise (My_Error(12*12))\n",
    "except My_Error as e :\n",
    "    print(e)"
   ]
  },
  {
   "cell_type": "code",
   "execution_count": null,
   "id": "f2165797-ed15-4e5f-9bb6-0b70c2160887",
   "metadata": {},
   "outputs": [],
   "source": []
  },
  {
   "cell_type": "code",
   "execution_count": 6,
   "id": "c2610d2b-fffd-4eae-bb50-f78a4d6aa409",
   "metadata": {},
   "outputs": [],
   "source": [
    "#Q6. Create custom exception class. Use this class to handle an exception."
   ]
  },
  {
   "cell_type": "code",
   "execution_count": 13,
   "id": "a53fb145-d1cc-48e7-a134-2293e4ce37c0",
   "metadata": {},
   "outputs": [],
   "source": [
    "#Ans.\n",
    "\n",
    "#CUSTOM EXCEPTION CLASS\n",
    "class Shree_Ram(Exception):\n",
    "\n",
    "    def __init__(self, power):\n",
    "        self.power = power\n",
    "        \n",
    "    def meter(self):\n",
    "        print(self.power)\n"
   ]
  },
  {
   "cell_type": "code",
   "execution_count": 14,
   "id": "be893330-7804-4e0b-980f-1cb4883820b9",
   "metadata": {},
   "outputs": [
    {
     "name": "stdout",
     "output_type": "stream",
     "text": [
      "1000000\n",
      "Completed\n"
     ]
    }
   ],
   "source": [
    "#EXCEPTION HANDLING\n",
    "try:\n",
    "    raise Shree_Ram(1000*1000)\n",
    "\n",
    "except Shree_Ram as e :\n",
    "    print(e)\n",
    "    \n",
    "finally:\n",
    "    print('Completed')"
   ]
  },
  {
   "cell_type": "code",
   "execution_count": null,
   "id": "f5dcfad8-f30f-4a63-a278-073ecacc9b84",
   "metadata": {},
   "outputs": [],
   "source": []
  },
  {
   "cell_type": "code",
   "execution_count": null,
   "id": "45bab1f5-587f-4048-af01-143e21b809c8",
   "metadata": {},
   "outputs": [],
   "source": [
    "                                     ' J A I   S H R E E   H A R I   V I S H N U ' "
   ]
  }
 ],
 "metadata": {
  "kernelspec": {
   "display_name": "Python 3 (ipykernel)",
   "language": "python",
   "name": "python3"
  },
  "language_info": {
   "codemirror_mode": {
    "name": "ipython",
    "version": 3
   },
   "file_extension": ".py",
   "mimetype": "text/x-python",
   "name": "python",
   "nbconvert_exporter": "python",
   "pygments_lexer": "ipython3",
   "version": "3.10.8"
  }
 },
 "nbformat": 4,
 "nbformat_minor": 5
}
