{
 "cells": [
  {
   "cell_type": "markdown",
   "id": "9fa0518a-9047-4cdc-8544-04fc6337d673",
   "metadata": {},
   "source": [
    "Statistics Advance-1"
   ]
  },
  {
   "cell_type": "code",
   "execution_count": null,
   "id": "01a0eb57-317f-4b53-aba1-eabd8ed3b5c5",
   "metadata": {},
   "outputs": [],
   "source": [
    "'''Q1. What is the Probability density function?'''"
   ]
  },
  {
   "cell_type": "code",
   "execution_count": null,
   "id": "0f6de4ea-ae2f-4633-b68c-7135186d491b",
   "metadata": {},
   "outputs": [],
   "source": [
    "#Ans.\n",
    "Probability density function is a kind of probability distribution function in short it said to be pdf. Pdf is a type of \n",
    "distribution function which is used for distribute the data. Mainly, It is used for continuous random variable to show its\n",
    "data in graph form.\n",
    "\n",
    "The graph of pdf is showing the distrubuted data of continuous random variable through x-axis and y-axis. On x-axis the \n",
    "pdf probability is shown which is decided by calculating from formula of gradient or slope from cumulative distributive\n",
    "function and On y-axis the data of random variable is shown."
   ]
  },
  {
   "cell_type": "code",
   "execution_count": null,
   "id": "1e2d599a-c790-4433-b506-b1c74530469d",
   "metadata": {},
   "outputs": [],
   "source": []
  },
  {
   "cell_type": "code",
   "execution_count": null,
   "id": "f866001e-f193-454c-ae11-f3b5b0b573ce",
   "metadata": {},
   "outputs": [],
   "source": [
    "'''Q2. What are the types of Probability distribution?'''"
   ]
  },
  {
   "cell_type": "code",
   "execution_count": null,
   "id": "f7f56374-e384-46cd-a8b5-cb7738ae2ed3",
   "metadata": {},
   "outputs": [],
   "source": [
    "#Ans.\n",
    "Probability distribution is a statistical measure which shows the data distribution of a random variable in different \n",
    "diffferent manner .\n",
    "\n",
    "There are mainly 6 types of probability distribution:\n",
    "    \n",
    "1. Normal or Gaussian distribution (pdf)\n",
    "2. Bernoulli distribution (pmf)\n",
    "3. Binomial distribution (pmf)\n",
    "4. Uniform distribution (pmf)\n",
    "5. Log normal distribution (pdf)\n",
    "6. Poisson distribution (pmf)"
   ]
  },
  {
   "cell_type": "code",
   "execution_count": null,
   "id": "cc329b41-3a31-4432-8d40-147f164ec682",
   "metadata": {},
   "outputs": [],
   "source": []
  },
  {
   "cell_type": "code",
   "execution_count": null,
   "id": "d224d8f7-31a8-4e8f-b51c-2230202a988d",
   "metadata": {},
   "outputs": [],
   "source": [
    "'''Q3. Write a Python function to calculate the probability density function of a normal distribution with given mean and\n",
    "       standard deviation at a given point.'''"
   ]
  },
  {
   "cell_type": "code",
   "execution_count": 5,
   "id": "1f703e14-3234-4b73-8509-7587f829afa0",
   "metadata": {},
   "outputs": [],
   "source": [
    "#Ans.\n",
    "\n",
    "#importing functions from package\n",
    "from scipy.stats import norm"
   ]
  },
  {
   "cell_type": "code",
   "execution_count": 6,
   "id": "89595361-8077-4f05-8fed-3cb15949a936",
   "metadata": {},
   "outputs": [],
   "source": [
    "#function for findind pdf\n",
    "def pdf_function(x, mean, std) :\n",
    "    pdf = norm.pdf(x, loc=mean, scale=std)\n",
    "    return pdf"
   ]
  },
  {
   "cell_type": "code",
   "execution_count": 7,
   "id": "5961e367-2f4d-48ae-99f8-e9c7818ecb3b",
   "metadata": {},
   "outputs": [],
   "source": [
    "#Suppose data\n",
    "mean = 5 \n",
    "point = 12 \n",
    "std = 1"
   ]
  },
  {
   "cell_type": "code",
   "execution_count": 8,
   "id": "15909861-de0f-4de0-8de4-85d2d648f8c1",
   "metadata": {},
   "outputs": [],
   "source": [
    "#assigning the function\n",
    "pdf_data = pdf_function(point, mean, std)"
   ]
  },
  {
   "cell_type": "code",
   "execution_count": 9,
   "id": "4a58bb5d-1366-485c-861f-f680204040fd",
   "metadata": {},
   "outputs": [
    {
     "name": "stdout",
     "output_type": "stream",
     "text": [
      "The probability density function of given data is 9.134720408364595e-12\n"
     ]
    }
   ],
   "source": [
    "#printing the variable\n",
    "print(f'The probability density function of given data is {pdf_data }')"
   ]
  },
  {
   "cell_type": "code",
   "execution_count": null,
   "id": "00aac78e-25c6-4a7e-b6ea-1eebc66885fb",
   "metadata": {},
   "outputs": [],
   "source": []
  },
  {
   "cell_type": "code",
   "execution_count": null,
   "id": "a57d64cb-0087-4c88-87a7-48e8eb33dd14",
   "metadata": {},
   "outputs": [],
   "source": [
    "'''Q4. What are the properties of Binomial distribution? Give two examples of events where binomial distribution can be\n",
    "       applied.'''"
   ]
  },
  {
   "cell_type": "code",
   "execution_count": null,
   "id": "13cfc5a7-0a11-44df-913c-cbfcb48f2e62",
   "metadata": {},
   "outputs": [],
   "source": [
    "#Ans.\n",
    "\n",
    "In statistics theory, Binomial distribution is a distribution which is shows the data in distributed form of discrete \n",
    "random variable. Its have parameter n and p in which n parameter is shows about the no.of trials of random variable \n",
    "whereas p is shows about the success probability of each experiment .Another k parameter is shows no. of success from 1 \n",
    "to n.\n",
    "\n",
    "\n",
    "Properties of the binomial distribution : \n",
    "    \n",
    "1. The binomial distribution is a collection of many bernoulli experiments. \n",
    "\n",
    "2. Each bernoulli experments have binary outcomes which is may success or failure.\n",
    "\n",
    "3. The experiment is performed for n trials.\n",
    "\n",
    "4. It shows the distribution of discrete random variable.\n",
    "\n",
    "5. Binomial distribution using probability mass function (pmf) for distribute of data.\n",
    "\n",
    "\n",
    "Two examples of binomial distribution :\n",
    "    \n",
    "(a) Flipping the coin 7 times. In which 7 times is denoted by n parameter whereas the probability of comes head and tail \n",
    "    in each single experiments is denoted by head(success) p parameter.\n",
    "    \n",
    "(b) Rolling the dice 10 times. In which 10 times is denoted by n parameter whereas the probability of every no. 1/6 come.\n",
    "   and this 1/6 is denoted by p parameter."
   ]
  },
  {
   "cell_type": "code",
   "execution_count": null,
   "id": "19a4d734-5554-48de-ad98-0f4522d3f2a0",
   "metadata": {},
   "outputs": [],
   "source": []
  },
  {
   "cell_type": "code",
   "execution_count": null,
   "id": "e66d2c2e-80e6-4511-a2df-edbdddefcfb4",
   "metadata": {},
   "outputs": [],
   "source": [
    "'''Q5. Generate a random sample of size 1000 from a binomial distribution with probability of success 0.4 and plot a \n",
    "       histogram of the results using matplotlib.'''"
   ]
  },
  {
   "cell_type": "code",
   "execution_count": 10,
   "id": "9114ac30-0264-4f13-9a05-c24bc2d2eeaa",
   "metadata": {},
   "outputs": [
    {
     "name": "stderr",
     "output_type": "stream",
     "text": [
      "/tmp/ipykernel_70/2526508511.py:15: UserWarning: \n",
      "\n",
      "`distplot` is a deprecated function and will be removed in seaborn v0.14.0.\n",
      "\n",
      "Please adapt your code to use either `displot` (a figure-level function with\n",
      "similar flexibility) or `histplot` (an axes-level function for histograms).\n",
      "\n",
      "For a guide to updating your code to use the new functions, please see\n",
      "https://gist.github.com/mwaskom/de44147ed2974457ad6372750bbe5751\n",
      "\n",
      "  plot = sns.distplot(data, bins = 20, kde = False , color = 'Blue' )\n"
     ]
    },
    {
     "data": {
      "image/png": "[encoded data removed]",
      "text/plain": [
       "<Figure size 640x480 with 1 Axes>"
      ]
     },
     "metadata": {},
     "output_type": "display_data"
    }
   ],
   "source": [
    "#Ans.\n",
    "\n",
    "#importing packages\n",
    "import seaborn as sns\n",
    "import matplotlib.pyplot as plt\n",
    "import numpy as np\n",
    "\n",
    "#binomial parameter data\n",
    "n,p = 1000,0.4\n",
    "\n",
    "#data of random sample for binomial distribution\n",
    "data = np.random.binomial(n,p, size = 1000)\n",
    "\n",
    "#making histogram\n",
    "plot = sns.distplot(data, bins = 20, kde = False , color = 'Blue' )\n",
    "plot.set(xlabel= 'Binomial Values', ylabel='Frequency')\n",
    "plt.show()"
   ]
  },
  {
   "cell_type": "code",
   "execution_count": null,
   "id": "f3e45fa9-60a1-4308-b914-41bf5c22e2f2",
   "metadata": {},
   "outputs": [],
   "source": []
  },
  {
   "cell_type": "code",
   "execution_count": null,
   "id": "830c0e94-63c2-458f-9935-249ef503ca01",
   "metadata": {},
   "outputs": [],
   "source": [
    "'''Q6. Write a Python function to calculate the cumulative distribution function of a Poisson distribution with given\n",
    "       mean at a given point.'''"
   ]
  },
  {
   "cell_type": "code",
   "execution_count": 1,
   "id": "204bf743-92ae-49e4-9337-5b579163b96d",
   "metadata": {},
   "outputs": [],
   "source": [
    "#Ans.\n",
    "\n",
    "#importing module\n",
    "import math"
   ]
  },
  {
   "cell_type": "code",
   "execution_count": 2,
   "id": "ddd7a43c-14e8-4074-8045-4c6c26d0dd40",
   "metadata": {},
   "outputs": [],
   "source": [
    "#function\n",
    "def cdf_cal(mean,x):\n",
    "    if mean <= 0 or x <= 0:\n",
    "        raise ValueError('Mean or k is not positive value')\n",
    "        \n",
    "    cdf = 0.0\n",
    "    for i in range(x+1):\n",
    "        cdf += ((math.exp(-mean) * mean ** i) / math.factorial(i))\n",
    "        \n",
    "    return cdf"
   ]
  },
  {
   "cell_type": "code",
   "execution_count": 4,
   "id": "59347e6f-b2cb-4342-9ac4-d930b706311c",
   "metadata": {},
   "outputs": [
    {
     "name": "stdout",
     "output_type": "stream",
     "text": [
      "Cumulative Value of given mean 2.5 and x 3 : 0.7575761331330659\n"
     ]
    }
   ],
   "source": [
    "#example \n",
    "mean_value = 2.5\n",
    "x_value = 3\n",
    "\n",
    "result = cdf_cal(mean_value, x_value)\n",
    "\n",
    "print(f'Cumulative Value of given mean {mean_value} and x {x_value} : {result}')"
   ]
  },
  {
   "cell_type": "code",
   "execution_count": null,
   "id": "0b5f574f-fbbb-45ed-aba0-8e6bc86dc065",
   "metadata": {},
   "outputs": [],
   "source": []
  },
  {
   "cell_type": "code",
   "execution_count": null,
   "id": "69b910b6-7c28-471f-a72f-132e18256990",
   "metadata": {},
   "outputs": [],
   "source": [
    "'''Q7. How Binomial distribution different from Poisson distribution?'''"
   ]
  },
  {
   "cell_type": "code",
   "execution_count": null,
   "id": "3ba0f844-4e02-4a9b-b089-494ccdf64abe",
   "metadata": {},
   "outputs": [],
   "source": [
    "#Ans.\n",
    "Binomial distribution is a discrete random distribution with parameter n and p. The notation of binomial distribution is\n",
    "B(n,p) where n is no. of trials and p is for success of probability of each trial. This is a collection of n number of \n",
    "binary outcomes.\n",
    "example. Rolling of dice 10 times ; where n = 10 , p = 2\n",
    "\n",
    "Whereas poisson distribution is describes about the no. of events of discrete random variable in a fixed time interval.\n",
    "example. No. of people visiting vrindavan every hour. \n",
    "\n",
    "\n",
    "Difference in Binomial and poisson distribution:\n",
    "    \n",
    "1. If we solve a discrete random variable question from both binomial and poisson distribution then we got almost same \n",
    "   answer not exact equal answer.\n",
    "    \n",
    "2. Both distribution have different different formula for calculating values. For binomial distribution is \n",
    "   P(x=k) = n^Ck * p^k * (1-p)^n-k and for poisson distribution is P(X=k) = λk * e– λ / k! .\n",
    "    \n",
    "3. Binomial distribution have parameter n,p whereas poisson distribution have lambda (λ) where lambda is denoted the \n",
    "   expecting the no. of events in a fixed time interval.\n",
    "    \n",
    "4. The mean of binomial distribution is np where n is no. of trials and p is success probability for each trial whereas\n",
    "   the mean of poisson distribution is λ*t where t is time interval and lambda is expecting no. of events in fixed time \n",
    "   interval.\n",
    "    \n",
    "    \n",
    "Similarities in binomial distribution:\n",
    "\n",
    "1. Both distribution follows same discrete random distribution.\n",
    "2. Both distribution follows probability density function for distributing the  data.\n",
    "3. Both distribution shows distribution of data almost"
   ]
  },
  {
   "cell_type": "code",
   "execution_count": null,
   "id": "128ee9ed-f15e-4e09-a176-4cdb87b2455a",
   "metadata": {},
   "outputs": [],
   "source": []
  },
  {
   "cell_type": "code",
   "execution_count": null,
   "id": "34e89ea3-3e45-45d0-93d1-62235c234f71",
   "metadata": {},
   "outputs": [],
   "source": [
    "'''Q8. Generate a random sample of size 1000 from a Poisson distribution with mean 5 and calculate the sample mean and \n",
    "       variance.'''"
   ]
  },
  {
   "cell_type": "code",
   "execution_count": 1,
   "id": "545074e9-d07e-4fe1-8fce-78db9f2716d7",
   "metadata": {},
   "outputs": [],
   "source": [
    "#Ans.\n",
    "\n",
    "#importing module\n",
    "import numpy as np"
   ]
  },
  {
   "cell_type": "code",
   "execution_count": 9,
   "id": "f6646446-05ea-4fa6-a872-4bd4e6b6635c",
   "metadata": {},
   "outputs": [],
   "source": [
    "#sample generating\n",
    "mean = 5\n",
    "sample = np.random.poisson(mean,  size=1000)"
   ]
  },
  {
   "cell_type": "code",
   "execution_count": 10,
   "id": "44e4c477-b08c-4a87-b0d8-a133bb39901d",
   "metadata": {},
   "outputs": [],
   "source": [
    "#sample mean and var\n",
    "sample_mean = np.mean(sample) \n",
    "var = np.var(sample, ddof = 1)"
   ]
  },
  {
   "cell_type": "code",
   "execution_count": 11,
   "id": "68a06276-a993-4898-93cb-d2372adcd491",
   "metadata": {},
   "outputs": [
    {
     "name": "stdout",
     "output_type": "stream",
     "text": [
      "Sample mean 5.066\n",
      "Variance 4.934578578578579\n"
     ]
    }
   ],
   "source": [
    "#printing\n",
    "print('Sample mean', sample_mean)\n",
    "print('Variance' , var)"
   ]
  },
  {
   "cell_type": "code",
   "execution_count": null,
   "id": "13d72a7d-95d5-44d6-a5e6-60e422223302",
   "metadata": {},
   "outputs": [],
   "source": []
  },
  {
   "cell_type": "code",
   "execution_count": null,
   "id": "04fb701d-de9f-4b4c-92fe-346992203d1d",
   "metadata": {},
   "outputs": [],
   "source": [
    "'''Q9. How mean and variance are related in Binomial distribution and Poisson distribution?'''"
   ]
  },
  {
   "cell_type": "code",
   "execution_count": null,
   "id": "715bd456-e2f7-4dd0-b1f0-054265d8e5ad",
   "metadata": {},
   "outputs": [],
   "source": [
    "#Ans.\n",
    "In binomial distribution, the mean is represented by np where n is no. of trials and p is probability of success of each \n",
    "trial. The variance is represented as npq or np(1-p). The variance and mean of binomial distribution are not equal. If\n",
    "we multiply (1-p) to mean then it gives variance value.\n",
    "\n",
    "In poisson distribution, the mean and variance is represented by μ.The mean and variance are equal in poisson distribution\n",
    "If mean will increses then variance is also increases. "
   ]
  },
  {
   "cell_type": "code",
   "execution_count": null,
   "id": "4bfdfb39-3b13-438b-87c9-b992cfa46ae6",
   "metadata": {},
   "outputs": [],
   "source": []
  },
  {
   "cell_type": "code",
   "execution_count": null,
   "id": "508e875e-e2c1-4bff-803a-52dbcea110d1",
   "metadata": {},
   "outputs": [],
   "source": [
    "'''Q10. In normal distribution with respect to mean position, where does the least frequent data appear?'''"
   ]
  },
  {
   "cell_type": "code",
   "execution_count": null,
   "id": "f6127eb2-ffee-4fe9-82e5-12a458d185f0",
   "metadata": {},
   "outputs": [],
   "source": [
    "#Ans.\n",
    "Normal distribution is symmetry distribution where mean, mode and median have same value. With respect to mean position,\n",
    "the least frequent data is depend upon the how far the data from mean position. If data is very far from the mean position\n",
    "in graph, then it will be its least frequent data."
   ]
  },
  {
   "cell_type": "code",
   "execution_count": null,
   "id": "bc24ed93-feaf-480a-be47-3f123a34ac87",
   "metadata": {},
   "outputs": [],
   "source": []
  },
  {
   "cell_type": "code",
   "execution_count": null,
   "id": "b116a83a-c8bd-4abb-8fce-66b51f4fb43f",
   "metadata": {},
   "outputs": [],
   "source": [
    "                            ◦•●◉✿ ❤️️' 𝐉 𝐀 𝐈   𝐒 𝐇 𝐑 𝐄 𝐄   𝐇 𝐀 𝐑 𝐈   𝐕 𝐈 𝐒 𝐇 𝐍 𝐔 '❤️ ✿◉●•◦"
   ]
  }
 ],
 "metadata": {
  "kernelspec": {
   "display_name": "Python 3 (ipykernel)",
   "language": "python",
   "name": "python3"
  },
  "language_info": {
   "codemirror_mode": {
    "name": "ipython",
    "version": 3
   },
   "file_extension": ".py",
   "mimetype": "text/x-python",
   "name": "python",
   "nbconvert_exporter": "python",
   "pygments_lexer": "ipython3",
   "version": "3.10.8"
  }
 },
 "nbformat": 4,
 "nbformat_minor": 5
}
