{
 "cells": [
  {
   "cell_type": "markdown",
   "id": "09d2ecdd-9de4-4e8c-8864-fba26945acf4",
   "metadata": {},
   "source": [
    "Pandas - ML TOOLBOX"
   ]
  },
  {
   "cell_type": "code",
   "execution_count": 12,
   "id": "a2e05319-e9dd-4029-8df6-8f588e174c8d",
   "metadata": {},
   "outputs": [
    {
     "data": {
      "text/plain": [
       "'Q1. Create a Pandas Series that contains the following data: 4, 8, 15, 16, 23, and 42. Then, print the series.'"
      ]
     },
     "execution_count": 12,
     "metadata": {},
     "output_type": "execute_result"
    }
   ],
   "source": [
    "'''Q1. Create a Pandas Series that contains the following data: 4, 8, 15, 16, 23, and 42. Then, print the series.'''"
   ]
  },
  {
   "cell_type": "code",
   "execution_count": 13,
   "id": "32d56d5e-fb72-453a-bd5d-dbbbdd0b88ff",
   "metadata": {},
   "outputs": [],
   "source": [
    "#Ans.\n",
    "import pandas as pd"
   ]
  },
  {
   "cell_type": "code",
   "execution_count": 14,
   "id": "81777753-7ecd-48d7-b141-3da9002298ec",
   "metadata": {},
   "outputs": [],
   "source": [
    "data = pd.Series([4,8,15,16,23,42])"
   ]
  },
  {
   "cell_type": "code",
   "execution_count": 15,
   "id": "f1bd6fa1-aa79-40e8-bd56-5e2a10cc98ad",
   "metadata": {},
   "outputs": [
    {
     "data": {
      "text/plain": [
       "0     4\n",
       "1     8\n",
       "2    15\n",
       "3    16\n",
       "4    23\n",
       "5    42\n",
       "dtype: int64"
      ]
     },
     "execution_count": 15,
     "metadata": {},
     "output_type": "execute_result"
    }
   ],
   "source": [
    "data"
   ]
  },
  {
   "cell_type": "code",
   "execution_count": null,
   "id": "fcb0521f-7091-43c8-9e91-a3e11fd5843c",
   "metadata": {},
   "outputs": [],
   "source": []
  },
  {
   "cell_type": "code",
   "execution_count": 16,
   "id": "ca86d8b9-1555-47d1-a5cf-866834847caf",
   "metadata": {},
   "outputs": [
    {
     "data": {
      "text/plain": [
       "'Q2. Create a variable of list type containing 10 elements in it, and apply pandas.Series function on the\\n       variable print it.'"
      ]
     },
     "execution_count": 16,
     "metadata": {},
     "output_type": "execute_result"
    }
   ],
   "source": [
    "'''Q2. Create a variable of list type containing 10 elements in it, and apply pandas.Series function on the\n",
    "       variable print it.'''"
   ]
  },
  {
   "cell_type": "code",
   "execution_count": 17,
   "id": "28e1c14d-796f-4e98-8b90-925de43f6e96",
   "metadata": {},
   "outputs": [],
   "source": [
    "#Ans.\n",
    "my_world = [['My_World'],['Shree Ram'], ['Sita Mata'], ['Lakshman ji'], ['Jai Hanuman'], ['Bholenath'], ['Hari Narayan'],\n",
    "            ['Kanhaiya'] , ['Parvati ji'],  ['Mata laxmi']]"
   ]
  },
  {
   "cell_type": "code",
   "execution_count": 18,
   "id": "a084d990-8d66-4ded-9a14-d9a445c1960b",
   "metadata": {},
   "outputs": [
    {
     "data": {
      "text/plain": [
       "0        [My_World]\n",
       "1       [Shree Ram]\n",
       "2       [Sita Mata]\n",
       "3     [Lakshman ji]\n",
       "4     [Jai Hanuman]\n",
       "5       [Bholenath]\n",
       "6    [Hari Narayan]\n",
       "7        [Kanhaiya]\n",
       "8      [Parvati ji]\n",
       "9      [Mata laxmi]\n",
       "dtype: object"
      ]
     },
     "execution_count": 18,
     "metadata": {},
     "output_type": "execute_result"
    }
   ],
   "source": [
    "pd.Series(my_world)"
   ]
  },
  {
   "cell_type": "code",
   "execution_count": 19,
   "id": "552bb985-af3f-4ac1-846b-c9846f3cbc65",
   "metadata": {},
   "outputs": [
    {
     "data": {
      "text/plain": [
       "pandas.core.series.Series"
      ]
     },
     "execution_count": 19,
     "metadata": {},
     "output_type": "execute_result"
    }
   ],
   "source": [
    "type(pd.Series(my_world))"
   ]
  },
  {
   "cell_type": "code",
   "execution_count": null,
   "id": "7c4b71b9-c420-4581-8a01-a1deeb4a2e03",
   "metadata": {},
   "outputs": [],
   "source": []
  },
  {
   "cell_type": "code",
   "execution_count": 20,
   "id": "a2bb9f9f-af07-424d-821f-ffaa6870b464",
   "metadata": {},
   "outputs": [
    {
     "data": {
      "text/plain": [
       "'Q3. Create a Pandas DataFrame that contains the following data:  ,Then, print the DataFrame.'"
      ]
     },
     "execution_count": 20,
     "metadata": {},
     "output_type": "execute_result"
    }
   ],
   "source": [
    "'''Q3. Create a Pandas DataFrame that contains the following data:  ,Then, print the DataFrame.'''"
   ]
  },
  {
   "attachments": {
    "5e403403-74cf-4da0-ad7d-1eaa22183db4.png": {
     "image/png": "[encoded data removed]"
    }
   },
   "cell_type": "markdown",
   "id": "d3bf9f59-aef2-4cc1-81d3-b0c77b1c41e7",
   "metadata": {},
   "source": [
    "![Assignment%2… (2) - JupyterLab - Google Chrome 27_06_2023 12_26_07.png](attachment:5e403403-74cf-4da0-ad7d-1eaa22183db4.png)"
   ]
  },
  {
   "cell_type": "code",
   "execution_count": 31,
   "id": "bea239ad-2dcf-4332-9e42-2039bad25904",
   "metadata": {},
   "outputs": [],
   "source": [
    "#Ans\n",
    "\n",
    "data1 = {'Name' : ['Alice', 'Bob', 'Claire'], \n",
    "        'Age' : [25,30,27], \n",
    "        'Gender' : ['Female', 'Male', 'Female']}"
   ]
  },
  {
   "cell_type": "code",
   "execution_count": 38,
   "id": "41f787fe-37cf-4927-8153-f081dfe5fa55",
   "metadata": {},
   "outputs": [],
   "source": [
    "df = pd.DataFrame(data1)"
   ]
  },
  {
   "cell_type": "code",
   "execution_count": 39,
   "id": "93ccaa77-384a-4873-a585-93b7f7f08400",
   "metadata": {},
   "outputs": [
    {
     "data": {
      "text/html": [
       "<div>\n",
       "<style scoped>\n",
       "    .dataframe tbody tr th:only-of-type {\n",
       "        vertical-align: middle;\n",
       "    }\n",
       "\n",
       "    .dataframe tbody tr th {\n",
       "        vertical-align: top;\n",
       "    }\n",
       "\n",
       "    .dataframe thead th {\n",
       "        text-align: right;\n",
       "    }\n",
       "</style>\n",
       "<table border=\"1\" class=\"dataframe\">\n",
       "  <thead>\n",
       "    <tr style=\"text-align: right;\">\n",
       "      <th></th>\n",
       "      <th>Name</th>\n",
       "      <th>Age</th>\n",
       "      <th>Gender</th>\n",
       "    </tr>\n",
       "  </thead>\n",
       "  <tbody>\n",
       "    <tr>\n",
       "      <th>0</th>\n",
       "      <td>Alice</td>\n",
       "      <td>25</td>\n",
       "      <td>Female</td>\n",
       "    </tr>\n",
       "    <tr>\n",
       "      <th>1</th>\n",
       "      <td>Bob</td>\n",
       "      <td>30</td>\n",
       "      <td>Male</td>\n",
       "    </tr>\n",
       "    <tr>\n",
       "      <th>2</th>\n",
       "      <td>Claire</td>\n",
       "      <td>27</td>\n",
       "      <td>Female</td>\n",
       "    </tr>\n",
       "  </tbody>\n",
       "</table>\n",
       "</div>"
      ],
      "text/plain": [
       "     Name  Age  Gender\n",
       "0   Alice   25  Female\n",
       "1     Bob   30    Male\n",
       "2  Claire   27  Female"
      ]
     },
     "execution_count": 39,
     "metadata": {},
     "output_type": "execute_result"
    }
   ],
   "source": [
    "df"
   ]
  },
  {
   "cell_type": "code",
   "execution_count": 33,
   "id": "6318ef11-eac5-429f-95d0-1a5dd97bb354",
   "metadata": {},
   "outputs": [
    {
     "data": {
      "text/plain": [
       "pandas.core.frame.DataFrame"
      ]
     },
     "execution_count": 33,
     "metadata": {},
     "output_type": "execute_result"
    }
   ],
   "source": [
    "type(pd.DataFrame(data1))"
   ]
  },
  {
   "cell_type": "code",
   "execution_count": null,
   "id": "5b2769ab-2885-4444-8090-1cffd41dbe01",
   "metadata": {},
   "outputs": [],
   "source": []
  },
  {
   "cell_type": "code",
   "execution_count": 24,
   "id": "a6fe233d-ab6f-42e0-b93a-63934dec3ff4",
   "metadata": {},
   "outputs": [
    {
     "data": {
      "text/plain": [
       "'Q4. What is ‘DataFrame’ in pandas and how is it different from pandas.series? Explain with an example.'"
      ]
     },
     "execution_count": 24,
     "metadata": {},
     "output_type": "execute_result"
    }
   ],
   "source": [
    "'''Q4. What is ‘DataFrame’ in pandas and how is it different from pandas.series? Explain with an example.'''"
   ]
  },
  {
   "cell_type": "code",
   "execution_count": null,
   "id": "30172219-e912-454e-ab7c-b0e96e6a5499",
   "metadata": {},
   "outputs": [],
   "source": [
    "#Ans.\n",
    "Dataframe is a type of frame in which data stored in a tabular form or data stored properly in row and columns wise which\n",
    "helps reader to easily read data. DataFrame is a two dimensional data structure which show data of structured data file \n",
    "only. It is accessable by performing task in pandas by using 'read_csv, read_excel, etc' in build function in pandas.\n",
    "\n",
    "While series data structure is one dimensional data structure and it is size immutable in nature whereas dataframe is \n",
    "mutable in nature.It show data in columns one by one by choosing particular column or row. It can show also data of row.\n",
    "To get the data in series of a column or row we have to access pandas method pandas.Series ."
   ]
  },
  {
   "cell_type": "code",
   "execution_count": 47,
   "id": "dcee9bfc-a887-42bc-95e7-4b8f324d9e6f",
   "metadata": {},
   "outputs": [],
   "source": [
    "#Ex of DataFrame\n",
    "\n",
    "import pandas as pd\n",
    "\n",
    "data2 = {'God' : ['Shree Ram', 'Shiv ji', 'Shree krishna', 'Hari Narayan'] , 'Priy Bhakt' : ['Hanuman ji', 'Ravan', 'Mira bai', 'Ujjwal jaiswal']}"
   ]
  },
  {
   "cell_type": "code",
   "execution_count": 48,
   "id": "802816d0-cb17-4a61-baf0-6856b1e0173a",
   "metadata": {},
   "outputs": [],
   "source": [
    "df1 =  pd.DataFrame(data2)"
   ]
  },
  {
   "cell_type": "code",
   "execution_count": 49,
   "id": "1e6c0207-a379-4043-852b-62533060fd26",
   "metadata": {},
   "outputs": [
    {
     "data": {
      "text/html": [
       "<div>\n",
       "<style scoped>\n",
       "    .dataframe tbody tr th:only-of-type {\n",
       "        vertical-align: middle;\n",
       "    }\n",
       "\n",
       "    .dataframe tbody tr th {\n",
       "        vertical-align: top;\n",
       "    }\n",
       "\n",
       "    .dataframe thead th {\n",
       "        text-align: right;\n",
       "    }\n",
       "</style>\n",
       "<table border=\"1\" class=\"dataframe\">\n",
       "  <thead>\n",
       "    <tr style=\"text-align: right;\">\n",
       "      <th></th>\n",
       "      <th>God</th>\n",
       "      <th>Priy Bhakt</th>\n",
       "    </tr>\n",
       "  </thead>\n",
       "  <tbody>\n",
       "    <tr>\n",
       "      <th>0</th>\n",
       "      <td>Shree Ram</td>\n",
       "      <td>Hanuman ji</td>\n",
       "    </tr>\n",
       "    <tr>\n",
       "      <th>1</th>\n",
       "      <td>Shiv ji</td>\n",
       "      <td>Ravan</td>\n",
       "    </tr>\n",
       "    <tr>\n",
       "      <th>2</th>\n",
       "      <td>Shree krishna</td>\n",
       "      <td>Mira bai</td>\n",
       "    </tr>\n",
       "    <tr>\n",
       "      <th>3</th>\n",
       "      <td>Hari Narayan</td>\n",
       "      <td>Ujjwal jaiswal</td>\n",
       "    </tr>\n",
       "  </tbody>\n",
       "</table>\n",
       "</div>"
      ],
      "text/plain": [
       "             God      Priy Bhakt\n",
       "0      Shree Ram      Hanuman ji\n",
       "1        Shiv ji           Ravan\n",
       "2  Shree krishna        Mira bai\n",
       "3   Hari Narayan  Ujjwal jaiswal"
      ]
     },
     "execution_count": 49,
     "metadata": {},
     "output_type": "execute_result"
    }
   ],
   "source": [
    "df1"
   ]
  },
  {
   "cell_type": "code",
   "execution_count": null,
   "id": "77230878-d53c-489c-9ed7-7449b5d2bbed",
   "metadata": {},
   "outputs": [],
   "source": []
  },
  {
   "cell_type": "code",
   "execution_count": null,
   "id": "d043ed58-2117-4d70-9bb5-57035b29c9a5",
   "metadata": {},
   "outputs": [],
   "source": [
    "'''Q5. What are some common functions you can use to manipulate data in a Pandas DataFrame? Can\n",
    "       you give an example of when you might use one of these functions?'''"
   ]
  },
  {
   "cell_type": "code",
   "execution_count": null,
   "id": "517a8700-f2d0-44d0-81eb-8db7beae1a7a",
   "metadata": {},
   "outputs": [],
   "source": [
    "#Ans.\n",
    "In pandas library, there are many types of functions which used to manipulate the data to access or managing data in easy\n",
    "way for users. Data manipulating is actually refers to manipulate the data like accessing, managing, sorting, droping,\n",
    "adding,removing,deleting,etc. types of manipulation is done by users by the use of function.\n",
    "\n",
    "There are some common function which used to manipulate the data in a pandas dataframe :\n",
    "\n",
    "head(), tail(), dtypes(), drop(), dropna(), fillna(), set_index(), reset_index(), groupby(), concat(), apply(), merge(),\n",
    "reindex(), iteritems(), iterrows(), sort_values(), sort_index(), set_option, sum(), min(), max(), var(), std(), median(),\n",
    "mode(), rolling(), cumsum(), DataFrame() ,etc."
   ]
  },
  {
   "cell_type": "code",
   "execution_count": 50,
   "id": "4e2d49cc-0dd8-46c8-b5aa-5e743d06f88c",
   "metadata": {},
   "outputs": [],
   "source": [
    "#some example.\n",
    "\n",
    "# 1. use of head() \n",
    "\n",
    "import pandas as pd \n",
    "df = pd.read_csv('my_world.csv')\n"
   ]
  },
  {
   "cell_type": "code",
   "execution_count": 51,
   "id": "dd0d4db0-439f-4fd0-8776-23714ab9ef60",
   "metadata": {},
   "outputs": [
    {
     "data": {
      "text/html": [
       "<div>\n",
       "<style scoped>\n",
       "    .dataframe tbody tr th:only-of-type {\n",
       "        vertical-align: middle;\n",
       "    }\n",
       "\n",
       "    .dataframe tbody tr th {\n",
       "        vertical-align: top;\n",
       "    }\n",
       "\n",
       "    .dataframe thead th {\n",
       "        text-align: right;\n",
       "    }\n",
       "</style>\n",
       "<table border=\"1\" class=\"dataframe\">\n",
       "  <thead>\n",
       "    <tr style=\"text-align: right;\">\n",
       "      <th></th>\n",
       "      <th>My_World</th>\n",
       "    </tr>\n",
       "  </thead>\n",
       "  <tbody>\n",
       "    <tr>\n",
       "      <th>0</th>\n",
       "      <td>Shree Ram</td>\n",
       "    </tr>\n",
       "    <tr>\n",
       "      <th>1</th>\n",
       "      <td>Sita Mata</td>\n",
       "    </tr>\n",
       "    <tr>\n",
       "      <th>2</th>\n",
       "      <td>Lakshman ji</td>\n",
       "    </tr>\n",
       "    <tr>\n",
       "      <th>3</th>\n",
       "      <td>Jai Hanuman</td>\n",
       "    </tr>\n",
       "    <tr>\n",
       "      <th>4</th>\n",
       "      <td>Bholenath</td>\n",
       "    </tr>\n",
       "    <tr>\n",
       "      <th>5</th>\n",
       "      <td>Hari Narayan</td>\n",
       "    </tr>\n",
       "    <tr>\n",
       "      <th>6</th>\n",
       "      <td>Kanhaiya</td>\n",
       "    </tr>\n",
       "    <tr>\n",
       "      <th>7</th>\n",
       "      <td>Parvati ji</td>\n",
       "    </tr>\n",
       "    <tr>\n",
       "      <th>8</th>\n",
       "      <td>Mata laxmi</td>\n",
       "    </tr>\n",
       "  </tbody>\n",
       "</table>\n",
       "</div>"
      ],
      "text/plain": [
       "       My_World\n",
       "0     Shree Ram\n",
       "1     Sita Mata\n",
       "2   Lakshman ji\n",
       "3   Jai Hanuman\n",
       "4     Bholenath\n",
       "5  Hari Narayan\n",
       "6      Kanhaiya\n",
       "7    Parvati ji\n",
       "8    Mata laxmi"
      ]
     },
     "execution_count": 51,
     "metadata": {},
     "output_type": "execute_result"
    }
   ],
   "source": [
    "df"
   ]
  },
  {
   "cell_type": "code",
   "execution_count": 52,
   "id": "dfc54537-21b2-41a5-bf29-11dcf97233e5",
   "metadata": {},
   "outputs": [
    {
     "data": {
      "text/html": [
       "<div>\n",
       "<style scoped>\n",
       "    .dataframe tbody tr th:only-of-type {\n",
       "        vertical-align: middle;\n",
       "    }\n",
       "\n",
       "    .dataframe tbody tr th {\n",
       "        vertical-align: top;\n",
       "    }\n",
       "\n",
       "    .dataframe thead th {\n",
       "        text-align: right;\n",
       "    }\n",
       "</style>\n",
       "<table border=\"1\" class=\"dataframe\">\n",
       "  <thead>\n",
       "    <tr style=\"text-align: right;\">\n",
       "      <th></th>\n",
       "      <th>My_World</th>\n",
       "    </tr>\n",
       "  </thead>\n",
       "  <tbody>\n",
       "    <tr>\n",
       "      <th>0</th>\n",
       "      <td>Shree Ram</td>\n",
       "    </tr>\n",
       "    <tr>\n",
       "      <th>1</th>\n",
       "      <td>Sita Mata</td>\n",
       "    </tr>\n",
       "    <tr>\n",
       "      <th>2</th>\n",
       "      <td>Lakshman ji</td>\n",
       "    </tr>\n",
       "    <tr>\n",
       "      <th>3</th>\n",
       "      <td>Jai Hanuman</td>\n",
       "    </tr>\n",
       "    <tr>\n",
       "      <th>4</th>\n",
       "      <td>Bholenath</td>\n",
       "    </tr>\n",
       "  </tbody>\n",
       "</table>\n",
       "</div>"
      ],
      "text/plain": [
       "      My_World\n",
       "0    Shree Ram\n",
       "1    Sita Mata\n",
       "2  Lakshman ji\n",
       "3  Jai Hanuman\n",
       "4    Bholenath"
      ]
     },
     "execution_count": 52,
     "metadata": {},
     "output_type": "execute_result"
    }
   ],
   "source": [
    "df.head()"
   ]
  },
  {
   "cell_type": "code",
   "execution_count": null,
   "id": "6d4f6b13-c743-4611-ae63-a8700ce437f4",
   "metadata": {},
   "outputs": [],
   "source": [
    "head() function of pandas work for manipulating dataframe. Giving first five rows\n",
    "of selected dataframe."
   ]
  },
  {
   "cell_type": "code",
   "execution_count": 53,
   "id": "07401819-fa89-49ea-96d1-a0ec707da12b",
   "metadata": {},
   "outputs": [
    {
     "data": {
      "text/html": [
       "<div>\n",
       "<style scoped>\n",
       "    .dataframe tbody tr th:only-of-type {\n",
       "        vertical-align: middle;\n",
       "    }\n",
       "\n",
       "    .dataframe tbody tr th {\n",
       "        vertical-align: top;\n",
       "    }\n",
       "\n",
       "    .dataframe thead th {\n",
       "        text-align: right;\n",
       "    }\n",
       "</style>\n",
       "<table border=\"1\" class=\"dataframe\">\n",
       "  <thead>\n",
       "    <tr style=\"text-align: right;\">\n",
       "      <th></th>\n",
       "      <th>My_World</th>\n",
       "    </tr>\n",
       "  </thead>\n",
       "  <tbody>\n",
       "    <tr>\n",
       "      <th>0</th>\n",
       "      <td>Shree Ram</td>\n",
       "    </tr>\n",
       "    <tr>\n",
       "      <th>1</th>\n",
       "      <td>Sita Mata</td>\n",
       "    </tr>\n",
       "    <tr>\n",
       "      <th>2</th>\n",
       "      <td>Lakshman ji</td>\n",
       "    </tr>\n",
       "    <tr>\n",
       "      <th>3</th>\n",
       "      <td>Jai Hanuman</td>\n",
       "    </tr>\n",
       "    <tr>\n",
       "      <th>4</th>\n",
       "      <td>Bholenath</td>\n",
       "    </tr>\n",
       "    <tr>\n",
       "      <th>5</th>\n",
       "      <td>Hari Narayan</td>\n",
       "    </tr>\n",
       "    <tr>\n",
       "      <th>6</th>\n",
       "      <td>Kanhaiya</td>\n",
       "    </tr>\n",
       "    <tr>\n",
       "      <th>7</th>\n",
       "      <td>Parvati ji</td>\n",
       "    </tr>\n",
       "    <tr>\n",
       "      <th>8</th>\n",
       "      <td>Mata laxmi</td>\n",
       "    </tr>\n",
       "  </tbody>\n",
       "</table>\n",
       "</div>"
      ],
      "text/plain": [
       "       My_World\n",
       "0     Shree Ram\n",
       "1     Sita Mata\n",
       "2   Lakshman ji\n",
       "3   Jai Hanuman\n",
       "4     Bholenath\n",
       "5  Hari Narayan\n",
       "6      Kanhaiya\n",
       "7    Parvati ji\n",
       "8    Mata laxmi"
      ]
     },
     "execution_count": 53,
     "metadata": {},
     "output_type": "execute_result"
    }
   ],
   "source": [
    "# 2. use of iteritems() \n",
    "\n",
    "df"
   ]
  },
  {
   "cell_type": "code",
   "execution_count": 54,
   "id": "e680d15c-3bbe-4c1d-8808-afd5325a257b",
   "metadata": {},
   "outputs": [
    {
     "name": "stdout",
     "output_type": "stream",
     "text": [
      "('My_World', 0       Shree Ram\n",
      "1       Sita Mata\n",
      "2     Lakshman ji\n",
      "3     Jai Hanuman\n",
      "4       Bholenath\n",
      "5    Hari Narayan\n",
      "6        Kanhaiya\n",
      "7      Parvati ji\n",
      "8      Mata laxmi\n",
      "Name: My_World, dtype: object)\n"
     ]
    },
    {
     "name": "stderr",
     "output_type": "stream",
     "text": [
      "/tmp/ipykernel_137/3192757027.py:1: FutureWarning: iteritems is deprecated and will be removed in a future version. Use .items instead.\n",
      "  for i in df.iteritems() :\n"
     ]
    }
   ],
   "source": [
    "for i in df.iteritems() :\n",
    "    print(i)"
   ]
  },
  {
   "cell_type": "code",
   "execution_count": null,
   "id": "1fc8428f-f3ac-4aa6-8a3a-9184a6180a23",
   "metadata": {},
   "outputs": [],
   "source": [
    "iteritems() basically helps to generate the data of dataframe one by one like generator function."
   ]
  },
  {
   "cell_type": "code",
   "execution_count": 55,
   "id": "43043c40-da88-44f6-8052-38c365856eff",
   "metadata": {},
   "outputs": [
    {
     "data": {
      "text/html": [
       "<div>\n",
       "<style scoped>\n",
       "    .dataframe tbody tr th:only-of-type {\n",
       "        vertical-align: middle;\n",
       "    }\n",
       "\n",
       "    .dataframe tbody tr th {\n",
       "        vertical-align: top;\n",
       "    }\n",
       "\n",
       "    .dataframe thead th {\n",
       "        text-align: right;\n",
       "    }\n",
       "</style>\n",
       "<table border=\"1\" class=\"dataframe\">\n",
       "  <thead>\n",
       "    <tr style=\"text-align: right;\">\n",
       "      <th></th>\n",
       "      <th>My_World</th>\n",
       "    </tr>\n",
       "  </thead>\n",
       "  <tbody>\n",
       "    <tr>\n",
       "      <th>0</th>\n",
       "      <td>Shree Ram</td>\n",
       "    </tr>\n",
       "    <tr>\n",
       "      <th>1</th>\n",
       "      <td>Sita Mata</td>\n",
       "    </tr>\n",
       "    <tr>\n",
       "      <th>2</th>\n",
       "      <td>Lakshman ji</td>\n",
       "    </tr>\n",
       "    <tr>\n",
       "      <th>3</th>\n",
       "      <td>Jai Hanuman</td>\n",
       "    </tr>\n",
       "    <tr>\n",
       "      <th>4</th>\n",
       "      <td>Bholenath</td>\n",
       "    </tr>\n",
       "    <tr>\n",
       "      <th>5</th>\n",
       "      <td>Hari Narayan</td>\n",
       "    </tr>\n",
       "    <tr>\n",
       "      <th>6</th>\n",
       "      <td>Kanhaiya</td>\n",
       "    </tr>\n",
       "    <tr>\n",
       "      <th>7</th>\n",
       "      <td>Parvati ji</td>\n",
       "    </tr>\n",
       "    <tr>\n",
       "      <th>8</th>\n",
       "      <td>Mata laxmi</td>\n",
       "    </tr>\n",
       "  </tbody>\n",
       "</table>\n",
       "</div>"
      ],
      "text/plain": [
       "       My_World\n",
       "0     Shree Ram\n",
       "1     Sita Mata\n",
       "2   Lakshman ji\n",
       "3   Jai Hanuman\n",
       "4     Bholenath\n",
       "5  Hari Narayan\n",
       "6      Kanhaiya\n",
       "7    Parvati ji\n",
       "8    Mata laxmi"
      ]
     },
     "execution_count": 55,
     "metadata": {},
     "output_type": "execute_result"
    }
   ],
   "source": [
    "# 3. use of iterrows() \n",
    "\n",
    "df"
   ]
  },
  {
   "cell_type": "code",
   "execution_count": 56,
   "id": "9f5d4f6b-2ddf-4917-be6e-1f074a03b94e",
   "metadata": {},
   "outputs": [
    {
     "name": "stdout",
     "output_type": "stream",
     "text": [
      "(0, My_World    Shree Ram\n",
      "Name: 0, dtype: object)\n",
      "(1, My_World    Sita Mata\n",
      "Name: 1, dtype: object)\n",
      "(2, My_World    Lakshman ji\n",
      "Name: 2, dtype: object)\n",
      "(3, My_World    Jai Hanuman\n",
      "Name: 3, dtype: object)\n",
      "(4, My_World    Bholenath\n",
      "Name: 4, dtype: object)\n",
      "(5, My_World    Hari Narayan\n",
      "Name: 5, dtype: object)\n",
      "(6, My_World    Kanhaiya\n",
      "Name: 6, dtype: object)\n",
      "(7, My_World    Parvati ji\n",
      "Name: 7, dtype: object)\n",
      "(8, My_World    Mata laxmi\n",
      "Name: 8, dtype: object)\n"
     ]
    }
   ],
   "source": [
    "for i in df.iterrows():\n",
    "    print(i)"
   ]
  },
  {
   "cell_type": "code",
   "execution_count": 58,
   "id": "3d579ab8-e602-4766-b7f2-f04de57119a4",
   "metadata": {},
   "outputs": [],
   "source": [
    "iterrows() iterate the dataframe rows index and series wise"
   ]
  },
  {
   "cell_type": "code",
   "execution_count": null,
   "id": "4bd6e598-53d0-483a-815e-f588c3b14dda",
   "metadata": {},
   "outputs": [],
   "source": []
  },
  {
   "cell_type": "code",
   "execution_count": null,
   "id": "13359472-cc63-4524-89ee-9326ac75e4bb",
   "metadata": {},
   "outputs": [],
   "source": [
    "'''Q6. Which of the following is mutable in nature Series, DataFrame, Panel?'''"
   ]
  },
  {
   "cell_type": "code",
   "execution_count": null,
   "id": "bcba6e97-76ce-4055-9466-d9440b5eacdf",
   "metadata": {},
   "outputs": [],
   "source": [
    "#Ans.\n",
    "The Series, Dataframe, and Panel is the three data structure of pandas library. In which Dataframe and Panel is mutable\n",
    "in nature where as the Series data structure is immutable or size immutable because series is one dimentional data \n",
    "structure like homogeneous array.\n",
    "Other two data structure , data frame and panel are 2-D and multidimensional respectively. which are mutuable or can be\n",
    "changed"
   ]
  },
  {
   "cell_type": "code",
   "execution_count": null,
   "id": "186e91f8-29b0-4eb5-b7a5-ded32d6e78a2",
   "metadata": {},
   "outputs": [],
   "source": []
  },
  {
   "cell_type": "code",
   "execution_count": null,
   "id": "744093b5-5e27-4950-afc4-c2f5e5274acf",
   "metadata": {},
   "outputs": [],
   "source": [
    "'''Q7. Create a DataFrame using multiple Series. Explain with an example.'''"
   ]
  },
  {
   "cell_type": "code",
   "execution_count": null,
   "id": "8bab1c86-d1b8-411e-8e50-2bbdfb3a5057",
   "metadata": {},
   "outputs": [],
   "source": [
    "#Ans.\n",
    "Multiple series is nothing but it is a combination of one or two series"
   ]
  },
  {
   "cell_type": "code",
   "execution_count": 59,
   "id": "ed3f3ce0-35a4-41be-b757-957b9a055d19",
   "metadata": {},
   "outputs": [],
   "source": [
    "import pandas as pd"
   ]
  },
  {
   "cell_type": "code",
   "execution_count": 60,
   "id": "3ef47cad-8b53-401a-bedc-799f5d026426",
   "metadata": {},
   "outputs": [],
   "source": [
    "Names = pd.Series(['Hari Vishnu', 'Ram ji', 'Hanuman ji', 'Ujjwal'])\n",
    "Age = pd.Series(['Immortal', 'Immortal', 'Immortal', 'mortal'])\n",
    "occupation = pd.Series(['Palanhar', 'Protect universe', 'only Ram Kaaz', 'curr. Data scientist'])"
   ]
  },
  {
   "cell_type": "code",
   "execution_count": 61,
   "id": "219e5b59-cc44-46c4-ac9a-104021f33aac",
   "metadata": {},
   "outputs": [],
   "source": [
    "data = {'Names' : Names, 'Age' : Age, 'Occupation' : occupation}"
   ]
  },
  {
   "cell_type": "code",
   "execution_count": 62,
   "id": "acf800db-6851-4b27-a5f5-43ba8b1d5b43",
   "metadata": {},
   "outputs": [],
   "source": [
    "df2 = pd.DataFrame(data)"
   ]
  },
  {
   "cell_type": "code",
   "execution_count": 63,
   "id": "a70757df-f660-463a-a77b-2df4f85899d7",
   "metadata": {},
   "outputs": [
    {
     "data": {
      "text/html": [
       "<div>\n",
       "<style scoped>\n",
       "    .dataframe tbody tr th:only-of-type {\n",
       "        vertical-align: middle;\n",
       "    }\n",
       "\n",
       "    .dataframe tbody tr th {\n",
       "        vertical-align: top;\n",
       "    }\n",
       "\n",
       "    .dataframe thead th {\n",
       "        text-align: right;\n",
       "    }\n",
       "</style>\n",
       "<table border=\"1\" class=\"dataframe\">\n",
       "  <thead>\n",
       "    <tr style=\"text-align: right;\">\n",
       "      <th></th>\n",
       "      <th>Names</th>\n",
       "      <th>Age</th>\n",
       "      <th>Occupation</th>\n",
       "    </tr>\n",
       "  </thead>\n",
       "  <tbody>\n",
       "    <tr>\n",
       "      <th>0</th>\n",
       "      <td>Hari Vishnu</td>\n",
       "      <td>Immortal</td>\n",
       "      <td>Palanhar</td>\n",
       "    </tr>\n",
       "    <tr>\n",
       "      <th>1</th>\n",
       "      <td>Ram ji</td>\n",
       "      <td>Immortal</td>\n",
       "      <td>Protect universe</td>\n",
       "    </tr>\n",
       "    <tr>\n",
       "      <th>2</th>\n",
       "      <td>Hanuman ji</td>\n",
       "      <td>Immortal</td>\n",
       "      <td>only Ram Kaaz</td>\n",
       "    </tr>\n",
       "    <tr>\n",
       "      <th>3</th>\n",
       "      <td>Ujjwal</td>\n",
       "      <td>mortal</td>\n",
       "      <td>curr. Data scientist</td>\n",
       "    </tr>\n",
       "  </tbody>\n",
       "</table>\n",
       "</div>"
      ],
      "text/plain": [
       "         Names       Age            Occupation\n",
       "0  Hari Vishnu  Immortal              Palanhar\n",
       "1       Ram ji  Immortal      Protect universe\n",
       "2   Hanuman ji  Immortal         only Ram Kaaz\n",
       "3       Ujjwal    mortal  curr. Data scientist"
      ]
     },
     "execution_count": 63,
     "metadata": {},
     "output_type": "execute_result"
    }
   ],
   "source": [
    "df2"
   ]
  },
  {
   "cell_type": "code",
   "execution_count": null,
   "id": "0c07732e-74ed-4896-adfc-30303be0773a",
   "metadata": {},
   "outputs": [],
   "source": []
  },
  {
   "cell_type": "code",
   "execution_count": null,
   "id": "5988b0af-2625-41f9-8daa-d2b15ec40ed4",
   "metadata": {},
   "outputs": [],
   "source": [
    "                        ◦•●◉✿ ❤️️' 𝐉 𝐀 𝐈   𝐒 𝐇 𝐑 𝐄 𝐄   𝐇 𝐀 𝐑 𝐈   𝐕 𝐈 𝐒 𝐇 𝐍 𝐔 '❤️ ✿◉●•◦"
   ]
  }
 ],
 "metadata": {
  "kernelspec": {
   "display_name": "Python 3 (ipykernel)",
   "language": "python",
   "name": "python3"
  },
  "language_info": {
   "codemirror_mode": {
    "name": "ipython",
    "version": 3
   },
   "file_extension": ".py",
   "mimetype": "text/x-python",
   "name": "python",
   "nbconvert_exporter": "python",
   "pygments_lexer": "ipython3",
   "version": "3.10.8"
  }
 },
 "nbformat": 4,
 "nbformat_minor": 5
}
