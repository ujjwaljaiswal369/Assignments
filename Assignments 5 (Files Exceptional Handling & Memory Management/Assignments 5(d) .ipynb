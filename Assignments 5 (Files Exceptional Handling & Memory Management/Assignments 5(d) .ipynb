{
 "cells": [
  {
   "cell_type": "markdown",
   "id": "34c0dfff-eca1-4eb0-a6e5-80649ac62ba7",
   "metadata": {},
   "source": [
    "Multiprocessing"
   ]
  },
  {
   "cell_type": "code",
   "execution_count": null,
   "id": "92b9c82b-2e78-4e06-ab81-a559a22ba84b",
   "metadata": {},
   "outputs": [],
   "source": [
    "'''Q1. What is multiprocessing in python? Why is it useful?'''"
   ]
  },
  {
   "cell_type": "code",
   "execution_count": null,
   "id": "2295fa8b-e623-48ca-b4d0-468ca4f59f85",
   "metadata": {},
   "outputs": [],
   "source": [
    "#Ans.\n",
    "Multiprocessing in python is an ability of system which allows to run multiple files simultaneously. It will enable the\n",
    "breaking of applications into smaller threads to run independently.\n",
    "\n",
    "Multiprocessing helps in time utilization by using more than one processor in system. It also helps in boost perfomance \n",
    "of multiple CPUs within a single computer. Generally,It will be challenging when different operations are perform in a\n",
    "single process. Thats why multiprocessing is used to get rid of from this probelm it is like employees peroform different tasks\n",
    "in a company in a single time. The smaller task threads act like different employees, making it easier to handle and \n",
    "manage various processes"
   ]
  },
  {
   "cell_type": "code",
   "execution_count": null,
   "id": "838b7ce7-95b4-4138-bb2b-eb05a4b6f3f3",
   "metadata": {},
   "outputs": [],
   "source": []
  },
  {
   "cell_type": "code",
   "execution_count": null,
   "id": "a6ea853b-d1fe-4a73-bdb5-4d99c9d4b57c",
   "metadata": {},
   "outputs": [],
   "source": [
    "'''Q2. What are the differences between multiprocessing and multithreading?'''"
   ]
  },
  {
   "cell_type": "code",
   "execution_count": null,
   "id": "2ac864e1-faf0-4058-a728-ac3a40184514",
   "metadata": {},
   "outputs": [],
   "source": [
    "#Ans.\n",
    "Multiprocessing = Multiprocessing is the ability which allows to run multiple files simultaneouly. It uses multiple \n",
    "                  processes to perform task in less time.\n",
    "    \n",
    "Multithreading = Multithreading is defined as the ability of a processor to execute multiple threads concurrently.\n",
    "    \n",
    "    \n",
    "    \n",
    "Differnece between Multiprocessing and Multithreading :\n",
    "    \n",
    "1. In multiproccessing CPUs are added for increasing computing power while In multithreading , many threads are \n",
    "   created of a single process for increasing computing power.\n",
    "    \n",
    "2. In multiprocessing many processes executed simultaneouly while multithreading execute many threads in a single process\n",
    "   simultaneously.\n",
    "    \n",
    "3. Multiprocessing is classified in to two categories Symmetric multiprocessing and Asymmetric multiprocessing but \n",
    "   multithreading not classified like multiprocessing.\n",
    "    \n",
    "4. In multiprocessing creation of process is a time consuming while in multithreading process creation is economical.\n",
    "\n",
    "5. Multiprocessing, every process have owned a seperate address space but in multithreading threads have common address \n",
    "   space."
   ]
  },
  {
   "cell_type": "code",
   "execution_count": null,
   "id": "cdf0c60b-ea82-4864-9464-f7dfa087289d",
   "metadata": {},
   "outputs": [],
   "source": []
  },
  {
   "cell_type": "code",
   "execution_count": null,
   "id": "65dda589-1ca8-44c4-bc36-4eb3394aa92b",
   "metadata": {},
   "outputs": [],
   "source": [
    "'''Q3. Write a python code to create a process using the multiprocessing module.'''"
   ]
  },
  {
   "cell_type": "code",
   "execution_count": 4,
   "id": "65e8592c-002a-404a-ad29-911208dbe8f1",
   "metadata": {},
   "outputs": [],
   "source": [
    "#Ans.\n",
    "import multiprocessing"
   ]
  },
  {
   "cell_type": "code",
   "execution_count": 5,
   "id": "1b934bf2-b79d-43cb-9649-088b21f3c1d3",
   "metadata": {},
   "outputs": [
    {
     "name": "stdout",
     "output_type": "stream",
     "text": [
      "[1, 4, 9, 16, 25, 36, 49]\n"
     ]
    }
   ],
   "source": [
    "def square(index, value):\n",
    "    value[index] = value[index]**2\n",
    "    \n",
    "if __name__ == '__main__' :\n",
    "    arr = multiprocessing.Array('i', [1,2,3,4,5,6,7])\n",
    "    process = []\n",
    "    for i in range(7):\n",
    "        m = multiprocessing.Process(target = square , args = (i,arr))\n",
    "        process.append(m)\n",
    "        m.start()\n",
    "    for m in process:\n",
    "        m.join()\n",
    "    print(list(arr))"
   ]
  },
  {
   "cell_type": "code",
   "execution_count": null,
   "id": "94463c13-f86d-486b-b158-ed520f130387",
   "metadata": {},
   "outputs": [],
   "source": []
  },
  {
   "cell_type": "code",
   "execution_count": null,
   "id": "6dbf10b6-9787-43f4-af04-d1dc27f24450",
   "metadata": {},
   "outputs": [],
   "source": [
    "'''Q4. What is a multiprocessing pool in python? Why is it used?'''"
   ]
  },
  {
   "cell_type": "code",
   "execution_count": null,
   "id": "609ae6eb-5a3b-43d9-936b-ce37ef2d2155",
   "metadata": {},
   "outputs": [],
   "source": [
    "#Ans.\n",
    "Multiprocessing Pool in python is a function of multiprocessing module which can be used for parallel execution of a \n",
    "function across multiple input values, distributing the input data across processes (data parallelism)."
   ]
  },
  {
   "cell_type": "code",
   "execution_count": 6,
   "id": "fa1879a7-c9b2-4bdd-8fb0-e6aa0e6f437e",
   "metadata": {},
   "outputs": [
    {
     "name": "stdout",
     "output_type": "stream",
     "text": [
      "[1, 4, 9, 16, 25, 36, 49, 64, 81, 144]\n"
     ]
    }
   ],
   "source": [
    "#Ex\n",
    "\n",
    "def square(n):\n",
    "    return n**2\n",
    "\n",
    "if __name__  == '__main__' :\n",
    "    with multiprocessing.Pool(processes= 12) as pool:\n",
    "        out = pool.map(square,[1,2,3,4,5,6,7,8,9,12])\n",
    "        print(out)"
   ]
  },
  {
   "cell_type": "code",
   "execution_count": null,
   "id": "42a9d895-edf2-4cb5-8ace-a242791c4b65",
   "metadata": {},
   "outputs": [],
   "source": []
  },
  {
   "cell_type": "code",
   "execution_count": null,
   "id": "be1ef012-6a27-4ee1-9d48-a4a44baf62b5",
   "metadata": {},
   "outputs": [],
   "source": [
    "'''Q5. How can we create a pool of worker processes in python using the multiprocessing module?'''"
   ]
  },
  {
   "cell_type": "code",
   "execution_count": null,
   "id": "aeef783a-43c8-4a7c-be78-aa4f4b7028c7",
   "metadata": {},
   "outputs": [],
   "source": [
    "#Ans.\n",
    "The Pool class allows you to distribute tasks among multiple worker processes, utilizing the available CPU cores and \n",
    "speeding up the execution of parallelizable tasks."
   ]
  },
  {
   "cell_type": "code",
   "execution_count": 1,
   "id": "1159b31e-6ab9-465d-b9ab-cf234e429416",
   "metadata": {},
   "outputs": [
    {
     "name": "stdout",
     "output_type": "stream",
     "text": [
      "[2, 4, 6, 8, 10]\n"
     ]
    }
   ],
   "source": [
    "import multiprocessing\n",
    "\n",
    "# Define a function to be executed by each worker process\n",
    "def worker_function(task):\n",
    "    # Perform some computation or task here\n",
    "    result = task * 2\n",
    "    return result\n",
    "\n",
    "if __name__ == '__main__':\n",
    "    # Create a Pool object with the desired number of worker processes\n",
    "    num_processes = multiprocessing.cpu_count()  # Number of available CPU cores\n",
    "    pool = multiprocessing.Pool(processes=num_processes)\n",
    "\n",
    "    # Define a list of tasks to be executed in parallel\n",
    "    tasks = [1, 2, 3, 4, 5]\n",
    "\n",
    "    # Apply the worker function to the tasks using the pool of worker processes\n",
    "    results = pool.map(worker_function, tasks)\n",
    "\n",
    "    # Close the pool and wait for the worker processes to finish\n",
    "    pool.close()\n",
    "    pool.join()\n",
    "\n",
    "    # Process the results\n",
    "    print(results)"
   ]
  },
  {
   "cell_type": "code",
   "execution_count": null,
   "id": "bf840a67-6b1a-45a5-b549-eed15d842062",
   "metadata": {},
   "outputs": [],
   "source": []
  },
  {
   "cell_type": "code",
   "execution_count": null,
   "id": "a28e8ae1-6d58-4356-a55c-a679f4bee1bd",
   "metadata": {},
   "outputs": [],
   "source": [
    "'''Q6. Write a python program to create 4 processes, each process should print a different number using the \n",
    "       multiprocessing module in python.'''"
   ]
  },
  {
   "cell_type": "code",
   "execution_count": 2,
   "id": "af5b4862-3009-48d7-8951-6b36069becfb",
   "metadata": {},
   "outputs": [
    {
     "name": "stdout",
     "output_type": "stream",
     "text": [
      "Process ID: 421Number:Process ID:\n",
      " 424 Process ID:\n",
      "0 \n",
      "Number:433 \n",
      "Process ID:Number:1 \n",
      " 2454\n",
      "\n",
      "Number: 3\n"
     ]
    }
   ],
   "source": [
    "#Ans.\n",
    "import multiprocessing\n",
    "\n",
    "def print_number(number):\n",
    "    print(\"Process ID:\", multiprocessing.current_process().pid)\n",
    "    print(\"Number:\", number)\n",
    "\n",
    "if __name__ == '__main__':\n",
    "    processes = []\n",
    "\n",
    "    for i in range(4):\n",
    "        # Create a new process and assign a number to it\n",
    "        process = multiprocessing.Process(target=print_number, args=(i,))\n",
    "        processes.append(process)\n",
    "        process.start()\n",
    "\n",
    "    # Wait for all processes to finish\n",
    "    for process in processes:\n",
    "        process.join()"
   ]
  },
  {
   "cell_type": "code",
   "execution_count": null,
   "id": "0a7578f9-c9e3-4c69-b83d-9235508fb553",
   "metadata": {},
   "outputs": [],
   "source": []
  },
  {
   "cell_type": "code",
   "execution_count": null,
   "id": "f092a57a-12dd-4ae0-815a-86f9d7ad87ef",
   "metadata": {},
   "outputs": [],
   "source": [
    "                                 ◦•●◉✿ ❤️️' 𝐉 𝐀 𝐈   𝐒 𝐇 𝐑 𝐄 𝐄   𝐇 𝐀 𝐑 𝐈   𝐕 𝐈 𝐒 𝐇 𝐍 𝐔 '❤️ ✿◉●•◦"
   ]
  }
 ],
 "metadata": {
  "kernelspec": {
   "display_name": "Python 3 (ipykernel)",
   "language": "python",
   "name": "python3"
  },
  "language_info": {
   "codemirror_mode": {
    "name": "ipython",
    "version": 3
   },
   "file_extension": ".py",
   "mimetype": "text/x-python",
   "name": "python",
   "nbconvert_exporter": "python",
   "pygments_lexer": "ipython3",
   "version": "3.10.8"
  }
 },
 "nbformat": 4,
 "nbformat_minor": 5
}
