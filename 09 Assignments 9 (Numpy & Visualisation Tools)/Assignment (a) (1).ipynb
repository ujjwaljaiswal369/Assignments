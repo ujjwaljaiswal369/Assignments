{
 "cells": [
  {
   "cell_type": "markdown",
   "id": "d790d6f7-b14b-4694-b2db-6073ab5416d4",
   "metadata": {},
   "source": [
    "Numpy Basic"
   ]
  },
  {
   "cell_type": "code",
   "execution_count": 2,
   "id": "ab17e767-0085-4107-85b4-86d3901b0901",
   "metadata": {},
   "outputs": [],
   "source": [
    "#Consider the below code to answer further questions:\n",
    "\n",
    "import numpy as np\n",
    "list_ = ['1','2','3','4','5']\n",
    "array_list = np.array(object = list_)"
   ]
  },
  {
   "cell_type": "code",
   "execution_count": 3,
   "id": "feeac4da-cc49-44b3-890f-afaa4396df2b",
   "metadata": {},
   "outputs": [
    {
     "data": {
      "text/plain": [
       "array(['1', '2', '3', '4', '5'], dtype='<U1')"
      ]
     },
     "execution_count": 3,
     "metadata": {},
     "output_type": "execute_result"
    }
   ],
   "source": [
    "array_list"
   ]
  },
  {
   "cell_type": "code",
   "execution_count": null,
   "id": "29ceeacd-d890-4e9c-89e1-b55919f5c5c9",
   "metadata": {},
   "outputs": [],
   "source": []
  },
  {
   "cell_type": "code",
   "execution_count": null,
   "id": "e2be4a65-9e50-4c48-b888-0cf1e50ae2b5",
   "metadata": {},
   "outputs": [],
   "source": [
    "'''Q1. Is there any difference in the data type of variables list_ and array_list? If there is then write a code to\n",
    "       print the data types of both the variables.'''"
   ]
  },
  {
   "cell_type": "code",
   "execution_count": null,
   "id": "10fc051d-fa79-4749-aa22-deda7747c5e6",
   "metadata": {},
   "outputs": [],
   "source": [
    "#Ans.\n",
    "Yes, there is difference in data types of variables list_ and array_list because list_ is a variable of python list which\n",
    "containing integer in string form and his data type is 'list'.\n",
    "Whereas array_list is a numpy array which data type is different from list. and its data type is 'numpy.ndarray'."
   ]
  },
  {
   "cell_type": "code",
   "execution_count": 6,
   "id": "a2bbb4c3-b5a7-4c4b-ae00-60c64070d446",
   "metadata": {},
   "outputs": [
    {
     "name": "stdout",
     "output_type": "stream",
     "text": [
      "Data type of list_ is <class 'list'>\n"
     ]
    }
   ],
   "source": [
    "print('Data type of list_ is {}'.format(type(list_)))"
   ]
  },
  {
   "cell_type": "code",
   "execution_count": 7,
   "id": "72825369-36c7-4ad5-8ad0-ca6ee09da674",
   "metadata": {},
   "outputs": [
    {
     "name": "stdout",
     "output_type": "stream",
     "text": [
      "Data type of array_list is <class 'numpy.ndarray'>\n"
     ]
    }
   ],
   "source": [
    "print('Data type of array_list is {}'.format(type(array_list)))"
   ]
  },
  {
   "cell_type": "code",
   "execution_count": null,
   "id": "afc93863-54da-4d47-a651-390a5f7c6ab2",
   "metadata": {},
   "outputs": [],
   "source": []
  },
  {
   "cell_type": "code",
   "execution_count": null,
   "id": "5fc6100e-c75b-4852-8fd3-d4f9eb136b2c",
   "metadata": {},
   "outputs": [],
   "source": [
    "'''Q2. Write a code to print the data type of each and every element of both the variables list_ and arra_list.'''"
   ]
  },
  {
   "cell_type": "code",
   "execution_count": 8,
   "id": "fad88a7d-bf80-4fb9-bf37-1ae9b92d9bb4",
   "metadata": {},
   "outputs": [
    {
     "data": {
      "text/plain": [
       "['1', '2', '3', '4', '5']"
      ]
     },
     "execution_count": 8,
     "metadata": {},
     "output_type": "execute_result"
    }
   ],
   "source": [
    "#Ans.\n",
    "\n",
    "#Variable list\n",
    "list_ "
   ]
  },
  {
   "cell_type": "code",
   "execution_count": 9,
   "id": "39b74256-6c1d-4dc6-aecc-213b1d04d345",
   "metadata": {},
   "outputs": [
    {
     "data": {
      "text/plain": [
       "array(['1', '2', '3', '4', '5'], dtype='<U1')"
      ]
     },
     "execution_count": 9,
     "metadata": {},
     "output_type": "execute_result"
    }
   ],
   "source": [
    "#Array list\n",
    "array_list"
   ]
  },
  {
   "cell_type": "code",
   "execution_count": 10,
   "id": "0c026cd2-a89a-41c2-b4d8-a9659782b1da",
   "metadata": {},
   "outputs": [
    {
     "name": "stdout",
     "output_type": "stream",
     "text": [
      "<class 'str'>\n",
      "<class 'str'>\n",
      "<class 'str'>\n",
      "<class 'str'>\n",
      "<class 'str'>\n"
     ]
    }
   ],
   "source": [
    "#each element's data type of variable list_\n",
    "for i in list_ :\n",
    "    print(type(i))"
   ]
  },
  {
   "cell_type": "code",
   "execution_count": 11,
   "id": "cabaea5e-4f6b-4bfc-a54d-82942c90887c",
   "metadata": {},
   "outputs": [
    {
     "name": "stdout",
     "output_type": "stream",
     "text": [
      "<class 'numpy.str_'>\n",
      "<class 'numpy.str_'>\n",
      "<class 'numpy.str_'>\n",
      "<class 'numpy.str_'>\n",
      "<class 'numpy.str_'>\n"
     ]
    }
   ],
   "source": [
    "#each elememt's data type of array_list\n",
    "for i in  array_list:\n",
    "    print(type(i))"
   ]
  },
  {
   "cell_type": "code",
   "execution_count": null,
   "id": "e028b33c-ec05-46ae-bbae-c6c7e5b36777",
   "metadata": {},
   "outputs": [],
   "source": []
  },
  {
   "cell_type": "code",
   "execution_count": null,
   "id": "4731fa4e-0e02-4bfc-8747-744c12447ab5",
   "metadata": {},
   "outputs": [],
   "source": [
    "'''Q3. Considering the following changes in the variable, array_list:\n",
    "\n",
    "       array_list = np.array(object = list_, dtype = int)\n",
    "       \n",
    "       Will there be any difference in the data type of the elements present in both the variables, list_ and\n",
    "       arra_list? If so then print the data types of each and every element present in both the variables, list_\n",
    "       and arra_list.'''"
   ]
  },
  {
   "cell_type": "code",
   "execution_count": null,
   "id": "cd26e8ce-b230-46d2-b7ce-d3c1c61f85ad",
   "metadata": {},
   "outputs": [],
   "source": [
    "#Ans.\n",
    "Yes, there is difference in both variables array_list and list_ , after applying condition in array_list variable. \n",
    "array_list elements data type is changed from string to int64 and data type of element of list_ is same (string) . So \n",
    "there is difference in data types of elements."
   ]
  },
  {
   "cell_type": "code",
   "execution_count": 12,
   "id": "1932f1e5-f99f-4a1b-b406-5e3b91387d12",
   "metadata": {},
   "outputs": [],
   "source": [
    "#modified array_list \n",
    "array_list = np.array(object = list_, dtype = int)"
   ]
  },
  {
   "cell_type": "code",
   "execution_count": 13,
   "id": "7b9c5594-95fe-43f1-ab77-d6d9d2078036",
   "metadata": {},
   "outputs": [
    {
     "data": {
      "text/plain": [
       "array([1, 2, 3, 4, 5])"
      ]
     },
     "execution_count": 13,
     "metadata": {},
     "output_type": "execute_result"
    }
   ],
   "source": [
    "array_list"
   ]
  },
  {
   "cell_type": "code",
   "execution_count": 14,
   "id": "90dda2e7-a180-45d2-928a-1d8bae2fd3b0",
   "metadata": {},
   "outputs": [
    {
     "data": {
      "text/plain": [
       "['1', '2', '3', '4', '5']"
      ]
     },
     "execution_count": 14,
     "metadata": {},
     "output_type": "execute_result"
    }
   ],
   "source": [
    "# variable list\n",
    "list_"
   ]
  },
  {
   "cell_type": "code",
   "execution_count": 17,
   "id": "c9c64444-9fa1-4022-8b31-407bb3d42191",
   "metadata": {},
   "outputs": [
    {
     "name": "stdout",
     "output_type": "stream",
     "text": [
      "<class 'numpy.int64'>\n",
      "<class 'numpy.int64'>\n",
      "<class 'numpy.int64'>\n",
      "<class 'numpy.int64'>\n",
      "<class 'numpy.int64'>\n"
     ]
    }
   ],
   "source": [
    "#data type of elements of array_list variable\n",
    "for elements in array_list :\n",
    "    print(type(elements))"
   ]
  },
  {
   "cell_type": "code",
   "execution_count": 18,
   "id": "28168330-4477-4d7e-9c95-b8302ec79da4",
   "metadata": {},
   "outputs": [
    {
     "name": "stdout",
     "output_type": "stream",
     "text": [
      "<class 'str'>\n",
      "<class 'str'>\n",
      "<class 'str'>\n",
      "<class 'str'>\n",
      "<class 'str'>\n"
     ]
    }
   ],
   "source": [
    "#data type of elements of list_ variable\n",
    "for elements in list_ :\n",
    "    print(type(elements))"
   ]
  },
  {
   "cell_type": "code",
   "execution_count": null,
   "id": "d200cd29-e120-43d0-84ae-03002adf5cb9",
   "metadata": {},
   "outputs": [],
   "source": [
    "'''Consider the below code to answer further questions:\n",
    "    import numpy as np\n",
    "    num_list = [ [ 1 , 2 , 3 ] , [ 4 , 5 , 6 ] ]\n",
    "    num_array = np.array(object = num_list)'''"
   ]
  },
  {
   "cell_type": "code",
   "execution_count": 19,
   "id": "f0e20fc9-881f-4677-b46f-c6363a5b3c72",
   "metadata": {},
   "outputs": [],
   "source": [
    "import numpy as np\n",
    "num_list = [ [ 1 , 2 , 3 ] , [ 4 , 5 , 6 ] ]\n",
    "num_array = np.array(object = num_list)"
   ]
  },
  {
   "cell_type": "code",
   "execution_count": 23,
   "id": "ac7f35f9-c09f-4a76-ba65-2612d9d516d6",
   "metadata": {},
   "outputs": [
    {
     "data": {
      "text/plain": [
       "[[1, 2, 3], [4, 5, 6]]"
      ]
     },
     "execution_count": 23,
     "metadata": {},
     "output_type": "execute_result"
    }
   ],
   "source": [
    "num_list"
   ]
  },
  {
   "cell_type": "code",
   "execution_count": 21,
   "id": "22113708-d59d-4184-8371-968f59d01711",
   "metadata": {},
   "outputs": [
    {
     "data": {
      "text/plain": [
       "array([[1, 2, 3],\n",
       "       [4, 5, 6]])"
      ]
     },
     "execution_count": 21,
     "metadata": {},
     "output_type": "execute_result"
    }
   ],
   "source": [
    "num_array"
   ]
  },
  {
   "cell_type": "code",
   "execution_count": 24,
   "id": "d736c96f-7775-404a-844f-b16b95aa6274",
   "metadata": {},
   "outputs": [
    {
     "name": "stdout",
     "output_type": "stream",
     "text": [
      "<class 'int'>\n",
      "<class 'int'>\n",
      "<class 'int'>\n",
      "<class 'int'>\n",
      "<class 'int'>\n",
      "<class 'int'>\n"
     ]
    }
   ],
   "source": [
    "#element's data type of num_list\n",
    "for lis in num_list :\n",
    "    for element in lis :\n",
    "        print(type(element))"
   ]
  },
  {
   "cell_type": "code",
   "execution_count": 28,
   "id": "5c534782-7d76-4d74-a4e4-86c73f1851bd",
   "metadata": {},
   "outputs": [
    {
     "name": "stdout",
     "output_type": "stream",
     "text": [
      "<class 'numpy.int64'>\n",
      "<class 'numpy.int64'>\n",
      "<class 'numpy.int64'>\n",
      "<class 'numpy.int64'>\n",
      "<class 'numpy.int64'>\n",
      "<class 'numpy.int64'>\n"
     ]
    }
   ],
   "source": [
    "#element's data type of num_array\n",
    "for array in num_array:\n",
    "    for element in i :\n",
    "        print(type(element))"
   ]
  },
  {
   "cell_type": "code",
   "execution_count": null,
   "id": "74bfbfbc-b58b-435f-bf6c-4cd41936df7b",
   "metadata": {},
   "outputs": [],
   "source": [
    "There is no any difference in data type of elements of both variables num_list and num_array because both variables \n",
    "contain same type of element (int data)."
   ]
  },
  {
   "cell_type": "code",
   "execution_count": null,
   "id": "9a061192-5064-40f3-9de2-72640bc97ca5",
   "metadata": {},
   "outputs": [],
   "source": []
  },
  {
   "cell_type": "code",
   "execution_count": null,
   "id": "ea5d01f6-e9fc-42dc-9468-9835ab0e9d96",
   "metadata": {},
   "outputs": [],
   "source": [
    "'''Q4. Write a code to find the following characteristics of variable, num_array:\n",
    "    (i) shape\n",
    "    (ii) size'''"
   ]
  },
  {
   "cell_type": "code",
   "execution_count": 29,
   "id": "58caed61-29ed-4d34-8a1f-16ba24f9ab5c",
   "metadata": {},
   "outputs": [
    {
     "data": {
      "text/plain": [
       "array([[1, 2, 3],\n",
       "       [4, 5, 6]])"
      ]
     },
     "execution_count": 29,
     "metadata": {},
     "output_type": "execute_result"
    }
   ],
   "source": [
    "#Ans.\n",
    "num_array"
   ]
  },
  {
   "cell_type": "code",
   "execution_count": null,
   "id": "8153ab68-451f-42c0-b8b0-74989a13485c",
   "metadata": {},
   "outputs": [],
   "source": [
    "#(i) shape\n",
    "Shape function in numpy describe about the shape of array by showing the rows and columns present in array."
   ]
  },
  {
   "cell_type": "code",
   "execution_count": 33,
   "id": "ee1e29c8-ad2f-4481-b006-6789222ce54d",
   "metadata": {},
   "outputs": [
    {
     "data": {
      "text/plain": [
       "(2, 3)"
      ]
     },
     "execution_count": 33,
     "metadata": {},
     "output_type": "execute_result"
    }
   ],
   "source": [
    "np.shape(num_array)"
   ]
  },
  {
   "cell_type": "code",
   "execution_count": null,
   "id": "8059dc72-8252-4561-a4d9-576886452d0d",
   "metadata": {},
   "outputs": [],
   "source": [
    "#(ii) size\n",
    "Size function in numpy library describe about the size of array by showing the number of elements present in array."
   ]
  },
  {
   "cell_type": "code",
   "execution_count": 34,
   "id": "10ddd1bd-3e80-4d83-90a8-2a687dcdf928",
   "metadata": {},
   "outputs": [
    {
     "data": {
      "text/plain": [
       "6"
      ]
     },
     "execution_count": 34,
     "metadata": {},
     "output_type": "execute_result"
    }
   ],
   "source": [
    "np.size(num_array)"
   ]
  },
  {
   "cell_type": "code",
   "execution_count": null,
   "id": "cf3c5d58-ef40-49d9-9d2f-d6d71c3a53b6",
   "metadata": {},
   "outputs": [],
   "source": []
  },
  {
   "cell_type": "code",
   "execution_count": null,
   "id": "51dd5fdb-f1d5-4faa-8d78-b67fc3b0885b",
   "metadata": {},
   "outputs": [],
   "source": [
    "'''Q5. Write a code to create numpy array of 3*3 matrix containing zeros only, using a numpy array creation function.'''"
   ]
  },
  {
   "cell_type": "code",
   "execution_count": 51,
   "id": "b4b26d85-1d20-4073-b588-ac0ef00a1142",
   "metadata": {},
   "outputs": [],
   "source": [
    "#Ans.\n",
    "import numpy.matlib as nm"
   ]
  },
  {
   "cell_type": "code",
   "execution_count": 54,
   "id": "e9c8b720-b8a9-4290-a39e-d02fcfdf3f50",
   "metadata": {},
   "outputs": [],
   "source": [
    "m = nm.zeros((3,3))"
   ]
  },
  {
   "cell_type": "code",
   "execution_count": 55,
   "id": "6bcdc007-5892-40f4-bfa2-bc4798ecc724",
   "metadata": {},
   "outputs": [
    {
     "data": {
      "text/plain": [
       "matrix([[0., 0., 0.],\n",
       "        [0., 0., 0.],\n",
       "        [0., 0., 0.]])"
      ]
     },
     "execution_count": 55,
     "metadata": {},
     "output_type": "execute_result"
    }
   ],
   "source": [
    "m"
   ]
  },
  {
   "cell_type": "code",
   "execution_count": 56,
   "id": "7dd925a7-5967-47ec-ab7a-f7e9b3310327",
   "metadata": {},
   "outputs": [
    {
     "data": {
      "text/plain": [
       "9"
      ]
     },
     "execution_count": 56,
     "metadata": {},
     "output_type": "execute_result"
    }
   ],
   "source": [
    "nm.size(m)"
   ]
  },
  {
   "cell_type": "code",
   "execution_count": 57,
   "id": "56da7f1f-43dc-453b-b9c7-266c68aec4c1",
   "metadata": {},
   "outputs": [
    {
     "data": {
      "text/plain": [
       "(3, 3)"
      ]
     },
     "execution_count": 57,
     "metadata": {},
     "output_type": "execute_result"
    }
   ],
   "source": [
    "nm.shape(m)"
   ]
  },
  {
   "cell_type": "code",
   "execution_count": null,
   "id": "fef7292e-8646-45e2-97a5-357af1b1e8f9",
   "metadata": {},
   "outputs": [],
   "source": []
  },
  {
   "cell_type": "code",
   "execution_count": null,
   "id": "93c49e99-a448-4dbc-ac3c-47d82f435917",
   "metadata": {},
   "outputs": [],
   "source": [
    "'''Q6. Create an identity matrix of shape (5,5) using numpy functions?'''"
   ]
  },
  {
   "cell_type": "code",
   "execution_count": 58,
   "id": "18110d3e-0377-4c82-a045-541addacb60b",
   "metadata": {},
   "outputs": [],
   "source": [
    "#Ans.\n",
    "import numpy.matlib as nm"
   ]
  },
  {
   "cell_type": "code",
   "execution_count": 60,
   "id": "d69727af-e1b0-4422-a880-a77bc718237e",
   "metadata": {},
   "outputs": [
    {
     "data": {
      "text/plain": [
       "matrix([[1., 0., 0., 0., 0.],\n",
       "        [0., 1., 0., 0., 0.],\n",
       "        [0., 0., 1., 0., 0.],\n",
       "        [0., 0., 0., 1., 0.],\n",
       "        [0., 0., 0., 0., 1.]])"
      ]
     },
     "execution_count": 60,
     "metadata": {},
     "output_type": "execute_result"
    }
   ],
   "source": [
    "#identity matrix\n",
    "nm.eye(5,5)"
   ]
  },
  {
   "cell_type": "code",
   "execution_count": null,
   "id": "58538dae-240f-4d75-aa53-d4864d0840c6",
   "metadata": {},
   "outputs": [],
   "source": []
  },
  {
   "cell_type": "code",
   "execution_count": null,
   "id": "a361a48c-b8e1-47d5-997e-9a1e1758f54f",
   "metadata": {},
   "outputs": [],
   "source": [
    "                         ◦•●◉✿ ❤️️' 𝐉 𝐀 𝐈   𝐒 𝐇 𝐑 𝐄 𝐄   𝐇 𝐀 𝐑 𝐈   𝐕 𝐈 𝐒 𝐇 𝐍 𝐔 '❤️ ✿◉●•◦"
   ]
  }
 ],
 "metadata": {
  "kernelspec": {
   "display_name": "Python 3 (ipykernel)",
   "language": "python",
   "name": "python3"
  },
  "language_info": {
   "codemirror_mode": {
    "name": "ipython",
    "version": 3
   },
   "file_extension": ".py",
   "mimetype": "text/x-python",
   "name": "python",
   "nbconvert_exporter": "python",
   "pygments_lexer": "ipython3",
   "version": "3.10.8"
  }
 },
 "nbformat": 4,
 "nbformat_minor": 5
}
