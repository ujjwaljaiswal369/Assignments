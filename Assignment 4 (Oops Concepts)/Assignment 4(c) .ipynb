{
 "cells": [
  {
   "cell_type": "code",
   "execution_count": null,
   "id": "21109ddb-a77e-4038-af93-6dc629fcf27b",
   "metadata": {},
   "outputs": [],
   "source": [
    "'''Q1. What is Abstraction in OOps? Explain with an example.'''"
   ]
  },
  {
   "cell_type": "code",
   "execution_count": null,
   "id": "3de843be-b8aa-4b63-ba39-e21f670b5075",
   "metadata": {},
   "outputs": [],
   "source": [
    "#Ans. \n",
    "Abstraction = In Oops , Abstraction is the method in which we can abstract a method \n",
    "              by creating a blueprint or a skeleton of class by import abc tool. \n",
    "              to make abstract method we use in build function 'abstract method' at \n",
    "              every method in blueprint or skeleton.\n",
    "              After creating abstract method in class we can access methods in another\n",
    "              class by pressing tab button after inherit the skelton in required class.\n",
    "              In simple words,''' Abstraction is defined as the process of handling the\n",
    "                complexity by hiding the unnecessary information from the user. '''"
   ]
  },
  {
   "cell_type": "code",
   "execution_count": 17,
   "id": "154f3b0f-4e9c-4bf2-9849-df803da5a441",
   "metadata": {},
   "outputs": [],
   "source": [
    "import abc\n",
    "\n",
    "class shree_ram :\n",
    "    \n",
    "    @abc.abstractmethod\n",
    "    def Hanuman (self):\n",
    "        pass\n",
    "    \n",
    "    @abc.abstractmethod\n",
    "    def ujjwal (self):\n",
    "        pass\n",
    "    \n",
    "    @abc.abstractmethod\n",
    "    def lakshman(self):\n",
    "        pass"
   ]
  },
  {
   "cell_type": "code",
   "execution_count": 18,
   "id": "f6c2bb69-1143-452c-96c7-97e232ff0cef",
   "metadata": {},
   "outputs": [],
   "source": [
    "class sevak(shree_ram):\n",
    "    \n",
    "    def Hanuman(self):\n",
    "        return 'this is hanuman'\n",
    "    \n",
    "    def ujjwal(self):\n",
    "        return 'this is ujjwal'"
   ]
  },
  {
   "cell_type": "code",
   "execution_count": 19,
   "id": "d44eb5da-2fba-41f9-aded-6da96eb915f7",
   "metadata": {},
   "outputs": [],
   "source": [
    "s = sevak()"
   ]
  },
  {
   "cell_type": "code",
   "execution_count": 20,
   "id": "b3ef79ea-973a-430e-b332-ff9caa8ba0c0",
   "metadata": {},
   "outputs": [
    {
     "data": {
      "text/plain": [
       "'this is hanuman'"
      ]
     },
     "execution_count": 20,
     "metadata": {},
     "output_type": "execute_result"
    }
   ],
   "source": [
    "s.Hanuman()"
   ]
  },
  {
   "cell_type": "code",
   "execution_count": 21,
   "id": "514bace0-ab3e-4867-bcb4-db04141b9980",
   "metadata": {},
   "outputs": [
    {
     "data": {
      "text/plain": [
       "'this is ujjwal'"
      ]
     },
     "execution_count": 21,
     "metadata": {},
     "output_type": "execute_result"
    }
   ],
   "source": [
    "s.ujjwal()"
   ]
  },
  {
   "cell_type": "code",
   "execution_count": 22,
   "id": "a6d47d88-971b-4272-a979-ab14cb0a2f4f",
   "metadata": {},
   "outputs": [],
   "source": [
    "s.lakshman()"
   ]
  },
  {
   "cell_type": "code",
   "execution_count": null,
   "id": "070b672d-d9a9-4e4b-b9f7-14804fbc3316",
   "metadata": {},
   "outputs": [],
   "source": []
  },
  {
   "cell_type": "code",
   "execution_count": null,
   "id": "eb9fe709-53ef-4608-a01f-57695fbfdbe0",
   "metadata": {},
   "outputs": [],
   "source": [
    "'''Q2. Differentiate between Abstraction and Encapsulation. Explain with an example.'''"
   ]
  },
  {
   "cell_type": "code",
   "execution_count": null,
   "id": "b4f687cd-1433-4130-8af1-fc0a74859304",
   "metadata": {},
   "outputs": [],
   "source": [
    "#Ans.\n",
    "Abstraction = Abstraction is the process of oops concept in which handling the \n",
    "              complexity by hiding the unnecessary information from the user.\n",
    "              It is different from the encapsulation, encapsulation is help in private\n",
    "              and protect the instances where as abstract is used to abstract the \n",
    "              method of a skeleton or blueprint of class in other class.\n",
    "                \n",
    "Encapsulation = Encapsulation is the process of hiding the instances in method of \n",
    "                class it is used to protect and private the instance from user by \n",
    "                using double under score __ . The protected instance is access only \n",
    "                when if put _class name before encapsulize instance . Encapsulation \n",
    "                is helps to protect instance and accessable indiretly."
   ]
  },
  {
   "cell_type": "code",
   "execution_count": 28,
   "id": "c5dd8171-7161-4df6-92d0-e2d5a985bf22",
   "metadata": {},
   "outputs": [],
   "source": [
    "#Example of Abstraction Method\n",
    "\n",
    "import abc\n",
    "\n",
    "class pwskills :\n",
    "    \n",
    "    @abc.abstractmethod\n",
    "    def class1(self):\n",
    "        pass\n",
    "    \n",
    "    @abc.abstractmethod\n",
    "    def class2(self):\n",
    "        pass\n",
    "    \n",
    "    @abc.abstractmethod\n",
    "    def class3(self):\n",
    "        return 'this is class 3'"
   ]
  },
  {
   "cell_type": "code",
   "execution_count": 33,
   "id": "d6977cfd-00f1-45eb-8026-7476e5d11eb7",
   "metadata": {},
   "outputs": [],
   "source": [
    "class ujjwal(pwskills):\n",
    "    \n",
    "    def class2(self):\n",
    "        return 'ujjwal is a hard work boy'"
   ]
  },
  {
   "cell_type": "code",
   "execution_count": 34,
   "id": "ad57e6f9-13e4-4a33-bc6f-01e2f3901983",
   "metadata": {},
   "outputs": [],
   "source": [
    "u = ujjwal()"
   ]
  },
  {
   "cell_type": "code",
   "execution_count": 35,
   "id": "9b2754d8-e56f-484f-9977-aaf4da8c1aeb",
   "metadata": {},
   "outputs": [
    {
     "data": {
      "text/plain": [
       "'ujjwal is a hard work boy'"
      ]
     },
     "execution_count": 35,
     "metadata": {},
     "output_type": "execute_result"
    }
   ],
   "source": [
    "u.class2()"
   ]
  },
  {
   "cell_type": "code",
   "execution_count": 36,
   "id": "4fd5636f-cc7c-49d5-99af-54b8a0145b5c",
   "metadata": {},
   "outputs": [
    {
     "data": {
      "text/plain": [
       "'this is class 3'"
      ]
     },
     "execution_count": 36,
     "metadata": {},
     "output_type": "execute_result"
    }
   ],
   "source": [
    "u.class3()"
   ]
  },
  {
   "cell_type": "code",
   "execution_count": 51,
   "id": "4459bb7e-bad6-4948-945c-ae0bd8db46e8",
   "metadata": {},
   "outputs": [],
   "source": [
    "#Example of Encapsulation\n",
    "\n",
    "class pwskills :\n",
    "    \n",
    "    def __init__(self, name , age , nature):\n",
    "        self.__name = name\n",
    "        self.__age = age\n",
    "        self.nature = nature\n",
    "        \n",
    "    def get_details(self):\n",
    "        return self.__name , self.__age , self.nature"
   ]
  },
  {
   "cell_type": "code",
   "execution_count": 52,
   "id": "1bdd56c4-9efb-4b56-adce-d876f716c43b",
   "metadata": {},
   "outputs": [],
   "source": [
    "p = pwskills('ujjwal jaiswal', 20, 'kind boy')"
   ]
  },
  {
   "cell_type": "code",
   "execution_count": 53,
   "id": "d4634ff1-13e3-4c6f-ba6c-d05fc26b7611",
   "metadata": {},
   "outputs": [
    {
     "data": {
      "text/plain": [
       "'kind boy'"
      ]
     },
     "execution_count": 53,
     "metadata": {},
     "output_type": "execute_result"
    }
   ],
   "source": [
    "p.nature"
   ]
  },
  {
   "cell_type": "code",
   "execution_count": 58,
   "id": "8f4374da-a036-4854-b341-d423a95423c8",
   "metadata": {},
   "outputs": [
    {
     "data": {
      "text/plain": [
       "'ujjwal jaiswal'"
      ]
     },
     "execution_count": 58,
     "metadata": {},
     "output_type": "execute_result"
    }
   ],
   "source": [
    "#the hiding instances only accessable when _classname is used before hide instance\n",
    "p._pwskills__name"
   ]
  },
  {
   "cell_type": "code",
   "execution_count": 57,
   "id": "17abf875-8cca-4843-84df-c28a9694ddcd",
   "metadata": {},
   "outputs": [
    {
     "data": {
      "text/plain": [
       "20"
      ]
     },
     "execution_count": 57,
     "metadata": {},
     "output_type": "execute_result"
    }
   ],
   "source": [
    "p._pwskills__age"
   ]
  },
  {
   "cell_type": "code",
   "execution_count": null,
   "id": "49bf99ae-aa08-4428-84a3-32ecbd867384",
   "metadata": {},
   "outputs": [],
   "source": []
  },
  {
   "cell_type": "code",
   "execution_count": null,
   "id": "419d59f8-3400-4def-a4ee-4acbc2f41f1a",
   "metadata": {},
   "outputs": [],
   "source": [
    "'''Q3. What is abc module in python? Why is it used?'''"
   ]
  },
  {
   "cell_type": "code",
   "execution_count": null,
   "id": "e04beec0-d7ca-4d8f-902c-99a280fa3f00",
   "metadata": {},
   "outputs": [],
   "source": [
    "#Ans.\n",
    "abc is module in python library which provides the infrastructure for abstract base \n",
    "class .'abc ' is used for making abstracmethod for method in class or blueprint. \n",
    "This abc is accessable by import abc method after that we can create abstract \n",
    "decorator above methods in class.\n",
    "This is mainly used for making abstract method for method in class or blueprint \n",
    "it is accessable by import abc method ."
   ]
  },
  {
   "cell_type": "code",
   "execution_count": null,
   "id": "b0a0457d-bd0e-4232-9baf-cf1f0014cf42",
   "metadata": {},
   "outputs": [],
   "source": []
  },
  {
   "cell_type": "code",
   "execution_count": null,
   "id": "4acb86ee-e2b2-493d-9a5b-70f4ff4b39d3",
   "metadata": {},
   "outputs": [],
   "source": [
    "'''Q4. How can we achieve data abstraction?'''"
   ]
  },
  {
   "cell_type": "code",
   "execution_count": null,
   "id": "83c21123-59b4-4b8d-8393-dee11b79c733",
   "metadata": {},
   "outputs": [],
   "source": [
    "#Ans.\n",
    "Data abstraction is process of abstract the data by using abstract method and inherit\n",
    "the abstracted class in other class. By using import abc it will accessable, and \n",
    "decorate by in this manner ' @abc.abstractmethod '. \n",
    "It is mainly used for handling the complexity by hiding the unnecessary information\n",
    "from the user"
   ]
  },
  {
   "cell_type": "code",
   "execution_count": null,
   "id": "77d40b61-28e3-45da-b19f-7f42d7b90030",
   "metadata": {},
   "outputs": [],
   "source": []
  },
  {
   "cell_type": "code",
   "execution_count": null,
   "id": "318156a2-929b-4d7b-8c3d-e26bebe59b4d",
   "metadata": {},
   "outputs": [],
   "source": [
    "'''Q5. Can we create an instance of an abstract class? Explain your answer.'''"
   ]
  },
  {
   "cell_type": "code",
   "execution_count": null,
   "id": "f52d3356-3b5b-4182-8006-21411a7ced6a",
   "metadata": {},
   "outputs": [],
   "source": [
    "#Ans.\n",
    "Yes,We can create the instance of abstract class by importing abc 'import abc' module \n",
    "from python library. and after that we decorate the method in class in this manner \n",
    "'@abc.abstractmethod' . Asbstract method is creating blueprint or skeleton of class."
   ]
  },
  {
   "cell_type": "code",
   "execution_count": 37,
   "id": "bbc00971-29bc-454b-8f3d-6b8f7b1a6021",
   "metadata": {},
   "outputs": [],
   "source": [
    "#ex\n",
    "import abc\n",
    "\n",
    "class ujjwal :\n",
    "    \n",
    "    @abc.abstractmethod\n",
    "    def kind(self):\n",
    "        pass\n",
    "    \n",
    "    @abc.abstractmethod\n",
    "    def innocent(self):\n",
    "        pass\n",
    "    \n",
    "    @abc.abstractmethod\n",
    "    def good(self):\n",
    "        return 'good boy'\n",
    "    \n",
    "    @abc.abstractmethod\n",
    "    def hard_working(self):\n",
    "        print('He is hard working')"
   ]
  },
  {
   "cell_type": "code",
   "execution_count": 38,
   "id": "67cc5025-5f12-4f44-8d61-93f557738a2a",
   "metadata": {},
   "outputs": [],
   "source": [
    "class class1(ujjwal):\n",
    "    \n",
    "    def kind(self):\n",
    "        return 'he is kind'\n",
    "        \n",
    "    def innocent(self):\n",
    "        return 'he is innocent'"
   ]
  },
  {
   "cell_type": "code",
   "execution_count": 39,
   "id": "1e7fd3e5-a228-4317-ac9f-f918111eca79",
   "metadata": {},
   "outputs": [],
   "source": [
    "c = class1()"
   ]
  },
  {
   "cell_type": "code",
   "execution_count": 40,
   "id": "43682449-46a6-43e8-bb00-b0e6ab8a9125",
   "metadata": {},
   "outputs": [
    {
     "data": {
      "text/plain": [
       "'he is kind'"
      ]
     },
     "execution_count": 40,
     "metadata": {},
     "output_type": "execute_result"
    }
   ],
   "source": [
    "c.kind()"
   ]
  },
  {
   "cell_type": "code",
   "execution_count": 41,
   "id": "3b11493d-63ef-4169-b94a-e0aae55eb5a7",
   "metadata": {},
   "outputs": [
    {
     "data": {
      "text/plain": [
       "'he is innocent'"
      ]
     },
     "execution_count": 41,
     "metadata": {},
     "output_type": "execute_result"
    }
   ],
   "source": [
    "c.innocent()"
   ]
  },
  {
   "cell_type": "code",
   "execution_count": 42,
   "id": "54f94fff-6496-484b-8c6a-d8c10da35a01",
   "metadata": {},
   "outputs": [
    {
     "name": "stdout",
     "output_type": "stream",
     "text": [
      "He is hard working\n"
     ]
    }
   ],
   "source": [
    "c.hard_working()"
   ]
  },
  {
   "cell_type": "code",
   "execution_count": 43,
   "id": "cda4945a-6063-483e-9238-544a9f63089b",
   "metadata": {},
   "outputs": [
    {
     "data": {
      "text/plain": [
       "'good boy'"
      ]
     },
     "execution_count": 43,
     "metadata": {},
     "output_type": "execute_result"
    }
   ],
   "source": [
    "c.good()"
   ]
  },
  {
   "cell_type": "code",
   "execution_count": null,
   "id": "ca47b111-31dd-4251-adc2-eea72ef2d84e",
   "metadata": {},
   "outputs": [],
   "source": []
  },
  {
   "cell_type": "code",
   "execution_count": null,
   "id": "fedd767d-a6ab-4052-a869-232a5e8b4a78",
   "metadata": {},
   "outputs": [],
   "source": [
    "                 ' J A Y   S H R E E   H A R I   V I S H N U '"
   ]
  }
 ],
 "metadata": {
  "kernelspec": {
   "display_name": "Python 3 (ipykernel)",
   "language": "python",
   "name": "python3"
  },
  "language_info": {
   "codemirror_mode": {
    "name": "ipython",
    "version": 3
   },
   "file_extension": ".py",
   "mimetype": "text/x-python",
   "name": "python",
   "nbconvert_exporter": "python",
   "pygments_lexer": "ipython3",
   "version": "3.10.8"
  }
 },
 "nbformat": 4,
 "nbformat_minor": 5
}
