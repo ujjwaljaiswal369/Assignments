{
 "cells": [
  {
   "cell_type": "code",
   "execution_count": 1,
   "id": "bf949f40-ef1c-425d-8232-3224edc87703",
   "metadata": {},
   "outputs": [],
   "source": [
    "#Q1. Create one variable containing following type of data:"
   ]
  },
  {
   "cell_type": "code",
   "execution_count": 1,
   "id": "2cc66131-077b-4088-bee3-4ec4647a1a6d",
   "metadata": {},
   "outputs": [],
   "source": [
    "#string variable\n",
    "a = 'ujjwal'\n",
    "#list varibale\n",
    "b = [1,2,3,]\n",
    "#float varibale\n",
    "c = 32.4225\n",
    "#tuple variable\n",
    "d = (10,20,30)"
   ]
  },
  {
   "cell_type": "code",
   "execution_count": 3,
   "id": "2b5c81c8-1a9c-49cc-9a0f-3daefe98a8ef",
   "metadata": {},
   "outputs": [
    {
     "data": {
      "text/plain": [
       "'ujjwal'"
      ]
     },
     "execution_count": 3,
     "metadata": {},
     "output_type": "execute_result"
    }
   ],
   "source": [
    "a"
   ]
  },
  {
   "cell_type": "code",
   "execution_count": 4,
   "id": "dee41a74-b403-4ccd-b6d7-537b9e1ebeee",
   "metadata": {},
   "outputs": [
    {
     "data": {
      "text/plain": [
       "[1, 2, 3]"
      ]
     },
     "execution_count": 4,
     "metadata": {},
     "output_type": "execute_result"
    }
   ],
   "source": [
    "b"
   ]
  },
  {
   "cell_type": "code",
   "execution_count": 5,
   "id": "be8217dd-15e7-43d3-a7fb-274d90c6f10e",
   "metadata": {},
   "outputs": [
    {
     "data": {
      "text/plain": [
       "32.4225"
      ]
     },
     "execution_count": 5,
     "metadata": {},
     "output_type": "execute_result"
    }
   ],
   "source": [
    "c"
   ]
  },
  {
   "cell_type": "code",
   "execution_count": 6,
   "id": "f933316e-6094-4f24-b168-8b1ef068a986",
   "metadata": {},
   "outputs": [
    {
     "data": {
      "text/plain": [
       "(10, 20, 30)"
      ]
     },
     "execution_count": 6,
     "metadata": {},
     "output_type": "execute_result"
    }
   ],
   "source": [
    "d"
   ]
  },
  {
   "cell_type": "code",
   "execution_count": 1,
   "id": "f8c72e36-0547-4507-98cd-88b01c472810",
   "metadata": {},
   "outputs": [],
   "source": [
    "#Q2. Given are some following variables containing data:\n",
    "\n",
    "#What will be the data type of the above given variable."
   ]
  },
  {
   "cell_type": "code",
   "execution_count": 2,
   "id": "f92fc77f-13d3-4b9b-b2dc-e818344fc438",
   "metadata": {},
   "outputs": [],
   "source": [
    "var1 = ''"
   ]
  },
  {
   "cell_type": "code",
   "execution_count": 5,
   "id": "093c361e-345c-42c6-8ce7-91683ad8bf20",
   "metadata": {},
   "outputs": [
    {
     "data": {
      "text/plain": [
       "str"
      ]
     },
     "execution_count": 5,
     "metadata": {},
     "output_type": "execute_result"
    }
   ],
   "source": [
    "type(var1)"
   ]
  },
  {
   "cell_type": "code",
   "execution_count": 10,
   "id": "d5812555-f821-4d62-8cdb-20aa2e453983",
   "metadata": {},
   "outputs": [],
   "source": [
    "var2 = '[DS, ML, Python]'"
   ]
  },
  {
   "cell_type": "code",
   "execution_count": 11,
   "id": "16d5e15e-6256-460a-ac02-edb8315ecc06",
   "metadata": {},
   "outputs": [
    {
     "data": {
      "text/plain": [
       "str"
      ]
     },
     "execution_count": 11,
     "metadata": {},
     "output_type": "execute_result"
    }
   ],
   "source": [
    "type(var2)"
   ]
  },
  {
   "cell_type": "code",
   "execution_count": 12,
   "id": "c307d0a3-5595-4f51-962b-6bb49685bc96",
   "metadata": {},
   "outputs": [],
   "source": [
    "var3 = ['DS', 'ML', 'Python']"
   ]
  },
  {
   "cell_type": "code",
   "execution_count": 13,
   "id": "2d085a03-32e5-43e1-a8c5-958fe0c9f33d",
   "metadata": {},
   "outputs": [
    {
     "data": {
      "text/plain": [
       "list"
      ]
     },
     "execution_count": 13,
     "metadata": {},
     "output_type": "execute_result"
    }
   ],
   "source": [
    "type(var3)"
   ]
  },
  {
   "cell_type": "code",
   "execution_count": 14,
   "id": "1afa5ed2-6eb5-4466-894e-1c58ad4df29d",
   "metadata": {},
   "outputs": [],
   "source": [
    "var4 = 1."
   ]
  },
  {
   "cell_type": "code",
   "execution_count": 15,
   "id": "9faae28e-7178-427c-8c00-5db45956db2f",
   "metadata": {},
   "outputs": [
    {
     "data": {
      "text/plain": [
       "float"
      ]
     },
     "execution_count": 15,
     "metadata": {},
     "output_type": "execute_result"
    }
   ],
   "source": [
    "type(var4)"
   ]
  },
  {
   "cell_type": "code",
   "execution_count": 16,
   "id": "68ceb382-2897-47b2-9f53-4ac59527de0b",
   "metadata": {},
   "outputs": [],
   "source": [
    "#Q3. Explain the use of the following operators using an example:"
   ]
  },
  {
   "cell_type": "code",
   "execution_count": null,
   "id": "543a0630-206a-48be-aa29-d7d098214a4c",
   "metadata": {},
   "outputs": [],
   "source": [
    "(i)\t/ \n",
    "This operator is arithmatic operator used for divide the numbers. this is called division operators this operator\n",
    "is widely used everywhere.\n",
    "ex. 4/2 which gives 2 ans. \n",
    "\n",
    "(ii)% \n",
    "This operator is known as percentile operator or modulus operator.\n",
    "this operator gives remainder when 2 numbers are divide\n",
    "ex. 5%4 which gives 1 remainder\n",
    "\n",
    "(iii)// \n",
    "This operator is named as division flor operator. it is represented by double slash. this is also divde the numbers\n",
    "but some is different from division operator.\n",
    "ex. 6//2 which gives 3 \n",
    "\n",
    "(iv)** \n",
    "This operator is named as exponent operator because this operator is multiply the number according to their power\n",
    "for example:\n",
    "    2**3 = 8\n",
    "    5**2 = 25\n",
    "    \n",
    "Above all operator are come in category of arithmatic operators\n"
   ]
  },
  {
   "cell_type": "code",
   "execution_count": 20,
   "id": "c1a384fe-3f74-4ad4-99bd-f7ade76a1793",
   "metadata": {},
   "outputs": [],
   "source": [
    "#Q4. Create a list of length 10 of your choice containing multiple types of data. Using for loop print the\n",
    "#element and its data type"
   ]
  },
  {
   "cell_type": "code",
   "execution_count": 21,
   "id": "d1eefde9-92cd-40d2-bedc-e3c7b700339b",
   "metadata": {},
   "outputs": [],
   "source": [
    "l = [3,6,9, 'Hari Narayan', 'Mere Ram', 'Mere krishna', 34.242, True, False, 'Hanuman baba']"
   ]
  },
  {
   "cell_type": "code",
   "execution_count": 23,
   "id": "457daf64-1f81-43a7-a334-4d34161fb9b7",
   "metadata": {},
   "outputs": [
    {
     "name": "stdout",
     "output_type": "stream",
     "text": [
      "3\n",
      "6\n",
      "9\n",
      "Hari Narayan\n",
      "Mere Ram\n",
      "Mere krishna\n",
      "34.242\n",
      "True\n",
      "False\n",
      "Hanuman baba\n"
     ]
    }
   ],
   "source": [
    "for i in l:\n",
    "    print(i)"
   ]
  },
  {
   "cell_type": "code",
   "execution_count": 24,
   "id": "df9edf1e-f11e-455b-babc-69d7e1b7adcb",
   "metadata": {},
   "outputs": [
    {
     "name": "stdout",
     "output_type": "stream",
     "text": [
      "<class 'int'>\n",
      "<class 'int'>\n",
      "<class 'int'>\n",
      "<class 'str'>\n",
      "<class 'str'>\n",
      "<class 'str'>\n",
      "<class 'float'>\n",
      "<class 'bool'>\n",
      "<class 'bool'>\n",
      "<class 'str'>\n"
     ]
    }
   ],
   "source": [
    "for i in l:\n",
    "    print(type(i))"
   ]
  },
  {
   "cell_type": "code",
   "execution_count": 5,
   "id": "b4121f62-846a-45aa-8dd5-01e7da8b5aa2",
   "metadata": {},
   "outputs": [],
   "source": [
    "#Q5. Using a while loop, verify if the number A is purely divisible by number B and if so then how many\n",
    "#times it can be divisible."
   ]
  },
  {
   "cell_type": "code",
   "execution_count": 11,
   "id": "9b186cc4-e6ff-43f9-83d9-a162578adeeb",
   "metadata": {},
   "outputs": [
    {
     "name": "stdin",
     "output_type": "stream",
     "text": [
      "Enter the no. A:  25\n",
      "Enter the no. B:  5\n"
     ]
    },
    {
     "name": "stdout",
     "output_type": "stream",
     "text": [
      "The no. A is divisible by B 2 times.\n"
     ]
    }
   ],
   "source": [
    "A = int(input('Enter the no. A: '))\n",
    "B = int(input('Enter the no. B: '))\n",
    "\n",
    "Count = 0\n",
    "\n",
    "while A % B == 0:\n",
    "    A = A / B\n",
    "    Count += 1\n",
    "\n",
    "if Count > 0:\n",
    "    print(f'The no. A is divisible by B {Count} times.')\n",
    "else:\n",
    "    print('the no. A is not divisible by B')\n",
    "\n",
    "   "
   ]
  },
  {
   "cell_type": "code",
   "execution_count": 12,
   "id": "8f2ef8ed-47e2-454f-a223-4d51fee9f284",
   "metadata": {},
   "outputs": [],
   "source": [
    "#Q6. Create a list containing 25 int type data. Using for loop and if-else condition print if the element is\n",
    "#divisible by 3 or not."
   ]
  },
  {
   "cell_type": "code",
   "execution_count": 19,
   "id": "40058d25-e36a-48db-9630-6637209b54e1",
   "metadata": {},
   "outputs": [
    {
     "name": "stdout",
     "output_type": "stream",
     "text": [
      "1 is not divisible by 3\n",
      "2 is not divisible by 3\n",
      "3 is divisible by 3\n",
      "4 is not divisible by 3\n",
      "5 is not divisible by 3\n",
      "6 is divisible by 3\n",
      "7 is not divisible by 3\n",
      "8 is not divisible by 3\n",
      "9 is divisible by 3\n",
      "10 is not divisible by 3\n",
      "11 is not divisible by 3\n",
      "12 is divisible by 3\n",
      "13 is not divisible by 3\n",
      "14 is not divisible by 3\n",
      "15 is divisible by 3\n",
      "16 is not divisible by 3\n",
      "17 is not divisible by 3\n",
      "18 is divisible by 3\n",
      "19 is not divisible by 3\n",
      "20 is not divisible by 3\n",
      "21 is divisible by 3\n",
      "22 is not divisible by 3\n",
      "23 is not divisible by 3\n",
      "24 is divisible by 3\n",
      "25 is not divisible by 3\n"
     ]
    }
   ],
   "source": [
    "l = [1,2,3,4,5,6,7,8,9,10,11,12,13,14,15,16,17,18,19,20,21,22,23,24,25]\n",
    "\n",
    "for num in l:\n",
    "    if num%3 == 0:\n",
    "        print(f'{num} is divisible by 3')\n",
    "    else:\n",
    "        print(f'{num} is not divisible by 3')"
   ]
  },
  {
   "cell_type": "code",
   "execution_count": 20,
   "id": "1b30fe1f-6c70-4d01-864e-7c28c71cbe4e",
   "metadata": {},
   "outputs": [],
   "source": [
    "#Q7. What do you understand about mutable and immutable data types? Give examples for both showing\n",
    "#this property."
   ]
  },
  {
   "cell_type": "code",
   "execution_count": null,
   "id": "262e6c2a-2c59-402d-ad0e-2b8a799065a2",
   "metadata": {},
   "outputs": [],
   "source": [
    "Mutable Object = Mutuable object defines as we can change the data which exist in list,tuple,dictionary, we can\n",
    "change the data by using their indices no. or from this process we known this is mutuability. list,dictionary,tuple\n",
    "is mutuable object or data type. \n",
    "ex. l = [1,2,3,'ujjwal']\n",
    "l[0] = 6\n",
    "which gives after print\n",
    "l = [6,2,3,'ujjwal']\n",
    "\n",
    "\n",
    "Immutable Object = This is opposite of mutuable. We cannot change or mutuate data in varibale.\n",
    "ex. s = 'Ram'\n",
    "s[1] = o\n",
    "after print we get error because its not possible to mutate data in string\n",
    "string is not mutuable data type object"
   ]
  }
 ],
 "metadata": {
  "kernelspec": {
   "display_name": "Python 3 (ipykernel)",
   "language": "python",
   "name": "python3"
  },
  "language_info": {
   "codemirror_mode": {
    "name": "ipython",
    "version": 3
   },
   "file_extension": ".py",
   "mimetype": "text/x-python",
   "name": "python",
   "nbconvert_exporter": "python",
   "pygments_lexer": "ipython3",
   "version": "3.10.8"
  }
 },
 "nbformat": 4,
 "nbformat_minor": 5
}
