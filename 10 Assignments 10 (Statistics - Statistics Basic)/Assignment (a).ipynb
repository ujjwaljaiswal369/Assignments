{
 "cells": [
  {
   "cell_type": "markdown",
   "id": "8634ffbe-c218-4cea-b4f4-c7178f4b2447",
   "metadata": {},
   "source": [
    " Statistics - 1"
   ]
  },
  {
   "cell_type": "code",
   "execution_count": null,
   "id": "63dceffc-24e5-4905-b61c-c0793e91f9dc",
   "metadata": {},
   "outputs": [],
   "source": [
    "'''Q1. What is Statistics?'''"
   ]
  },
  {
   "cell_type": "code",
   "execution_count": null,
   "id": "082ae1ae-7448-4b99-97c4-4da6f20dfa1a",
   "metadata": {},
   "outputs": [],
   "source": [
    "#Ans.\n",
    "Statistics is the science of collecting , organising and reading the data. For data science, Statistics is a core of \n",
    "sophisticated machine learning algorithms, Capturing and translating data in actionable evidences, Data scientist use \n",
    "statistics for review,gather and analyze the data to get conclusion from data"
   ]
  },
  {
   "cell_type": "code",
   "execution_count": null,
   "id": "ba147e25-4ff1-440f-9ddc-f0d0580ff512",
   "metadata": {},
   "outputs": [],
   "source": []
  },
  {
   "cell_type": "code",
   "execution_count": null,
   "id": "077f7db7-dbb7-4d49-94c1-23a86297ce9e",
   "metadata": {},
   "outputs": [],
   "source": [
    "'''Q2. Define the different types of statistics and give an example of when each type might be used.'''"
   ]
  },
  {
   "cell_type": "code",
   "execution_count": null,
   "id": "0c429f32-c3ee-4375-bfb7-15866e0263ad",
   "metadata": {},
   "outputs": [],
   "source": [
    "#Ans.\n",
    "There are two types of Statistics : \n",
    "    \n",
    "1. Descriptive Statistics\n",
    "2. Inferential Statistics"
   ]
  },
  {
   "cell_type": "code",
   "execution_count": null,
   "id": "be9788cd-7244-40d6-9eb8-c8c233a64a9c",
   "metadata": {},
   "outputs": [],
   "source": [
    "Descriptive Statistics = It is consist of organising and summarising the data.\n",
    "                         it has following types:\n",
    "                         1. Method of central tendency\n",
    "                         2. Method of despersion\n",
    "                         3. Different type of distribution of data\n",
    "                            ex. histogram, pdf (Probability density function), pmf (Probability mass function),etc"
   ]
  },
  {
   "cell_type": "code",
   "execution_count": null,
   "id": "069072c2-81c9-4070-b81e-5aab1efa476c",
   "metadata": {},
   "outputs": [],
   "source": [
    "Ex. let suppose a data which contain some numbers [2,4,6,8,10]. If we add all no. and divide by its no. of occurance than\n",
    "    we get mean 6 of this data."
   ]
  },
  {
   "cell_type": "code",
   "execution_count": null,
   "id": "13d89979-dd72-4f70-b226-cdef4126724c",
   "metadata": {},
   "outputs": [],
   "source": [
    "Inferential Statistics = It is consist of using the data you have measured to form conclusion. This have sample data and\n",
    "                         population data. We use sample data to find conclusion of population data.\n",
    "                         Inferential statistics have some methods for hypothesis and conclusion, like z-test, t-test, chi\n",
    "                         square test, etc\n",
    "                         Population data is the data which a user are interested to studying and sample data is a part of \n",
    "                         population data."
   ]
  },
  {
   "cell_type": "code",
   "execution_count": null,
   "id": "a9d226fc-65d3-4633-babc-5cdb5477857a",
   "metadata": {},
   "outputs": [],
   "source": [
    "Ex. Suppose we have population data [123,240,345,456,567,678]. and also have sample data from it [567,240]. Now by using \n",
    "    inferential statistics we can estimate and hypothesis about this data based on sample data."
   ]
  },
  {
   "cell_type": "code",
   "execution_count": null,
   "id": "c255a5db-765e-451c-adeb-7c4cddd43390",
   "metadata": {},
   "outputs": [],
   "source": []
  },
  {
   "cell_type": "code",
   "execution_count": null,
   "id": "ef1c6039-c29e-4bf6-8698-7b216df9bc00",
   "metadata": {},
   "outputs": [],
   "source": [
    "'''Q3. What are the different types of data and how do they differ from each other? Provide an example of\n",
    "each type of data.'''"
   ]
  },
  {
   "cell_type": "code",
   "execution_count": null,
   "id": "65637152-ea39-4fea-b034-8d71a0ac6fb4",
   "metadata": {},
   "outputs": [],
   "source": [
    "#Ans.\n",
    "There are two types of data :-\n",
    "\n",
    "1. Quantitative Data \n",
    "2. Qualitative Data "
   ]
  },
  {
   "cell_type": "code",
   "execution_count": null,
   "id": "7fe395b0-77f7-40c3-bc37-41049f45c032",
   "metadata": {},
   "outputs": [],
   "source": [
    "Quantitative Data = Quantitave data defines as that data or that varibale which contain only numerical values or numbers.\n",
    "                    We can perform all mathmatical operation on this type of data like arithmetic operation(addition,sub,\n",
    "                    division, multiplication, etc.). \n",
    "\n",
    "further there are two types of quantitative data :-\n",
    "(a) Discrete data\n",
    "(b) Continuous data\n",
    "\n",
    "Discrete data = Discrete data is that numerical data which are in the form of whole no. like, no. of children, no. of\n",
    "                    bank account,etc.\n",
    "    \n",
    "Continuous data = This is that data which can be in any form like, decimal numbers, negative numbers,etc."
   ]
  },
  {
   "cell_type": "code",
   "execution_count": null,
   "id": "a17764e7-cb78-4a4b-a5cc-551b0c71d3c4",
   "metadata": {},
   "outputs": [],
   "source": [
    "Qualitative Data = Qualitative data is a data which are in categorical form which have fixed no. argument and repeat in \n",
    "                   multiple times. These also have two types\n",
    "    \n",
    "(a) Nominal data\n",
    "(b) Ordinal data\n",
    "\n",
    "Nominal data = Nominal data is a data which are not in rank or every argument have equal rights of like, Male or Female,\n",
    "               fire or not fire, pincode,etc\n",
    "    \n",
    "Ordinal data = Ordinal data defines as arguments in varibale are in rank order like , customer feedback,good or better or \n",
    "               best,etc"
   ]
  },
  {
   "cell_type": "code",
   "execution_count": null,
   "id": "7047005d-cc1a-4439-8dab-28ceff88cd3b",
   "metadata": {},
   "outputs": [],
   "source": []
  },
  {
   "cell_type": "code",
   "execution_count": null,
   "id": "6881d59a-6400-4494-9d0f-ae4870d9296e",
   "metadata": {},
   "outputs": [],
   "source": [
    "'''Q4. Categorise the following datasets with respect to quantitative and qualitative data types:\n",
    "       (i) Grading in exam: A+, A, B+, B, C+, C, D, E\n",
    "       (ii) Colour of mangoes: yellow, green, orange, red\n",
    "       (iii) Height data of a class: [178.9, 179, 179.5, 176, 177.2, 178.3, 175.8,...]\n",
    "       (iv) Number of mangoes exported by a farm: [500, 600, 478, 672, ...]'''"
   ]
  },
  {
   "cell_type": "code",
   "execution_count": null,
   "id": "444d4261-1a32-4f07-9871-eb04ec1eefb3",
   "metadata": {},
   "outputs": [],
   "source": [
    "#Ans.\n",
    "(i) Qualitative data (Ordinal)\n",
    "(ii) Qualitative data (Nominal)\n",
    "(iii) Quantitative data (Continuous)\n",
    "(iv) Quantitative data (Discrete)"
   ]
  },
  {
   "cell_type": "code",
   "execution_count": null,
   "id": "df0ae8dc-a138-4dfe-84f8-9d9f610ae04c",
   "metadata": {},
   "outputs": [],
   "source": []
  },
  {
   "cell_type": "code",
   "execution_count": null,
   "id": "877d3358-0c76-44a3-b48f-90a974f8dac1",
   "metadata": {},
   "outputs": [],
   "source": [
    "'''Q5. Explain the concept of levels of measurement and give an example of a variable for each level.'''"
   ]
  },
  {
   "cell_type": "code",
   "execution_count": null,
   "id": "e2dbcd7d-e617-4bbc-a252-07f9b7466443",
   "metadata": {},
   "outputs": [],
   "source": [
    "#Ans.\n",
    "The levels of measurement have two types of data first is Quantitative data and second is Qualitative data. Further both\n",
    "data types have their types in another words levels of measurement have have 4 levels.\n",
    "Nominal, Ordinal, Interval and Ratio data type.\n",
    "\n",
    "\n",
    "(a) Nominal Data type : This data type is comes under qualitative data type and The data which are labelling without in\n",
    "                        rank order, there are no such order such data is known as nomianl data type.\n",
    "                        Ex. Gender, Martial status, Ethnicity, etc.\n",
    "    \n",
    "(b) Ordinal Data type : The data is labelling under in order or rank mode which we can categorised by their rank but we \n",
    "                        can not say anything about the intervals between the ranks.\n",
    "                        Ex. Top 5 olympic medals, whole no., etc.\n",
    "    \n",
    "(c) Interval data type : The data can be categorised and rank and infer equal intervals between neighbouring data points,\n",
    "                         but there is not true zero point.\n",
    "                         Ex. Test scores, Temperature in celsius\n",
    "    \n",
    "(d) Ratio data type : The data can be categorised , rank and infer equal intervals between their neighbouring data points\n",
    "                      but there is true zero point.\n",
    "                      Ex. Height , Age , Weight,etc"
   ]
  },
  {
   "cell_type": "code",
   "execution_count": null,
   "id": "8c3453c3-71c0-4538-a1b3-12402fc6d5d9",
   "metadata": {},
   "outputs": [],
   "source": []
  },
  {
   "cell_type": "code",
   "execution_count": null,
   "id": "28bcb18e-f0cd-4056-9bd7-b0a2cb2786e5",
   "metadata": {},
   "outputs": [],
   "source": [
    "'''Q6. Why is it important to understand the level of measurement when analyzing data? Provide an\n",
    "example to illustrate your answer.'''"
   ]
  },
  {
   "cell_type": "code",
   "execution_count": null,
   "id": "f7acaccc-d47d-4726-bdb7-8001935ab03f",
   "metadata": {},
   "outputs": [],
   "source": [
    "#Ans.\n",
    "It is important to understand the level of measurement in research, The levels of measurement determines the statistical\n",
    "analysis of the research conducted, and therefore type of conclusion can be drawn from the research. Levels of measurement\n",
    "also helps to interpret the data from the variable you research on it.\n",
    "\n",
    "Example : The best example of levels of measurement is in distance in temperature centigrade like distance in 94C and 96C\n",
    "          are same as the distance in 102C and 194C. this is ratio levels of measurement data type"
   ]
  },
  {
   "cell_type": "code",
   "execution_count": null,
   "id": "41951d77-7abe-42b5-a241-91b004cb9e0f",
   "metadata": {},
   "outputs": [],
   "source": []
  },
  {
   "cell_type": "code",
   "execution_count": null,
   "id": "6424be86-90c7-4a27-8d15-e774034d0bf5",
   "metadata": {},
   "outputs": [],
   "source": [
    "'''Q7. How nominal data type is different from ordinal data type.'''"
   ]
  },
  {
   "cell_type": "code",
   "execution_count": null,
   "id": "3018062c-b109-462f-89f6-0e7dcd18932b",
   "metadata": {},
   "outputs": [],
   "source": [
    "#Ans.\n",
    "Qualitative data contain non-numerical data this data have categorical data further there are two types of data type one \n",
    "is nominal and another is Ordinal data type. \n",
    "\n",
    "Nominal data type and Ordinal data type are from same category (Qualitative data) but both have some difference. Nominal\n",
    "data type is that type which are contain fixed no. of arguments and arguments are not in rank mode. like, Male or Female\n",
    "\n",
    "Whereas Ordinal data type are those data type which are contain arguments in rank mode they have specific value in their\n",
    "own. like , Best>Better>Good"
   ]
  },
  {
   "cell_type": "code",
   "execution_count": null,
   "id": "fd9298b4-0280-4e49-b216-cba918148005",
   "metadata": {},
   "outputs": [],
   "source": []
  },
  {
   "cell_type": "code",
   "execution_count": null,
   "id": "c0971d25-03da-4f51-86de-f20cff564e6a",
   "metadata": {},
   "outputs": [],
   "source": [
    "'''Q8. Which type of plot can be used to display data in terms of range?'''"
   ]
  },
  {
   "cell_type": "code",
   "execution_count": null,
   "id": "c052610c-47e5-4ecc-8d59-b7acb07c7d91",
   "metadata": {},
   "outputs": [],
   "source": [
    "#Ans.\n",
    "Histogram type of plot can be used to display data in terms of range. Beacause it helps in visualizing data by set data \n",
    "in a way like classes and groups. In which groups and classes are sets automatically according to values provided by data."
   ]
  },
  {
   "cell_type": "code",
   "execution_count": null,
   "id": "03896190-b1c8-4a02-bfb0-ad61fb5ed437",
   "metadata": {},
   "outputs": [],
   "source": []
  },
  {
   "cell_type": "code",
   "execution_count": null,
   "id": "7527aecc-663d-4ea7-a34e-9869b75f6177",
   "metadata": {},
   "outputs": [],
   "source": [
    "'''Q9. Describe the difference between descriptive and inferential statistics. Give an example of each\n",
    "       type of statistics and explain how they are used.'''"
   ]
  },
  {
   "cell_type": "code",
   "execution_count": null,
   "id": "b74096d6-9e31-4380-8767-ea1f8b16363c",
   "metadata": {},
   "outputs": [],
   "source": [
    "#Ans. \n",
    "Descriptive Statistics and Inferential statistics is a part or type of statistics both have their own definitions but they\n",
    "belongs to same family.\n",
    "\n",
    "\n",
    "1. Descriptive statistics is determine about mean,mode,median,standard deviation,variance,etc. It is provide description information \n",
    "   about the data. This have some types according to their calculations methods like Methods of Central Tendency, Methods of\n",
    "Despersion, Different types of plots, etc.\n",
    "\n",
    "Example : Suppose there are list of data [3,6,8,2] to find the mean of this data we have to use descriptive statistics \n",
    "methods. To find mean we have to add all numbers and divide by their no. of occurence which is 4.7\n",
    "\n",
    "\n",
    "2. Whereas Inferential statistics is also helps in statistics analysis but it is mainly use for hypothesis. Inferential \n",
    "   statistics is consist of data we have measured to form conclusion. It has some methods for hypothesis like z-test,\n",
    "   t-test, chi square test, etc.\n",
    "\n",
    "Example : Suppose we have population data [123,240,345,456,567,678]. and also have sample data from it [567,240]. Now by\n",
    "          using inferential statistics we can estimate and hypothesis about this data based on sample data.\n",
    "\n",
    "    \n",
    "The main purpose of statistics to find conclusion about the data so that we can made decision easily. Statistics used to\n",
    "conduct research, helps in making critical thinking , evaluate outcomes, making good decision,etc"
   ]
  },
  {
   "cell_type": "code",
   "execution_count": null,
   "id": "c6887319-c8a5-4b84-aed2-1bce67deed7f",
   "metadata": {},
   "outputs": [],
   "source": []
  },
  {
   "cell_type": "code",
   "execution_count": null,
   "id": "d1df967d-79fd-4e03-8dd4-d049db441f71",
   "metadata": {},
   "outputs": [],
   "source": [
    "'''Q10. What are some common measures of central tendency and variability used in statistics? Explain\n",
    "        how each measure can be used to describe a dataset.'''"
   ]
  },
  {
   "cell_type": "code",
   "execution_count": null,
   "id": "4f12fbef-ef2f-436c-b89f-9b762c576c08",
   "metadata": {},
   "outputs": [],
   "source": [
    "#Ans.\n",
    "Measure of Central Tendency :\n",
    "\n",
    "1. Mean\n",
    "2. Median\n",
    "3. Mode\n",
    "\n",
    "Measure of Variability :\n",
    "\n",
    "1. Standard Deviation\n",
    "2. Variance\n",
    "\n",
    "Explanation of measures how they help in describing a data set :"
   ]
  },
  {
   "cell_type": "code",
   "execution_count": null,
   "id": "edc141e1-2b66-4273-98a3-7d7b8c818b47",
   "metadata": {},
   "outputs": [],
   "source": [
    "1. Mean = Mean is a method which give numerical value about the data you chose. It follows particular formula for finding\n",
    "          answer of data. It took sum of all nuombers given in dataset and divide them by number of occurence in data.\n",
    "\n",
    "Ex. Suppose a list of ages [12,34,23,21,56,78,43,90,43] and the sum of this data is 400 and if divide by its occurence 9\n",
    "    then we get mean or average is 44.44"
   ]
  },
  {
   "cell_type": "code",
   "execution_count": null,
   "id": "99dc65d0-9d84-4fb3-893d-a9b1d730164f",
   "metadata": {},
   "outputs": [],
   "source": [
    "2. Median = Median is tell about the middle value of given dataset. When no. of values present in dataset is odd then we \n",
    "            easily find median by finding the number which is perfect in middle of dataset \n",
    "            in case of even no. of values data set we use formula and we can also use formula in case of odd no. of values\n",
    "            for finding median of data first we check data should be in ascending order after we can apply formula \n",
    "            [(n+1)th/2] term for odd no. and [((n/2)th term + (n/2 + 1)th)/2] term for even no. data set\n",
    "            \n",
    "Ex. a data list [1,2,3,4,5,6,7] which median is 4"
   ]
  },
  {
   "cell_type": "code",
   "execution_count": null,
   "id": "2b963921-5a85-4828-bc13-cb57005ec453",
   "metadata": {},
   "outputs": [],
   "source": [
    "3. Mode = Mode is showing frequency means the highest frequency of occuring of number in given dataset.\n",
    "\n",
    "Ex. a dataset [1,1,2,3,4,5,5,4,3,2,3,4,5,1,1,1,7,8,1,1] and the mode is 1 which comes in 7 times which is more than other"
   ]
  },
  {
   "cell_type": "code",
   "execution_count": null,
   "id": "3124e8e0-4c34-4fa9-a71e-1cf497e352e5",
   "metadata": {},
   "outputs": [],
   "source": [
    "1. Standard Deviation = Standard deviation is used for finding measure the amount of deviation of or dispersion of values \n",
    "                        from their mean. If describe how much is spread or collab the data from mean. If standard deviation\n",
    "                        is high that mean it deviates more from mean\n",
    "                        If standard deviation is low than it indicates the values is tend to close to the mean of the data.\n",
    "            \n",
    "Example: Suppose a data of [2,1,3,2,4] The mean and sum of squares , deviation obervation from the mean is 2.4 and 5.2 \n",
    "         So , Standard deviation will be √(5.2/5) = 1.01 ."
   ]
  },
  {
   "cell_type": "code",
   "execution_count": null,
   "id": "021db169-0a0d-429e-baed-63e8dc61e785",
   "metadata": {},
   "outputs": [],
   "source": [
    "2. Variance = In statistics, Variance is used for measure the variability from the avereage or mean of given dataset.\n",
    "              It is calculated by difference between each no. of dataset and mean and squaring difference of both. and \n",
    "              dividing the sum of squares by the total no. present in dataset.\n",
    "              It is represented by sigma square.\n",
    "            \n",
    "Example: Suppose we have dataset [6,7,3,4] and the mean is (6+7+3+4)/4 = 5. To finding variance we use its formula \n",
    "         [(6-5)**2 + (7-5)**2 + (3-5)**2 + (4-5)**2 ] / 4 is equal to 10."
   ]
  },
  {
   "cell_type": "code",
   "execution_count": null,
   "id": "6dec8842-361a-4729-8d30-2e59dcb3d27b",
   "metadata": {},
   "outputs": [],
   "source": []
  },
  {
   "cell_type": "code",
   "execution_count": null,
   "id": "ae430c2b-3c77-40e7-9b22-2579c71af955",
   "metadata": {},
   "outputs": [],
   "source": [
    "                         ◦•●◉✿ ❤️️' 𝐉 𝐀 𝐈   𝐒 𝐇 𝐑 𝐄 𝐄   𝐇 𝐀 𝐑 𝐈   𝐕 𝐈 𝐒 𝐇 𝐍 𝐔 '❤️ ✿◉●•◦"
   ]
  }
 ],
 "metadata": {
  "kernelspec": {
   "display_name": "Python 3 (ipykernel)",
   "language": "python",
   "name": "python3"
  },
  "language_info": {
   "codemirror_mode": {
    "name": "ipython",
    "version": 3
   },
   "file_extension": ".py",
   "mimetype": "text/x-python",
   "name": "python",
   "nbconvert_exporter": "python",
   "pygments_lexer": "ipython3",
   "version": "3.10.8"
  }
 },
 "nbformat": 4,
 "nbformat_minor": 5
}
