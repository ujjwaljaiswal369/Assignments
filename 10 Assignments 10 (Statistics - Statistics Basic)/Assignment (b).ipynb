{
 "cells": [
  {
   "cell_type": "markdown",
   "id": "d7b7fb37-ef92-4e16-ab5e-1ef5d86fd0a8",
   "metadata": {},
   "source": [
    "Statistics Basics - 2"
   ]
  },
  {
   "cell_type": "code",
   "execution_count": null,
   "id": "c0ef643a-4dbe-4044-ac5b-92b7395a76a2",
   "metadata": {},
   "outputs": [],
   "source": [
    "'''Q1. What are the three measures of central tendency?'''"
   ]
  },
  {
   "cell_type": "code",
   "execution_count": null,
   "id": "e2020deb-2e08-4018-be7e-91cfab00c109",
   "metadata": {},
   "outputs": [],
   "source": [
    "#Ans.\n",
    "Mean, Median and Mode are three measures of central tendency"
   ]
  },
  {
   "cell_type": "code",
   "execution_count": null,
   "id": "a14f6eb8-5018-4822-bd35-b1ab65b28276",
   "metadata": {},
   "outputs": [],
   "source": []
  },
  {
   "cell_type": "code",
   "execution_count": null,
   "id": "c93cdbd8-f87a-4ca3-8664-ef2c65b090aa",
   "metadata": {},
   "outputs": [],
   "source": [
    "'''Q2. What is the difference between the mean, median, and mode? How are they used to measure the central tendency of a\n",
    "       dataset?'''"
   ]
  },
  {
   "cell_type": "code",
   "execution_count": null,
   "id": "cbc2ec9c-ad15-4395-b1e4-9cec62be4525",
   "metadata": {},
   "outputs": [],
   "source": [
    "#Ans.\n",
    "Mean = Mean is used to find the average of given dataset. It is find by sum of all elements of dataset and divide by no.\n",
    "       elements.\n",
    "    \n",
    "Median = Median is used for find the middle value of dataset. To find the median there are some conditions. Firstly we \n",
    "         have to put all elements in ascending order. and if no. of elements are even then the average of middle two \n",
    "         elements will median . If in case of odd no. of elements then simply middle elements will median.\n",
    "        \n",
    "Mode = Mode is find the maximum frequency of dataset. In a data set, if a element is repeat mostly than other no. than \n",
    "       that will be mode value.\n",
    "\n",
    "    \n",
    "Mean, median and mode are comes under central of tendency. They all are used to measure the central tendency of dataset.\n",
    "These all are used for statistical analysis of dataset to find the conclusion. \n",
    "Mean method tell the average of distribution graph and median shows the middle element of dataset and mode is used to \n",
    "find the maximum frequency of dataset. These all three are used to find conclusion of population data and sample data. \n",
    "The common thing in all these are they helps in finding the central tendency of distribution data."
   ]
  },
  {
   "cell_type": "code",
   "execution_count": null,
   "id": "78e66be7-2e6a-4ff4-83de-45631d4e2b45",
   "metadata": {},
   "outputs": [],
   "source": []
  },
  {
   "cell_type": "code",
   "execution_count": null,
   "id": "d61624b0-ad41-4603-9775-14e8cf794644",
   "metadata": {},
   "outputs": [],
   "source": [
    "'''Q3. Measure the three measures of central tendency for the given height data:\n",
    "       [178,177,176,177,178.2,178,175,179,180,175,178.9,176.2,177,172.5,178,176.5]'''"
   ]
  },
  {
   "cell_type": "code",
   "execution_count": 23,
   "id": "146c4c3e-a78d-489f-a1ff-744fc7f6461a",
   "metadata": {},
   "outputs": [],
   "source": [
    "#Ans.\n",
    "\n",
    "#given data\n",
    "Height = [178,177,176,177,178.2,178,175,179,180,175,178.9,176.2,177,172.5,178,176.5]"
   ]
  },
  {
   "cell_type": "code",
   "execution_count": 24,
   "id": "dadc3c0d-ee89-4f3f-aee0-9b8c5bc9226e",
   "metadata": {},
   "outputs": [
    {
     "name": "stdout",
     "output_type": "stream",
     "text": [
      "Mean of height is 177.01875\n"
     ]
    }
   ],
   "source": [
    "#Mean \n",
    "\n",
    "#importing library\n",
    "import numpy as np\n",
    "\n",
    "#mean\n",
    "mean = np.mean(Height)\n",
    "\n",
    "#printing\n",
    "print('Mean of height is {}'.format(mean))"
   ]
  },
  {
   "cell_type": "code",
   "execution_count": 25,
   "id": "89678642-a2b2-46b0-91f9-dd9c93bfb8a3",
   "metadata": {},
   "outputs": [
    {
     "name": "stdout",
     "output_type": "stream",
     "text": [
      "Median of height is 177.0\n"
     ]
    }
   ],
   "source": [
    "#Median\n",
    "\n",
    "#median\n",
    "median = np.median(Height)\n",
    "\n",
    "#printing\n",
    "print('Median of height is {}'.format(median))"
   ]
  },
  {
   "cell_type": "code",
   "execution_count": 26,
   "id": "61d63e58-4801-4bb3-8ec8-7bdaa5eaaef0",
   "metadata": {},
   "outputs": [
    {
     "name": "stderr",
     "output_type": "stream",
     "text": [
      "/tmp/ipykernel_196/2954576435.py:7: FutureWarning: Unlike other reduction functions (e.g. `skew`, `kurtosis`), the default behavior of `mode` typically preserves the axis it acts along. In SciPy 1.11.0, this behavior will change: the default value of `keepdims` will become False, the `axis` over which the statistic is taken will be eliminated, and the value None will no longer be accepted. Set `keepdims` to True or False to avoid this warning.\n",
      "  mode = stats.mode(Height)\n"
     ]
    }
   ],
   "source": [
    "#Mode\n",
    "\n",
    "#importing module\n",
    "from scipy import stats\n",
    "\n",
    "#mode\n",
    "mode = stats.mode(Height)"
   ]
  },
  {
   "cell_type": "code",
   "execution_count": 27,
   "id": "372403e5-7ff1-424e-956e-350d18184a82",
   "metadata": {},
   "outputs": [
    {
     "name": "stdout",
     "output_type": "stream",
     "text": [
      "Mode of height is 177.\n"
     ]
    }
   ],
   "source": [
    "#printing\n",
    "print('Mode of height is 177.')"
   ]
  },
  {
   "cell_type": "code",
   "execution_count": null,
   "id": "a9e5df18-10cc-457c-87fa-379d08ef6302",
   "metadata": {},
   "outputs": [],
   "source": []
  },
  {
   "cell_type": "code",
   "execution_count": null,
   "id": "a057076a-11f4-45a8-a3bf-9cb21a415a4c",
   "metadata": {},
   "outputs": [],
   "source": [
    "'''Q4. Find the standard deviation for the given data:\n",
    "       [178,177,176,177,178.2,178,175,179,180,175,178.9,176.2,177,172.5,178,176.5]'''"
   ]
  },
  {
   "cell_type": "code",
   "execution_count": 28,
   "id": "bd7a4333-8a80-46ff-b7a4-a6e88884fcc4",
   "metadata": {},
   "outputs": [],
   "source": [
    "#Ans.\n",
    "\n",
    "data = [178,177,176,177,178.2,178,175,179,180,175,178.9,176.2,177,172.5,178,176.5]"
   ]
  },
  {
   "cell_type": "code",
   "execution_count": 29,
   "id": "53b93ab4-461c-42df-a615-9e51f80d2df2",
   "metadata": {},
   "outputs": [
    {
     "name": "stdout",
     "output_type": "stream",
     "text": [
      "Standard deviation of data is 1.7885814036548633\n"
     ]
    }
   ],
   "source": [
    "#Standard Deviation\n",
    "\n",
    "#importing library\n",
    "import numpy as np\n",
    "\n",
    "#std\n",
    "std = np.std(data)\n",
    "\n",
    "#printing\n",
    "print('Standard deviation of data is {}'.format(std))"
   ]
  },
  {
   "cell_type": "code",
   "execution_count": null,
   "id": "3c9ef990-5dfd-4ea0-b92b-06d179391e91",
   "metadata": {},
   "outputs": [],
   "source": []
  },
  {
   "cell_type": "code",
   "execution_count": null,
   "id": "a0ddc26c-4628-4835-a753-f25026efad35",
   "metadata": {},
   "outputs": [],
   "source": [
    "'''Q5. How are measures of dispersion such as range, variance, and standard deviation used to describe the spread of a\n",
    "       dataset? Provide an example.'''"
   ]
  },
  {
   "cell_type": "code",
   "execution_count": null,
   "id": "1d369513-0b80-4a65-add0-aeaab0f74bc9",
   "metadata": {},
   "outputs": [],
   "source": [
    "#Ans.\n",
    "Range, Variance and standard devaition are measures of dispersion and all are showing about the spreadness of data. \n",
    "Range is shows the difference between largest and smallest data points of random variable. Variance is indicates that how\n",
    "much is data is spread it shows the spreadness of the data and standard deviation is find by square root of variance.It \n",
    "is indicates that how much data is deviate from its mean position. "
   ]
  },
  {
   "cell_type": "code",
   "execution_count": 3,
   "id": "e2869a9e-68b3-4e98-8f37-512ae91bded5",
   "metadata": {},
   "outputs": [],
   "source": [
    "#importing numpy\n",
    "import numpy as np\n",
    "\n",
    "#sample\n",
    "sample = [2,4,6,8,10]"
   ]
  },
  {
   "cell_type": "code",
   "execution_count": 4,
   "id": "06661891-eba8-4aa4-90d6-efb82acd5abb",
   "metadata": {},
   "outputs": [
    {
     "name": "stdout",
     "output_type": "stream",
     "text": [
      "8\n"
     ]
    }
   ],
   "source": [
    "#range\n",
    "range = max(sample) - min(sample)\n",
    "print(range)"
   ]
  },
  {
   "cell_type": "code",
   "execution_count": 5,
   "id": "565d2794-0ce0-49e7-9046-bd81dc512e2c",
   "metadata": {},
   "outputs": [
    {
     "data": {
      "text/plain": [
       "8.0"
      ]
     },
     "execution_count": 5,
     "metadata": {},
     "output_type": "execute_result"
    }
   ],
   "source": [
    "#variance\n",
    "np.var(sample)"
   ]
  },
  {
   "cell_type": "code",
   "execution_count": 7,
   "id": "c1c50bb3-2b1a-4b21-95ab-f5990a3d1c68",
   "metadata": {},
   "outputs": [
    {
     "data": {
      "text/plain": [
       "2.8284271247461903"
      ]
     },
     "execution_count": 7,
     "metadata": {},
     "output_type": "execute_result"
    }
   ],
   "source": [
    "#standard deviation\n",
    "np.std(sample)"
   ]
  },
  {
   "cell_type": "code",
   "execution_count": null,
   "id": "335c4644-ce56-4b77-b578-705428d93f6f",
   "metadata": {},
   "outputs": [],
   "source": []
  },
  {
   "cell_type": "code",
   "execution_count": null,
   "id": "46725d0e-197f-4cc8-a6e1-08b2a7101080",
   "metadata": {},
   "outputs": [],
   "source": [
    "'''Q6. What is a Venn diagram?'''"
   ]
  },
  {
   "cell_type": "code",
   "execution_count": null,
   "id": "655dcc10-1afd-4691-92bf-1be29f45e165",
   "metadata": {},
   "outputs": [],
   "source": [
    "#Ans.\n",
    "Venn diagram is a diagram which helps in easily showing the logical explanation between two sets or more. It is very \n",
    "simple diagram and showing union, intersection of sets. Diagram showing by circles by overlapping over each other\n",
    "according to their conditions."
   ]
  },
  {
   "cell_type": "code",
   "execution_count": null,
   "id": "7d271a3e-c9ad-4a54-8584-0f63750bc71e",
   "metadata": {},
   "outputs": [],
   "source": []
  },
  {
   "cell_type": "code",
   "execution_count": null,
   "id": "d5507671-0d03-4552-9e8f-036e76442c18",
   "metadata": {},
   "outputs": [],
   "source": [
    "'''Q7. For the two given sets A = (2,3,4,5,6,7) & B = (0,2,6,8,10). Find:\n",
    "       (i)  A ∩ B\n",
    "       (ii) A ⋃ B  '''"
   ]
  },
  {
   "cell_type": "code",
   "execution_count": null,
   "id": "4877bfb2-ce9d-4acd-99cc-6ca2881cc712",
   "metadata": {},
   "outputs": [],
   "source": [
    "#Ans.\n",
    "(i)  A ∩ B = (2,6)\n",
    "\n",
    "(ii) A ⋃ B = (2,3,4,5,6,7,0,8,10)"
   ]
  },
  {
   "cell_type": "code",
   "execution_count": null,
   "id": "0614fb40-1a91-4ff2-8753-f99232842d3e",
   "metadata": {},
   "outputs": [],
   "source": []
  },
  {
   "cell_type": "code",
   "execution_count": null,
   "id": "83300f9a-f1a2-43ab-98ed-d04446398301",
   "metadata": {},
   "outputs": [],
   "source": [
    "'''Q8. What do you understand about skewness in data?'''"
   ]
  },
  {
   "cell_type": "code",
   "execution_count": null,
   "id": "acda696d-77f2-4dab-b2b1-eeed8382d36a",
   "metadata": {},
   "outputs": [],
   "source": [
    "#Ans.\n",
    "Skewness is a measurement of distortion of symmetrical distribution or asymmetrical distribution of data. Skewness shows \n",
    "how much data is spread longer on right side and left side .There are two types of skewness one is right skewness or \n",
    "positively skewness and second is left skewness or negatively skewness.\n",
    "\n",
    "Positively skewness is showing the sprading longer of data in right side of distribution whereas Negatively skewness is \n",
    "showing the spreading longer of data in left side of distribution."
   ]
  },
  {
   "cell_type": "code",
   "execution_count": null,
   "id": "f3eee3a9-ecd8-492c-8916-47bcfbfaad66",
   "metadata": {},
   "outputs": [],
   "source": []
  },
  {
   "cell_type": "code",
   "execution_count": null,
   "id": "a448b1e1-3250-4b10-ae4b-e06b0c22e3b5",
   "metadata": {},
   "outputs": [],
   "source": [
    "'''Q9. If a data is right skewed then what will be the position of median with respect to mean?'''"
   ]
  },
  {
   "cell_type": "code",
   "execution_count": null,
   "id": "e0b7992b-dd64-4888-aac7-f474f5a51815",
   "metadata": {},
   "outputs": [],
   "source": [
    "#Ans.\n",
    "In case of right skewed data distribution, Relation between median and mean is that mean is greater than and equal to \n",
    "median and median is greater than and equal to mode.\n",
    "It means median is come second after mean."
   ]
  },
  {
   "cell_type": "code",
   "execution_count": null,
   "id": "009329f0-505c-450f-92e4-726c73a1fecd",
   "metadata": {},
   "outputs": [],
   "source": []
  },
  {
   "cell_type": "code",
   "execution_count": null,
   "id": "7e9c3961-e187-4d9c-9ba6-9b1a94b69d7b",
   "metadata": {},
   "outputs": [],
   "source": [
    "'''Q10. Explain the difference between covariance and correlation. How are these measures used in statistical analysis?'''"
   ]
  },
  {
   "cell_type": "code",
   "execution_count": null,
   "id": "f1d8403c-4738-47f0-9393-e8a5bdd76080",
   "metadata": {},
   "outputs": [],
   "source": [
    "#Ans.\n",
    "\n",
    "Covariance = Covariance is another type of variance it is used to find conclusion between two random variables whether \n",
    "            variance is used for find variance from one random variable itself. Covariance has two types one is positive\n",
    "            covariance and second is negative covariance.\n",
    "        \n",
    "            Positive covariance between two random variables indicates that their both values are head in same direction \n",
    "            Both random variable are correspond to each other. \n",
    "            At other, Negative covariance is indicates that random variables are move in opposite direction if one \n",
    "            variable is increase than other will decrease this is reciprocal of positive covariance.\n",
    "            \n",
    "\n",
    "Correlation = Correlation is indicates relation between two random variables. It is measure that how two variables are \n",
    "              strongly correlated each other. The range define in correlation from -1 to +1. \n",
    "              There are many ways to calculate the correlation out of which one common way for calculating correlation is\n",
    "              Coefficient of correlation : This is best common way to find the correaltion coefficient between two\n",
    "              variables To find it we divide the covariance of two variabales by square root of product of two variance \n",
    "              of both varibales.\n",
    "              \n",
    "                \n",
    "Covariance and correlation both are quantified the data of two random variables. Both are used in statistical analysis \n",
    "to get the conclusion from data. Covariance shows how two random variables are allign together how they move in same \n",
    "direction or reciprotes each other. Whether correlation is shows about how they are strongly correlated with each other.\n",
    "both have their own types of calculation."
   ]
  },
  {
   "cell_type": "code",
   "execution_count": null,
   "id": "3d689dad-4d60-4c13-8c2e-bce797f66c72",
   "metadata": {},
   "outputs": [],
   "source": []
  },
  {
   "cell_type": "code",
   "execution_count": null,
   "id": "7588ef82-9782-4662-9bf2-a1cee99af924",
   "metadata": {},
   "outputs": [],
   "source": [
    "'''Q11. What is the formula for calculating the sample mean? Provide an example calculation for a dataset.'''"
   ]
  },
  {
   "cell_type": "code",
   "execution_count": null,
   "id": "8c3199f2-8ac2-4c29-82fa-68cbbc8663d2",
   "metadata": {},
   "outputs": [],
   "source": [
    "#Ans.\n",
    "For calculating the sample mean, Firstly we have to get sum of all elements of given sample variable (summition from 1 to\n",
    "n). Then we have to divide it by no. of elements present in sample then we got a value which is known sample mean."
   ]
  },
  {
   "cell_type": "code",
   "execution_count": 10,
   "id": "f2652b4f-354d-42a7-a088-6c6676d48821",
   "metadata": {},
   "outputs": [],
   "source": [
    "#importing numpy and seaborn \n",
    "import seaborn as sn\n",
    "import numpy as np"
   ]
  },
  {
   "cell_type": "code",
   "execution_count": 11,
   "id": "6d37e886-195b-405d-b896-36d71141b0da",
   "metadata": {},
   "outputs": [],
   "source": [
    "#making dataset\n",
    "df = sn.load_dataset('car_crashes')"
   ]
  },
  {
   "cell_type": "code",
   "execution_count": 12,
   "id": "050e1404-1d0e-4281-bf64-45b52e721cb2",
   "metadata": {},
   "outputs": [
    {
     "data": {
      "text/html": [
       "<div>\n",
       "<style scoped>\n",
       "    .dataframe tbody tr th:only-of-type {\n",
       "        vertical-align: middle;\n",
       "    }\n",
       "\n",
       "    .dataframe tbody tr th {\n",
       "        vertical-align: top;\n",
       "    }\n",
       "\n",
       "    .dataframe thead th {\n",
       "        text-align: right;\n",
       "    }\n",
       "</style>\n",
       "<table border=\"1\" class=\"dataframe\">\n",
       "  <thead>\n",
       "    <tr style=\"text-align: right;\">\n",
       "      <th></th>\n",
       "      <th>total</th>\n",
       "      <th>speeding</th>\n",
       "      <th>alcohol</th>\n",
       "      <th>not_distracted</th>\n",
       "      <th>no_previous</th>\n",
       "      <th>ins_premium</th>\n",
       "      <th>ins_losses</th>\n",
       "      <th>abbrev</th>\n",
       "    </tr>\n",
       "  </thead>\n",
       "  <tbody>\n",
       "    <tr>\n",
       "      <th>0</th>\n",
       "      <td>18.8</td>\n",
       "      <td>7.332</td>\n",
       "      <td>5.640</td>\n",
       "      <td>18.048</td>\n",
       "      <td>15.040</td>\n",
       "      <td>784.55</td>\n",
       "      <td>145.08</td>\n",
       "      <td>AL</td>\n",
       "    </tr>\n",
       "    <tr>\n",
       "      <th>1</th>\n",
       "      <td>18.1</td>\n",
       "      <td>7.421</td>\n",
       "      <td>4.525</td>\n",
       "      <td>16.290</td>\n",
       "      <td>17.014</td>\n",
       "      <td>1053.48</td>\n",
       "      <td>133.93</td>\n",
       "      <td>AK</td>\n",
       "    </tr>\n",
       "    <tr>\n",
       "      <th>2</th>\n",
       "      <td>18.6</td>\n",
       "      <td>6.510</td>\n",
       "      <td>5.208</td>\n",
       "      <td>15.624</td>\n",
       "      <td>17.856</td>\n",
       "      <td>899.47</td>\n",
       "      <td>110.35</td>\n",
       "      <td>AZ</td>\n",
       "    </tr>\n",
       "    <tr>\n",
       "      <th>3</th>\n",
       "      <td>22.4</td>\n",
       "      <td>4.032</td>\n",
       "      <td>5.824</td>\n",
       "      <td>21.056</td>\n",
       "      <td>21.280</td>\n",
       "      <td>827.34</td>\n",
       "      <td>142.39</td>\n",
       "      <td>AR</td>\n",
       "    </tr>\n",
       "    <tr>\n",
       "      <th>4</th>\n",
       "      <td>12.0</td>\n",
       "      <td>4.200</td>\n",
       "      <td>3.360</td>\n",
       "      <td>10.920</td>\n",
       "      <td>10.680</td>\n",
       "      <td>878.41</td>\n",
       "      <td>165.63</td>\n",
       "      <td>CA</td>\n",
       "    </tr>\n",
       "  </tbody>\n",
       "</table>\n",
       "</div>"
      ],
      "text/plain": [
       "   total  speeding  alcohol  not_distracted  no_previous  ins_premium  \\\n",
       "0   18.8     7.332    5.640          18.048       15.040       784.55   \n",
       "1   18.1     7.421    4.525          16.290       17.014      1053.48   \n",
       "2   18.6     6.510    5.208          15.624       17.856       899.47   \n",
       "3   22.4     4.032    5.824          21.056       21.280       827.34   \n",
       "4   12.0     4.200    3.360          10.920       10.680       878.41   \n",
       "\n",
       "   ins_losses abbrev  \n",
       "0      145.08     AL  \n",
       "1      133.93     AK  \n",
       "2      110.35     AZ  \n",
       "3      142.39     AR  \n",
       "4      165.63     CA  "
      ]
     },
     "execution_count": 12,
     "metadata": {},
     "output_type": "execute_result"
    }
   ],
   "source": [
    "df.head()"
   ]
  },
  {
   "cell_type": "code",
   "execution_count": 17,
   "id": "22551cc6-0a64-4de2-86d5-e6fc1fa53d53",
   "metadata": {},
   "outputs": [],
   "source": [
    "#sample\n",
    "sample = df['total']"
   ]
  },
  {
   "cell_type": "code",
   "execution_count": 18,
   "id": "59b5f456-e0cc-45bd-b4fb-2216af67683b",
   "metadata": {},
   "outputs": [
    {
     "data": {
      "text/plain": [
       "15.79019607843137"
      ]
     },
     "execution_count": 18,
     "metadata": {},
     "output_type": "execute_result"
    }
   ],
   "source": [
    "#sample mean\n",
    "np.mean(sample)"
   ]
  },
  {
   "cell_type": "code",
   "execution_count": null,
   "id": "13b1547e-533a-46f5-a254-2bb1e56e3daa",
   "metadata": {},
   "outputs": [],
   "source": []
  },
  {
   "cell_type": "code",
   "execution_count": null,
   "id": "02dd87ab-dc0f-4461-bdea-f25a64a92a8e",
   "metadata": {},
   "outputs": [],
   "source": [
    "'''Q12. For a normal distribution data what is the relationship between its measure of central tendency?'''"
   ]
  },
  {
   "cell_type": "code",
   "execution_count": null,
   "id": "f9f14953-8e27-495d-8f57-24d2b1117f14",
   "metadata": {},
   "outputs": [],
   "source": [
    "#Ans.\n",
    "For a normal distribution data all the three measures of central tendency mean, median and mode are act in equal position.\n",
    "These all three measures are give equal value. Whether in skewed data distribution , median is best for measure because \n",
    "it is unaffected by outliers and non-symmetric distribution."
   ]
  },
  {
   "cell_type": "code",
   "execution_count": null,
   "id": "9a1d263c-5059-402c-8122-e39983379d14",
   "metadata": {},
   "outputs": [],
   "source": []
  },
  {
   "cell_type": "code",
   "execution_count": null,
   "id": "3510f2a3-282c-4df5-af5d-3959876d2806",
   "metadata": {},
   "outputs": [],
   "source": [
    "'''Q13. How is covariance different from correlation?'''"
   ]
  },
  {
   "cell_type": "code",
   "execution_count": null,
   "id": "68eb3a19-f207-4f6a-b347-c785759c57cb",
   "metadata": {},
   "outputs": [],
   "source": [
    "#Ans.\n",
    "Covariance is a variance between two random variables or features. It is shown conclusion between two variables by \n",
    "identify either variables are positve covariance or negative covariance. \n",
    "positive covariance is shows the heading of both varibales together where negative covariance is shows the inversely move\n",
    "between two variables\n",
    "\n",
    "Correlation is tell about the relation between two variables. It indicates that how strongly two varibales are correlated\n",
    "each other. Correlation have some calculating methods like pearson correlation coefficient and spearman rank correlation.\n",
    "\n",
    "Both Covariance and correlation are measures the relationship and dependency between two variables. But the difference we \n",
    "see is that covariance is measures the direction between two linear variables and correlation indicates the strength and\n",
    "direction of two variables"
   ]
  },
  {
   "cell_type": "code",
   "execution_count": null,
   "id": "ef50d813-1692-46b6-a510-c1edcbf1b720",
   "metadata": {},
   "outputs": [],
   "source": []
  },
  {
   "cell_type": "code",
   "execution_count": null,
   "id": "3f71b023-d99c-473f-9f9d-d6d06d875089",
   "metadata": {},
   "outputs": [],
   "source": [
    "'''Q14. How do outliers affect measures of central tendency and dispersion? Provide an example.'''"
   ]
  },
  {
   "cell_type": "code",
   "execution_count": null,
   "id": "4e8fbe9b-3e41-4c52-8db3-e015e0096e16",
   "metadata": {},
   "outputs": [],
   "source": [
    "#Ans.\n",
    "Outlier are basically a no. in random variable which not belong to variable and this no. is vary largly or smaller\n",
    "difference with other common elements in random variable. In case of central tendency, only mean is affected by outliers.\n",
    "other mode and median is unaffected by outliers.\n",
    "If a set contain one or more outliers then it can give misleading impression on dataset."
   ]
  },
  {
   "cell_type": "code",
   "execution_count": null,
   "id": "1778e1c5-ddec-4b2c-b1d5-66b0e1cd6672",
   "metadata": {},
   "outputs": [],
   "source": []
  },
  {
   "cell_type": "code",
   "execution_count": null,
   "id": "d1f56926-0c65-4cd4-9835-aa142ebcba0d",
   "metadata": {},
   "outputs": [],
   "source": [
    "                        ◦•●◉✿ ❤️️' 𝐉 𝐀 𝐈   𝐒 𝐇 𝐑 𝐄 𝐄   𝐇 𝐀 𝐑 𝐈   𝐕 𝐈 𝐒 𝐇 𝐍 𝐔 '❤️ ✿◉●•◦"
   ]
  }
 ],
 "metadata": {
  "kernelspec": {
   "display_name": "Python 3 (ipykernel)",
   "language": "python",
   "name": "python3"
  },
  "language_info": {
   "codemirror_mode": {
    "name": "ipython",
    "version": 3
   },
   "file_extension": ".py",
   "mimetype": "text/x-python",
   "name": "python",
   "nbconvert_exporter": "python",
   "pygments_lexer": "ipython3",
   "version": "3.10.8"
  }
 },
 "nbformat": 4,
 "nbformat_minor": 5
}
