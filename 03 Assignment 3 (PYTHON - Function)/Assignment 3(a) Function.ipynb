{
 "cells": [
  {
   "cell_type": "code",
   "execution_count": 1,
   "id": "39de7143-ceed-49eb-a0fe-3184fe675451",
   "metadata": {},
   "outputs": [],
   "source": [
    "#Q1. Which keyword is used to create a function? Create a function to return a list \n",
    "#of odd numbers in the range of 1 to 25."
   ]
  },
  {
   "cell_type": "code",
   "execution_count": null,
   "id": "12ce6547",
   "metadata": {},
   "outputs": [],
   "source": [
    "#Ans.\n",
    "def keyword is used to create the function. From this key word 'def', we can create \n",
    "different types of function like generator function or simple function.\n",
    "Apart from this, There are also available reserved keywords which are used to create \n",
    "different type of function for different purpose. Like. A lambda function is written\n",
    "by using 'lambda' keyword and filter function also used by using 'filter' function \n",
    "and reduce function also using by reduce keyword but To call reduce function we have \n",
    "to first import reduce function from functools package. Also, map function is also \n",
    "using by 'map' keyword.\n",
    "Above all function in python, Generator, Lambda, Reduce, Filter,Map , etc. function are\n",
    "inbuilt they are already built in python"
   ]
  },
  {
   "cell_type": "code",
   "execution_count": 2,
   "id": "0318e624-0670-422c-9124-80f109d40ab3",
   "metadata": {},
   "outputs": [
    {
     "data": {
      "text/plain": [
       "range(0, 25)"
      ]
     },
     "execution_count": 2,
     "metadata": {},
     "output_type": "execute_result"
    }
   ],
   "source": [
    "#from filter function\n",
    "range(25)"
   ]
  },
  {
   "cell_type": "code",
   "execution_count": 4,
   "id": "e2d96dd6-e425-4da7-9c4f-a0700b861ea3",
   "metadata": {},
   "outputs": [],
   "source": [
    "l1 =[]\n",
    "for i in range(25):\n",
    "    l1.append(i)"
   ]
  },
  {
   "cell_type": "code",
   "execution_count": 5,
   "id": "3c9a3252-6333-45ef-8e7d-3bf61f29fa43",
   "metadata": {},
   "outputs": [
    {
     "data": {
      "text/plain": [
       "[0,\n",
       " 1,\n",
       " 2,\n",
       " 3,\n",
       " 4,\n",
       " 5,\n",
       " 6,\n",
       " 7,\n",
       " 8,\n",
       " 9,\n",
       " 10,\n",
       " 11,\n",
       " 12,\n",
       " 13,\n",
       " 14,\n",
       " 15,\n",
       " 16,\n",
       " 17,\n",
       " 18,\n",
       " 19,\n",
       " 20,\n",
       " 21,\n",
       " 22,\n",
       " 23,\n",
       " 24]"
      ]
     },
     "execution_count": 5,
     "metadata": {},
     "output_type": "execute_result"
    }
   ],
   "source": [
    "l1"
   ]
  },
  {
   "cell_type": "code",
   "execution_count": 6,
   "id": "2aa9c557-4da2-4ab0-bbd7-fdf734d3e5b8",
   "metadata": {},
   "outputs": [
    {
     "data": {
      "text/plain": [
       "[1, 3, 5, 7, 9, 11, 13, 15, 17, 19, 21, 23]"
      ]
     },
     "execution_count": 6,
     "metadata": {},
     "output_type": "execute_result"
    }
   ],
   "source": [
    "list(filter(lambda x : x % 2 != 0, l1))"
   ]
  },
  {
   "cell_type": "code",
   "execution_count": null,
   "id": "c02e9e08-a480-42e9-902d-c0efa7fd1925",
   "metadata": {},
   "outputs": [],
   "source": [
    "we use filter function to filter the odd no. from list of range of 0 to 25. We can also\n",
    "perform multiple task by using this function also. Filter function demands two arguments\n",
    "one is function second is iterable. thats why we use lambda function in place of this\n",
    "we can also use external function which created by def or other. And whole filter function\n",
    "enclosed in list to get result in list format."
   ]
  },
  {
   "cell_type": "code",
   "execution_count": null,
   "id": "474e2fd7-675c-42b8-90f7-36276255a955",
   "metadata": {},
   "outputs": [],
   "source": []
  },
  {
   "cell_type": "code",
   "execution_count": 7,
   "id": "61d96f09-4961-4f5b-b3ee-6777e96ee371",
   "metadata": {},
   "outputs": [],
   "source": [
    "#Q2. Why *args and **kwargs is used in some functions? Create a function each for \n",
    "#*args and **kwargs to demonstrate their use."
   ]
  },
  {
   "cell_type": "code",
   "execution_count": null,
   "id": "03d04657-3308-4f6d-9d30-44fee54cc1cc",
   "metadata": {},
   "outputs": [],
   "source": [
    "#Ans.\n",
    "*args = *args is basically is used in function or in brackets of functions. This is \n",
    "        very useful for user this function helps user to input multiple data in a \n",
    "        function we can write other name also in place of args. args means in this\n",
    "        keyword is argument and generally there are we give limited arguments in \n",
    "        function for input.\n",
    "        but when we use '*' staric and attach any other name we get a special facility \n",
    "        after this we can give multiple input in function. the result after getting \n",
    "        from staric keyword is in Tuple form . This give us as it is data in tuples as\n",
    "        we input data.      "
   ]
  },
  {
   "cell_type": "code",
   "execution_count": 9,
   "id": "d09ff496-fd03-4059-8c73-b4da0bf732ab",
   "metadata": {},
   "outputs": [],
   "source": [
    "#ex.\n",
    "def test1(*args):\n",
    "    return args"
   ]
  },
  {
   "cell_type": "code",
   "execution_count": 10,
   "id": "f5185d18-051a-4f6f-8ff6-ad5d6446b52a",
   "metadata": {},
   "outputs": [
    {
     "data": {
      "text/plain": [
       "(2, 3)"
      ]
     },
     "execution_count": 10,
     "metadata": {},
     "output_type": "execute_result"
    }
   ],
   "source": [
    "test1(2,3)"
   ]
  },
  {
   "cell_type": "code",
   "execution_count": 11,
   "id": "f807a3f5-0e98-4d97-939e-a6c18c78d81c",
   "metadata": {},
   "outputs": [
    {
     "data": {
      "text/plain": [
       "('ujjwal', 1, 2, 'Hari narayan')"
      ]
     },
     "execution_count": 11,
     "metadata": {},
     "output_type": "execute_result"
    }
   ],
   "source": [
    "test1('ujjwal', 1,2, 'Hari narayan')"
   ]
  },
  {
   "cell_type": "code",
   "execution_count": null,
   "id": "bad40a90-429d-44a8-872b-3d8655b50f7b",
   "metadata": {},
   "outputs": [],
   "source": [
    "**kwargs = **kwargs is basically give same facility like *args but in this ** double \n",
    "            staric is used for dictionary keyword .The full form of kwargs\n",
    "            is 'keywords arguments'.This is used in function for dicitionary \n",
    "            purpose if we give data in input we get data in dictionary format when put\n",
    "            equal to sign in mid of key and value.The result we get from ** is in sets\n",
    "            formet or dictionary. If we check the type of this we will dec dict."
   ]
  },
  {
   "cell_type": "code",
   "execution_count": 1,
   "id": "5ef2aebd-3fe1-4a61-8e14-ff5f8b3d6bdd",
   "metadata": {},
   "outputs": [],
   "source": [
    "#ex.\n",
    "def test2(**kwargs):\n",
    "    return kwargs"
   ]
  },
  {
   "cell_type": "code",
   "execution_count": 9,
   "id": "a94f17d8-5ee2-4946-9e6b-0eef58f400c2",
   "metadata": {},
   "outputs": [
    {
     "data": {
      "text/plain": [
       "{'Shree_Ram': 'Hanuman', 'Mahadev': 'Ravan', 'Hari_Vishnu': 'Ujjwal'}"
      ]
     },
     "execution_count": 9,
     "metadata": {},
     "output_type": "execute_result"
    }
   ],
   "source": [
    "test2(Shree_Ram = 'Hanuman', Mahadev = 'Ravan', Hari_Vishnu = 'Ujjwal' )"
   ]
  },
  {
   "cell_type": "code",
   "execution_count": 10,
   "id": "bca512f5-0d34-4272-9d8c-890752ad88f9",
   "metadata": {},
   "outputs": [
    {
     "data": {
      "text/plain": [
       "dict"
      ]
     },
     "execution_count": 10,
     "metadata": {},
     "output_type": "execute_result"
    }
   ],
   "source": [
    "type(test2())"
   ]
  },
  {
   "cell_type": "code",
   "execution_count": null,
   "id": "abfdb865-08b3-4b3f-8bf5-93467afc71a6",
   "metadata": {},
   "outputs": [],
   "source": []
  },
  {
   "cell_type": "code",
   "execution_count": 11,
   "id": "ed2f79a4-1e64-4324-a847-86f9f450b5bf",
   "metadata": {},
   "outputs": [],
   "source": [
    "#Q3. What is an iterator in python? Name the method used to initialise the iterator\n",
    "#    object and the method used for iteration. Use these methods to print the first \n",
    "#    five elements of the given list [2, 4, 6, 8, 10, 12, 14,16, 18, 20]."
   ]
  },
  {
   "cell_type": "code",
   "execution_count": 12,
   "id": "395b14dc-eede-40e6-89eb-3bef83bdc6a0",
   "metadata": {},
   "outputs": [],
   "source": [
    "#Ans.\n",
    "iterator = iterator is a type of object which have ability to iterate the object or \n",
    "           data of list, tuple, string ,etc. in next() function. Some data types are\n",
    "           also available which are not able to iterate the data beacause they are not\n",
    "           iterable. like interger\n",
    "           We can also convert a iterable object in iterator by using iter() function\n",
    "           The mechanism behind for loop is iterator concept. For loop also used iterator\n",
    "           concept to perform their task."
   ]
  },
  {
   "cell_type": "code",
   "execution_count": 5,
   "id": "53ce58a7-52ab-4baa-99f8-bed84e853713",
   "metadata": {},
   "outputs": [],
   "source": [
    "#ex.\n",
    "s = 'Ujju'"
   ]
  },
  {
   "cell_type": "code",
   "execution_count": 8,
   "id": "72ee7e7d-f84d-408e-b9fa-d35a9b948d96",
   "metadata": {},
   "outputs": [],
   "source": [
    "a = iter(s)"
   ]
  },
  {
   "cell_type": "code",
   "execution_count": 9,
   "id": "cb79a987-be92-4159-8178-31419473e0d5",
   "metadata": {},
   "outputs": [
    {
     "data": {
      "text/plain": [
       "'U'"
      ]
     },
     "execution_count": 9,
     "metadata": {},
     "output_type": "execute_result"
    }
   ],
   "source": [
    "next(a)"
   ]
  },
  {
   "cell_type": "code",
   "execution_count": 11,
   "id": "848710eb-2d3b-4041-8495-9dd46f025290",
   "metadata": {},
   "outputs": [
    {
     "data": {
      "text/plain": [
       "'j'"
      ]
     },
     "execution_count": 11,
     "metadata": {},
     "output_type": "execute_result"
    }
   ],
   "source": [
    "next(a)"
   ]
  },
  {
   "cell_type": "code",
   "execution_count": 12,
   "id": "4bcabd77-cb45-4937-84ba-8be32bcbf50c",
   "metadata": {},
   "outputs": [
    {
     "data": {
      "text/plain": [
       "'j'"
      ]
     },
     "execution_count": 12,
     "metadata": {},
     "output_type": "execute_result"
    }
   ],
   "source": [
    "next(a)"
   ]
  },
  {
   "cell_type": "code",
   "execution_count": 13,
   "id": "c0252aa8-1879-4fa1-87b1-2523e19d4a8f",
   "metadata": {},
   "outputs": [
    {
     "data": {
      "text/plain": [
       "'u'"
      ]
     },
     "execution_count": 13,
     "metadata": {},
     "output_type": "execute_result"
    }
   ],
   "source": [
    "next(a)"
   ]
  },
  {
   "cell_type": "code",
   "execution_count": null,
   "id": "7a4079fb-e1f1-47ae-9471-8b4625b63074",
   "metadata": {},
   "outputs": [],
   "source": [
    "The iter() method used to initialise the iterator object and next() method\n",
    "used for iteration."
   ]
  },
  {
   "cell_type": "code",
   "execution_count": 15,
   "id": "db75db10-515c-457d-a8e5-01158ad9c886",
   "metadata": {},
   "outputs": [],
   "source": [
    "l = [2,4,6,8,10,12,14,16,18,20] "
   ]
  },
  {
   "cell_type": "code",
   "execution_count": 16,
   "id": "b24aa52e-1e03-47e5-a81d-45557cdb72e2",
   "metadata": {},
   "outputs": [],
   "source": [
    "#initialise the itrator object\n",
    "b = iter(l)"
   ]
  },
  {
   "cell_type": "code",
   "execution_count": 17,
   "id": "eca22ac7-a235-4f54-97d5-db4200f11cc9",
   "metadata": {},
   "outputs": [
    {
     "name": "stdout",
     "output_type": "stream",
     "text": [
      "2\n",
      "4\n",
      "6\n",
      "8\n",
      "10\n"
     ]
    }
   ],
   "source": [
    "#itrate and print first five elements\n",
    "for i in range(5):\n",
    "    element = next(b)\n",
    "    print(element)"
   ]
  },
  {
   "cell_type": "code",
   "execution_count": null,
   "id": "f76ac6aa-906e-4970-8d9e-32096a16fbab",
   "metadata": {},
   "outputs": [],
   "source": []
  },
  {
   "cell_type": "code",
   "execution_count": 13,
   "id": "8ccab745-f9ea-4cbd-9edd-adfa80d0d37f",
   "metadata": {},
   "outputs": [],
   "source": [
    "#Q4. What is a generator function in python? Why yield keyword is used? Give an\n",
    "#    example of a generator function."
   ]
  },
  {
   "cell_type": "code",
   "execution_count": null,
   "id": "a0cbc202-190c-47c3-b421-597ccd710bda",
   "metadata": {},
   "outputs": [],
   "source": [
    "#Ans.\n",
    "Generator Function = Generator function is a function used to create a function by def\n",
    "                     keyword and writing the logic to create function. Generator function\n",
    "                     is very helpful and useful in some condition when there are large \n",
    "                     size of data millions or billions data which can hang the system of\n",
    "                     programmer.For this problem, generator function is used so that it\n",
    "                     give data not in once it give or generate data one by one which is\n",
    "                     useful for programmer and protect system from hanging or lagging.\n",
    "                     The main thing is that to execute value one by one we use yield \n",
    "                     keyword which is represent it is generator function.\n",
    "                        \n",
    "                     The Yield word is reserved keyword in python and it is use in place\n",
    "                     of return word in simple function. This reserved word give us data\n",
    "                     one by one which is called generator function"
   ]
  },
  {
   "cell_type": "code",
   "execution_count": 25,
   "id": "bce3fce9-5e8a-4c02-9963-5c7727e0f4b3",
   "metadata": {},
   "outputs": [],
   "source": [
    "#ex.\n",
    "#1\n",
    "def test3(n):\n",
    "    yield n "
   ]
  },
  {
   "cell_type": "code",
   "execution_count": 20,
   "id": "20951a30-c6c3-4524-8831-315ced105305",
   "metadata": {},
   "outputs": [
    {
     "data": {
      "text/plain": [
       "[5]"
      ]
     },
     "execution_count": 20,
     "metadata": {},
     "output_type": "execute_result"
    }
   ],
   "source": [
    "list(test3(5))"
   ]
  },
  {
   "cell_type": "code",
   "execution_count": 21,
   "id": "eb15a04f-902a-41eb-8c24-80020b30d059",
   "metadata": {},
   "outputs": [],
   "source": [
    "#2 \n",
    "def test4(a,b):\n",
    "    yield a + b "
   ]
  },
  {
   "cell_type": "code",
   "execution_count": 24,
   "id": "f7d166c6-8875-4688-a38a-6b3913cdab0f",
   "metadata": {},
   "outputs": [
    {
     "data": {
      "text/plain": [
       "[8]"
      ]
     },
     "execution_count": 24,
     "metadata": {},
     "output_type": "execute_result"
    }
   ],
   "source": [
    "list(test4(5,3))"
   ]
  },
  {
   "cell_type": "code",
   "execution_count": null,
   "id": "3b9e91bd-a6fe-4ea9-8b1a-ff9b4cb771c9",
   "metadata": {},
   "outputs": [],
   "source": []
  },
  {
   "cell_type": "code",
   "execution_count": 18,
   "id": "325d7905-8867-4b21-a955-e7501c10c975",
   "metadata": {},
   "outputs": [],
   "source": [
    "#Q5. Create a generator function for prime numbers less than 1000. Use the next() \n",
    "#    method to print the first 20 prime numbers."
   ]
  },
  {
   "cell_type": "code",
   "execution_count": 1,
   "id": "84a78360-07ad-409d-9951-0ca219ec6062",
   "metadata": {},
   "outputs": [
    {
     "name": "stdout",
     "output_type": "stream",
     "text": [
      "2\n",
      "3\n",
      "5\n",
      "7\n",
      "11\n",
      "13\n",
      "17\n",
      "19\n",
      "23\n",
      "29\n",
      "31\n",
      "37\n",
      "41\n",
      "43\n",
      "47\n",
      "53\n",
      "59\n",
      "61\n",
      "67\n",
      "71\n"
     ]
    }
   ],
   "source": [
    "#Ans.\n",
    "def prime_generator():\n",
    "    primes = []\n",
    "    num = 2\n",
    "    while True:\n",
    "        is_prime = True\n",
    "        for prime in primes:\n",
    "            if num % prime == 0:\n",
    "                is_prime = False\n",
    "                break\n",
    "        if is_prime:\n",
    "            primes.append(num)\n",
    "            yield num\n",
    "        num += 1\n",
    "\n",
    "# Create an instance of the prime number generator\n",
    "generator = prime_generator()\n",
    "\n",
    "# Print the first 20 prime numbers using the next() method\n",
    "for _ in range(20):\n",
    "    prime = next(generator)\n",
    "    print(prime)"
   ]
  },
  {
   "cell_type": "code",
   "execution_count": null,
   "id": "41ca5259-21e9-4380-aafc-94e17a6e8f36",
   "metadata": {},
   "outputs": [],
   "source": [
    "\n",
    "    "
   ]
  },
  {
   "cell_type": "code",
   "execution_count": 20,
   "id": "908f0bc1-f37f-4965-b53c-5d15cd5c4c13",
   "metadata": {},
   "outputs": [],
   "source": [
    "#Q6. Write a python program to print the first 10 Fibonacci numbers using a \n",
    "#    while loop."
   ]
  },
  {
   "cell_type": "code",
   "execution_count": 21,
   "id": "06ca6d77-40eb-412a-b28e-a76c204cd197",
   "metadata": {},
   "outputs": [],
   "source": [
    "#Ans.\n",
    "def fibo(n):\n",
    "    a,b = 0,1 \n",
    "    while True:\n",
    "        yield a\n",
    "        a, b = b, a+b"
   ]
  },
  {
   "cell_type": "code",
   "execution_count": 22,
   "id": "58db2376-7b8f-49a3-b46e-77c81f14c811",
   "metadata": {},
   "outputs": [],
   "source": [
    "fib = fibo(10)"
   ]
  },
  {
   "cell_type": "code",
   "execution_count": 24,
   "id": "a064759d-a9fe-41a0-94c0-634743bab20f",
   "metadata": {},
   "outputs": [
    {
     "name": "stdout",
     "output_type": "stream",
     "text": [
      "0\n",
      "1\n",
      "1\n",
      "2\n",
      "3\n",
      "5\n",
      "8\n",
      "13\n",
      "21\n",
      "34\n"
     ]
    }
   ],
   "source": [
    "for i in range(10):\n",
    "    print(next(fib))"
   ]
  },
  {
   "cell_type": "code",
   "execution_count": null,
   "id": "e9183716-4feb-46dc-a0a6-8be6f06bb555",
   "metadata": {},
   "outputs": [],
   "source": []
  },
  {
   "cell_type": "code",
   "execution_count": 25,
   "id": "ccbed19b-b7f3-41f1-aa58-0c66b89664c5",
   "metadata": {},
   "outputs": [],
   "source": [
    "#Q7. Write a List Comprehension to iterate through the given string: ‘pwskills’.\n",
    "#    Expected output: ['p', 'w', 's', 'k', 'i', 'l', 'l', 's']"
   ]
  },
  {
   "cell_type": "code",
   "execution_count": 3,
   "id": "3585ec99-1364-4aa2-be5c-5612e2ad8180",
   "metadata": {},
   "outputs": [],
   "source": [
    "#Ans.\n",
    "s = 'pwskills'"
   ]
  },
  {
   "cell_type": "code",
   "execution_count": 4,
   "id": "3bbf7346-62bc-4a65-a26e-a03fb4076471",
   "metadata": {},
   "outputs": [
    {
     "data": {
      "text/plain": [
       "['p', 'w', 's', 'k', 'i', 'l', 'l', 's']"
      ]
     },
     "execution_count": 4,
     "metadata": {},
     "output_type": "execute_result"
    }
   ],
   "source": [
    "list(map(lambda x : x.lower(), s))"
   ]
  },
  {
   "cell_type": "code",
   "execution_count": null,
   "id": "5d869455-6040-494c-b7ab-23c9832f2d27",
   "metadata": {},
   "outputs": [],
   "source": []
  },
  {
   "cell_type": "code",
   "execution_count": 1,
   "id": "1eeac817-b726-431d-a962-aebbb8d1f7b3",
   "metadata": {},
   "outputs": [],
   "source": [
    "#Q8. Write a python program to check whether a given number is Palindrome or not using\n",
    "#    a while loop."
   ]
  },
  {
   "cell_type": "code",
   "execution_count": null,
   "id": "04110acc-7e63-4358-85c1-d0719440046d",
   "metadata": {},
   "outputs": [],
   "source": [
    "#Ans.\n",
    "Palindrome is a number in which reverse of given number is equal to original number.\n",
    "Suppose given no. is 525 and its palindrome will be reverse of it 525."
   ]
  },
  {
   "cell_type": "code",
   "execution_count": 1,
   "id": "8f3e1626-84aa-4bd2-b8ee-72a02c0df5a3",
   "metadata": {},
   "outputs": [
    {
     "name": "stdin",
     "output_type": "stream",
     "text": [
      "Enter the no.:  707\n"
     ]
    },
    {
     "name": "stdout",
     "output_type": "stream",
     "text": [
      "Yes it is palindrome number\n"
     ]
    }
   ],
   "source": [
    "#user input\n",
    "p = int(input('Enter the no.: '))\n",
    "rev = 0\n",
    "x = p\n",
    "\n",
    "#while loop for checking palindrome no.\n",
    "while p > 0 :\n",
    "    rev = (rev*10) + p%10\n",
    "    p = p//10\n",
    "\n",
    "if x == rev :\n",
    "    print('Yes it is palindrome number')\n",
    "else:\n",
    "    print('it is not palindrome')\n",
    "    "
   ]
  },
  {
   "cell_type": "code",
   "execution_count": null,
   "id": "f4697866-f5a8-4cb9-ad00-51b2cab8182b",
   "metadata": {},
   "outputs": [],
   "source": [
    "For making palindrome programe the concept says we should first reverse the given no.\n",
    "and then using if, else statement for checking palindrome no."
   ]
  },
  {
   "cell_type": "code",
   "execution_count": null,
   "id": "56adaace-5b72-4d32-98e4-70b6dc6b33ba",
   "metadata": {},
   "outputs": [],
   "source": []
  },
  {
   "cell_type": "code",
   "execution_count": 10,
   "id": "697d3542-422b-40c4-9660-838a9d3b38a6",
   "metadata": {},
   "outputs": [],
   "source": [
    "#Q9. Write a code to print odd numbers from 1 to 100 using list comprehension."
   ]
  },
  {
   "cell_type": "code",
   "execution_count": 1,
   "id": "064a335c-f9eb-4aaa-a877-0c551a5771c7",
   "metadata": {},
   "outputs": [
    {
     "name": "stdout",
     "output_type": "stream",
     "text": [
      "1\n",
      "3\n",
      "5\n",
      "7\n",
      "9\n",
      "11\n",
      "13\n",
      "15\n",
      "17\n",
      "19\n",
      "21\n",
      "23\n",
      "25\n",
      "27\n",
      "29\n",
      "31\n",
      "33\n",
      "35\n",
      "37\n",
      "39\n",
      "41\n",
      "43\n",
      "45\n",
      "47\n",
      "49\n",
      "51\n",
      "53\n",
      "55\n",
      "57\n",
      "59\n",
      "61\n",
      "63\n",
      "65\n",
      "67\n",
      "69\n",
      "71\n",
      "73\n",
      "75\n",
      "77\n",
      "79\n",
      "81\n",
      "83\n",
      "85\n",
      "87\n",
      "89\n",
      "91\n",
      "93\n",
      "95\n",
      "97\n",
      "99\n"
     ]
    }
   ],
   "source": [
    "#Ans.\n",
    "odd_numbers = [num for num in range(1, 101) if num % 2 != 0]\n",
    "\n",
    "for number in odd_numbers:\n",
    "    print(number)"
   ]
  },
  {
   "cell_type": "code",
   "execution_count": null,
   "id": "e51ee337-6b74-4e2d-8288-e02563d1614e",
   "metadata": {},
   "outputs": [],
   "source": [
    "                          ' J A I   S H R E E   R A M '"
   ]
  }
 ],
 "metadata": {
  "kernelspec": {
   "display_name": "Python 3 (ipykernel)",
   "language": "python",
   "name": "python3"
  },
  "language_info": {
   "codemirror_mode": {
    "name": "ipython",
    "version": 3
   },
   "file_extension": ".py",
   "mimetype": "text/x-python",
   "name": "python",
   "nbconvert_exporter": "python",
   "pygments_lexer": "ipython3",
   "version": "3.10.8"
  }
 },
 "nbformat": 4,
 "nbformat_minor": 5
}
